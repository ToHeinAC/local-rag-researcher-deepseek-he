{
 "cells": [
  {
   "cell_type": "code",
   "execution_count": 1,
   "metadata": {},
   "outputs": [],
   "source": [
    "import sys, os\n",
    "sys.path.append(os.path.abspath(os.path.join(os.getcwd(), '..')))\n",
    "\n",
    "from src.assistant.rag_helpers import similarity_search_for_tenant\n",
    "from src.assistant.vector_db import get_embedding_model"
   ]
  },
  {
   "cell_type": "code",
   "execution_count": 2,
   "metadata": {},
   "outputs": [
    {
     "name": "stderr",
     "output_type": "stream",
     "text": [
      "/tmp/ipykernel_907455/1271146424.py:11: LangChainDeprecationWarning: The class `HuggingFaceEmbeddings` was deprecated in LangChain 0.2.2 and will be removed in 1.0. An updated version of the class exists in the :class:`~langchain-huggingface package and should be used instead. To use it run `pip install -U :class:`~langchain-huggingface` and import as `from :class:`~langchain_huggingface import HuggingFaceEmbeddings``.\n",
      "  embed_llm=HuggingFaceEmbeddings(model_name='sentence-transformers/all-mpnet-base-v2', model_kwargs={'device': 'cpu'}),\n",
      "/home/he/ai/dev/langgraph/local-rag-researcher-deepseek-he/lrrd-venv/lib/python3.12/site-packages/tqdm/auto.py:21: TqdmWarning: IProgress not found. Please update jupyter and ipywidgets. See https://ipywidgets.readthedocs.io/en/stable/user_install.html\n",
      "  from .autonotebook import tqdm as notebook_tqdm\n"
     ]
    },
    {
     "name": "stdout",
     "output_type": "stream",
     "text": [
      "CUDA memory cache cleared\n"
     ]
    },
    {
     "name": "stderr",
     "output_type": "stream",
     "text": [
      "/home/he/ai/dev/langgraph/local-rag-researcher-deepseek-he/src/assistant/rag_helpers.py:91: LangChainDeprecationWarning: The class `Chroma` was deprecated in LangChain 0.2.9 and will be removed in 1.0. An updated version of the class exists in the :class:`~langchain-chroma package and should be used instead. To use it run `pip install -U :class:`~langchain-chroma` and import as `from :class:`~langchain_chroma import Chroma``.\n",
      "  vectorstore = Chroma(\n"
     ]
    },
    {
     "name": "stdout",
     "output_type": "stream",
     "text": [
      "CUDA memory cache cleared\n"
     ]
    },
    {
     "data": {
      "text/plain": [
       "[Document(metadata={'id': 'strlschg_en_bf.pdf:0:102', 'page': 0, 'path': 'files/strlschg_en_bf.pdf', 'source': 'strlschg_en_bf.pdf'}, page_content='methods of recovery and disposal laid down by a statutory ordinance in accordance with the second sentence are complied with in their disposal or recovery. the federal government is herewith empowered to issue a statutory ordinance, with the consent of the bundesrat, es\\xad tablishing the monitoring limits and methods of recovery and disposal to apply to residues. 3 residues accumulated may not be mixed or diluted prior to their intended disposal or recovery in order to satisfy the monitoring limits in accordance with subsection 2. the first sentence shall also apply to residues accumulated abroad and brought into germany for recovery. 4 if the residues requiring monitoring are stored on the operating premises of the par\\xad ty subject to an obligation in accordance with subsection 1, the latter must declare said storage to the competent authority. the competent authority shall be informed without undue delay if such storage ceases. 5 for those residues that are not subject to a monitoring requirement, the competent authority may require that compliance be proven with the monitoring limits and methods of recovery and disposal in accordance with a statutory ordinance in accordance with the sec\\xad ond sentence of subsection 2. to this end, the competent authority may lay down technical procedures, suitable measurement procedures and other requirements, in particular those covering the ascertainment of representative measurement values for the specific activity. 6 the party subject to an obligation in accordance with subsection 1 shall secure residues against loss and against access by unauthorised parties prior to their disposal or recovery. they may only be passed on to other party for the purpose of the disposal or re\\xad covery. 7 the crossborder transportation of residues into germany for their disposal is here\\xad 71 with prohibited. section 62 release of residues from monitoring empowerment to issue ordinances 1 the party under an obligation in accordance with section 61'),\n",
       " Document(metadata={'id': 'strlschg_en_bf.pdf:0:103', 'page': 0, 'path': 'files/strlschg_en_bf.pdf', 'source': 'strlschg_en_bf.pdf'}, page_content='by unauthorised parties prior to their disposal or recovery. they may only be passed on to other party for the purpose of the disposal or re\\xad covery. 7 the crossborder transportation of residues into germany for their disposal is here\\xad 71 with prohibited. section 62 release of residues from monitoring empowerment to issue ordinances 1 the party under an obligation in accordance with section 61 subsection 1, first sentence, must declare the intended recovery or disposal of the residues to the competent authority without undue delay, stating their nature, mass and specific activity, as soon as he or she has established that said residues require monitoring in accordance with section 61 subsection 2. a declaration in accordance with the first sentence above may be dispensed with where notification is made in accordance with section 63 subsection 1 due to the na\\xad ture and specific activity of the residues requiring monitoring. 2 at the request of the party under an obligation in accordance with section 61 sub\\xad section 1, first sentence, the competent authority shall release residues requiring monitor\\xad ing from that monitoring for the purpose of a particular recovery or disposal, where 1. the requisite protection of the population against exposure is ensured by means of the measures put in place for recovery or disposal, 2. the body dose of occupational workers in the course of disposal or recovery cannot ex\\xad ceed the levels for categorisation as an occupationallyexposed person, and 3. there are no reservations under the law on waste as to the permissibility of the envis\\xad aged method of recovery or disposal and as to whether it will be complied with. release from the monitoring obligation shall be effected by means of notice in writing. 3 the criteria for the protection of the public shall be that, as the constraint for the ex\\xad posure of members of the public caused by disposal or recovery, even without additional measures an effective dose of 1 msv in a given calendar')]"
      ]
     },
     "execution_count": 2,
     "metadata": {},
     "output_type": "execute_result"
    }
   ],
   "source": [
    "from langchain_community.embeddings import HuggingFaceEmbeddings\n",
    "\n",
    "# Test query\n",
    "test_query = \"how to release residues from regulatory control\"\n",
    "\n",
    "# Get results\n",
    "results = similarity_search_for_tenant(\n",
    "    tenant_id=\"default\",\n",
    "    #embed_llm=get_embedding_model().\n",
    "    #embed_llm=HuggingFaceEmbeddings(model_name='jinaai/jina-embeddings-v2-base-de', model_kwargs={'device': 'cpu'}),\n",
    "    embed_llm=HuggingFaceEmbeddings(model_name='sentence-transformers/all-mpnet-base-v2', model_kwargs={'device': 'cpu'}),\n",
    "    persist_directory=\"../database\",\n",
    "    similarity=\"cosine\",\n",
    "    normal=True,\n",
    "    query=test_query\n",
    ")\n",
    "\n",
    "# Print results\n",
    "results"
   ]
  },
  {
   "cell_type": "code",
   "execution_count": 3,
   "metadata": {},
   "outputs": [
    {
     "name": "stderr",
     "output_type": "stream",
     "text": [
      "Some weights of BertModel were not initialized from the model checkpoint at jinaai/jina-embeddings-v2-base-de and are newly initialized: ['embeddings.position_embeddings.weight', 'encoder.layer.0.intermediate.dense.bias', 'encoder.layer.0.intermediate.dense.weight', 'encoder.layer.0.output.LayerNorm.bias', 'encoder.layer.0.output.LayerNorm.weight', 'encoder.layer.0.output.dense.bias', 'encoder.layer.0.output.dense.weight', 'encoder.layer.1.intermediate.dense.bias', 'encoder.layer.1.intermediate.dense.weight', 'encoder.layer.1.output.LayerNorm.bias', 'encoder.layer.1.output.LayerNorm.weight', 'encoder.layer.1.output.dense.bias', 'encoder.layer.1.output.dense.weight', 'encoder.layer.10.intermediate.dense.bias', 'encoder.layer.10.intermediate.dense.weight', 'encoder.layer.10.output.LayerNorm.bias', 'encoder.layer.10.output.LayerNorm.weight', 'encoder.layer.10.output.dense.bias', 'encoder.layer.10.output.dense.weight', 'encoder.layer.11.intermediate.dense.bias', 'encoder.layer.11.intermediate.dense.weight', 'encoder.layer.11.output.LayerNorm.bias', 'encoder.layer.11.output.LayerNorm.weight', 'encoder.layer.11.output.dense.bias', 'encoder.layer.11.output.dense.weight', 'encoder.layer.2.intermediate.dense.bias', 'encoder.layer.2.intermediate.dense.weight', 'encoder.layer.2.output.LayerNorm.bias', 'encoder.layer.2.output.LayerNorm.weight', 'encoder.layer.2.output.dense.bias', 'encoder.layer.2.output.dense.weight', 'encoder.layer.3.intermediate.dense.bias', 'encoder.layer.3.intermediate.dense.weight', 'encoder.layer.3.output.LayerNorm.bias', 'encoder.layer.3.output.LayerNorm.weight', 'encoder.layer.3.output.dense.bias', 'encoder.layer.3.output.dense.weight', 'encoder.layer.4.intermediate.dense.bias', 'encoder.layer.4.intermediate.dense.weight', 'encoder.layer.4.output.LayerNorm.bias', 'encoder.layer.4.output.LayerNorm.weight', 'encoder.layer.4.output.dense.bias', 'encoder.layer.4.output.dense.weight', 'encoder.layer.5.intermediate.dense.bias', 'encoder.layer.5.intermediate.dense.weight', 'encoder.layer.5.output.LayerNorm.bias', 'encoder.layer.5.output.LayerNorm.weight', 'encoder.layer.5.output.dense.bias', 'encoder.layer.5.output.dense.weight', 'encoder.layer.6.intermediate.dense.bias', 'encoder.layer.6.intermediate.dense.weight', 'encoder.layer.6.output.LayerNorm.bias', 'encoder.layer.6.output.LayerNorm.weight', 'encoder.layer.6.output.dense.bias', 'encoder.layer.6.output.dense.weight', 'encoder.layer.7.intermediate.dense.bias', 'encoder.layer.7.intermediate.dense.weight', 'encoder.layer.7.output.LayerNorm.bias', 'encoder.layer.7.output.LayerNorm.weight', 'encoder.layer.7.output.dense.bias', 'encoder.layer.7.output.dense.weight', 'encoder.layer.8.intermediate.dense.bias', 'encoder.layer.8.intermediate.dense.weight', 'encoder.layer.8.output.LayerNorm.bias', 'encoder.layer.8.output.LayerNorm.weight', 'encoder.layer.8.output.dense.bias', 'encoder.layer.8.output.dense.weight', 'encoder.layer.9.intermediate.dense.bias', 'encoder.layer.9.intermediate.dense.weight', 'encoder.layer.9.output.LayerNorm.bias', 'encoder.layer.9.output.LayerNorm.weight', 'encoder.layer.9.output.dense.bias', 'encoder.layer.9.output.dense.weight']\n",
      "You should probably TRAIN this model on a down-stream task to be able to use it for predictions and inference.\n"
     ]
    },
    {
     "name": "stdout",
     "output_type": "stream",
     "text": [
      "-------------------------\n",
      "Using embedding model: jinaai/jina-embeddings-v2-base-de\n",
      "client=SentenceTransformer(\n",
      "  (0): Transformer({'max_seq_length': 8192, 'do_lower_case': False}) with Transformer model: BertModel \n",
      "  (1): Pooling({'word_embedding_dimension': 768, 'pooling_mode_cls_token': False, 'pooling_mode_mean_tokens': True, 'pooling_mode_max_tokens': False, 'pooling_mode_mean_sqrt_len_tokens': False, 'pooling_mode_weightedmean_tokens': False, 'pooling_mode_lasttoken': False, 'include_prompt': True})\n",
      "  (2): Normalize()\n",
      ") model_name='jinaai/jina-embeddings-v2-base-de' cache_folder=None model_kwargs={'device': 'cpu'} encode_kwargs={} multi_process=False show_progress=False\n",
      "-------------------------\n"
     ]
    },
    {
     "data": {
      "text/plain": [
       "HuggingFaceEmbeddings(client=SentenceTransformer(\n",
       "  (0): Transformer({'max_seq_length': 8192, 'do_lower_case': False}) with Transformer model: BertModel \n",
       "  (1): Pooling({'word_embedding_dimension': 768, 'pooling_mode_cls_token': False, 'pooling_mode_mean_tokens': True, 'pooling_mode_max_tokens': False, 'pooling_mode_mean_sqrt_len_tokens': False, 'pooling_mode_weightedmean_tokens': False, 'pooling_mode_lasttoken': False, 'include_prompt': True})\n",
       "  (2): Normalize()\n",
       "), model_name='jinaai/jina-embeddings-v2-base-de', cache_folder=None, model_kwargs={'device': 'cpu'}, encode_kwargs={}, multi_process=False, show_progress=False)"
      ]
     },
     "execution_count": 3,
     "metadata": {},
     "output_type": "execute_result"
    }
   ],
   "source": [
    "get_embedding_model()"
   ]
  },
  {
   "cell_type": "code",
   "execution_count": 4,
   "metadata": {},
   "outputs": [],
   "source": [
    "#from langchain_community.embeddings import HuggingFaceEmbeddings\n",
    "#HuggingFaceEmbeddings(model_name='jinaai/jina-embeddings-v2-base-de', model_kwargs={'device': 'cpu'})"
   ]
  },
  {
   "cell_type": "code",
   "execution_count": 5,
   "metadata": {},
   "outputs": [
    {
     "name": "stdout",
     "output_type": "stream",
     "text": [
      "models--jinaai--jina-embeddings-v2-base-de\t  version.txt\n",
      "models--sentence-transformers--all-mpnet-base-v2\n"
     ]
    },
    {
     "name": "stderr",
     "output_type": "stream",
     "text": [
      "huggingface/tokenizers: The current process just got forked, after parallelism has already been used. Disabling parallelism to avoid deadlocks...\n",
      "To disable this warning, you can either:\n",
      "\t- Avoid using `tokenizers` before the fork if possible\n",
      "\t- Explicitly set the environment variable TOKENIZERS_PARALLELISM=(true | false)\n"
     ]
    }
   ],
   "source": [
    "!ls /home/he/.cache/huggingface/hub/"
   ]
  },
  {
   "cell_type": "code",
   "execution_count": 6,
   "metadata": {},
   "outputs": [],
   "source": [
    "#from langchain_community.embeddings import HuggingFaceEmbeddings\n",
    "#HuggingFaceEmbeddings(model_name='jinaai/jina-embeddings-v2-base-de', model_kwargs={'device': 'cpu'})"
   ]
  },
  {
   "cell_type": "code",
   "execution_count": 7,
   "metadata": {},
   "outputs": [],
   "source": [
    "def transform_documents(documents):\n",
    "    \"\"\"\n",
    "    Transforms a list of Document objects into a specific dictionary format.\n",
    "    \n",
    "    Args:\n",
    "        documents (list): List of Document objects with metadata and page_content\n",
    "        \n",
    "    Returns:\n",
    "        list: List of dictionaries with content and metadata in the required format\n",
    "    \"\"\"\n",
    "    samples = []\n",
    "    \n",
    "    for doc in documents:\n",
    "        transformed_doc = {\n",
    "            \"content\": doc.page_content,\n",
    "            \"metadata\": {\n",
    "                \"name\": doc.metadata['id'],\n",
    "                \"path\": doc.metadata['source']\n",
    "            }\n",
    "        }\n",
    "        samples.append(transformed_doc)\n",
    "    \n",
    "    return samples"
   ]
  },
  {
   "cell_type": "code",
   "execution_count": 8,
   "metadata": {},
   "outputs": [
    {
     "data": {
      "text/plain": [
       "[{'content': 'methods of recovery and disposal laid down by a statutory ordinance in accordance with the second sentence are complied with in their disposal or recovery. the federal government is herewith empowered to issue a statutory ordinance, with the consent of the bundesrat, es\\xad tablishing the monitoring limits and methods of recovery and disposal to apply to residues. 3 residues accumulated may not be mixed or diluted prior to their intended disposal or recovery in order to satisfy the monitoring limits in accordance with subsection 2. the first sentence shall also apply to residues accumulated abroad and brought into germany for recovery. 4 if the residues requiring monitoring are stored on the operating premises of the par\\xad ty subject to an obligation in accordance with subsection 1, the latter must declare said storage to the competent authority. the competent authority shall be informed without undue delay if such storage ceases. 5 for those residues that are not subject to a monitoring requirement, the competent authority may require that compliance be proven with the monitoring limits and methods of recovery and disposal in accordance with a statutory ordinance in accordance with the sec\\xad ond sentence of subsection 2. to this end, the competent authority may lay down technical procedures, suitable measurement procedures and other requirements, in particular those covering the ascertainment of representative measurement values for the specific activity. 6 the party subject to an obligation in accordance with subsection 1 shall secure residues against loss and against access by unauthorised parties prior to their disposal or recovery. they may only be passed on to other party for the purpose of the disposal or re\\xad covery. 7 the crossborder transportation of residues into germany for their disposal is here\\xad 71 with prohibited. section 62 release of residues from monitoring empowerment to issue ordinances 1 the party under an obligation in accordance with section 61',\n",
       "  'metadata': {'name': 'strlschg_en_bf.pdf:0:102',\n",
       "   'path': 'strlschg_en_bf.pdf'}},\n",
       " {'content': 'by unauthorised parties prior to their disposal or recovery. they may only be passed on to other party for the purpose of the disposal or re\\xad covery. 7 the crossborder transportation of residues into germany for their disposal is here\\xad 71 with prohibited. section 62 release of residues from monitoring empowerment to issue ordinances 1 the party under an obligation in accordance with section 61 subsection 1, first sentence, must declare the intended recovery or disposal of the residues to the competent authority without undue delay, stating their nature, mass and specific activity, as soon as he or she has established that said residues require monitoring in accordance with section 61 subsection 2. a declaration in accordance with the first sentence above may be dispensed with where notification is made in accordance with section 63 subsection 1 due to the na\\xad ture and specific activity of the residues requiring monitoring. 2 at the request of the party under an obligation in accordance with section 61 sub\\xad section 1, first sentence, the competent authority shall release residues requiring monitor\\xad ing from that monitoring for the purpose of a particular recovery or disposal, where 1. the requisite protection of the population against exposure is ensured by means of the measures put in place for recovery or disposal, 2. the body dose of occupational workers in the course of disposal or recovery cannot ex\\xad ceed the levels for categorisation as an occupationallyexposed person, and 3. there are no reservations under the law on waste as to the permissibility of the envis\\xad aged method of recovery or disposal and as to whether it will be complied with. release from the monitoring obligation shall be effected by means of notice in writing. 3 the criteria for the protection of the public shall be that, as the constraint for the ex\\xad posure of members of the public caused by disposal or recovery, even without additional measures an effective dose of 1 msv in a given calendar',\n",
       "  'metadata': {'name': 'strlschg_en_bf.pdf:0:103',\n",
       "   'path': 'strlschg_en_bf.pdf'}}]"
      ]
     },
     "execution_count": 8,
     "metadata": {},
     "output_type": "execute_result"
    }
   ],
   "source": [
    "tr=transform_documents(results)\n",
    "tr"
   ]
  },
  {
   "cell_type": "code",
   "execution_count": 9,
   "metadata": {},
   "outputs": [],
   "source": [
    "SUMMARIZER_SYSTEM_PROMPT = \"\"\"\n",
    "    You are an expert summarizer working within a RAG system. Your task is to create a comprehensive, accurate summary of the provided information while properly attributing all facts to their sources.\n",
    "\n",
    "    Guidelines:\n",
    "    - Create a clear, coherent summary using neutral and professional language\n",
    "    - Focus on the most important facts and insights\n",
    "    - Maintain factual accuracy without adding new information\n",
    "    - Maintain exact figures, data points, sections and paragraphs\n",
    "    - Cite EVERY piece of information using the format [Document Name](document_path)\n",
    "    - Place citations immediately after the relevant information\n",
    "    - Ensure each citation is correctly matched to its source\n",
    "    - Return only the plain text summary without any reliminary remarks and without markdown formatting\n",
    "\n",
    "    Important: The citation information [Document Name](document_path) is stored in a dict and provided within the 'metadata'\n",
    "    {{\n",
    "    \"content\": doc.page_content,\n",
    "    \"metadata\": {\n",
    "        \"name\": doc.metadata['id'],\n",
    "        \"path\": doc.metadata['source']\n",
    "    }}\n",
    "    \"\"\""
   ]
  },
  {
   "cell_type": "code",
   "execution_count": 10,
   "metadata": {},
   "outputs": [],
   "source": [
    "import ollama\n",
    "import re\n",
    "from IPython.display import Markdown, display"
   ]
  },
  {
   "cell_type": "code",
   "execution_count": 11,
   "metadata": {},
   "outputs": [],
   "source": [
    "def source_summarizer(context_documents, llm_model=\"deepseek-r1\"):\n",
    "    system_message = SUMMARIZER_SYSTEM_PROMPT\n",
    "\n",
    "    formatted_context = \"\\n\".join(\n",
    "        f\"Content: {doc['content']}\\nSource: {doc['metadata']['name']}\\nPath: {doc['metadata']['path']}\"\n",
    "        for doc in context_documents\n",
    "    )\n",
    "\n",
    "    prompt = f\"\"\"\n",
    "    Here are the documents to summarize:\n",
    "    \n",
    "    {formatted_context}\n",
    "    \n",
    "    Provide a concise summary with proper citations:\n",
    "    \"\"\"\n",
    "    \n",
    "    response = ollama.chat(\n",
    "        model=llm_model,\n",
    "        messages=[\n",
    "            {\"role\": \"system\", \"content\": system_message},\n",
    "            {\"role\": \"user\", \"content\": prompt}\n",
    "        ]\n",
    "    )\n",
    "    \n",
    "    response_content = response[\"message\"][\"content\"]\n",
    "    \n",
    "    # Clean markdown formatting if present\n",
    "    try:\n",
    "        final_content = re.sub(r\"<think>.*?</think>\", \"\", response_content, flags=re.DOTALL).strip()\n",
    "    except:\n",
    "        final_content = response_content.strip()\n",
    "\n",
    "    # Extract metadata from all documents\n",
    "    document_names = [doc['metadata']['name'] for doc in context_documents]\n",
    "    document_paths = [doc['metadata']['path'] for doc in context_documents]\n",
    "\n",
    "    return {\n",
    "        \"content\": final_content,\n",
    "        \"metadata\": {\n",
    "            \"name\": document_names,\n",
    "            \"path\": document_paths\n",
    "        }\n",
    "    }"
   ]
  },
  {
   "cell_type": "code",
   "execution_count": 12,
   "metadata": {},
   "outputs": [
    {
     "data": {
      "text/plain": [
       "{'content': 'The provided documents outline specific provisions of German environmental law regarding the monitoring and disposal of residues. Key points include:\\n\\n1. **Monitoring Requirements (Section 61)**  \\n   - Residues accumulated may not be mixed or diluted prior to disposal or recovery to meet monitoring limits.  \\n   - Storage on the party’s premises must be declared to the competent authority, and storage cessation must be reported promptly.  \\n   - For residues not requiring monitoring, the competent authority may issue technical procedures to ensure compliance with monitoring limits and methods of disposal or recovery.  \\n\\n2. **Release from Monitoring Obligation (Section 62)**  \\n   - Residues under monitoring can be released for specific recovery or disposal if:  \\n     a) Population exposure is adequately protected through implemented measures,  \\n     b) Body dose of occupational workers does not exceed categorization limits, and  \\n     c) No legal restrictions on waste permit the method.  \\n   - Release must be communicated in writing.  \\n\\n3. **Cross-Border Transportation Restrictions (Section 7)**  \\n   - Residues cannot be transported cross-border for disposal purposes without explicit prohibiting provisions.\\n\\nThese provisions aim to balance environmental protection with industrial recovery activities while ensuring compliance and traceability of residues.  \\n\\nSources: strlschg_en_bf.pdf:0:102, strlschg_en_bf.pdf:0:103',\n",
       " 'metadata': {'name': ['strlschg_en_bf.pdf:0:102', 'strlschg_en_bf.pdf:0:103'],\n",
       "  'path': ['strlschg_en_bf.pdf', 'strlschg_en_bf.pdf']}}"
      ]
     },
     "execution_count": 12,
     "metadata": {},
     "output_type": "execute_result"
    }
   ],
   "source": [
    "smry = source_summarizer(tr)\n",
    "smry"
   ]
  },
  {
   "cell_type": "code",
   "execution_count": 13,
   "metadata": {},
   "outputs": [
    {
     "data": {
      "text/markdown": [
       "The provided documents outline specific provisions of German environmental law regarding the monitoring and disposal of residues. Key points include:\n",
       "\n",
       "1. **Monitoring Requirements (Section 61)**  \n",
       "   - Residues accumulated may not be mixed or diluted prior to disposal or recovery to meet monitoring limits.  \n",
       "   - Storage on the party’s premises must be declared to the competent authority, and storage cessation must be reported promptly.  \n",
       "   - For residues not requiring monitoring, the competent authority may issue technical procedures to ensure compliance with monitoring limits and methods of disposal or recovery.  \n",
       "\n",
       "2. **Release from Monitoring Obligation (Section 62)**  \n",
       "   - Residues under monitoring can be released for specific recovery or disposal if:  \n",
       "     a) Population exposure is adequately protected through implemented measures,  \n",
       "     b) Body dose of occupational workers does not exceed categorization limits, and  \n",
       "     c) No legal restrictions on waste permit the method.  \n",
       "   - Release must be communicated in writing.  \n",
       "\n",
       "3. **Cross-Border Transportation Restrictions (Section 7)**  \n",
       "   - Residues cannot be transported cross-border for disposal purposes without explicit prohibiting provisions.\n",
       "\n",
       "These provisions aim to balance environmental protection with industrial recovery activities while ensuring compliance and traceability of residues.  \n",
       "\n",
       "Sources: strlschg_en_bf.pdf:0:102, strlschg_en_bf.pdf:0:103"
      ],
      "text/plain": [
       "<IPython.core.display.Markdown object>"
      ]
     },
     "metadata": {},
     "output_type": "display_data"
    }
   ],
   "source": [
    "display(Markdown(smry['content']))"
   ]
  },
  {
   "cell_type": "code",
   "execution_count": 14,
   "metadata": {},
   "outputs": [
    {
     "data": {
      "text/markdown": [
       "#LLM: deepseek-r1:1.5b"
      ],
      "text/plain": [
       "<IPython.core.display.Markdown object>"
      ]
     },
     "metadata": {},
     "output_type": "display_data"
    },
    {
     "data": {
      "text/markdown": [
       "**Summary of Residue Handling in Germany**\n",
       "\n",
       "The Federal Government has empowered itself to issue a statutory ordinance under the guidance of the bundesrat. This ordinance establishes monitoring limits and recovery disposal methods for three specific residues, ensuring compliance with established practices. Additionally, it mandates that 3 accumulated residues should not be mixed or diluted before intended storage within Germany or abroad. Crossborder transportation of residues into Germany is prohibited.\n",
       "\n",
       "Furthermore, a party under an obligation must secure residues against loss and unauthorized access post-disposal/recovery. Ensuring public exposure protection involves release from monitoring obligations through designated channels and measures to prevent exposure.\n",
       "\n",
       "These documents emphasize adherence to legal provisions regarding residue storage, recovery, and disposal, highlighting the importance of compliance in maintaining public health and safety standards."
      ],
      "text/plain": [
       "<IPython.core.display.Markdown object>"
      ]
     },
     "metadata": {},
     "output_type": "display_data"
    },
    {
     "name": "stdout",
     "output_type": "stream",
     "text": [
      "Time taken: 3.30 seconds\n",
      "________________________________\n"
     ]
    },
    {
     "data": {
      "text/markdown": [
       "#LLM: deepseek-r1:latest"
      ],
      "text/plain": [
       "<IPython.core.display.Markdown object>"
      ]
     },
     "metadata": {},
     "output_type": "display_data"
    },
    {
     "data": {
      "text/markdown": [
       "Germany’s statutory framework for residue management outlines detailed procedures for the monitoring, storage, and disposal of residues. Residues subject to monitoring must comply with established limits and methods, and their accumulation cannot exceed predefined thresholds [Document 1](strlschg_en_bf.pdf:0:102). Storage requirements are also stipulated, mandating declarations to competent authorities unless exceptions apply for specific cases involving occupational exposure or public health concerns [Document 1](strlschg_en_bf.pdf:0:102).\n",
       "\n",
       "Crossborder transportation of residues into Germany is prohibited under the same framework. Parties under obligation must declare residue nature, mass, and specific activity without undue delay once monitoring requirements are identified [Document 1](strlschg_en_bf.pdf:0:102). Competent authorities may release residues from monitoring if measures ensure public health protection, worker exposure compliance, and legal waste regulations adherence, with such releases requiring written notice to affected parties [Document 2](strlschg_en_bf.pdf:0:103).\n",
       "\n",
       "The summary adheres strictly to the provided content without adding new information or interpretation."
      ],
      "text/plain": [
       "<IPython.core.display.Markdown object>"
      ]
     },
     "metadata": {},
     "output_type": "display_data"
    },
    {
     "name": "stdout",
     "output_type": "stream",
     "text": [
      "Time taken: 5.77 seconds\n",
      "________________________________\n"
     ]
    },
    {
     "data": {
      "text/markdown": [
       "#LLM: llama3.1:8b-instruct-q4_0"
      ],
      "text/plain": [
       "<IPython.core.display.Markdown object>"
      ]
     },
     "metadata": {},
     "output_type": "display_data"
    },
    {
     "data": {
      "text/markdown": [
       "According to the provided documents [strlschg_en_bf.pdf](document_path:strlschg_en_bf.pdf), the following regulations apply to the recovery and disposal of residues:\n",
       "\n",
       "1. Residues must be disposed of or recovered in accordance with statutory ordinances, which may be issued by the Federal Government with the consent of the Bundestag (Section 61).\n",
       "2. Residues accumulated abroad may not be mixed or diluted prior to their intended disposal or recovery (Section 3).\n",
       "3. The party subject to an obligation must declare storage and intendended disposal or recovery of residues to the competent authority, who must be informed without undue delay if such storage ceases (Section 4).\n",
       "4. For residues not subject to a monitoring requirement, the competent authority may require compliance with monitoring limits and methods of recovery and disposal, including technical procedures and measurement requirements (Section 5).\n",
       "5. Residues must be secured against loss and unauthorized access prior to their disposal or recovery, and may only be passed on to other parties for this purpose (Section 6).\n",
       "6. The cross-border transportation of residues into Germany for their disposal is prohibited (Section 7).\n",
       "\n",
       "Additionally, according to [strlschg_en_bf.pdf](document_path:strlschg_en_bf.pdf), the following applies to release from monitoring:\n",
       "\n",
       "1. The party under an obligation must declare the intended recovery or disposal of residues to the competent authority without undue delay, stating their nature, mass and specific activity (Section 62).\n",
       "2. Residues requiring monitoring may be released from monitoring for the purpose of a particular recovery or disposal, where certain conditions are met, including ensuring protection of the population against exposure and compliance with measures put in place for recovery or disposal (Section 62)."
      ],
      "text/plain": [
       "<IPython.core.display.Markdown object>"
      ]
     },
     "metadata": {},
     "output_type": "display_data"
    },
    {
     "name": "stdout",
     "output_type": "stream",
     "text": [
      "Time taken: 4.86 seconds\n",
      "________________________________\n"
     ]
    },
    {
     "data": {
      "text/markdown": [
       "#LLM: llama3.2"
      ],
      "text/plain": [
       "<IPython.core.display.Markdown object>"
      ]
     },
     "metadata": {},
     "output_type": "display_data"
    },
    {
     "data": {
      "text/markdown": [
       "The German statutory ordinance establishes monitoring limits and methods for the recovery and disposal of residues. The federal government can issue a statutory ordinance, with the consent of the Bundesrat, to set these limits and methods (1). Resumes must be disposed of or recovered in accordance with this ordinance, without mixing or diluting them prior to disposal or recovery.\n",
       "\n",
       "Parties subject to an obligation under Section 61 must declare storage of residues on their premises to the competent authority, who will inform them without delay if such storage ceases (4). For non-monitored residues, the authority may require proof of compliance with monitoring limits and methods in accordance with a statutory ordinance (5).\n",
       "\n",
       "To ensure protection of the public, the authority can release monitored residues from monitoring for specific recovery or disposal purposes, where measures put in place ensure protection against exposure and the occupational worker's body dose does not exceed categorization levels (2). The criteria for public protection require an effective dose of 1 mSV without additional measures (3).\n",
       "\n",
       "Cross-border transportation of residues into Germany is prohibited (7). Parties must secure residues against loss and unauthorized access prior to disposal or recovery, and only pass them on to other parties for the purpose of disposal or recovery (6).\n",
       "\n",
       "References:\n",
       "[1] strlschg_en_bf.pdf:0:102\n",
       "[2] strlschg_en_bf.pdf:0:103\n",
       "[3] strlschg_en_bf.pdf:0:103\n",
       "[4] strlschg_en_bf.pdf:0:104\n",
       "[5] strlschg_en_bf.pdf:0:105\n",
       "[6] strlschg_en_bf.pdf:0:106\n",
       "[7] strlschg_en_bf.pdf:0:107"
      ],
      "text/plain": [
       "<IPython.core.display.Markdown object>"
      ]
     },
     "metadata": {},
     "output_type": "display_data"
    },
    {
     "name": "stdout",
     "output_type": "stream",
     "text": [
      "Time taken: 3.40 seconds\n",
      "________________________________\n"
     ]
    },
    {
     "data": {
      "text/markdown": [
       "#LLM: gemma3:4b"
      ],
      "text/plain": [
       "<IPython.core.display.Markdown object>"
      ]
     },
     "metadata": {},
     "output_type": "display_data"
    },
    {
     "data": {
      "text/markdown": [
       "The federal government is empowered to establish monitoring limits and methods of recovery and disposal for residues, with the consent of the Bundesrat [strlschg_en_bf.pdf:0:102]. Three residues accumulated may not be mixed or diluted prior to disposal [strlschg_en_bf.pdf:0:103]. Parties subject to an obligation must declare residue storage to the competent authority and inform them if storage ceases [strlschg_en_bf.pdf:0:102]. Residues must be secured against loss and unauthorized access before disposal or recovery [strlschg_en_bf.pdf:0:103]. Crossborder transportation of residues into Germany for disposal is prohibited [strlschg_en_bf.pdf:0:103]. The competent authority may require proof of compliance with monitoring limits if residues are not subject to a monitoring requirement, including laying down technical procedures [strlschg_en_bf.pdf:0:103]. The competent authority may release residues from monitoring if the measures for recovery or disposal ensure protection of the population, occupational worker doses do not exceed specified levels, and there are no legal reservations regarding the recovery or disposal method [strlschg_en_bf.pdf:0:103]."
      ],
      "text/plain": [
       "<IPython.core.display.Markdown object>"
      ]
     },
     "metadata": {},
     "output_type": "display_data"
    },
    {
     "name": "stdout",
     "output_type": "stream",
     "text": [
      "Time taken: 4.51 seconds\n",
      "________________________________\n"
     ]
    },
    {
     "data": {
      "text/markdown": [
       "#LLM: phi4-mini"
      ],
      "text/plain": [
       "<IPython.core.display.Markdown object>"
      ]
     },
     "metadata": {},
     "output_type": "display_data"
    },
    {
     "data": {
      "text/markdown": [
       "The federal government is authorized to issue statutory ordinances establishing monitoring limits and methods for the recovery or disposal of residues, which cannot be mixed before fulfilling those requirements (Source 1). Parties obligated under this ordinance must declare their intentions regarding residue handling promptly upon determining they need monitoring. The competent authority may request a release from these obligations if specific criteria are met to ensure public protection during recovery processes (Sources 2 and 3).\n",
       "\n",
       "The cross-border transport of residues into Germany for disposal is prohibited, ensuring that only authorized parties can handle the substances within designated procedures aimed at protecting both occupational workers in contact with such materials as well as members of the general population from potential exposure risks. These regulations are designed to maintain a high standard of environmental protection and public safety (Source 1)."
      ],
      "text/plain": [
       "<IPython.core.display.Markdown object>"
      ]
     },
     "metadata": {},
     "output_type": "display_data"
    },
    {
     "name": "stdout",
     "output_type": "stream",
     "text": [
      "Time taken: 3.01 seconds\n",
      "________________________________\n"
     ]
    },
    {
     "data": {
      "text/markdown": [
       "#LLM: mistral:instruct"
      ],
      "text/plain": [
       "<IPython.core.display.Markdown object>"
      ]
     },
     "metadata": {},
     "output_type": "display_data"
    },
    {
     "data": {
      "text/markdown": [
       "The provided documents outline regulations for the recovery and disposal of residues in Germany, as stipulated by the statutory ordinance mentioned in [Document Name](strlschg_en_bf.pdf:0:102). These regulations apply to both domestic and imported residues.\n",
       "\n",
       "   - Residues must be disposed or recovered in compliance with the specified methods and monitoring limits ([Document Name](strlschg_en_bf.pdf:0:102)).\n",
       "   - Parties subject to an obligation must declare storage of residues requiring monitoring to the competent authority and inform them without delay if such storage ceases ([Document Name](strlschg_en_bf.pdf:0:102)).\n",
       "   - For residues not subject to a monitoring requirement, the competent authority may require compliance with monitoring limits and methods of recovery and disposal via technical procedures, suitable measurement procedures, and other requirements ([Document Name](strlschg_en_bf.pdf:0:103)).\n",
       "   - Parties must secure residues against loss and unauthorized access prior to their disposal or recovery, and may only pass them on for the purpose of disposal or recovery ([Document Name](strlschg_en_bf.pdf:0:102)).\n",
       "   - The cross-border transportation of residues into Germany for disposal is prohibited ([Document Name](strlschg_en_bf.pdf:0:102)).\n",
       "\n",
       "   The party under an obligation must declare the intended recovery or disposal of the residues to the competent authority without delay, stating their nature, mass, and specific activity once they have established that said residues require monitoring ([Document Name](strlschg_en_bf.pdf:0:103)). The competent authority may release residues requiring monitoring from that monitoring for a particular recovery or disposal under certain conditions, such as ensuring protection of the population and adherence to waste laws ([Document Name](strlschg_en_bf.pdf:0:103)). The criteria for public protection are set at an effective dose of 1 msv for a given calendar year ([Document Name](strlschg_en_bf.pdf:0:103))."
      ],
      "text/plain": [
       "<IPython.core.display.Markdown object>"
      ]
     },
     "metadata": {},
     "output_type": "display_data"
    },
    {
     "name": "stdout",
     "output_type": "stream",
     "text": [
      "Time taken: 7.26 seconds\n",
      "________________________________\n"
     ]
    },
    {
     "data": {
      "text/markdown": [
       "#LLM: mistrallite"
      ],
      "text/plain": [
       "<IPython.core.display.Markdown object>"
      ]
     },
     "metadata": {},
     "output_type": "display_data"
    },
    {
     "data": {
      "text/markdown": [
       "A comprehensive summary of the provided information follows:\n",
       "    \n",
       "    Content: methods of recovery and disposal laid down by a statutory ordinance in accordance with the second sentence are complied with in their disposal or recovery. The federal government is herewith empowered to issue a statutory ordinance, with the consent of the bundesrat, es­ tablishing the monitoring limits and methods of recovery and disposal to apply to residues. 3 residues accumulated may not be mixed or diluted prior to their intended disposal or recovery in order to satisfy the monitoring limits in accordance with subsection 2. The first sentence shall also apply to residues accumulated abroad and brought into germany for recovery.\n",
       "    4 if the residues requiring monitoring are stored on the operating premises of the par­ ty subject to an obligation in accordance with subsection 1, the latter must declare said storage to the competent authority. The competent authority shall be informed without undue delay if such storage ceases. 5 for those residues that are not subject to a monitoring requirement, the competent authority may require that compliance be proven with the monitoring limits and methods of recovery and disposal in accordance with a statutory ordinance in accordance with the sec­ ond sentence of subsection 2. To this end, the competent authority may lay down technical procedures, suitable measurement procedures and other requirements, in particular those covering the ascertainment of representative measurement values for the specific activity.\n",
       "    6 the party subject to an obligation in accordance with subsection 1 shall secure residues against loss and against access by unauthorised parties prior to their disposal or recovery. They may only be passed on to other party for the purpose of the disposal or re­ covery.\n",
       "    7 the crossborder transportation of residues into germany for their disposal is here­ 71 with prohibited.\n",
       "    Source: strlschg_en_bf.pdf:0:102\n",
       "    Path: strlschg_en_bf.pdf"
      ],
      "text/plain": [
       "<IPython.core.display.Markdown object>"
      ]
     },
     "metadata": {},
     "output_type": "display_data"
    },
    {
     "name": "stdout",
     "output_type": "stream",
     "text": [
      "Time taken: 5.40 seconds\n",
      "________________________________\n"
     ]
    },
    {
     "data": {
      "text/markdown": [
       "#LLM: mistral-small"
      ],
      "text/plain": [
       "<IPython.core.display.Markdown object>"
      ]
     },
     "metadata": {},
     "output_type": "display_data"
    },
    {
     "data": {
      "text/markdown": [
       "The German statutory ordinance outlines specific methods for the recovery and disposal of residues, emphasizing compliance with monitoring limits and procedures. The federal government is authorized to issue regulations regarding these limits and methods, with the consent of the Bundesrat. Residues must not be mixed or diluted before disposal or recovery to meet monitoring limits, and this rule also applies to residues brought into Germany from abroad for recovery [strlschg_en_bf.pdf](strlschg_en_bf.pdf:0:102).\n",
       "\n",
       "Residues requiring monitoring must be declared to the competent authority if stored on the premises of the obligated party. Any cessation of such storage must also be reported promptly. For residues not subject to monitoring, the competent authority can require proof of compliance with monitoring limits and disposal methods through technical procedures and measurement standards [strlschg_en_bf.pdf](strlschg_en_bf.pdf:0:102).\n",
       "\n",
       "The obligated party must secure residues against loss and unauthorized access before disposal or recovery. Residues may only be transferred to another party for the purpose of disposal or recovery, and cross-border transportation of residues into Germany for disposal is prohibited [strlschg_en_bf.pdf](strlschg_en_bf.pdf:0:102).\n",
       "\n",
       "Section 62 addresses the release of residues from monitoring. The obligated party must declare the intended recovery or disposal of monitored residues to the competent authority, specifying their nature, mass, and specific activity. This declaration can be waived if notification is made under Section 63 due to the nature and specific activity of the residues [strlschg_en_bf.pdf](strlschg_en_bf.pdf:0:103).\n",
       "\n",
       "The competent authority can release monitored residues from monitoring for a particular recovery or disposal if certain conditions are met, including ensuring public protection against exposure and compliance with occupational dose levels. Release from monitoring is granted through written notice [strlschg_en_bf.pdf](strlschg_en_bf.pdf:0:103).\n",
       "\n",
       "The criteria for protecting the public involve ensuring that the effective dose from disposal or recovery does not exceed 1 mSv in a given calendar year, even without additional measures [strlschg_en_bf.pdf](strlschg_en_bf.pdf:0:103)."
      ],
      "text/plain": [
       "<IPython.core.display.Markdown object>"
      ]
     },
     "metadata": {},
     "output_type": "display_data"
    },
    {
     "name": "stdout",
     "output_type": "stream",
     "text": [
      "Time taken: 19.26 seconds\n",
      "________________________________\n"
     ]
    },
    {
     "data": {
      "text/markdown": [
       "#LLM: deepseek-r1:70b"
      ],
      "text/plain": [
       "<IPython.core.display.Markdown object>"
      ]
     },
     "metadata": {},
     "output_type": "display_data"
    },
    {
     "data": {
      "text/markdown": [
       "1. **Disposal and Recovery Requirements**: Residues must be disposed of or recovered according to methods laid down by a statutory ordinance. The federal government is authorized to issue such ordinances with the consent of the Bundesrat, establishing monitoring limits and methods for residues [strlschg_en_bf.pdf:0:102](strlschg_en_bf.pdf).\n",
       "\n",
       "2. **Prohibitions on Mixing or Diluting**: Residues, including those from abroad, cannot be mixed or diluted to meet monitoring limits before disposal or recovery [strlschg_en_bf.pdf:0:102](strlschg_en_bf.pdf).\n",
       "\n",
       "3. **Storage and Notification Obligations**: If residues requiring monitoring are stored on the premises of the obligated party, this must be declared to the competent authority. The authority must also be informed promptly if storage ceases [strlschg_en_bf.pdf:0:102](strlschg_en_bf.pdf).\n",
       "\n",
       "4. **Proof of Compliance for Non-Monitored Residues**: For residues not subject to monitoring, the competent authority may require proof of compliance with recovery and disposal methods. This may include technical procedures and measurement protocols [strlschg_en_bf.pdf:0:102](strlschg_en_bf.pdf).\n",
       "\n",
       "5. **Security Measures**: The obligated party must secure residues against loss or unauthorized access before disposal or recovery. Residues can only be transferred to other parties for disposal or recovery purposes [strlschg_en_bf.pdf:0:102](strlschg_en_bf.pdf).\n",
       "\n",
       "6. **Cross-Border Transportation Prohibition**: The cross-border transportation of residues into Germany for disposal is prohibited under Section 71 [strlschg_en_bf.pdf:0:102](strlschg_en_bf.pdf).\n",
       "\n",
       "7. **Declaration and Release from Monitoring**:\n",
       "   - The obligated party must declare the intended recovery or disposal of monitored residues to the competent authority, specifying their nature, mass, and specific activity, as soon as monitoring is required under Section 61 subsection 2 [strlschg_en_bf.pdf:0:103](strlschg_en_bf.pdf).\n",
       "   - A declaration may be waived if notification is made under Section 63 subsection 1 due to the residues' nature and activity [strlschg_en_bf.pdf:0:103](strlschg_en_bf.pdf).\n",
       "\n",
       "8. **Criteria for Release from Monitoring**:\n",
       "   - At the request of the obligated party, the competent authority may release residues from monitoring if public exposure is adequately protected (effective dose constraint of 1 mSv per calendar year), occupational doses do not exceed levels for categorizing workers as occupationally exposed, and no legal objections exist under waste law [strlschg_en_bf.pdf:0:103](strlschg_en_bf.pdf).\n",
       "   - Release must be granted in writing [strlschg_en_bf.pdf:0:103](strlschg_en_bf.pdf)."
      ],
      "text/plain": [
       "<IPython.core.display.Markdown object>"
      ]
     },
     "metadata": {},
     "output_type": "display_data"
    },
    {
     "name": "stdout",
     "output_type": "stream",
     "text": [
      "Time taken: 73.52 seconds\n",
      "________________________________\n"
     ]
    },
    {
     "data": {
      "text/markdown": [
       "#LLM: qwq"
      ],
      "text/plain": [
       "<IPython.core.display.Markdown object>"
      ]
     },
     "metadata": {},
     "output_type": "display_data"
    },
    {
     "data": {
      "text/markdown": [
       "The statutory ordinance in Germany mandates compliance with specified recovery and disposal methods for residues, established by the federal government with Bundesrat consent [strlschg_en_bf.pdf:0:102](strlschg_en_bf.pdf). Residues cannot be mixed or diluted prior to disposal, even when imported into Germany from abroad. Obligated parties must declare residue storage to authorities and report any discontinuation of storage activities [strlslschg_en_bf.pdf:0:102](strlschg_en_bf.pdf). Non-monitored residues may still require proof of compliance through procedures set by competent authorities, including specific activity measurements [strlschg_en_bf.pdf:0:102](strlschg_en_bf.pdf). Security measures must prevent unauthorized access to residues until disposal, and transfer is restricted to authorized parties only. Cross-border transportation of residues into Germany for disposal purposes is prohibited [strlschg_en_bf.pdf:0:102](strlschg_en_bf.pdf).  \n",
       "\n",
       "Under Section 62, obligated parties must declare monitored residues’ details to authorities unless exempt via Section 63 notifications [strlschg_en_bf.pdf:0:103](strlschg_en_bf.pdf). Authorities may release residues from monitoring if three conditions are met: public exposure limits (≤1 mSv effective dose), occupational worker doses within regulated thresholds, and compliance with waste management laws [strlschg_en_bf.pdf:0:103](strlschg_en_bf.pdf)."
      ],
      "text/plain": [
       "<IPython.core.display.Markdown object>"
      ]
     },
     "metadata": {},
     "output_type": "display_data"
    },
    {
     "name": "stdout",
     "output_type": "stream",
     "text": [
      "Time taken: 38.15 seconds\n",
      "________________________________\n"
     ]
    },
    {
     "data": {
      "text/markdown": [
       "#LLM: gemma3:27b"
      ],
      "text/plain": [
       "<IPython.core.display.Markdown object>"
      ]
     },
     "metadata": {},
     "output_type": "display_data"
    },
    {
     "data": {
      "text/markdown": [
       "Methods of recovery and disposal laid down by a statutory ordinance must be complied with when disposing of or recovering residues [strlschg_en_bf.pdf](strlschg_en_bf.pdf). The federal government is empowered to issue a statutory ordinance, with the consent of the Bundesrat, establishing monitoring limits and methods for residue recovery and disposal [strlschg_en_bf.pdf](strlschg_en_bf.pdf). Residues accumulated may not be mixed or diluted before disposal or recovery to meet monitoring limits [strlschg_en_bf.pdf](strlschg_en_bf.pdf); this also applies to residues from abroad brought into Germany for recovery [strlschg_en_bf.pdf](strlschg_en_bf.pdf). If residues requiring monitoring are stored on-site, the responsible party must declare this to the competent authority, and inform them when storage ceases [strlschg_en_bf.pdf](strlschg_en_bf.pdf). For residues not subject to monitoring requirements, the competent authority may still require proof of compliance with recovery and disposal methods [strlschg_en_bf.pdf](strlschg_en_bf.pdf).\n",
       "\n",
       "The responsible party must secure residues against loss and unauthorized access before disposal or recovery, and may only pass them on to other parties for these purposes [strlschg_en_bf.pdf](strlschg_en_bf.pdf). Cross-border transportation of residues into Germany for disposal is prohibited [strlschg_en_bf.pdf](strlschg_en_bf.pdf). \n",
       "\n",
       "The party obligated under section 61 subsection 1 must declare the intended recovery or disposal of monitored residues to the competent authority, stating their nature, mass, and specific activity [strlschg_en_bf.pdf](strlschg_en_bf.pdf). This declaration may be waived if notification is made under section 63 subsection 1 [strlschg_en_bf.pdf](strlschg_en_bf.pdf). The competent authority may release monitored residues from monitoring for specific recovery or disposal if population protection is ensured, occupational worker body doses are within acceptable limits, and there are no objections under waste management law [strlschg_en_bf.pdf](strlschg_en_bf.pdf). Release from monitoring is done via written notice [strlschg_en_bf.pdf](strlschg_en_bf.pdf). The criteria for public protection is an effective dose of 1 mSv in a given calendar year [strlschg_en_bf.pdf](strlschg_en_bf.pdf)."
      ],
      "text/plain": [
       "<IPython.core.display.Markdown object>"
      ]
     },
     "metadata": {},
     "output_type": "display_data"
    },
    {
     "name": "stdout",
     "output_type": "stream",
     "text": [
      "Time taken: 22.73 seconds\n",
      "________________________________\n"
     ]
    },
    {
     "data": {
      "text/markdown": [
       "#LLM: llama3.3"
      ],
      "text/plain": [
       "<IPython.core.display.Markdown object>"
      ]
     },
     "metadata": {},
     "output_type": "display_data"
    },
    {
     "data": {
      "text/markdown": [
       "The federal government is empowered to issue a statutory ordinance, with the consent of the Bundesrat, establishing monitoring limits and methods of recovery and disposal for residues [strlschg_en_bf.pdf](strlschg_en_bf.pdf:0:102). Residues accumulated may not be mixed or diluted prior to their intended disposal or recovery to satisfy monitoring limits [strlschg_en_bf.pdf](strlschg_en_bf.pdf:0:102). The party subject to an obligation must declare storage of residues to the competent authority and inform them without undue delay if such storage ceases [strlschg_en_bf.pdf](strlschg_en_bf.pdf:0:102). The cross-border transportation of residues into Germany for disposal is prohibited [strlschg_en_bf.pdf](strlschg_en_bf.pdf:0:102). The party under an obligation must declare the intended recovery or disposal of residues to the competent authority, stating their nature, mass, and specific activity [strlschg_en_bf.pdf](strlschg_en_bf.pdf:0:103). Residues requiring monitoring may be released from monitoring for a particular recovery or disposal if certain conditions are met, including ensuring protection of the population against exposure and compliance with waste law [strlschg_en_bf.pdf](strlschg_en_bf.pdf:0:103). The criteria for protecting the public include an effective dose of 1 mSv in a given calendar year as the constraint for exposure caused by disposal or recovery [strlschg_en_bf.pdf](strlschg_en_bf.pdf:0:103)."
      ],
      "text/plain": [
       "<IPython.core.display.Markdown object>"
      ]
     },
     "metadata": {},
     "output_type": "display_data"
    },
    {
     "name": "stdout",
     "output_type": "stream",
     "text": [
      "Time taken: 38.70 seconds\n",
      "________________________________\n"
     ]
    }
   ],
   "source": [
    "import time\n",
    "models = [\"deepseek-r1:1.5b\",\"deepseek-r1:latest\", \"llama3.1:8b-instruct-q4_0\", \"llama3.2\", \"gemma3:4b\", \"phi4-mini\", \"mistral:instruct\", \"mistrallite\", \"mistral-small\"]\n",
    "models += [\"deepseek-r1:70b\", \"qwq\", \"gemma3:27b\", \"llama3.3\"]\n",
    "\n",
    "for model in models:\n",
    "    start_time = time.time()\n",
    "    summary = source_summarizer(tr,model)\n",
    "    elapsed_time = time.time() - start_time\n",
    "    display(Markdown(f'#LLM: {model}'))\n",
    "    display(Markdown(summary['content']))\n",
    "    print(f'Time taken: {elapsed_time:.2f} seconds')\n",
    "    print('________________________________')"
   ]
  },
  {
   "cell_type": "code",
   "execution_count": 15,
   "metadata": {},
   "outputs": [],
   "source": [
    "from langchain_community.llms import Ollama\n",
    "from langchain_core.messages import SystemMessage, HumanMessage\n",
    "import re\n",
    "\n",
    "def source_summarizer_Ollama(context_documents, llm_model=\"deepseek-r1\"):\n",
    "    system_message = SUMMARIZER_SYSTEM_PROMPT\n",
    "\n",
    "    formatted_context = \"\\n\".join(\n",
    "        f\"Content: {doc['content']}\\nSource: {doc['metadata']['name']}\\nPath: {doc['metadata']['path']}\"\n",
    "        for doc in context_documents\n",
    "    )\n",
    "\n",
    "    prompt = f\"\"\"\n",
    "    Here are the documents to summarize:\n",
    "    \n",
    "    {formatted_context}\n",
    "    \n",
    "    Provide a concise summary with proper citations:\n",
    "    \"\"\"\n",
    "    \n",
    "    # Initialize ChatOllama with the specified model and temperature\n",
    "    llm = Ollama(model=llm_model, temperature=0.1, repeat_penalty=1.2) \n",
    "    # For RAG systems like your summarizer, consider:\n",
    "    #    Using lower temperatures (0.1-0.3) for factual accuracy\n",
    "    #   Combining with repeat_penalty=1.1-1.3 to avoid redundant content\n",
    "    #   Monitoring token usage with num_ctx for long documents\n",
    "    \n",
    "    # Format messages for LangChain\n",
    "    messages = [\n",
    "        SystemMessage(content=system_message),\n",
    "        HumanMessage(content=prompt)\n",
    "    ]\n",
    "    \n",
    "    # Get response from the model\n",
    "    response = llm.invoke(messages)\n",
    "    \n",
    "    # Extract content from response\n",
    "    response_content = response\n",
    "    \n",
    "    # Clean markdown formatting if present\n",
    "    try:\n",
    "        final_content = re.sub(r\"<think>.*?</think>\", \"\", response_content, flags=re.DOTALL).strip()\n",
    "    except:\n",
    "        final_content = response_content.strip()\n",
    "\n",
    "    # Extract metadata from all documents\n",
    "    document_names = [doc['metadata']['name'] for doc in context_documents]\n",
    "    document_paths = [doc['metadata']['path'] for doc in context_documents]\n",
    "\n",
    "    return {\n",
    "        \"content\": final_content,\n",
    "        \"metadata\": {\n",
    "            \"name\": document_names,\n",
    "            \"path\": document_paths\n",
    "        }\n",
    "    }\n"
   ]
  },
  {
   "cell_type": "code",
   "execution_count": 16,
   "metadata": {},
   "outputs": [
    {
     "name": "stderr",
     "output_type": "stream",
     "text": [
      "/tmp/ipykernel_907455/2226840946.py:22: LangChainDeprecationWarning: The class `Ollama` was deprecated in LangChain 0.3.1 and will be removed in 1.0.0. An updated version of the class exists in the :class:`~langchain-ollama package and should be used instead. To use it run `pip install -U :class:`~langchain-ollama` and import as `from :class:`~langchain_ollama import OllamaLLM``.\n",
      "  llm = Ollama(model=llm_model, temperature=0.1, repeat_penalty=1.2)\n"
     ]
    },
    {
     "data": {
      "text/markdown": [
       "#LLM: deepseek-r1:1.5b"
      ],
      "text/plain": [
       "<IPython.core.display.Markdown object>"
      ]
     },
     "metadata": {},
     "output_type": "display_data"
    },
    {
     "data": {
      "text/markdown": [
       "**Summary on Residue Handling in Germany**\n",
       "\n",
       "The Federal Government has empowered itself to issue a statutory ordinance regarding residue handling under subsection 2. This involves compliance with monitoring limits when three specific residues are accumulated, ensuring they meet the required standards before disposal or recovery.\n",
       "\n",
       "Residues must be stored on another party's premises subject to an obligation without notice if storage is prohibited. The competent authority may require immediate declaration of this unless notified otherwise.\n",
       "\n",
       "For non-metrable residues, technical procedures for measurement and other requirements can be laid down through a statutory ordinance in subsection 2.\n",
       "\n",
       "Public protection includes limits on exposure (1 msv) and occupational worker doses not exceeding specific levels under Subsection 3. No reservations are made regarding waste as per the law's provisions.\n",
       "\n",
       "**Citations:**\n",
       "\n",
       "- [Document Name](strlschg_en_bf.pdf): page 0, line 102\n",
       "- [Document Name](strlschg_en_bf.pdf): page 0, line 103"
      ],
      "text/plain": [
       "<IPython.core.display.Markdown object>"
      ]
     },
     "metadata": {},
     "output_type": "display_data"
    },
    {
     "name": "stdout",
     "output_type": "stream",
     "text": [
      "Time taken: 4.02 seconds\n",
      "________________________________\n"
     ]
    },
    {
     "data": {
      "text/markdown": [
       "#LLM: deepseek-r1:latest"
      ],
      "text/plain": [
       "<IPython.core.display.Markdown object>"
      ]
     },
     "metadata": {},
     "output_type": "display_data"
    },
    {
     "data": {
      "text/markdown": [
       "The German statutory ordinance outlines the management of residues under monitoring requirements (up to three accumulated units) for their safe disposal or recovery without violating health regulations, including cross-border transportation prohibitions. Parties with obligations are required to declare residue intentions promptly and may release residues from monitoring if population protection is ensured, worker exposure limits are not exceeded, and no legal objections exist; such releases must be communicated in writing.\n",
       "\n",
       "[Document Name](strlschg_en_bf.pdf:0:102)  \n",
       "The German statutory ordinance establishes monitoring requirements for residues (up to three accumulated units). It mandates declarations of residue intentions by parties with obligations without undue delay. Crossborder transportation is prohibited, and release from monitoring can occur under specific conditions.\n",
       "\n",
       "[Document Name](strlschg_en_bf.pdf:0:103)  \n",
       "Section 62 permits the release of residues from monitoring if population protection measures are in place, worker exposure limits are not exceeded, and no legal objections exist. Such releases must be communicated in writing to the competent authority."
      ],
      "text/plain": [
       "<IPython.core.display.Markdown object>"
      ]
     },
     "metadata": {},
     "output_type": "display_data"
    },
    {
     "name": "stdout",
     "output_type": "stream",
     "text": [
      "Time taken: 7.60 seconds\n",
      "________________________________\n"
     ]
    },
    {
     "data": {
      "text/markdown": [
       "#LLM: llama3.1:8b-instruct-q4_0"
      ],
      "text/plain": [
       "<IPython.core.display.Markdown object>"
      ]
     },
     "metadata": {},
     "output_type": "display_data"
    },
    {
     "data": {
      "text/markdown": [
       "Residues requiring monitoring must be disposed or recovered in accordance with statutory ordinances, and their disposal or recovery cannot be mixed or diluted to satisfy monitoring limits [strlschg_en_bf.pdf](path:strlschg_en_bf.pdf:0:102). The party subject to an obligation must declare storage of residues on operating premises to the competent authority and inform them without undue delay if such storage ceases [strlschg_en_bf.pdf](path:strlschg_en_bf.pdf:0:103).\n",
       "\n",
       "The cross-border transportation of residues into Germany for disposal is prohibited, and residues may only be passed on to other parties for the purpose of disposal or recovery. The party subject to an obligation must secure residues against loss and unauthorized access prior to their disposal or recovery [strlschg_en_bf.pdf](path:strlschg_en_bf.pdf:0:102).\n",
       "\n",
       "The competent authority may require proof that monitoring limits are complied with, and they may lay down technical procedures for this purpose. The party subject to an obligation must declare the intended recovery or disposal of residues to the competent authority without undue delay [strlschg_en_bf.pdf](path:strlschg_en_bf.pdf:0:103).\n",
       "\n",
       "Residues requiring monitoring can be released from their monitoring obligations if certain criteria are met, including ensuring protection of the population against exposure and compliance with measures for recovery or disposal. Release is effected by notice in writing [strlschg_en_bf.pdf](path:strlschg_en_bf.pdf:0:103)."
      ],
      "text/plain": [
       "<IPython.core.display.Markdown object>"
      ]
     },
     "metadata": {},
     "output_type": "display_data"
    },
    {
     "name": "stdout",
     "output_type": "stream",
     "text": [
      "Time taken: 5.90 seconds\n",
      "________________________________\n"
     ]
    },
    {
     "data": {
      "text/markdown": [
       "#LLM: llama3.2"
      ],
      "text/plain": [
       "<IPython.core.display.Markdown object>"
      ]
     },
     "metadata": {},
     "output_type": "display_data"
    },
    {
     "data": {
      "text/markdown": [
       "The German Federal Ordinance on the Release from Monitoring Obligations for Residues (strlschg_en_bf.pdf) establishes procedures for the release of residues requiring monitoring from their monitoring obligations. According to Section 62, subsection 1, first sentence [Section 61(2)], a party under an obligation must declare its intention to recover or dispose of residues without undue delay, stating their nature, mass, and specific activity.\n",
       "\n",
       "The competent authority may release residues for recovery or disposal if the requisite protection of the population against exposure is ensured through measures in place (Section 62 subsection 1). Additionally, occupational workers' body doses during handling must not exceed levels categorizing them as occupationally exposed individuals. The envisaged method of recovery or disposal must comply with applicable law and regulations.\n",
       "\n",
       "Release from monitoring obligations shall be effected by notice in writing [Section 62(2)]. The criteria for public protection are set at an effective dose of no more than 1 mSv per calendar year, even without additional measures (Section 62 subsection 3)."
      ],
      "text/plain": [
       "<IPython.core.display.Markdown object>"
      ]
     },
     "metadata": {},
     "output_type": "display_data"
    },
    {
     "name": "stdout",
     "output_type": "stream",
     "text": [
      "Time taken: 3.20 seconds\n",
      "________________________________\n"
     ]
    },
    {
     "data": {
      "text/markdown": [
       "#LLM: gemma3:4b"
      ],
      "text/plain": [
       "<IPython.core.display.Markdown object>"
      ]
     },
     "metadata": {},
     "output_type": "display_data"
    },
    {
     "data": {
      "text/markdown": [
       "Disposal or recovery of residues must comply with a statutory ordinance [strlschg_en_bf.pdf:0:102] established with the consent of the Bundesrat, which includes monitoring limits and methods [strlschg_en_bf.pdf:0:102]. A maximum of three residues may not be mixed or diluted [strlschg_en_bf.pdf:0:102] prior to disposal or recovery [strlschg_en_bf.pdf:0:102]. Residues accumulated abroad and brought into Germany for recovery [strlschg_en_bf.pdf:0:102] must also comply with these regulations [strlschg_en_bf.pdf:0:102]. Parties subject to an obligation [strlschg_en_bf.pdf:0:102] must declare the storage of residues to the competent authority [strlschg_en_bf.pdf:0:103], stating their nature, mass, and specific activity [strlschg_en_bf.pdf:0:103]. The competent authority may release residues from monitoring if measures ensure population protection [strlschg_en_bf.pdf:0:103], occupational worker doses do not exceed specified levels [strlschg_en_bf.pdf:0:103], and the recovery or disposal method is legally permissible [strlschg_en_bf.pdf:0:103]."
      ],
      "text/plain": [
       "<IPython.core.display.Markdown object>"
      ]
     },
     "metadata": {},
     "output_type": "display_data"
    },
    {
     "name": "stdout",
     "output_type": "stream",
     "text": [
      "Time taken: 4.85 seconds\n",
      "________________________________\n"
     ]
    },
    {
     "data": {
      "text/markdown": [
       "#LLM: phi4-mini"
      ],
      "text/plain": [
       "<IPython.core.display.Markdown object>"
      ]
     },
     "metadata": {},
     "output_type": "display_data"
    },
    {
     "data": {
      "text/markdown": [
       "The provided documents outline the statutory regulations for monitoring and disposing residues, as well as cross-border transportation restrictions. The federal government is authorized to issue ordinances establishing recovery methods in compliance [Document 1](strlschg_en_bf.pdf:0). Residues accumulated may not be mixed or diluted before disposal; if stored on-site by obligated parties (subsection §61), they must declare storage and notify authorities of any cessation. Non-monitored residues can still require proof against monitoring limits, with the competent authority setting technical procedures [Document 1](strlschg_en_bf.pdf:0). Obligated entities are required to secure residue access prior disposal/recovery; cross-border transportation into Germany for this purpose is prohibited under §62 of section release. Parties must declare residues requiring oversight upon establishing their need (subsection §§61,63), with the competent authority releasing monitored substances from monitoring obligations if certain conditions regarding public protection and occupational exposure are met [Document 1](strlschg_en_bf.pdf:0)."
      ],
      "text/plain": [
       "<IPython.core.display.Markdown object>"
      ]
     },
     "metadata": {},
     "output_type": "display_data"
    },
    {
     "name": "stdout",
     "output_type": "stream",
     "text": [
      "Time taken: 3.13 seconds\n",
      "________________________________\n"
     ]
    },
    {
     "data": {
      "text/markdown": [
       "#LLM: mistral:instruct"
      ],
      "text/plain": [
       "<IPython.core.display.Markdown object>"
      ]
     },
     "metadata": {},
     "output_type": "display_data"
    },
    {
     "data": {
      "text/markdown": [
       "The provided documents outline regulations for the recovery and disposal of residues in Germany, as established by a statutory ordinance [strlschg_en_bf.pdf:0:102]. Key points include:\n",
       "    - Residues must comply with monitoring limits and methods of recovery or disposal [strlschg_en_bf.pdf:0:102]\n",
       "    - No mixing, dilution, or cross-border transportation is allowed before intended disposal or recovery [strlschg_en_bf.pdf:0:102]\n",
       "    - Parties subject to an obligation must declare storage of residues and ceasing storage to the competent authority [strlschg_en_bf.pdf:0:103]\n",
       "    - The competent authority may require compliance with monitoring limits for non-monitored residues [strlschg_en_bf.pdf:0:103]\n",
       "    - Residues must be secured against loss and unauthorized access before disposal or recovery [strlschg_en_bf.pdf:0:102]\n",
       "    - The party under an obligation must declare the intended recovery or disposal of residues to the competent authority without undue delay, stating their nature, mass, and specific activity [strlschg_en_bf.pdf:0:103]\n",
       "    - Release from monitoring may be granted for a particular recovery or disposal under certain conditions [strlschg_en_bf.pdf:0:103]\n",
       "    - The criteria for public protection are an effective dose of 1 msv in a given calendar year without additional measures [strlschg_en_bf.pdf:0:103]."
      ],
      "text/plain": [
       "<IPython.core.display.Markdown object>"
      ]
     },
     "metadata": {},
     "output_type": "display_data"
    },
    {
     "name": "stdout",
     "output_type": "stream",
     "text": [
      "Time taken: 5.23 seconds\n",
      "________________________________\n"
     ]
    },
    {
     "data": {
      "text/markdown": [
       "#LLM: mistrallite"
      ],
      "text/plain": [
       "<IPython.core.display.Markdown object>"
      ]
     },
     "metadata": {},
     "output_type": "display_data"
    },
    {
     "data": {
      "text/markdown": [
       "Summary of the documents provided:\n",
       "\n",
       "    - The first document outlines methods for recovery and disposal of residues in accordance with a statutory ordinance, including provisions on monitoring limits and methods. It also empowers the federal government to issue a statutory ordinance establishing these limits and methods.\n",
       "\n",
       "    - The second document provides additional details on the requirements for storage and transportation of residues, as well as procedures for declaring their intended recovery or disposal to the competent authority.\n",
       "\n",
       "    \n",
       "    Summary:\n",
       "\n",
       "    Under German law, certain residues must be monitored in accordance with a statutory ordinance. The federal government is empowered to issue an ordinance establishing monitoring limits and methods of recovery and disposal for these residues. Residues requiring monitoring may not be mixed or diluted prior to their intended disposal or recovery, and the party subject to an obligation in accordance with section 61 must declare said storage to the competent authority without undue delay if it ceases.\n",
       "\n",
       "    The competent authority is responsible for ensuring compliance with these requirements through technical procedures, measurement procedures, and other suitable measures. Additionally, the party under an obligation in accordance with section 61 may be required to prove that they are complying with monitoring limits and methods of recovery and disposal established by a statutory ordinance.\n",
       "\n",
       "    To prevent loss or access by unauthorised parties prior to their disposal or recovery, residues must be secured against such events. They may only be passed on to other party for the purpose of disposal or re­covery. The cross-border transportation of residues into Germany is prohibited for this purpose.\n",
       "\n",
       "    In cases where a declaration in accordance with section 61 subsection 1, first sentence must be made without undue delay by the party under an obligation to declare the intended recovery or disposal of the residues as soon as they have established that said residues require monitoring in accordance with section 61 subsection 2. However, this requirement may be dispensed with where notification is made in accordance with section 63 subsection 1 due to the nature and specific activity of the residues requiring monitoring.\n",
       "\n",
       "    The competent authority has the power to release residues from their monitoring obligation for a particular recovery or disposal if certain criteria are met, including ensuring protection of the public against exposure caused by these activities."
      ],
      "text/plain": [
       "<IPython.core.display.Markdown object>"
      ]
     },
     "metadata": {},
     "output_type": "display_data"
    },
    {
     "name": "stdout",
     "output_type": "stream",
     "text": [
      "Time taken: 7.09 seconds\n",
      "________________________________\n"
     ]
    },
    {
     "data": {
      "text/markdown": [
       "#LLM: mistral-small"
      ],
      "text/plain": [
       "<IPython.core.display.Markdown object>"
      ]
     },
     "metadata": {},
     "output_type": "display_data"
    },
    {
     "data": {
      "text/markdown": [
       "The statutory ordinance outlines specific methods for the recovery and disposal of residues, emphasizing compliance with monitoring limits. The federal government is authorized to issue regulations regarding these processes, which must be adhered to by parties responsible for residue management [strlschg_en_bf.pdf](strlschg_en_bf.pdf:0:102). Residues cannot be mixed or diluted before disposal to meet monitoring requirements and must be declared if stored on the premises of the obligated party. The competent authority can require proof of compliance for non-monitored residues, specifying technical procedures and measurement methods [strlschg_en_bf.pdf](strlschg_en_bf.pdf:0:102). Residues must be secured against loss or unauthorized access until disposal; cross-border transportation into Germany is prohibited. The party responsible for residue management must declare the intended recovery or disposal to authorities, detailing nature and activity of residues [strlschg_en_bf.pdf](strlschg_en_bf.pdf:0:103). Residues can be released from monitoring if specific safety criteria are met, including ensuring public protection against exposure. The effective dose for the general population should not exceed 1 mSv per year without additional measures [strlschg_en_bf.pdf](strlschg_en_bf.pdf:0:103)."
      ],
      "text/plain": [
       "<IPython.core.display.Markdown object>"
      ]
     },
     "metadata": {},
     "output_type": "display_data"
    },
    {
     "name": "stdout",
     "output_type": "stream",
     "text": [
      "Time taken: 15.47 seconds\n",
      "________________________________\n"
     ]
    },
    {
     "data": {
      "text/markdown": [
       "#LLM: deepseek-r1:70b"
      ],
      "text/plain": [
       "<IPython.core.display.Markdown object>"
      ]
     },
     "metadata": {},
     "output_type": "display_data"
    },
    {
     "data": {
      "text/markdown": [
       "The methods of recovery and disposal for residues are governed by statutory ordinances issued by the federal government with Bundesrat consent [Document Name](strlschg_en_bf.pdf:0:102). These regulations set monitoring limits and methods, ensuring compliance in residue handling. Residues must not be mixed or diluted before disposal to meet these standards, including those imported into Germany for recovery.\n",
       "\n",
       "Storage of monitored residues requires declaration to authorities without delay if storage ceases [Document Name](strlschg_en_bf.pdf:0:102). For non-monitored residues, proof of compliance with methods and technical procedures may be required by authorities. Residues must be secured against loss or unauthorized access before disposal/recovery.\n",
       "\n",
       "Cross-border transportation into Germany is prohibited under section 71 [Document Name](strlschg_en_bf.pdf:0:102).\n",
       "\n",
       "Parties obligated to declare recovery/disposal details include stating residue nature, mass, and specific activity once monitoring necessity is determined per Section 61 subsection 2. Declarations may be waived if notified under Section 63 subsection 1 due to residue characteristics [Document Name](strlschg_en_bf.pdf:0:103).\n",
       "\n",
       "Competent authorities can release residues from monitoring for recovery/disposal upon request, ensuring public exposure protection, worker safety within occupational limits, and legal compliance with waste laws. Release must be in writing.\n",
       "\n",
       "Public protection criteria ensure disposal/recovery doesn't exceed 1 mSv effective dose annually without additional measures [Document Name](strlschg_en_bf.pdf:0:103)."
      ],
      "text/plain": [
       "<IPython.core.display.Markdown object>"
      ]
     },
     "metadata": {},
     "output_type": "display_data"
    },
    {
     "name": "stdout",
     "output_type": "stream",
     "text": [
      "Time taken: 61.56 seconds\n",
      "________________________________\n"
     ]
    },
    {
     "data": {
      "text/markdown": [
       "#LLM: qwq"
      ],
      "text/plain": [
       "<IPython.core.display.Markdown object>"
      ]
     },
     "metadata": {},
     "output_type": "display_data"
    },
    {
     "data": {
      "text/markdown": [
       "<think>\n",
       "\n",
       "Okay, let's tackle this query. The user wants me to summarize the provided documents from \"strlschg_en_bf.pdf\" pages 102 and 103 while properly citing each piece of information.\n",
       "\n",
       "First, I need to read through both document contents carefully. Document one starts with methods for recovery/disposal set by a statutory ordinance under section 61. The federal government can establish monitoring limits and methods with the Bundesrat's consent [strlschg_en_bf.pdf]. It mentions that residues can't be mixed or diluted before disposal/recovery to meet those limits, including when brought into Germany from abroad [same source].\n",
       "\n",
       "Then there are requirements for declaring storage of monitored residues to authorities. The competent authority must be informed if storage stops. For non-monitored residues, the authority might still require proof of compliance with monitoring standards using specific procedures like measurement methods and technical steps [strlschg_en_bf.pdf]. \n",
       "\n",
       "Security measures against unauthorized access before disposal or recovery are mentioned too; only authorized parties can handle them. Also, cross-border transport into Germany for disposal is prohibited under section 61 subsection 7 [same source].\n",
       "\n",
       "Moving to the second document (page 103), it's about releasing residues from monitoring via declarations and releases by authorities. The obligated party must declare their recovery/disposal plans with details like nature, mass, specific activity unless covered in another notification per Section 63 [strlschg_en_bf.pdf]. \n",
       "\n",
       "The competent authority can release the residue if three conditions are met: public exposure protection (effective dose under 1 mSv), occupational worker doses within limits for exposed persons, and compliance with waste law. The criteria here include that without extra measures, the effective dose must stay below 1 millisievert [same source].\n",
       "\n",
       "I need to ensure each fact is cited correctly using the document's name and path as specified. Since both documents are from the same PDF but different pages, I should check if they have unique paths or not. The user provided metadata where \"name\" is doc.metadata['id'] which might be page numbers? Wait, looking back at the problem statement: \n",
       "\n",
       "The metadata includes 'source' for path and 'id', perhaps each document has a name like strlschg_en_bf.pdf with different IDs (like pages 102 and 103). But in both cases here, the Path is given as \"strlschg_en_bf.pdf\" but content from page 0:102 and 0:103. However, according to user's metadata example:\n",
       "\n",
       "The path is doc.metadata['source'], which for all documents provided seems to be strlschg_en_bf.pdf.\n",
       "\n",
       "Wait the first document has Path as \"strlschg_en_bf.pdf\" (from its metadata) but content from page 0:102. The second also same path, so perhaps each citation should just use [Document Name](document_path), which in both cases is strlschg_en_bf.pdf.\n",
       "\n",
       "Therefore every fact here comes from that single document's different sections/paragraphs. But the user might expect citations to note page numbers? However according to their instruction: \"the metadata includes name and path, so each citation should be [Document Name](document_path)\". Since both documents have same Path (strlschg_en_bf.pdf), but they are from pages 102-3.\n",
       "\n",
       "Wait looking at the content provided:\n",
       "\n",
       "First document's source is listed as strlschg_en_bf.pdf:0:102, so maybe in metadata['id'] it includes that. The user says \"name\": doc.metadata['id'], which for first would be 'strlschg_en_bf.pdf:0:102', and path same? Or perhaps the name is just strlschg_en_bf.pdf but with different IDs.\n",
       "\n",
       "Wait, according to the metadata example given by the system:\n",
       "\n",
       "The user provided that in their setup,\n",
       "\n",
       "the content comes from a document where \"metadata\" has 'name' as doc.metadata['id'] (which might be like page numbers or identifiers) and path is source. \n",
       "\n",
       "Looking at the first document's info: \n",
       "Source line says:\n",
       "Source: strlschg_en_bf.pdf:0:102\n",
       "Path: strlschg_en_bf.pdf\n",
       "\n",
       "So here, \"name\" would be 'strlschg_en_bf.pdf:0:102' and path is just the file. But in the second document:\n",
       "\n",
       "Second doc's source line:\n",
       "Source: strlschg_en_bf.pdf:0:103\n",
       "Path same.\n",
       "\n",
       "Therefore each citation should have [Document Name](document_path), where name includes page info, but according to user instruction, perhaps they want it as per metadata['name'] and path. So for the first document's content from 102:\n",
       "\n",
       "Citations would be like [strlschg_en_bf.pdf:0:102](strlschg_en_bf.pdf). But maybe in their setup, each citation is just using the file name without page numbers? The user might have intended that since both are same path but different sections. However to follow exactly as per metadata given:\n",
       "\n",
       "Each document's \"name\" includes :0:page_number so they should be cited with those names.\n",
       "\n",
       "Wait looking at how the problem presents it, in their example of providing documents, each has a Source line and Path line. The user says that when citing, use [Document Name](document_path). So for first doc:\n",
       "\n",
       "The name is \"strlschg_en_bf.pdf:0:102\" (from source field) but the path is just strlschg_en_bf.pdf.\n",
       "\n",
       "Wait perhaps I'm overcomplicating. The user might have intended that each citation should be [strlschg_en_bf.pdf](strlschg_en_bf.pdf), since both documents are from same file, and they don't require page numbers in citations unless specified. But according to the metadata example given by system:\n",
       "\n",
       "The name is doc.metadata['id'], which for first document would include :0:102 as part of its ID.\n",
       "\n",
       "Hmm this might be a confusion point. Let me check again user's instruction on how to cite:\n",
       "\n",
       "\"properly cites each piece using [Document Name](document_path), where Document Name and Path are derived from the metadata provided.\"\n",
       "\n",
       "So in their example, for first document:\n",
       "\n",
       "The name is \"strlschg_en_bf.pdf:0:102\", path is strlschg_en_bf.pdf.\n",
       "\n",
       "Therefore citations should be like [strlschg_en_bf.pdf:0:102](strlschg_en_bf.pdf). But that might look a bit messy. Alternatively, perhaps the user just wants to cite as \"strlschg_en_bf.pdf\" for all since they are from same file but different sections.\n",
       "\n",
       "Alternatively maybe each citation should note which section/page it's coming from? Since both documents (the two provided) come from pages 102 and 103 of that PDF. But the user hasn't specified to include page numbers in citations unless part of metadata name.\n",
       "\n",
       "Given the problem statement, I think we have to follow exactly as per their setup:\n",
       "\n",
       "Each document's \"name\" is given by doc.metadata['id'] which includes :0:page_number (like 102 or 103), and path is strlschg_en_bf.pdf. So each citation should be [strlschg_en_bf.pdf:0:102](...) for the first document's content, but since both documents are from same file with different pages, perhaps it's okay to just cite as \"strlschg_en_bf.pdf\" because that is their path.\n",
       "\n",
       "Wait looking at how user presented the two docs:\n",
       "\n",
       "First doc has Path strlschg_en_bf.pdf (same for second). The name includes page numbers but maybe in the final answer they want each citation to be [Document Name](document_path), so first document's content would have citations like [strlschg_en_bf.pdf:0:102](strlschg_en_bf.pdf) and similarly 103 for second. But that might not look clean, but perhaps necessary.\n",
       "\n",
       "Alternatively maybe the user just wants to cite all as strlschg_en_bf.pdf since they are from same file regardless of page numbers? The problem says \"properly cites each piece with proper citations\" so probably need to use their exact names (including pages) in the name part. \n",
       "\n",
       "Hmm, but given that both documents have different content sections and come from different parts of the PDF, it's better to include those identifiers.\n",
       "\n",
       "Wait let me look at how user presented them:\n",
       "\n",
       "The first document is labeled as \"strlschg_en_bf.pdf:0:102\" in Source line (name) with Path strlschg_en_bf.pdf. The second has :0:103. So each citation should reference the name including page number.\n",
       "\n",
       "Therefore, when summarizing content from both documents:\n",
       "\n",
       "For example, \"The federal government can establish monitoring limits...\" comes from first document's section 61 (page 102), so cite [strlschg_en_bf.pdf:0:102](...). \n",
       "\n",
       "Similarly for the second part about declarations and releases under Section 63 would be page 103, citing that name.\n",
       "\n",
       "But in practice writing this out might look like:\n",
       "\n",
       "[Document Name] is \"strlschg_en_bf.pdf:0:102\" so each citation should have both parts. However since they are from the same file but different sections (pages), it's important to distinguish them via their names including page numbers.\n",
       "\n",
       "Therefore, in my summary I need to make sure that every fact taken from first document is cited with :102 and second part with 103 as per their respective sources. \n",
       "\n",
       "Now proceeding step by step:\n",
       "\n",
       "First paragraph: The system allows the federal government... comes from section on page 102 (first doc). So citation [strlschg_en_bf.pdf:0:102](...)\n",
       "\n",
       "Second, when talking about declarations and releases under Section 63 would be second document's content (page 103), so cite that name.\n",
       "\n",
       "But in the problem statement, both documents are provided as separate entries. The user wants me to use their metadata for citations.\n",
       "\n",
       "Therefore I need to ensure each part of the summary is correctly attributed with its respective source page number via the names given."
      ],
      "text/plain": [
       "<IPython.core.display.Markdown object>"
      ]
     },
     "metadata": {},
     "output_type": "display_data"
    },
    {
     "name": "stdout",
     "output_type": "stream",
     "text": [
      "Time taken: 68.13 seconds\n",
      "________________________________\n"
     ]
    },
    {
     "data": {
      "text/markdown": [
       "#LLM: gemma3:27b"
      ],
      "text/plain": [
       "<IPython.core.display.Markdown object>"
      ]
     },
     "metadata": {},
     "output_type": "display_data"
    },
    {
     "data": {
      "text/markdown": [
       "Methods of recovery and disposal laid down by a statutory ordinance must be complied with when disposing of or recovering residues [strlschg_en_bf.pdf](strlschg_en_bf.pdf:0:102). The federal government is empowered to issue a statutory ordinance, with the consent of the Bundesrat, establishing monitoring limits and methods for residue recovery and disposal [strlschg_en_bf.pdf](strlschg_en_bf.pdf:0:102). Residues accumulated may not be mixed or diluted before disposal or recovery to meet monitoring limits [strlschg_en_bf.pdf](strlschg_en_bf.pdf:0:102). This applies to residues accumulated abroad and brought into Germany for recovery [strlschg_en_bf.pdf](strlschg_en_bf.pdf:0:102). If residues requiring monitoring are stored on the operating premises of the obligated party, this storage must be declared to the competent authority, and cessation of storage must be reported without undue delay [strlschg_en_bf.pdf](strlschg_en_bf.pdf:0:102). For residues not subject to monitoring requirements, the competent authority may require proof of compliance with monitoring limits and recovery/disposal methods [strlschg_en_bf.pdf](strlschg_en_bf.pdf:0:102). The obligated party must secure residues against loss and unauthorized access before disposal or recovery, and may only pass them on to other parties for these purposes [strlschg_en_bf.pdf](strlschg_en_bf.pdf:0:102). Cross-border transportation of residues into Germany for disposal is prohibited [strlschg_en_bf.pdf](strlschg_en_bf.pdf:0:102).\n",
       "\n",
       "The party obligated under section 61 subsection 1, first sentence, must declare the intended recovery or disposal of residues to the competent authority, stating their nature, mass, and specific activity, once it is determined they require monitoring [strlschg_en_bf.pdf](strlschg_en_bf.pdf:0:103). A declaration may be waived if notification is made under section 63 subsection 1 due to the nature and specific activity of the residues [strlschg_en_bf.pdf](strlschg_en_bf.pdf:0:103). The competent authority may release residues requiring monitoring from that obligation for a specific recovery or disposal if population protection is ensured, occupational worker body doses do not exceed permissible levels, and there are no objections under waste law [strlschg_en_bf.pdf](strlschg_en_bf.pdf:0:103). Release is effected via written notice [strlschg_en_bf.pdf](strlschg_en_bf.pdf:0:103). The criteria for public protection is an effective dose of 1 mSv in a given calendar year [strlschg_en_bf.pdf](strlschg_en_bf.pdf:0:103)."
      ],
      "text/plain": [
       "<IPython.core.display.Markdown object>"
      ]
     },
     "metadata": {},
     "output_type": "display_data"
    },
    {
     "name": "stdout",
     "output_type": "stream",
     "text": [
      "Time taken: 26.35 seconds\n",
      "________________________________\n"
     ]
    },
    {
     "data": {
      "text/markdown": [
       "#LLM: llama3.3"
      ],
      "text/plain": [
       "<IPython.core.display.Markdown object>"
      ]
     },
     "metadata": {},
     "output_type": "display_data"
    },
    {
     "data": {
      "text/markdown": [
       "The federal government is empowered to issue a statutory ordinance, with the consent of the Bundesrat, establishing monitoring limits and methods of recovery and disposal for residues [strlschg_en_bf.pdf](strlschg_en_bf.pdf:0:102). Residues accumulated may not be mixed or diluted prior to their intended disposal or recovery in order to satisfy the monitoring limits [strlschg_en_bf.pdf](strlschg_en_bf.pdf:0:102). The party subject to an obligation must declare storage of residues requiring monitoring to the competent authority and inform them without undue delay if such storage ceases [strlschg_en_bf.pdf](strlschg_en_bf.pdf:0:102). For those residues not subject to a monitoring requirement, the competent authority may require compliance with monitoring limits and methods of recovery and disposal [strlschg_en_bf.pdf](strlschg_en_bf.pdf:0:103). The cross-border transportation of residues into Germany for their disposal is prohibited [strlschg_en_bf.pdf](strlschg_en_bf.pdf:0:102). A party under an obligation must declare the intended recovery or disposal of residues to the competent authority, stating their nature, mass, and specific activity [strlschg_en_bf.pdf](strlschg_en_bf.pdf:0:103). The competent authority may release residues from monitoring for a particular recovery or disposal if certain conditions are met, including ensuring requisite protection of the population against exposure [strlschg_en_bf.pdf](strlschg_en_bf.pdf:0:103). The criteria for protecting the public include an effective dose of 1 mSv in a given calendar year as the constraint for exposure caused by disposal or recovery [strlschg_en_bf.pdf](strlschg_en_bf.pdf:0:103)."
      ],
      "text/plain": [
       "<IPython.core.display.Markdown object>"
      ]
     },
     "metadata": {},
     "output_type": "display_data"
    },
    {
     "name": "stdout",
     "output_type": "stream",
     "text": [
      "Time taken: 35.95 seconds\n",
      "________________________________\n"
     ]
    }
   ],
   "source": [
    "for model in models:\n",
    "    start_time = time.time()\n",
    "    summary = source_summarizer_Ollama(tr,model)\n",
    "    elapsed_time = time.time() - start_time\n",
    "    display(Markdown(f'#LLM: {model}'))\n",
    "    display(Markdown(summary['content']))\n",
    "    print(f'Time taken: {elapsed_time:.2f} seconds')\n",
    "    print('________________________________')"
   ]
  },
  {
   "cell_type": "code",
   "execution_count": 17,
   "metadata": {},
   "outputs": [
    {
     "name": "stderr",
     "output_type": "stream",
     "text": [
      "Some weights of BertModel were not initialized from the model checkpoint at jinaai/jina-embeddings-v2-base-de and are newly initialized: ['embeddings.position_embeddings.weight', 'encoder.layer.0.intermediate.dense.bias', 'encoder.layer.0.intermediate.dense.weight', 'encoder.layer.0.output.LayerNorm.bias', 'encoder.layer.0.output.LayerNorm.weight', 'encoder.layer.0.output.dense.bias', 'encoder.layer.0.output.dense.weight', 'encoder.layer.1.intermediate.dense.bias', 'encoder.layer.1.intermediate.dense.weight', 'encoder.layer.1.output.LayerNorm.bias', 'encoder.layer.1.output.LayerNorm.weight', 'encoder.layer.1.output.dense.bias', 'encoder.layer.1.output.dense.weight', 'encoder.layer.10.intermediate.dense.bias', 'encoder.layer.10.intermediate.dense.weight', 'encoder.layer.10.output.LayerNorm.bias', 'encoder.layer.10.output.LayerNorm.weight', 'encoder.layer.10.output.dense.bias', 'encoder.layer.10.output.dense.weight', 'encoder.layer.11.intermediate.dense.bias', 'encoder.layer.11.intermediate.dense.weight', 'encoder.layer.11.output.LayerNorm.bias', 'encoder.layer.11.output.LayerNorm.weight', 'encoder.layer.11.output.dense.bias', 'encoder.layer.11.output.dense.weight', 'encoder.layer.2.intermediate.dense.bias', 'encoder.layer.2.intermediate.dense.weight', 'encoder.layer.2.output.LayerNorm.bias', 'encoder.layer.2.output.LayerNorm.weight', 'encoder.layer.2.output.dense.bias', 'encoder.layer.2.output.dense.weight', 'encoder.layer.3.intermediate.dense.bias', 'encoder.layer.3.intermediate.dense.weight', 'encoder.layer.3.output.LayerNorm.bias', 'encoder.layer.3.output.LayerNorm.weight', 'encoder.layer.3.output.dense.bias', 'encoder.layer.3.output.dense.weight', 'encoder.layer.4.intermediate.dense.bias', 'encoder.layer.4.intermediate.dense.weight', 'encoder.layer.4.output.LayerNorm.bias', 'encoder.layer.4.output.LayerNorm.weight', 'encoder.layer.4.output.dense.bias', 'encoder.layer.4.output.dense.weight', 'encoder.layer.5.intermediate.dense.bias', 'encoder.layer.5.intermediate.dense.weight', 'encoder.layer.5.output.LayerNorm.bias', 'encoder.layer.5.output.LayerNorm.weight', 'encoder.layer.5.output.dense.bias', 'encoder.layer.5.output.dense.weight', 'encoder.layer.6.intermediate.dense.bias', 'encoder.layer.6.intermediate.dense.weight', 'encoder.layer.6.output.LayerNorm.bias', 'encoder.layer.6.output.LayerNorm.weight', 'encoder.layer.6.output.dense.bias', 'encoder.layer.6.output.dense.weight', 'encoder.layer.7.intermediate.dense.bias', 'encoder.layer.7.intermediate.dense.weight', 'encoder.layer.7.output.LayerNorm.bias', 'encoder.layer.7.output.LayerNorm.weight', 'encoder.layer.7.output.dense.bias', 'encoder.layer.7.output.dense.weight', 'encoder.layer.8.intermediate.dense.bias', 'encoder.layer.8.intermediate.dense.weight', 'encoder.layer.8.output.LayerNorm.bias', 'encoder.layer.8.output.LayerNorm.weight', 'encoder.layer.8.output.dense.bias', 'encoder.layer.8.output.dense.weight', 'encoder.layer.9.intermediate.dense.bias', 'encoder.layer.9.intermediate.dense.weight', 'encoder.layer.9.output.LayerNorm.bias', 'encoder.layer.9.output.LayerNorm.weight', 'encoder.layer.9.output.dense.bias', 'encoder.layer.9.output.dense.weight']\n",
      "You should probably TRAIN this model on a down-stream task to be able to use it for predictions and inference.\n"
     ]
    },
    {
     "name": "stdout",
     "output_type": "stream",
     "text": [
      "-------------------------\n",
      "Using embedding model: jinaai/jina-embeddings-v2-base-de\n",
      "client=SentenceTransformer(\n",
      "  (0): Transformer({'max_seq_length': 8192, 'do_lower_case': False}) with Transformer model: BertModel \n",
      "  (1): Pooling({'word_embedding_dimension': 768, 'pooling_mode_cls_token': False, 'pooling_mode_mean_tokens': True, 'pooling_mode_max_tokens': False, 'pooling_mode_mean_sqrt_len_tokens': False, 'pooling_mode_weightedmean_tokens': False, 'pooling_mode_lasttoken': False, 'include_prompt': True})\n",
      "  (2): Normalize()\n",
      ") model_name='jinaai/jina-embeddings-v2-base-de' cache_folder=None model_kwargs={'device': 'cpu'} encode_kwargs={} multi_process=False show_progress=False\n",
      "-------------------------\n"
     ]
    },
    {
     "data": {
      "text/plain": [
       "HuggingFaceEmbeddings(client=SentenceTransformer(\n",
       "  (0): Transformer({'max_seq_length': 8192, 'do_lower_case': False}) with Transformer model: BertModel \n",
       "  (1): Pooling({'word_embedding_dimension': 768, 'pooling_mode_cls_token': False, 'pooling_mode_mean_tokens': True, 'pooling_mode_max_tokens': False, 'pooling_mode_mean_sqrt_len_tokens': False, 'pooling_mode_weightedmean_tokens': False, 'pooling_mode_lasttoken': False, 'include_prompt': True})\n",
       "  (2): Normalize()\n",
       "), model_name='jinaai/jina-embeddings-v2-base-de', cache_folder=None, model_kwargs={'device': 'cpu'}, encode_kwargs={}, multi_process=False, show_progress=False)"
      ]
     },
     "execution_count": 17,
     "metadata": {},
     "output_type": "execute_result"
    }
   ],
   "source": [
    "get_embedding_model()"
   ]
  },
  {
   "cell_type": "code",
   "execution_count": null,
   "metadata": {},
   "outputs": [],
   "source": [
    "from langchain_ollama import ChatOllama\n",
    "from langchain_core.messages import SystemMessage, HumanMessage\n",
    "import re\n",
    "\n",
    "def source_summarizer_ChatOllama(context_documents, llm_model=\"deepseek-r1\"):\n",
    "    system_message = SUMMARIZER_SYSTEM_PROMPT\n",
    "\n",
    "    formatted_context = \"\\n\".join(\n",
    "        f\"Content: {doc['content']}\\nSource: {doc['metadata']['name']}\\nPath: {doc['metadata']['path']}\"\n",
    "        for doc in context_documents\n",
    "    )\n",
    "\n",
    "    prompt = f\"\"\"\n",
    "    Here are the documents to summarize:\n",
    "    \n",
    "    {formatted_context}\n",
    "    \n",
    "    Provide a concise summary with proper citations:\n",
    "    \"\"\"\n",
    "    \n",
    "    # Initialize ChatOllama with the specified model and temperature\n",
    "    llm = ChatOllama(model=llm_model, temperature=0.1)\n",
    "    \n",
    "    # Format messages for LangChain\n",
    "    messages = [\n",
    "        SystemMessage(content=system_message),\n",
    "        HumanMessage(content=prompt)\n",
    "    ]\n",
    "    \n",
    "    # Get response from the model\n",
    "    response = llm.invoke(messages)\n",
    "    \n",
    "    # Extract content from response\n",
    "    response_content = response.content\n",
    "    \n",
    "    # Clean markdown formatting if present\n",
    "    try:\n",
    "        final_content = re.sub(r\"<think>.*?</think>\", \"\", response_content, flags=re.DOTALL).strip()\n",
    "    except:\n",
    "        final_content = response_content.strip()\n",
    "\n",
    "    # Extract metadata from all documents\n",
    "    document_names = [doc['metadata']['name'] for doc in context_documents]\n",
    "    document_paths = [doc['metadata']['path'] for doc in context_documents]\n",
    "\n",
    "    return {\n",
    "        \"content\": final_content,\n",
    "        \"metadata\": {\n",
    "            \"name\": document_names,\n",
    "            \"path\": document_paths\n",
    "        }\n",
    "    }\n"
   ]
  },
  {
   "cell_type": "code",
   "execution_count": null,
   "metadata": {},
   "outputs": [],
   "source": [
    "for model in models:\n",
    "    start_time = time.time()\n",
    "    summary = source_summarizer_ChatOllama(tr,model)\n",
    "    elapsed_time = time.time() - start_time\n",
    "    display(Markdown(f'#LLM: {model}'))\n",
    "    display(Markdown(summary['content']))\n",
    "    print(f'Time taken: {elapsed_time:.2f} seconds')\n",
    "    print('________________________________')"
   ]
  }
 ],
 "metadata": {
  "kernelspec": {
   "display_name": "lrrd-venv",
   "language": "python",
   "name": "python3"
  },
  "language_info": {
   "codemirror_mode": {
    "name": "ipython",
    "version": 3
   },
   "file_extension": ".py",
   "mimetype": "text/x-python",
   "name": "python",
   "nbconvert_exporter": "python",
   "pygments_lexer": "ipython3",
   "version": "3.12.3"
  }
 },
 "nbformat": 4,
 "nbformat_minor": 2
}
