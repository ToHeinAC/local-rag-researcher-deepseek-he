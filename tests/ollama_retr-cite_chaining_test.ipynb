{
 "cells": [
  {
   "cell_type": "code",
   "execution_count": 1,
   "metadata": {},
   "outputs": [],
   "source": [
    "import sys, os\n",
    "sys.path.append(os.path.abspath(os.path.join(os.getcwd(), '..')))\n",
    "\n",
    "from src.assistant.rag_helpers import similarity_search_for_tenant\n",
    "from src.assistant.vector_db import get_embedding_model"
   ]
  },
  {
   "cell_type": "code",
   "execution_count": 2,
   "metadata": {},
   "outputs": [
    {
     "name": "stderr",
     "output_type": "stream",
     "text": [
      "/Users/tobiashein/dev/ai/langgraph/local-rag-researcher-deepseek-he/src/assistant/vector_db.py:11: LangChainDeprecationWarning: The class `HuggingFaceEmbeddings` was deprecated in LangChain 0.2.2 and will be removed in 1.0. An updated version of the class exists in the :class:`~langchain-huggingface package and should be used instead. To use it run `pip install -U :class:`~langchain-huggingface` and import as `from :class:`~langchain_huggingface import HuggingFaceEmbeddings``.\n",
      "  return HuggingFaceEmbeddings(model_kwargs={'device': 'cpu'})\n",
      "/Users/tobiashein/dev/ai/langgraph/local-rag-researcher-deepseek-he/src/assistant/vector_db.py:11: LangChainDeprecationWarning: Default values for HuggingFaceEmbeddings.model_name were deprecated in LangChain 0.2.16 and will be removed in 0.4.0. Explicitly pass a model_name to the HuggingFaceEmbeddings constructor instead.\n",
      "  return HuggingFaceEmbeddings(model_kwargs={'device': 'cpu'})\n",
      "/Users/tobiashein/dev/ai/langgraph/local-rag-researcher-deepseek-he/lrrd-venv/lib/python3.11/site-packages/tqdm/auto.py:21: TqdmWarning: IProgress not found. Please update jupyter and ipywidgets. See https://ipywidgets.readthedocs.io/en/stable/user_install.html\n",
      "  from .autonotebook import tqdm as notebook_tqdm\n",
      "/Users/tobiashein/dev/ai/langgraph/local-rag-researcher-deepseek-he/src/assistant/rag_helpers.py:91: LangChainDeprecationWarning: The class `Chroma` was deprecated in LangChain 0.2.9 and will be removed in 1.0. An updated version of the class exists in the :class:`~langchain-chroma package and should be used instead. To use it run `pip install -U :class:`~langchain-chroma` and import as `from :class:`~langchain_chroma import Chroma``.\n",
      "  vectorstore = Chroma(\n"
     ]
    },
    {
     "data": {
      "text/plain": [
       "[Document(metadata={'id': 'strlschg_en_bf.pdf:0:102', 'page': 0, 'source': 'strlschg_en_bf.pdf'}, page_content='methods of recovery and disposal laid down by a statutory ordinance in accordance with the second sentence are complied with in their disposal or recovery. the federal government is herewith empowered to issue a statutory ordinance, with the consent of the bundesrat, es\\xad tablishing the monitoring limits and methods of recovery and disposal to apply to residues. 3 residues accumulated may not be mixed or diluted prior to their intended disposal or recovery in order to satisfy the monitoring limits in accordance with subsection 2. the first sentence shall also apply to residues accumulated abroad and brought into germany for recovery. 4 if the residues requiring monitoring are stored on the operating premises of the par\\xad ty subject to an obligation in accordance with subsection 1, the latter must declare said storage to the competent authority. the competent authority shall be informed without undue delay if such storage ceases. 5 for those residues that are not subject to a monitoring requirement, the competent authority may require that compliance be proven with the monitoring limits and methods of recovery and disposal in accordance with a statutory ordinance in accordance with the sec\\xad ond sentence of subsection 2. to this end, the competent authority may lay down technical procedures, suitable measurement procedures and other requirements, in particular those covering the ascertainment of representative measurement values for the specific activity. 6 the party subject to an obligation in accordance with subsection 1 shall secure residues against loss and against access by unauthorised parties prior to their disposal or recovery. they may only be passed on to other party for the purpose of the disposal or re\\xad covery. 7 the crossborder transportation of residues into germany for their disposal is here\\xad 71 with prohibited. section 62 release of residues from monitoring empowerment to issue ordinances 1 the party under an obligation in accordance with section 61'),\n",
       " Document(metadata={'id': 'strlschg_en_bf.pdf:0:103', 'page': 0, 'source': 'strlschg_en_bf.pdf'}, page_content='by unauthorised parties prior to their disposal or recovery. they may only be passed on to other party for the purpose of the disposal or re\\xad covery. 7 the crossborder transportation of residues into germany for their disposal is here\\xad 71 with prohibited. section 62 release of residues from monitoring empowerment to issue ordinances 1 the party under an obligation in accordance with section 61 subsection 1, first sentence, must declare the intended recovery or disposal of the residues to the competent authority without undue delay, stating their nature, mass and specific activity, as soon as he or she has established that said residues require monitoring in accordance with section 61 subsection 2. a declaration in accordance with the first sentence above may be dispensed with where notification is made in accordance with section 63 subsection 1 due to the na\\xad ture and specific activity of the residues requiring monitoring. 2 at the request of the party under an obligation in accordance with section 61 sub\\xad section 1, first sentence, the competent authority shall release residues requiring monitor\\xad ing from that monitoring for the purpose of a particular recovery or disposal, where 1. the requisite protection of the population against exposure is ensured by means of the measures put in place for recovery or disposal, 2. the body dose of occupational workers in the course of disposal or recovery cannot ex\\xad ceed the levels for categorisation as an occupationallyexposed person, and 3. there are no reservations under the law on waste as to the permissibility of the envis\\xad aged method of recovery or disposal and as to whether it will be complied with. release from the monitoring obligation shall be effected by means of notice in writing. 3 the criteria for the protection of the public shall be that, as the constraint for the ex\\xad posure of members of the public caused by disposal or recovery, even without additional measures an effective dose of 1 msv in a given calendar')]"
      ]
     },
     "execution_count": 2,
     "metadata": {},
     "output_type": "execute_result"
    }
   ],
   "source": [
    "# Test query\n",
    "test_query = \"how to release residues from regulatory control\"\n",
    "\n",
    "# Get results\n",
    "results = similarity_search_for_tenant(\n",
    "    tenant_id=\"default\",\n",
    "    embed_llm=get_embedding_model(),\n",
    "    persist_directory=\"../database\",\n",
    "    similarity=\"cosine\",\n",
    "    normal=True,\n",
    "    query=test_query\n",
    ")\n",
    "\n",
    "# Print results\n",
    "results"
   ]
  },
  {
   "cell_type": "code",
   "execution_count": 3,
   "metadata": {},
   "outputs": [],
   "source": [
    "def transform_documents(documents):\n",
    "    \"\"\"\n",
    "    Transforms a list of Document objects into a specific dictionary format.\n",
    "    \n",
    "    Args:\n",
    "        documents (list): List of Document objects with metadata and page_content\n",
    "        \n",
    "    Returns:\n",
    "        list: List of dictionaries with content and metadata in the required format\n",
    "    \"\"\"\n",
    "    samples = []\n",
    "    \n",
    "    for doc in documents:\n",
    "        transformed_doc = {\n",
    "            \"content\": doc.page_content,\n",
    "            \"metadata\": {\n",
    "                \"name\": doc.metadata['id'],\n",
    "                \"path\": doc.metadata['source']\n",
    "            }\n",
    "        }\n",
    "        samples.append(transformed_doc)\n",
    "    \n",
    "    return samples"
   ]
  },
  {
   "cell_type": "code",
   "execution_count": 4,
   "metadata": {},
   "outputs": [
    {
     "data": {
      "text/plain": [
       "[{'content': 'methods of recovery and disposal laid down by a statutory ordinance in accordance with the second sentence are complied with in their disposal or recovery. the federal government is herewith empowered to issue a statutory ordinance, with the consent of the bundesrat, es\\xad tablishing the monitoring limits and methods of recovery and disposal to apply to residues. 3 residues accumulated may not be mixed or diluted prior to their intended disposal or recovery in order to satisfy the monitoring limits in accordance with subsection 2. the first sentence shall also apply to residues accumulated abroad and brought into germany for recovery. 4 if the residues requiring monitoring are stored on the operating premises of the par\\xad ty subject to an obligation in accordance with subsection 1, the latter must declare said storage to the competent authority. the competent authority shall be informed without undue delay if such storage ceases. 5 for those residues that are not subject to a monitoring requirement, the competent authority may require that compliance be proven with the monitoring limits and methods of recovery and disposal in accordance with a statutory ordinance in accordance with the sec\\xad ond sentence of subsection 2. to this end, the competent authority may lay down technical procedures, suitable measurement procedures and other requirements, in particular those covering the ascertainment of representative measurement values for the specific activity. 6 the party subject to an obligation in accordance with subsection 1 shall secure residues against loss and against access by unauthorised parties prior to their disposal or recovery. they may only be passed on to other party for the purpose of the disposal or re\\xad covery. 7 the crossborder transportation of residues into germany for their disposal is here\\xad 71 with prohibited. section 62 release of residues from monitoring empowerment to issue ordinances 1 the party under an obligation in accordance with section 61',\n",
       "  'metadata': {'name': 'strlschg_en_bf.pdf:0:102',\n",
       "   'path': 'strlschg_en_bf.pdf'}},\n",
       " {'content': 'by unauthorised parties prior to their disposal or recovery. they may only be passed on to other party for the purpose of the disposal or re\\xad covery. 7 the crossborder transportation of residues into germany for their disposal is here\\xad 71 with prohibited. section 62 release of residues from monitoring empowerment to issue ordinances 1 the party under an obligation in accordance with section 61 subsection 1, first sentence, must declare the intended recovery or disposal of the residues to the competent authority without undue delay, stating their nature, mass and specific activity, as soon as he or she has established that said residues require monitoring in accordance with section 61 subsection 2. a declaration in accordance with the first sentence above may be dispensed with where notification is made in accordance with section 63 subsection 1 due to the na\\xad ture and specific activity of the residues requiring monitoring. 2 at the request of the party under an obligation in accordance with section 61 sub\\xad section 1, first sentence, the competent authority shall release residues requiring monitor\\xad ing from that monitoring for the purpose of a particular recovery or disposal, where 1. the requisite protection of the population against exposure is ensured by means of the measures put in place for recovery or disposal, 2. the body dose of occupational workers in the course of disposal or recovery cannot ex\\xad ceed the levels for categorisation as an occupationallyexposed person, and 3. there are no reservations under the law on waste as to the permissibility of the envis\\xad aged method of recovery or disposal and as to whether it will be complied with. release from the monitoring obligation shall be effected by means of notice in writing. 3 the criteria for the protection of the public shall be that, as the constraint for the ex\\xad posure of members of the public caused by disposal or recovery, even without additional measures an effective dose of 1 msv in a given calendar',\n",
       "  'metadata': {'name': 'strlschg_en_bf.pdf:0:103',\n",
       "   'path': 'strlschg_en_bf.pdf'}}]"
      ]
     },
     "execution_count": 4,
     "metadata": {},
     "output_type": "execute_result"
    }
   ],
   "source": [
    "tr=transform_documents(results)\n",
    "tr"
   ]
  },
  {
   "cell_type": "code",
   "execution_count": 5,
   "metadata": {},
   "outputs": [],
   "source": [
    "import ollama\n",
    "import re\n",
    "from IPython.display import Markdown, display"
   ]
  },
  {
   "cell_type": "code",
   "execution_count": 6,
   "metadata": {},
   "outputs": [],
   "source": [
    "def source_summarizer(context_documents, llm_model=\"deepseek-r1\"):\n",
    "    system_message = \"\"\"\n",
    "    You are an expert summarizer working within a RAG system. Your task is to create a concise, accurate summary of the provided information while properly attributing all facts to their sources.\n",
    "\n",
    "    Guidelines:\n",
    "    - Create a clear, coherent summary limited to 3-5 sentences\n",
    "    - Focus on the most important facts and insights\n",
    "    - Maintain factual accuracy without adding new information\n",
    "    - Use neutral, professional language\n",
    "    - Cite EVERY piece of information using the format [Document Name](document_path)\n",
    "    - Place citations immediately after the relevant information\n",
    "    - Ensure each citation is correctly matched to its source\n",
    "    - Return only the plain text summary without markdown formatting\n",
    "    \"\"\"\n",
    "\n",
    "    formatted_context = \"\\n\".join(\n",
    "        f\"Content: {doc['content']}\\nSource: {doc['metadata']['name']}\\nPath: {doc['metadata']['path']}\"\n",
    "        for doc in context_documents\n",
    "    )\n",
    "\n",
    "    prompt = f\"\"\"\n",
    "    Here are the documents to summarize:\n",
    "    \n",
    "    {formatted_context}\n",
    "    \n",
    "    Provide a concise summary with proper citations:\n",
    "    \"\"\"\n",
    "    \n",
    "    response = ollama.chat(\n",
    "        model=llm_model,\n",
    "        messages=[\n",
    "            {\"role\": \"system\", \"content\": system_message},\n",
    "            {\"role\": \"user\", \"content\": prompt}\n",
    "        ]\n",
    "    )\n",
    "    \n",
    "    response_content = response[\"message\"][\"content\"]\n",
    "    \n",
    "    # Clean markdown formatting if present\n",
    "    try:\n",
    "        final_content = re.sub(r\"<think>.*?</think>\", \"\", response_content, flags=re.DOTALL).strip()\n",
    "    except:\n",
    "        final_content = response_content.strip()\n",
    "\n",
    "    # Extract metadata from all documents\n",
    "    document_names = [doc['metadata']['name'] for doc in context_documents]\n",
    "    document_paths = [doc['metadata']['path'] for doc in context_documents]\n",
    "\n",
    "    return {\n",
    "        \"content\": final_content,\n",
    "        \"metadata\": {\n",
    "            \"name\": document_names,\n",
    "            \"path\": document_paths\n",
    "        }\n",
    "    }"
   ]
  },
  {
   "cell_type": "code",
   "execution_count": 7,
   "metadata": {},
   "outputs": [
    {
     "data": {
      "text/plain": [
       "{'content': 'The first document outlines that residues must be disposed or recovered in accordance with monitoring limits (strlschg_en_bf.pdf:0:102). Residues cannot be mixed or diluted unless monitored, and storage declarations are required. Cross-border transportation of residues for disposal is prohibited.\\n\\nThe second document elaborates by stating that parties under an obligation must declare residue intent to the competent authority without undue delay (strlschg_en_bf.pdf:0:103). Release from monitoring can occur if population protection, worker exposure limits, and waste law compliance are met. Release requires written notice.',\n",
       " 'metadata': {'name': ['strlschg_en_bf.pdf:0:102', 'strlschg_en_bf.pdf:0:103'],\n",
       "  'path': ['strlschg_en_bf.pdf', 'strlschg_en_bf.pdf']}}"
      ]
     },
     "execution_count": 7,
     "metadata": {},
     "output_type": "execute_result"
    }
   ],
   "source": [
    "smry = source_summarizer(tr)\n",
    "smry"
   ]
  },
  {
   "cell_type": "code",
   "execution_count": 8,
   "metadata": {},
   "outputs": [
    {
     "data": {
      "text/markdown": [
       "The first document outlines that residues must be disposed or recovered in accordance with monitoring limits (strlschg_en_bf.pdf:0:102). Residues cannot be mixed or diluted unless monitored, and storage declarations are required. Cross-border transportation of residues for disposal is prohibited.\n",
       "\n",
       "The second document elaborates by stating that parties under an obligation must declare residue intent to the competent authority without undue delay (strlschg_en_bf.pdf:0:103). Release from monitoring can occur if population protection, worker exposure limits, and waste law compliance are met. Release requires written notice."
      ],
      "text/plain": [
       "<IPython.core.display.Markdown object>"
      ]
     },
     "metadata": {},
     "output_type": "display_data"
    }
   ],
   "source": [
    "display(Markdown(smry['content']))"
   ]
  },
  {
   "cell_type": "code",
   "execution_count": 9,
   "metadata": {},
   "outputs": [
    {
     "data": {
      "text/markdown": [
       "#LLM: deepseek-r1:latest"
      ],
      "text/plain": [
       "<IPython.core.display.Markdown object>"
      ]
     },
     "metadata": {},
     "output_type": "display_data"
    },
    {
     "data": {
      "text/markdown": [
       "The document outlines monitoring limits for residues in Germany, requiring them not to be mixed or diluted without authority notification. Residues must be declared for disposal or recovery if they require monitoring. Prohibitions on cross-border transportation are noted, with release conditions ensuring population protection, occupational worker exposure limits, and legal waste permissibility. Release is via written notice, adhering to public dose constraints.\n",
       "\n",
       "[Document Name](document_path)\n",
       "The document outlines monitoring limits for residues in Germany, requiring them not to be mixed or diluted without authority notification. Residues must be declared for disposal or recovery if they require monitoring. Prohibitions on cross-border transportation are noted, with release conditions ensuring population protection, occupational worker exposure limits, and legal waste permissibility. Release is via written notice, adhering to public dose constraints.\n",
       "\n",
       "[Document Name](document_path)\n",
       "The document outlines monitoring limits for residues in Germany, requiring them not to be mixed or diluted without authority notification. Residues must be declared for disposal or recovery if they require monitoring. Prohibitions on cross-border transportation are noted, with release conditions ensuring population protection, occupational worker exposure limits, and legal waste permissibility. Release is via written notice, adhering to public dose constraints.\n",
       "\n",
       "[Document Name](document_path)"
      ],
      "text/plain": [
       "<IPython.core.display.Markdown object>"
      ]
     },
     "metadata": {},
     "output_type": "display_data"
    },
    {
     "name": "stdout",
     "output_type": "stream",
     "text": [
      "Time taken: 25.16 seconds\n",
      "________________________________\n"
     ]
    },
    {
     "data": {
      "text/markdown": [
       "#LLM: llama3.1:8b-instruct-q4_0"
      ],
      "text/plain": [
       "<IPython.core.display.Markdown object>"
      ]
     },
     "metadata": {},
     "output_type": "display_data"
    },
    {
     "data": {
      "text/markdown": [
       "Residues requiring monitoring must be disposed of or recovered in accordance with statutory ordinances, and their disposal or recovery may not be mixed or diluted to meet monitoring limits (strlschg_en_bf.pdf:0:102). The party subject to an obligation must declare storage of such residues to the competent authority and secure them against loss and unauthorized access prior to disposal or recovery (strlschg_en_bf.pdf:0:103). Release from monitoring is permitted if certain criteria are met, including ensuring the protection of the population and compliance with waste law."
      ],
      "text/plain": [
       "<IPython.core.display.Markdown object>"
      ]
     },
     "metadata": {},
     "output_type": "display_data"
    },
    {
     "name": "stdout",
     "output_type": "stream",
     "text": [
      "Time taken: 14.54 seconds\n",
      "________________________________\n"
     ]
    },
    {
     "data": {
      "text/markdown": [
       "#LLM: llama3.2"
      ],
      "text/plain": [
       "<IPython.core.display.Markdown object>"
      ]
     },
     "metadata": {},
     "output_type": "display_data"
    },
    {
     "data": {
      "text/markdown": [
       "Here is a concise summary of the provided information:\n",
       "\n",
       "In accordance with the statute, residues requiring monitoring must be recovered or disposed of in accordance with established monitoring limits and methods [strlschg_en_bf.pdf:0:102]. The Federal Government can issue a statutory ordinance with the consent of the Bundesrat to establish these limits and methods. Residues accumulated abroad must be declared for recovery in Germany, and storage on operating premises requires notification to the competent authority [strlschg_en_bf.pdf:0:103]. Prior to disposal or recovery, residues must be secured against loss and unauthorized access, and only passed on to other parties for these purposes [strlschg_en_bf.pdf:0:102]. The cross-border transportation of residues is prohibited."
      ],
      "text/plain": [
       "<IPython.core.display.Markdown object>"
      ]
     },
     "metadata": {},
     "output_type": "display_data"
    },
    {
     "name": "stdout",
     "output_type": "stream",
     "text": [
      "Time taken: 8.91 seconds\n",
      "________________________________\n"
     ]
    },
    {
     "data": {
      "text/markdown": [
       "#LLM: gemma3:4b"
      ],
      "text/plain": [
       "<IPython.core.display.Markdown object>"
      ]
     },
     "metadata": {},
     "output_type": "display_data"
    },
    {
     "data": {
      "text/markdown": [
       "The federal government is authorized to establish monitoring limits and methods for residue recovery and disposal, requiring compliance with statutory ordinance [strlschg_en_bf.pdf:0:102]. Residues accumulated in excess of three may not be mixed or diluted prior to disposal, and parties subject to obligations must declare residue storage and cessation to the competent authority [strlschg_en_bf.pdf:0:103]. Furthermore, the competent authority can require proof of compliance with monitoring limits, including technical procedures and measurement requirements, to ensure public protection with an effective dose limit of 1 msv [strlschg_en_bf.pdf:0:103]."
      ],
      "text/plain": [
       "<IPython.core.display.Markdown object>"
      ]
     },
     "metadata": {},
     "output_type": "display_data"
    },
    {
     "name": "stdout",
     "output_type": "stream",
     "text": [
      "Time taken: 10.38 seconds\n",
      "________________________________\n"
     ]
    },
    {
     "data": {
      "text/markdown": [
       "#LLM: mistral:instruct"
      ],
      "text/plain": [
       "<IPython.core.display.Markdown object>"
      ]
     },
     "metadata": {},
     "output_type": "display_data"
    },
    {
     "data": {
      "text/markdown": [
       "Under the German Ordinance on Waste (strlschg\\_en\\_bf.pdf:0:102), the disposal or recovery of certain residues must comply with methods and monitoring limits established by statutory ordinances with Bundestrat consent [1]. Residues requiring monitoring cannot be mixed, diluted, or passed on for purposes other than disposal or recovery [1]. Operators subject to this obligation must declare storage to the competent authority and secure residues against loss and unauthorized access [1]. The competent authority may require compliance with monitoring limits for non-monitored residues [1]. Cross-border transportation of residues for disposal is prohibited [1]. Operators must declare intended recovery or disposal of monitored residues to the competent authority and may be released from monitoring for specific recoveries or disposals under certain conditions (strlschg\\_en\\_bf.pdf:0:103). Conditions include ensuring public protection against exposure, maintaining occupational worker body doses below categorical levels, and no reservations on the method of recovery or disposal [2].\n",
       "\n",
       "[1] strlschg_en_bf.pdf:0:102-102, 102-103\n",
       "[2] strlschg_en_bf.pdf:0:103, 103-105"
      ],
      "text/plain": [
       "<IPython.core.display.Markdown object>"
      ]
     },
     "metadata": {},
     "output_type": "display_data"
    },
    {
     "name": "stdout",
     "output_type": "stream",
     "text": [
      "Time taken: 25.64 seconds\n",
      "________________________________\n"
     ]
    },
    {
     "data": {
      "text/markdown": [
       "#LLM: mistrallite"
      ],
      "text/plain": [
       "<IPython.core.display.Markdown object>"
      ]
     },
     "metadata": {},
     "output_type": "display_data"
    },
    {
     "data": {
      "text/markdown": [
       "Under the Federal Immission Control Act (BImSchG), companies are required to comply with statutory ordinances on monitoring limits and methods of recovery and disposal for residues, issued by the federal government with the consent of the Bundesrat. These residues must not be mixed or diluted prior to their intended disposal or recovery. The party under an obligation in accordance with section 61 subsection 1 is responsible for securing residues against loss and access by unauthorised parties prior to their disposal or recovery. Cross-border transportation of residues into Germany for their disposal is prohibited.\n",
       "        The first sentence of section 61 applies not only to residues accumulated in Germany, but also to those brought into Germany from abroad for recovery. If the party under an obligation in accordance with section 61 subsection 1 has established that the residues require monitoring, they must declare their intended recovery or disposal without undue delay to the competent authority, stating their nature, mass and specific activity. A declaration may be dispensed with if notification is made in accordance with section 63 subsection 1 due to the nature and specific activity of the residues requiring monitoring.\n",
       "        At the request of the party under an obligation in accordance with section 61 subsection 1, first sentence, the competent authority shall release residues requiring monitoring from that monitoring for a particular recovery or disposal, provided that 1. the requisite protection of the population against exposure is ensured by means of the measures put in place for recovery or disposal, 2. the body dose of occupational workers in the course of disposal or recovery cannot exceed the levels for categorisation as an occupationally-exposed person, and 3. there are no reservations under the law on waste as to the permissibility of the envisaged method of recovery or disposal and whether it will be complied with. Release from the monitoring obligation is effected by means of notice in writing.\n",
       "        The criteria for protecting the public are that, as a constraint for the exposure of members of the public caused by disposal or recovery, even without additional measures an effective dose of 1 mSv in a given calendar week must not be exceeded."
      ],
      "text/plain": [
       "<IPython.core.display.Markdown object>"
      ]
     },
     "metadata": {},
     "output_type": "display_data"
    },
    {
     "name": "stdout",
     "output_type": "stream",
     "text": [
      "Time taken: 36.27 seconds\n",
      "________________________________\n"
     ]
    }
   ],
   "source": [
    "import time\n",
    "models = [\"deepseek-r1:1.5b\",\"deepseek-r1:latest\", \"llama3.1:8b-instruct-q4_0\", \"llama3.2\", \"gemma3:4b\", \"phi4-mini\", \"mistral:instruct\", \"mistrallite\"]\n",
    "\n",
    "for model in models:\n",
    "    start_time = time.time()\n",
    "    summary = source_summarizer(tr,model)\n",
    "    elapsed_time = time.time() - start_time\n",
    "    display(Markdown(f'#LLM: {model}'))\n",
    "    display(Markdown(summary['content']))\n",
    "    print(f'Time taken: {elapsed_time:.2f} seconds')\n",
    "    print('________________________________')"
   ]
  }
 ],
 "metadata": {
  "kernelspec": {
   "display_name": "lrrd-venv",
   "language": "python",
   "name": "python3"
  },
  "language_info": {
   "codemirror_mode": {
    "name": "ipython",
    "version": 3
   },
   "file_extension": ".py",
   "mimetype": "text/x-python",
   "name": "python",
   "nbconvert_exporter": "python",
   "pygments_lexer": "ipython3",
   "version": "3.11.11"
  }
 },
 "nbformat": 4,
 "nbformat_minor": 2
}
