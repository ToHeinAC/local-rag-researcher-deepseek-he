{
 "cells": [
  {
   "cell_type": "code",
   "execution_count": 1,
   "metadata": {},
   "outputs": [],
   "source": [
    "import sys, os\n",
    "sys.path.append(os.path.abspath(os.path.join(os.getcwd(), '..')))\n",
    "\n",
    "from src.assistant.rag_helpers import similarity_search_for_tenant\n",
    "from src.assistant.vector_db import get_embedding_model"
   ]
  },
  {
   "cell_type": "code",
   "execution_count": 2,
   "metadata": {},
   "outputs": [
    {
     "name": "stderr",
     "output_type": "stream",
     "text": [
      "/tmp/ipykernel_1467828/2424114893.py:11: LangChainDeprecationWarning: The class `HuggingFaceEmbeddings` was deprecated in LangChain 0.2.2 and will be removed in 1.0. An updated version of the class exists in the :class:`~langchain-huggingface package and should be used instead. To use it run `pip install -U :class:`~langchain-huggingface` and import as `from :class:`~langchain_huggingface import HuggingFaceEmbeddings``.\n",
      "  embed_llm=HuggingFaceEmbeddings(model_name='sentence-transformers/all-mpnet-base-v2', model_kwargs={'device': 'cpu'}),\n",
      "/home/he/ai/dev/langgraph/local-rag-researcher-deepseek-he/lrrd-venv/lib/python3.12/site-packages/tqdm/auto.py:21: TqdmWarning: IProgress not found. Please update jupyter and ipywidgets. See https://ipywidgets.readthedocs.io/en/stable/user_install.html\n",
      "  from .autonotebook import tqdm as notebook_tqdm\n"
     ]
    },
    {
     "name": "stdout",
     "output_type": "stream",
     "text": [
      "CUDA memory cache cleared\n"
     ]
    },
    {
     "name": "stderr",
     "output_type": "stream",
     "text": [
      "/home/he/ai/dev/langgraph/local-rag-researcher-deepseek-he/src/assistant/rag_helpers.py:91: LangChainDeprecationWarning: The class `Chroma` was deprecated in LangChain 0.2.9 and will be removed in 1.0. An updated version of the class exists in the :class:`~langchain-chroma package and should be used instead. To use it run `pip install -U :class:`~langchain-chroma` and import as `from :class:`~langchain_chroma import Chroma``.\n",
      "  vectorstore = Chroma(\n"
     ]
    },
    {
     "name": "stdout",
     "output_type": "stream",
     "text": [
      "CUDA memory cache cleared\n"
     ]
    },
    {
     "data": {
      "text/plain": [
       "[Document(metadata={'id': 'strlschg_en_bf.pdf:0:102', 'page': 0, 'path': 'files/strlschg_en_bf.pdf', 'source': 'strlschg_en_bf.pdf'}, page_content='methods of recovery and disposal laid down by a statutory ordinance in accordance with the second sentence are complied with in their disposal or recovery. the federal government is herewith empowered to issue a statutory ordinance, with the consent of the bundesrat, es\\xad tablishing the monitoring limits and methods of recovery and disposal to apply to residues. 3 residues accumulated may not be mixed or diluted prior to their intended disposal or recovery in order to satisfy the monitoring limits in accordance with subsection 2. the first sentence shall also apply to residues accumulated abroad and brought into germany for recovery. 4 if the residues requiring monitoring are stored on the operating premises of the par\\xad ty subject to an obligation in accordance with subsection 1, the latter must declare said storage to the competent authority. the competent authority shall be informed without undue delay if such storage ceases. 5 for those residues that are not subject to a monitoring requirement, the competent authority may require that compliance be proven with the monitoring limits and methods of recovery and disposal in accordance with a statutory ordinance in accordance with the sec\\xad ond sentence of subsection 2. to this end, the competent authority may lay down technical procedures, suitable measurement procedures and other requirements, in particular those covering the ascertainment of representative measurement values for the specific activity. 6 the party subject to an obligation in accordance with subsection 1 shall secure residues against loss and against access by unauthorised parties prior to their disposal or recovery. they may only be passed on to other party for the purpose of the disposal or re\\xad covery. 7 the crossborder transportation of residues into germany for their disposal is here\\xad 71 with prohibited. section 62 release of residues from monitoring empowerment to issue ordinances 1 the party under an obligation in accordance with section 61'),\n",
       " Document(metadata={'id': 'strlschg_en_bf.pdf:0:103', 'page': 0, 'path': 'files/strlschg_en_bf.pdf', 'source': 'strlschg_en_bf.pdf'}, page_content='by unauthorised parties prior to their disposal or recovery. they may only be passed on to other party for the purpose of the disposal or re\\xad covery. 7 the crossborder transportation of residues into germany for their disposal is here\\xad 71 with prohibited. section 62 release of residues from monitoring empowerment to issue ordinances 1 the party under an obligation in accordance with section 61 subsection 1, first sentence, must declare the intended recovery or disposal of the residues to the competent authority without undue delay, stating their nature, mass and specific activity, as soon as he or she has established that said residues require monitoring in accordance with section 61 subsection 2. a declaration in accordance with the first sentence above may be dispensed with where notification is made in accordance with section 63 subsection 1 due to the na\\xad ture and specific activity of the residues requiring monitoring. 2 at the request of the party under an obligation in accordance with section 61 sub\\xad section 1, first sentence, the competent authority shall release residues requiring monitor\\xad ing from that monitoring for the purpose of a particular recovery or disposal, where 1. the requisite protection of the population against exposure is ensured by means of the measures put in place for recovery or disposal, 2. the body dose of occupational workers in the course of disposal or recovery cannot ex\\xad ceed the levels for categorisation as an occupationallyexposed person, and 3. there are no reservations under the law on waste as to the permissibility of the envis\\xad aged method of recovery or disposal and as to whether it will be complied with. release from the monitoring obligation shall be effected by means of notice in writing. 3 the criteria for the protection of the public shall be that, as the constraint for the ex\\xad posure of members of the public caused by disposal or recovery, even without additional measures an effective dose of 1 msv in a given calendar')]"
      ]
     },
     "execution_count": 2,
     "metadata": {},
     "output_type": "execute_result"
    }
   ],
   "source": [
    "from langchain_community.embeddings import HuggingFaceEmbeddings\n",
    "\n",
    "# Test query\n",
    "test_query = \"how to release residues from regulatory control\"\n",
    "\n",
    "# Get results\n",
    "results = similarity_search_for_tenant(\n",
    "    tenant_id=\"default\",\n",
    "    #embed_llm=get_embedding_model().\n",
    "    #embed_llm=HuggingFaceEmbeddings(model_name='jinaai/jina-embeddings-v2-base-de', model_kwargs={'device': 'cpu'}),\n",
    "    embed_llm=HuggingFaceEmbeddings(model_name='sentence-transformers/all-mpnet-base-v2', model_kwargs={'device': 'cpu'}),\n",
    "    persist_directory=\"/home/he/ai/dev/langgraph/local-rag-researcher-deepseek-he/database/sentence-transformers--all-mpnet-base-v2\",\n",
    "    similarity=\"cosine\",\n",
    "    normal=True,\n",
    "    query=test_query\n",
    ")\n",
    "\n",
    "# Print results\n",
    "results"
   ]
  },
  {
   "cell_type": "code",
   "execution_count": 3,
   "metadata": {},
   "outputs": [
    {
     "name": "stderr",
     "output_type": "stream",
     "text": [
      "Some weights of BertModel were not initialized from the model checkpoint at jinaai/jina-embeddings-v2-base-de and are newly initialized: ['embeddings.position_embeddings.weight', 'encoder.layer.0.intermediate.dense.bias', 'encoder.layer.0.intermediate.dense.weight', 'encoder.layer.0.output.LayerNorm.bias', 'encoder.layer.0.output.LayerNorm.weight', 'encoder.layer.0.output.dense.bias', 'encoder.layer.0.output.dense.weight', 'encoder.layer.1.intermediate.dense.bias', 'encoder.layer.1.intermediate.dense.weight', 'encoder.layer.1.output.LayerNorm.bias', 'encoder.layer.1.output.LayerNorm.weight', 'encoder.layer.1.output.dense.bias', 'encoder.layer.1.output.dense.weight', 'encoder.layer.10.intermediate.dense.bias', 'encoder.layer.10.intermediate.dense.weight', 'encoder.layer.10.output.LayerNorm.bias', 'encoder.layer.10.output.LayerNorm.weight', 'encoder.layer.10.output.dense.bias', 'encoder.layer.10.output.dense.weight', 'encoder.layer.11.intermediate.dense.bias', 'encoder.layer.11.intermediate.dense.weight', 'encoder.layer.11.output.LayerNorm.bias', 'encoder.layer.11.output.LayerNorm.weight', 'encoder.layer.11.output.dense.bias', 'encoder.layer.11.output.dense.weight', 'encoder.layer.2.intermediate.dense.bias', 'encoder.layer.2.intermediate.dense.weight', 'encoder.layer.2.output.LayerNorm.bias', 'encoder.layer.2.output.LayerNorm.weight', 'encoder.layer.2.output.dense.bias', 'encoder.layer.2.output.dense.weight', 'encoder.layer.3.intermediate.dense.bias', 'encoder.layer.3.intermediate.dense.weight', 'encoder.layer.3.output.LayerNorm.bias', 'encoder.layer.3.output.LayerNorm.weight', 'encoder.layer.3.output.dense.bias', 'encoder.layer.3.output.dense.weight', 'encoder.layer.4.intermediate.dense.bias', 'encoder.layer.4.intermediate.dense.weight', 'encoder.layer.4.output.LayerNorm.bias', 'encoder.layer.4.output.LayerNorm.weight', 'encoder.layer.4.output.dense.bias', 'encoder.layer.4.output.dense.weight', 'encoder.layer.5.intermediate.dense.bias', 'encoder.layer.5.intermediate.dense.weight', 'encoder.layer.5.output.LayerNorm.bias', 'encoder.layer.5.output.LayerNorm.weight', 'encoder.layer.5.output.dense.bias', 'encoder.layer.5.output.dense.weight', 'encoder.layer.6.intermediate.dense.bias', 'encoder.layer.6.intermediate.dense.weight', 'encoder.layer.6.output.LayerNorm.bias', 'encoder.layer.6.output.LayerNorm.weight', 'encoder.layer.6.output.dense.bias', 'encoder.layer.6.output.dense.weight', 'encoder.layer.7.intermediate.dense.bias', 'encoder.layer.7.intermediate.dense.weight', 'encoder.layer.7.output.LayerNorm.bias', 'encoder.layer.7.output.LayerNorm.weight', 'encoder.layer.7.output.dense.bias', 'encoder.layer.7.output.dense.weight', 'encoder.layer.8.intermediate.dense.bias', 'encoder.layer.8.intermediate.dense.weight', 'encoder.layer.8.output.LayerNorm.bias', 'encoder.layer.8.output.LayerNorm.weight', 'encoder.layer.8.output.dense.bias', 'encoder.layer.8.output.dense.weight', 'encoder.layer.9.intermediate.dense.bias', 'encoder.layer.9.intermediate.dense.weight', 'encoder.layer.9.output.LayerNorm.bias', 'encoder.layer.9.output.LayerNorm.weight', 'encoder.layer.9.output.dense.bias', 'encoder.layer.9.output.dense.weight']\n",
      "You should probably TRAIN this model on a down-stream task to be able to use it for predictions and inference.\n"
     ]
    },
    {
     "name": "stdout",
     "output_type": "stream",
     "text": [
      "-------------------------\n",
      "Using embedding model: jinaai/jina-embeddings-v2-base-de\n",
      "client=SentenceTransformer(\n",
      "  (0): Transformer({'max_seq_length': 8192, 'do_lower_case': False}) with Transformer model: BertModel \n",
      "  (1): Pooling({'word_embedding_dimension': 768, 'pooling_mode_cls_token': False, 'pooling_mode_mean_tokens': True, 'pooling_mode_max_tokens': False, 'pooling_mode_mean_sqrt_len_tokens': False, 'pooling_mode_weightedmean_tokens': False, 'pooling_mode_lasttoken': False, 'include_prompt': True})\n",
      "  (2): Normalize()\n",
      ") model_name='jinaai/jina-embeddings-v2-base-de' cache_folder=None model_kwargs={'device': 'cpu'} encode_kwargs={} multi_process=False show_progress=False\n",
      "-------------------------\n"
     ]
    },
    {
     "data": {
      "text/plain": [
       "HuggingFaceEmbeddings(client=SentenceTransformer(\n",
       "  (0): Transformer({'max_seq_length': 8192, 'do_lower_case': False}) with Transformer model: BertModel \n",
       "  (1): Pooling({'word_embedding_dimension': 768, 'pooling_mode_cls_token': False, 'pooling_mode_mean_tokens': True, 'pooling_mode_max_tokens': False, 'pooling_mode_mean_sqrt_len_tokens': False, 'pooling_mode_weightedmean_tokens': False, 'pooling_mode_lasttoken': False, 'include_prompt': True})\n",
       "  (2): Normalize()\n",
       "), model_name='jinaai/jina-embeddings-v2-base-de', cache_folder=None, model_kwargs={'device': 'cpu'}, encode_kwargs={}, multi_process=False, show_progress=False)"
      ]
     },
     "execution_count": 3,
     "metadata": {},
     "output_type": "execute_result"
    }
   ],
   "source": [
    "get_embedding_model()"
   ]
  },
  {
   "cell_type": "code",
   "execution_count": 4,
   "metadata": {},
   "outputs": [],
   "source": [
    "#from langchain_community.embeddings import HuggingFaceEmbeddings\n",
    "#HuggingFaceEmbeddings(model_name='jinaai/jina-embeddings-v2-base-de', model_kwargs={'device': 'cpu'})"
   ]
  },
  {
   "cell_type": "code",
   "execution_count": 5,
   "metadata": {},
   "outputs": [
    {
     "name": "stdout",
     "output_type": "stream",
     "text": [
      "models--jinaai--jina-embeddings-v2-base-de\t  version.txt\n",
      "models--sentence-transformers--all-mpnet-base-v2\n"
     ]
    },
    {
     "name": "stderr",
     "output_type": "stream",
     "text": [
      "huggingface/tokenizers: The current process just got forked, after parallelism has already been used. Disabling parallelism to avoid deadlocks...\n",
      "To disable this warning, you can either:\n",
      "\t- Avoid using `tokenizers` before the fork if possible\n",
      "\t- Explicitly set the environment variable TOKENIZERS_PARALLELISM=(true | false)\n"
     ]
    }
   ],
   "source": [
    "!ls /home/he/.cache/huggingface/hub/"
   ]
  },
  {
   "cell_type": "code",
   "execution_count": 6,
   "metadata": {},
   "outputs": [],
   "source": [
    "#from langchain_community.embeddings import HuggingFaceEmbeddings\n",
    "#HuggingFaceEmbeddings(model_name='jinaai/jina-embeddings-v2-base-de', model_kwargs={'device': 'cpu'})"
   ]
  },
  {
   "cell_type": "code",
   "execution_count": 7,
   "metadata": {},
   "outputs": [],
   "source": [
    "def transform_documents(documents):\n",
    "    \"\"\"\n",
    "    Transforms a list of Document objects into a specific dictionary format.\n",
    "    \n",
    "    Args:\n",
    "        documents (list): List of Document objects with metadata and page_content\n",
    "        \n",
    "    Returns:\n",
    "        list: List of dictionaries with content and metadata in the required format\n",
    "    \"\"\"\n",
    "    samples = []\n",
    "    \n",
    "    for doc in documents:\n",
    "        transformed_doc = {\n",
    "            \"content\": doc.page_content,\n",
    "            \"metadata\": {\n",
    "                \"name\": doc.metadata['id'],\n",
    "                \"path\": doc.metadata['source']\n",
    "            }\n",
    "        }\n",
    "        samples.append(transformed_doc)\n",
    "    \n",
    "    return samples"
   ]
  },
  {
   "cell_type": "code",
   "execution_count": 8,
   "metadata": {},
   "outputs": [
    {
     "data": {
      "text/plain": [
       "[{'content': 'methods of recovery and disposal laid down by a statutory ordinance in accordance with the second sentence are complied with in their disposal or recovery. the federal government is herewith empowered to issue a statutory ordinance, with the consent of the bundesrat, es\\xad tablishing the monitoring limits and methods of recovery and disposal to apply to residues. 3 residues accumulated may not be mixed or diluted prior to their intended disposal or recovery in order to satisfy the monitoring limits in accordance with subsection 2. the first sentence shall also apply to residues accumulated abroad and brought into germany for recovery. 4 if the residues requiring monitoring are stored on the operating premises of the par\\xad ty subject to an obligation in accordance with subsection 1, the latter must declare said storage to the competent authority. the competent authority shall be informed without undue delay if such storage ceases. 5 for those residues that are not subject to a monitoring requirement, the competent authority may require that compliance be proven with the monitoring limits and methods of recovery and disposal in accordance with a statutory ordinance in accordance with the sec\\xad ond sentence of subsection 2. to this end, the competent authority may lay down technical procedures, suitable measurement procedures and other requirements, in particular those covering the ascertainment of representative measurement values for the specific activity. 6 the party subject to an obligation in accordance with subsection 1 shall secure residues against loss and against access by unauthorised parties prior to their disposal or recovery. they may only be passed on to other party for the purpose of the disposal or re\\xad covery. 7 the crossborder transportation of residues into germany for their disposal is here\\xad 71 with prohibited. section 62 release of residues from monitoring empowerment to issue ordinances 1 the party under an obligation in accordance with section 61',\n",
       "  'metadata': {'name': 'strlschg_en_bf.pdf:0:102',\n",
       "   'path': 'strlschg_en_bf.pdf'}},\n",
       " {'content': 'by unauthorised parties prior to their disposal or recovery. they may only be passed on to other party for the purpose of the disposal or re\\xad covery. 7 the crossborder transportation of residues into germany for their disposal is here\\xad 71 with prohibited. section 62 release of residues from monitoring empowerment to issue ordinances 1 the party under an obligation in accordance with section 61 subsection 1, first sentence, must declare the intended recovery or disposal of the residues to the competent authority without undue delay, stating their nature, mass and specific activity, as soon as he or she has established that said residues require monitoring in accordance with section 61 subsection 2. a declaration in accordance with the first sentence above may be dispensed with where notification is made in accordance with section 63 subsection 1 due to the na\\xad ture and specific activity of the residues requiring monitoring. 2 at the request of the party under an obligation in accordance with section 61 sub\\xad section 1, first sentence, the competent authority shall release residues requiring monitor\\xad ing from that monitoring for the purpose of a particular recovery or disposal, where 1. the requisite protection of the population against exposure is ensured by means of the measures put in place for recovery or disposal, 2. the body dose of occupational workers in the course of disposal or recovery cannot ex\\xad ceed the levels for categorisation as an occupationallyexposed person, and 3. there are no reservations under the law on waste as to the permissibility of the envis\\xad aged method of recovery or disposal and as to whether it will be complied with. release from the monitoring obligation shall be effected by means of notice in writing. 3 the criteria for the protection of the public shall be that, as the constraint for the ex\\xad posure of members of the public caused by disposal or recovery, even without additional measures an effective dose of 1 msv in a given calendar',\n",
       "  'metadata': {'name': 'strlschg_en_bf.pdf:0:103',\n",
       "   'path': 'strlschg_en_bf.pdf'}}]"
      ]
     },
     "execution_count": 8,
     "metadata": {},
     "output_type": "execute_result"
    }
   ],
   "source": [
    "tr=transform_documents(results)\n",
    "tr"
   ]
  },
  {
   "cell_type": "code",
   "execution_count": 9,
   "metadata": {},
   "outputs": [],
   "source": [
    "SUMMARIZER_SYSTEM_PROMPT = \"\"\"\n",
    "    You are an expert summarizer working within a RAG system. Your task is to create a comprehensive, accurate summary of the provided information while properly attributing all facts to their sources.\n",
    "\n",
    "    Guidelines:\n",
    "    - Create a clear, coherent summary using neutral and professional language\n",
    "    - Focus on the most important facts and insights\n",
    "    - Maintain factual accuracy without adding new information\n",
    "    - Maintain exact figures, data points, sections and paragraphs\n",
    "    - Cite EVERY piece of information using the format [Document Name](document_path)\n",
    "    - Place citations immediately after the relevant information\n",
    "    - Ensure each citation is correctly matched to its source\n",
    "    - Return only the plain text summary without any reliminary remarks and without markdown formatting\n",
    "\n",
    "    Important: The citation information [Document Name](document_path) is stored in a dict and provided within the 'metadata'\n",
    "    {{\n",
    "    \"content\": doc.page_content,\n",
    "    \"metadata\": {\n",
    "        \"name\": doc.metadata['id'],\n",
    "        \"path\": doc.metadata['source']\n",
    "    }}\n",
    "    \"\"\""
   ]
  },
  {
   "cell_type": "code",
   "execution_count": 10,
   "metadata": {},
   "outputs": [],
   "source": [
    "import ollama\n",
    "import re\n",
    "from IPython.display import Markdown, display"
   ]
  },
  {
   "cell_type": "code",
   "execution_count": 11,
   "metadata": {},
   "outputs": [],
   "source": [
    "def source_summarizer(query, context_documents, llm_model=\"deepseek-r1\"):\n",
    "    system_message = SUMMARIZER_SYSTEM_PROMPT\n",
    "\n",
    "    formatted_context = \"\\n\".join(\n",
    "        f\"Content: {doc['content']}\\nSource: {doc['metadata']['name']}\\nPath: {doc['metadata']['path']}\"\n",
    "        for doc in context_documents\n",
    "    )\n",
    "\n",
    "    prompt = f\"\"\"\n",
    "    Based on the user's query\n",
    "\n",
    "    {query}\n",
    "\n",
    "    , here are the documents to summarize:\n",
    "    \n",
    "    {formatted_context}\n",
    "    \n",
    "    Provide a deep summary with proper citations:\n",
    "    \"\"\"\n",
    "    \n",
    "    response = ollama.chat(\n",
    "        model=llm_model,\n",
    "        messages=[\n",
    "            {\"role\": \"system\", \"content\": system_message},\n",
    "            {\"role\": \"user\", \"content\": prompt}\n",
    "        ]\n",
    "    )\n",
    "    \n",
    "    response_content = response[\"message\"][\"content\"]\n",
    "    \n",
    "    # Clean markdown formatting if present\n",
    "    try:\n",
    "        final_content = re.sub(r\"<think>.*?</think>\", \"\", response_content, flags=re.DOTALL).strip()\n",
    "    except:\n",
    "        final_content = response_content.strip()\n",
    "\n",
    "    # Extract metadata from all documents\n",
    "    document_names = [doc['metadata']['name'] for doc in context_documents]\n",
    "    document_paths = [doc['metadata']['path'] for doc in context_documents]\n",
    "\n",
    "    return {\n",
    "        \"content\": final_content,\n",
    "        \"metadata\": {\n",
    "            \"name\": document_names,\n",
    "            \"path\": document_paths\n",
    "        }\n",
    "    }"
   ]
  },
  {
   "cell_type": "code",
   "execution_count": 12,
   "metadata": {},
   "outputs": [
    {
     "data": {
      "text/plain": [
       "{'content': \"Based on the provided documents, here is a comprehensive and accurate summary focusing on the key aspects of releasing residues under regulatory control:\\n\\n1. **Monitoring and Ordinance Powers**:  \\n   The federal government is empowered through a statutory ordinance to establish monitoring limits and methods for residue recovery or disposal, with consent from the Bundesrat (German Parliament). Residues accumulated up to three units must not be mixed or diluted before disposal to meet these limits.\\n\\n2. **Storage Requirements**:  \\n   Residues accumulated on a party's premises that are subject to monitoring must be declared to the competent authority. Prompt notification is required if storage ceases. For non-monitored residues, compliance with monitoring limits and methods may be enforced through technical procedures, measurement requirements, and representative value assessments.\\n\\n3. **Crossborder Transportation**:  \\n   Cross-border transportation of residues into Germany for disposal is prohibited under section 71 of the referenced document.\\n\\n4. **Release Criteria**:  \\n   Release from monitoring obligations can occur if:\\n   - Population exposure risks are mitigated.\\n   - Occupational worker body doses do not exceed categorization limits.\\n   - Methods comply with waste laws and are expected to be followed.\\n\\nThis summary adheres to the documents' content, ensuring proper attribution and maintaining clarity while focusing on essential facts.\",\n",
       " 'metadata': {'name': ['strlschg_en_bf.pdf:0:102', 'strlschg_en_bf.pdf:0:103'],\n",
       "  'path': ['strlschg_en_bf.pdf', 'strlschg_en_bf.pdf']}}"
      ]
     },
     "execution_count": 12,
     "metadata": {},
     "output_type": "execute_result"
    }
   ],
   "source": [
    "smry = source_summarizer('',tr)\n",
    "smry"
   ]
  },
  {
   "cell_type": "code",
   "execution_count": 13,
   "metadata": {},
   "outputs": [
    {
     "data": {
      "text/markdown": [
       "Based on the provided documents, here is a comprehensive and accurate summary focusing on the key aspects of releasing residues under regulatory control:\n",
       "\n",
       "1. **Monitoring and Ordinance Powers**:  \n",
       "   The federal government is empowered through a statutory ordinance to establish monitoring limits and methods for residue recovery or disposal, with consent from the Bundesrat (German Parliament). Residues accumulated up to three units must not be mixed or diluted before disposal to meet these limits.\n",
       "\n",
       "2. **Storage Requirements**:  \n",
       "   Residues accumulated on a party's premises that are subject to monitoring must be declared to the competent authority. Prompt notification is required if storage ceases. For non-monitored residues, compliance with monitoring limits and methods may be enforced through technical procedures, measurement requirements, and representative value assessments.\n",
       "\n",
       "3. **Crossborder Transportation**:  \n",
       "   Cross-border transportation of residues into Germany for disposal is prohibited under section 71 of the referenced document.\n",
       "\n",
       "4. **Release Criteria**:  \n",
       "   Release from monitoring obligations can occur if:\n",
       "   - Population exposure risks are mitigated.\n",
       "   - Occupational worker body doses do not exceed categorization limits.\n",
       "   - Methods comply with waste laws and are expected to be followed.\n",
       "\n",
       "This summary adheres to the documents' content, ensuring proper attribution and maintaining clarity while focusing on essential facts."
      ],
      "text/plain": [
       "<IPython.core.display.Markdown object>"
      ]
     },
     "metadata": {},
     "output_type": "display_data"
    }
   ],
   "source": [
    "display(Markdown(smry['content']))"
   ]
  },
  {
   "cell_type": "code",
   "execution_count": 14,
   "metadata": {},
   "outputs": [
    {
     "data": {
      "text/markdown": [
       "#LLM: deepseek-r1:1.5b"
      ],
      "text/plain": [
       "<IPython.core.display.Markdown object>"
      ]
     },
     "metadata": {},
     "output_type": "display_data"
    },
    {
     "data": {
      "text/markdown": [
       "Residues, which can contaminate food products without degrading themselves, must be managed carefully to ensure compliance with regulatory controls. Here's a structured summary of how residues are released from regulatory control:\n",
       "\n",
       "1. **Compliance with Monitoring Limits**:\n",
       "   - Residues accumulated within specified periods or processed abroad after meeting thresholds must adhere to monitoring limits.\n",
       "   - This ensures timely and accurate compliance, preventing issues through incorrect processing.\n",
       "\n",
       "2. **Storage and Release**:\n",
       "   - Proper storage conditions are essential to prevent contamination. Storage should be done without dilution to maintain the integrity of residues.\n",
       "   - Residues can only be passed on to other parties for disposal, ensuring responsible handling and preventing accidental release vehicles.\n",
       "\n",
       "3. **Release from Monitoring Empowerment**:\n",
       "   - Release from monitoring empowering requires timely notifications to authorities upon cessation of residue processing. This ensures immediate compliance with regulatory limits and public health constraints.\n",
       "   - Ensures that even after additional measures, residues remain compliant and safe for disposal.\n",
       "\n",
       "4. **Public Exposure Constraints**:\n",
       "   - Even without extra measures, certain residues must cause an effective dose of 1 msv within the calendar year. This safeguards public health while adhering to regulatory limits.\n",
       "\n",
       "5. ** enforcement and Penalties**:\n",
       "   - Regular testing and timely reporting are required to enforce these regulations.\n",
       "   - Penalties for non-compliance, such as fines or stricter limits on release, ensure accountability and promote adherence.\n",
       "\n",
       "In summary, residues require a combination of monitoring, proper storage, controlled release, and regular reporting. This ensures that all residues meet regulatory requirements while safeguarding public health."
      ],
      "text/plain": [
       "<IPython.core.display.Markdown object>"
      ]
     },
     "metadata": {},
     "output_type": "display_data"
    },
    {
     "name": "stdout",
     "output_type": "stream",
     "text": [
      "Time taken: 3.06 seconds\n",
      "________________________________\n"
     ]
    },
    {
     "data": {
      "text/markdown": [
       "#LLM: deepseek-r1:latest"
      ],
      "text/plain": [
       "<IPython.core.display.Markdown object>"
      ]
     },
     "metadata": {},
     "output_type": "display_data"
    },
    {
     "data": {
      "text/markdown": [
       "Based on the provided documents, here is a comprehensive and accurate summary:\n",
       "\n",
       "The German federal government has been empowered by a statutory ordinance to establish monitoring limits and methods for the recovery and disposal of residues. Residues accumulated beyond three units cannot be mixed or diluted prior to their intended disposal or recovery, even if they are brought into Germany from abroad [1](https://source: strlschg_en_bf.pdf:0:102). Storage obligations require the relevant party to inform competent authorities without undue delay, and such storage must cease notification immediately if it ceases [1]. For residues not subject to monitoring requirements, compliance with the set limits and disposal methods can be proven through statutory regulations or technical procedures established by the competent authority [1].\n",
       "\n",
       "The release of residues from monitoring obligations is permissible under specific conditions:  \n",
       "- The release ensures protection against exposure for the general public.  \n",
       "- The body dose of occupational workers during disposal or recovery does not exceed categorically exposed worker limits.  \n",
       "- There are no legal restrictions on waste, making the chosen method of disposal or recovery compliant [2](https://source: strlschg_en_bf.pdf:0:103).  \n",
       "\n",
       "Such releases must be communicated in writing and adhere to criteria ensuring public protection while allowing for a safe and lawful disposal process."
      ],
      "text/plain": [
       "<IPython.core.display.Markdown object>"
      ]
     },
     "metadata": {},
     "output_type": "display_data"
    },
    {
     "name": "stdout",
     "output_type": "stream",
     "text": [
      "Time taken: 4.66 seconds\n",
      "________________________________\n"
     ]
    },
    {
     "data": {
      "text/markdown": [
       "#LLM: llama3.1:8b-instruct-q4_0"
      ],
      "text/plain": [
       "<IPython.core.display.Markdown object>"
      ]
     },
     "metadata": {},
     "output_type": "display_data"
    },
    {
     "data": {
      "text/markdown": [
       "To release residues from regulatory control, the party under an obligation must declare their intended recovery or disposal to the competent authority without undue delay, stating the nature, mass, and specific activity of the residues (Section 62, strlschg_en_bf.pdf:0:103). This declaration may be dispensed with if notification is made in accordance with Section 63 subsection 1 due to the nature and specific activity of the residues requiring monitoring.\n",
       "\n",
       "The competent authority shall release residues requiring monitoring from that monitoring for the purpose of a particular recovery or disposal, where:\n",
       "\n",
       "* The requisite protection of the population against exposure is ensured by means of the measures put in place for recovery or disposal (Section 62, strlschg_en_bf.pdf:0:103).\n",
       "* The body dose of occupational workers in the course of disposal or recovery cannot exceed the levels for categorization as an occupationally-exposed person.\n",
       "* There are no reservations under the law on waste as to the permissibility of the envisaged method of recovery or disposal and as to whether it will be complied with.\n",
       "\n",
       "Release from the monitoring obligation shall be effected by means of notice in writing (Section 62, strlschg_en_bf.pdf:0:103). The criteria for the protection of the public shall be that, as the constraint for the exposure of members of the public caused by disposal or recovery, even without additional measures an effective dose of 1 mSv in a given calendar year does not exceed (Section 62, strlschg_en_bf.pdf:0:103).\n",
       "\n",
       "It is also stated that residues accumulated may not be mixed or diluted prior to their intended disposal or recovery in order to satisfy the monitoring limits (Section 3, strlschg_en_bf.pdf:0:102). The party subject to an obligation must secure residues against loss and against access by unauthorized parties prior to their disposal or recovery (Section 6, strlschg_en_bf.pdf:0:102)."
      ],
      "text/plain": [
       "<IPython.core.display.Markdown object>"
      ]
     },
     "metadata": {},
     "output_type": "display_data"
    },
    {
     "name": "stdout",
     "output_type": "stream",
     "text": [
      "Time taken: 5.10 seconds\n",
      "________________________________\n"
     ]
    },
    {
     "data": {
      "text/markdown": [
       "#LLM: llama3.2"
      ],
      "text/plain": [
       "<IPython.core.display.Markdown object>"
      ]
     },
     "metadata": {},
     "output_type": "display_data"
    },
    {
     "data": {
      "text/markdown": [
       "Under the statute ordinance, residues accumulated may not be mixed or diluted prior to their intended disposal or recovery (Section 1). The federal government is empowered to issue a statutory ordinance with the consent of the Bundesrat, establishing monitoring limits and methods of recovery and disposal applicable to residues. \n",
       "\n",
       "Prior to storage on operating premises, parties subject to an obligation must declare such storage to the competent authority (Section 4) [strlschg_en_bf.pdf:0:104]. The competent authority is informed without undue delay if such storage ceases.\n",
       "\n",
       "For residues not subject to a monitoring requirement, compliance may be proven with monitoring limits and methods of recovery and disposal (Section 5) [strlschg_en_bf.pdf:0:105]. Technical procedures, measurement procedures, and other requirements may be laid down by the competent authority. \n",
       "\n",
       "The party under an obligation must secure residues against loss and unauthorized access prior to disposal or recovery (Section 6) [strlschg_en_bf.pdf:0:106]. Residues may only be passed on to other parties for the purpose of disposal or recovery.\n",
       "\n",
       "Cross-border transportation of residues into Germany for their disposal is prohibited (Section 7) [strlschg_en_bf.pdf:0:107].\n",
       "\n",
       "For release from monitoring, a party under an obligation must declare the intended recovery or disposal of residues without undue delay, stating nature, mass, and specific activity (Section 1, subsection 2) [strlschg_en_bf.pdf:0:102]. A declaration may be dispensed with where notification is made due to the nature and specific activity of residues requiring monitoring.\n",
       "\n",
       "At the request of the party under an obligation, the competent authority may release residues from monitoring for a particular recovery or disposal if requisite protection of the population is ensured, occupational workers' body dose does not exceed categorization levels, and there are no reservations under law regarding waste (Section 2) [strlschg_en_bf.pdf:0:103]. Release from monitoring is effected by notice in writing."
      ],
      "text/plain": [
       "<IPython.core.display.Markdown object>"
      ]
     },
     "metadata": {},
     "output_type": "display_data"
    },
    {
     "name": "stdout",
     "output_type": "stream",
     "text": [
      "Time taken: 3.56 seconds\n",
      "________________________________\n"
     ]
    },
    {
     "data": {
      "text/markdown": [
       "#LLM: gemma3:4b"
      ],
      "text/plain": [
       "<IPython.core.display.Markdown object>"
      ]
     },
     "metadata": {},
     "output_type": "display_data"
    },
    {
     "data": {
      "text/markdown": [
       "The federal government is empowered, with the consent of the Bundesrat, to establish monitoring limits and methods of recovery and disposal for residues [strlschg_en_bf.pdf:0:102].  Three residues accumulated may not be mixed or diluted prior to disposal or recovery to satisfy monitoring limits [strlschg_en_bf.pdf:0:102]. Residues accumulated abroad and brought into Germany for recovery are subject to the same regulations [strlschg_en_bf.pdf:0:102]. If residues requiring monitoring are stored on site, the responsible party must declare the storage to the competent authority and inform them without undue delay of any cessation of storage [strlschg_en_bf.pdf:0:103]. For residues not subject to monitoring, the competent authority may require proof of compliance with recovery and disposal limits through technical procedures and measurement procedures [strlschg_en_bf.pdf:0:103]. The responsible party must secure residues against loss and unauthorized access [strlschg_en_bf.pdf:0:103]. Cross-border transportation of residues into Germany for disposal is prohibited [strlschg_en_bf.pdf:0:103]. The responsible party under section 61 must declare the intended recovery or disposal of residues to the competent authority, stating their nature, mass, and specific activity, as soon as they establish a monitoring requirement [strlschg_en_bf.pdf:0:103]. The competent authority may release residues from monitoring for a specific recovery or disposal if the population’s protection is ensured, occupational worker doses do not exceed permissible levels, and there are no legal restrictions on the recovery or disposal method [strlschg_en_bf.pdf:0:103]."
      ],
      "text/plain": [
       "<IPython.core.display.Markdown object>"
      ]
     },
     "metadata": {},
     "output_type": "display_data"
    },
    {
     "name": "stdout",
     "output_type": "stream",
     "text": [
      "Time taken: 5.05 seconds\n",
      "________________________________\n"
     ]
    },
    {
     "data": {
      "text/markdown": [
       "#LLM: phi4-mini"
      ],
      "text/plain": [
       "<IPython.core.display.Markdown object>"
      ]
     },
     "metadata": {},
     "output_type": "display_data"
    },
    {
     "data": {
      "text/markdown": [
       "The provided documents outline the regulatory framework for handling and disposing residues that require monitoring. The federal government is authorized to issue ordinances, in agreement with the Bundesrat (Federal Council), establishing guidelines on recovery methods [Document Source: strlschg_en_bf.pdf](strlschg_en_bf.pdf). Residues accumulated must not be mixed or diluted before disposal unless this satisfies specific conditions outlined by a statutory ordinance. These regulations also apply to residues brought into Germany from abroad for disposal purposes.\n",
       "\n",
       "A declaration of the intended residue recovery and its nature, mass, and activity is mandatory when declaring storage on-site if required under Section 61 [Document Source: strlschg_en_bf.pdf](strlschg_en_bf.pdf). The competent authority must be informed without undue delay about any cessation in such onsite storage. For residues not requiring monitoring obligations to prove compliance with statutory ordinance limits and methods of recovery/disposal, the responsible party can request a release from this requirement [Document Source: strlschg_en_bf.pdf](strlschg_en_bf.pdf). The conditions for releasing these substances include ensuring public protection against exposure through implemented measures during disposal or recovery.\n",
       "\n",
       "Additionally, cross-border transportation into Germany specifically to dispose of residues is prohibited. Parties under Section 61 obligations must declare their plans without undue delay when they intend on recovering/disposing the monitored residue [Document Source: strlschg_en_bf.pdf](strlschg_en_bf.pdf). However, if there's no need for notification due to nature and activity specifics per Section 63 subsection (1), a written notice is still required. The release from monitoring obligations must be documented in writing with specified criteria that assure public protection against exposure during disposal or recovery processes [Document Source: strlschg_en_bf.pdf](strlschg_en_bf.pdf)."
      ],
      "text/plain": [
       "<IPython.core.display.Markdown object>"
      ]
     },
     "metadata": {},
     "output_type": "display_data"
    },
    {
     "name": "stdout",
     "output_type": "stream",
     "text": [
      "Time taken: 4.11 seconds\n",
      "________________________________\n"
     ]
    },
    {
     "data": {
      "text/markdown": [
       "#LLM: mistral:instruct"
      ],
      "text/plain": [
       "<IPython.core.display.Markdown object>"
      ]
     },
     "metadata": {},
     "output_type": "display_data"
    },
    {
     "data": {
      "text/markdown": [
       "To release residues from regulatory control, compliance with the methods of recovery and disposal as stated in a statutory ordinance is required [strlschg_en_bf.pdf:0:102]. The federal government can issue such an ordinance, specifying monitoring limits and methods for recovery and disposal, with the consent of the Bundesrat [strlschg_en_bf.pdf:0:102]. Residues accumulated must not be mixed or diluted before disposal or recovery to meet these monitoring limits [strlschg_en_bf.pdf:0:102].\n",
       "\n",
       "   The party subject to an obligation under section 61 (documented in the first source) must declare storage of residues requiring monitoring to the competent authority and report cessation without undue delay [strlschg_en_bf.pdf:0:102]. For residues not subject to a monitoring requirement, the competent authority can require compliance with monitoring limits and methods [strlschg_en_bf.pdf:0:103].\n",
       "\n",
       "   The party under obligation in section 61 (documented in the first source) must declare the intended recovery or disposal of residues to the competent authority, stating their nature, mass, and specific activity as soon as they establish that said residues require monitoring [strlschg_en_bf.pdf:0:103]. This declaration can be omitted if notification is made in accordance with section 63 subsection 1 due to the nature and specific activity of the residues requiring monitoring [strlschg_en_bf.pdf:0:103].\n",
       "\n",
       "   The competent authority may release residues from monitoring for a particular recovery or disposal under specific conditions, including ensuring protection of the population against exposure and adherence to waste law permissibility and compliance requirements [strlschg_en_bf.pdf:0:103]. Release from the monitoring obligation is done by means of written notice [strlschg_en_bf.pdf:0:103]."
      ],
      "text/plain": [
       "<IPython.core.display.Markdown object>"
      ]
     },
     "metadata": {},
     "output_type": "display_data"
    },
    {
     "name": "stdout",
     "output_type": "stream",
     "text": [
      "Time taken: 5.55 seconds\n",
      "________________________________\n"
     ]
    },
    {
     "data": {
      "text/markdown": [
       "#LLM: mistrallite"
      ],
      "text/plain": [
       "<IPython.core.display.Markdown object>"
      ]
     },
     "metadata": {},
     "output_type": "display_data"
    },
    {
     "data": {
      "text/markdown": [
       "Dear Human,\n",
       "    Here is your requested summary of the documents related to residue release from regulatory control:\n",
       "\n",
       "    1. The Federal Government has been granted the authority by a statutory ordinance to issue a statutory ordinance that establishes monitoring limits and methods of recovery and disposal for residues. These residues must not be mixed or diluted prior to their intended disposal or recovery in order to satisfy the monitoring limits in accordance with subsection 2. The first sentence also applies to residues accumulated abroad and brought into Germany for recovery.\n",
       "    2. If the residues requiring monitoring are stored on the operating premises of the party subject to an obligation in accordance with subsection 1, the latter must declare said storage to the competent authority without undue delay if such storage ceases. The competent authority may require compliance with the monitoring limits and methods of recovery and disposal laid down in a statutory ordinance for those residues that are not subject to a monitoring requirement. Technical procedures, suitable measurement procedures, and other requirements must be established by the competent authority.\n",
       "    3. The party subject to an obligation in accordance with subsection 1 shall secure residues against loss and against access by unauthorized parties prior to their disposal or recovery. Residues may only be passed on to other parties for the purpose of the disposal or re-covery.\n",
       "    4. The cross-border transportation of residues into Germany for their disposal is hereby prohibited.\n",
       "    5. The party under an obligation in accordance with section 61 subsection 1, first sentence, must declare the intended recovery or disposal of the residues to the competent authority without undue delay, stating their nature, mass, and specific activity as soon as he or she has established that said residues require monitoring in accordance with section 61 subsection 2. A declaration in accordance with the first sentence above may be dispensed with where notification is made in accordance with section 63 subsection 1 due to the nature and specific activity of the residues requiring monitoring.\n",
       "    6. At the request of the party under an obligation in accordance with section 61 sub-section 1, first sentence, the competent authority shall release residues requiring monitoring from that monitoring for the purpose of a particular recovery or disposal if:\n",
       "    - The requisite protection of the population against exposure is ensured by means of the measures put in place for recovery or disposal;\n",
       "    - The body dose of occupational workers in the course of disposal or recovery cannot exceed the levels for categorisation as an occupationally-exposed person;\n",
       "    - There are no reservations under the law on waste as to the permissibility of the envisaged method of recovery or disposal and as to whether it will be complied with.\n",
       "    7. Release from the monitoring obligation shall be effected by means of notice in writing.\n",
       "    8. The criteria for protecting the public are that, even without additional measures, an effective dose of 1 mSv in a given calendar week must not be exceeded."
      ],
      "text/plain": [
       "<IPython.core.display.Markdown object>"
      ]
     },
     "metadata": {},
     "output_type": "display_data"
    },
    {
     "name": "stdout",
     "output_type": "stream",
     "text": [
      "Time taken: 6.92 seconds\n",
      "________________________________\n"
     ]
    },
    {
     "data": {
      "text/markdown": [
       "#LLM: deepseek-r1:70b"
      ],
      "text/plain": [
       "<IPython.core.display.Markdown object>"
      ]
     },
     "metadata": {},
     "output_type": "display_data"
    },
    {
     "data": {
      "text/markdown": [
       "To release residues from regulatory control, follow these steps based on the provided documents:\n",
       "\n",
       "1. **Notification to Authorities**: Inform the competent authority about intended disposal or recovery, including details like residue nature, mass, and specific activity once monitoring is required under section 61 subsection 2 [6].\n",
       "\n",
       "2. **Declaration Waiver**: If certain conditions are met due to residue characteristics, notification under section 63 subsection 1 can replace the declaration [6].\n",
       "\n",
       "3. **Request Release**: The responsible party can ask authorities to release residues from monitoring for specific disposal or recovery methods if:\n",
       "   - Public exposure is adequately protected.\n",
       "   - Worker doses stay below occupational exposure thresholds.\n",
       "   - No legal issues exist under waste laws [7].\n",
       "\n",
       "4. **Written Approval**: Obtain written confirmation from authorities for the release, ensuring compliance with all conditions [7].\n",
       "\n",
       "5. **Public Protection Criteria**: Ensure disposal or recovery doesn't exceed an effective dose of 1 mSv per year without additional measures [8]."
      ],
      "text/plain": [
       "<IPython.core.display.Markdown object>"
      ]
     },
     "metadata": {},
     "output_type": "display_data"
    },
    {
     "name": "stdout",
     "output_type": "stream",
     "text": [
      "Time taken: 63.31 seconds\n",
      "________________________________\n"
     ]
    },
    {
     "data": {
      "text/markdown": [
       "#LLM: qwq"
      ],
      "text/plain": [
       "<IPython.core.display.Markdown object>"
      ]
     },
     "metadata": {},
     "output_type": "display_data"
    },
    {
     "data": {
      "text/markdown": [
       "The release of residues from regulatory control in Germany is governed by statutory ordinances established by the federal government with Bundesrat consent [strlschg_en_bf.pdf]. Residues must be disposed or recovered following specified methods, and mixing or dilution prior to disposal to meet monitoring limits is prohibited. This applies equally to residues accumulated abroad and brought into Germany for recovery [strlschg_en_bf.pdf]. Storage of monitored residues on operational premises must be declared to the competent authority, with updates provided if storage ceases. Residues not subject to monitoring may still require proof of compliance with recovery/disposal standards via technical or measurement procedures set by authorities [strlschg_en_bf.pdf].  \n",
       "\n",
       "Parties handling residues must secure them against unauthorized access and transfer only to authorized parties for disposal/recovery. Cross-border transportation of residues into Germany for disposal is prohibited unless exceptions apply under Section 62 [strlschg_en_bf.pdf]. To release residues from monitoring, the obligated party must declare their recovery/disposal intent (including nature, mass, and specific activity) to authorities, except when covered by Section 63 notifications [strlschg_en_bf.pdf]. Competent authorities may grant release if three criteria are met: public exposure does not exceed an effective dose of 1 mSv under disposal/recovery measures; occupational worker doses do not categorize them as occupationally exposed beyond legal limits; and the recovery/disposal method complies with waste law. Releases are confirmed in writing [strlschg_en_bf.pdf]."
      ],
      "text/plain": [
       "<IPython.core.display.Markdown object>"
      ]
     },
     "metadata": {},
     "output_type": "display_data"
    },
    {
     "name": "stdout",
     "output_type": "stream",
     "text": [
      "Time taken: 29.94 seconds\n",
      "________________________________\n"
     ]
    },
    {
     "data": {
      "text/markdown": [
       "#LLM: gemma3:27b"
      ],
      "text/plain": [
       "<IPython.core.display.Markdown object>"
      ]
     },
     "metadata": {},
     "output_type": "display_data"
    },
    {
     "data": {
      "text/markdown": [
       "The regulations outline procedures for releasing residues from regulatory control, beginning with requirements for recovery and disposal methods established by statutory ordinance [strlschg_en_bf.pdf:0:102]. Parties obligated under section 61 must declare the intended recovery or disposal of monitored residues to the competent authority, detailing their nature, mass, and specific activity, once monitoring requirements are established [strlschg_en_bf.pdf:0:103]. This declaration can be waived if notification is already provided under section 63 due to the residues’ nature and specific activity [strlschg_en_bf.pdf:0:103].\n",
       "\n",
       "The competent authority can release monitored residues from regulatory control for specific recovery or disposal purposes if certain conditions are met [strlschg_en_bf.pdf:0:103]. These conditions include ensuring adequate population protection through recovery or disposal measures, maintaining occupational worker body doses within acceptable limits, and confirming the permissibility of the proposed recovery or disposal method under waste management laws [strlschg_en_bf.pdf:0:103]. Release from the monitoring obligation is formally enacted through written notice [strlschg_en_bf.pdf:0:103]. The criteria for public protection dictate that, without additional measures, the effective dose from disposal or recovery should not exceed 1 mSv in a given calendar year [strlschg_en_bf.pdf:0:103]. Residues accumulated abroad and brought into Germany for recovery are also subject to these regulations [strlschg_en_bf.pdf:0:102]. Prior to disposal or recovery, obligated parties must secure residues against loss and unauthorized access, and may only transfer them to other parties for these purposes [strlschg_en_bf.pdf:0:102]. Cross-border transportation of residues into Germany for disposal is prohibited [strlschg_en_bf.pdf:0:102]."
      ],
      "text/plain": [
       "<IPython.core.display.Markdown object>"
      ]
     },
     "metadata": {},
     "output_type": "display_data"
    },
    {
     "name": "stdout",
     "output_type": "stream",
     "text": [
      "Time taken: 19.05 seconds\n",
      "________________________________\n"
     ]
    },
    {
     "data": {
      "text/markdown": [
       "#LLM: llama3.3"
      ],
      "text/plain": [
       "<IPython.core.display.Markdown object>"
      ]
     },
     "metadata": {},
     "output_type": "display_data"
    },
    {
     "data": {
      "text/markdown": [
       "To release residues from regulatory control, the party under obligation must declare the intended recovery or disposal of the residues to the competent authority without undue delay, stating their nature, mass, and specific activity, as soon as they have established that said residues require monitoring in accordance with section 61 subsection 2 [strlschg_en_bf.pdf](strlschg_en_bf.pdf:0:103). A declaration may be dispensed with where notification is made in accordance with section 63 subsection 1 due to the nature and specific activity of the residues requiring monitoring [strlschg_en_bf.pdf](strlschg_en_bf.pdf:0:103).\n",
       "\n",
       "The competent authority shall release residues requiring monitoring from that monitoring for the purpose of a particular recovery or disposal, at the request of the party under obligation, where certain conditions are met [strlschg_en_bf.pdf](strlschg_en_bf.pdf:0:103). These conditions include ensuring the requisite protection of the population against exposure by means of the measures put in place for recovery or disposal [strlschg_en_bf.pdf](strlschg_en_bf.pdf:0:103), and that the body dose of occupational workers in the course of disposal or recovery cannot exceed the levels for categorisation as an occupationally-exposed person [strlschg_en_bf.pdf](strlschg_en_bf.pdf:0:103).\n",
       "\n",
       "Additionally, there must be no reservations under the law on waste as to the permissibility of the envisaged method of recovery or disposal and as to whether it will be complied with [strlschg_en_bf.pdf](strlschg_en_bf.pdf:0:103). The release from the monitoring obligation shall be effected by means of notice in writing [strlschg_en_bf.pdf](strlschg_en_bf.pdf:0:103). The criteria for the protection of the public include ensuring that, as the constraint for the exposure of members of the public caused by disposal or recovery, even without additional measures an effective dose of 1 mSv in a given calendar year is not exceeded [strlschg_en_bf.pdf](strlschg_en_bf.pdf:0:103).\n",
       "\n",
       "It is also important to note that residues accumulated may not be mixed or diluted prior to their intended disposal or recovery in order to satisfy the monitoring limits in accordance with subsection 2 [strlschg_en_bf.pdf](strlschg_en_bf.pdf:0:102). The party subject to an obligation must secure residues against loss and against access by unauthorised parties prior to their disposal or recovery, and they may only be passed on to other parties for the purpose of disposal or recovery [strlschg_en_bf.pdf](strlschg_en_bf.pdf:0:102). Furthermore, the cross-border transportation of residues into Germany for their disposal is prohibited [strlschg_en_bf.pdf](strlschg_en_bf.pdf:0:102).\n",
       "\n",
       "In terms of storage, if the residues requiring monitoring are stored on the operating premises of the party subject to an obligation, they must declare said storage to the competent authority, and inform them without undue delay if such storage ceases [strlschg_en_bf.pdf](strlschg_en_bf.pdf:0:102). For those residues that are not subject to a monitoring requirement, the competent authority may require that compliance be proven with the monitoring limits and methods of recovery and disposal in accordance with a statutory ordinance [strlschg_en_bf.pdf](strlschg_en_bf.pdf:0:102)."
      ],
      "text/plain": [
       "<IPython.core.display.Markdown object>"
      ]
     },
     "metadata": {},
     "output_type": "display_data"
    },
    {
     "name": "stdout",
     "output_type": "stream",
     "text": [
      "Time taken: 64.24 seconds\n",
      "________________________________\n"
     ]
    },
    {
     "data": {
      "text/markdown": [
       "#LLM: mistral-small"
      ],
      "text/plain": [
       "<IPython.core.display.Markdown object>"
      ]
     },
     "metadata": {},
     "output_type": "display_data"
    },
    {
     "data": {
      "text/markdown": [
       "To release residues from regulatory control in Germany, specific procedures and criteria must be followed as outlined in the statutory ordinances. The federal government is authorized to establish monitoring limits and methods for the recovery and disposal of residues through a statutory ordinance, with the consent of the Bundesrat (Federal Council) [strlschg_en_bf.pdf](strlschg_en_bf.pdf:0:102). Residues requiring monitoring must be declared to the competent authority if stored on the operating premises of the party subject to an obligation. This declaration includes the nature, mass, and specific activity of the residues [strlschg_en_bf.pdf](strlschg_en_bf.pdf:0:103).\n",
       "\n",
       "Residues that are not subject to monitoring requirements may still be required by the competent authority to comply with monitoring limits and methods of recovery and disposal. The party responsible for these residues must secure them against loss and unauthorized access prior to their disposal or recovery [strlschg_en_bf.pdf](strlschg_en_bf.pdf:0:102).\n",
       "\n",
       "The cross-border transportation of residues into Germany for disposal is prohibited, ensuring that all disposal activities are conducted within the regulatory framework of German law. For residues requiring monitoring, a declaration must be made to the competent authority without undue delay [strlschg_en_bf.pdf](strlschg_en_bf.pdf:0:103).\n",
       "\n",
       "The release of residues from monitoring can occur if specific criteria are met:\n",
       "1. The protection of the population against exposure is ensured by measures put in place for recovery or disposal.\n",
       "2. The body dose of occupational workers during disposal or recovery does not exceed levels categorizing them as occupationally exposed persons.\n",
       "3. There are no legal reservations regarding the permissibility of the envisaged method of recovery or disposal [strlschg_en_bf.pdf](strlschg_en_bf.pdf:0:103).\n",
       "\n",
       "The criteria for protecting the public involve ensuring that the effective dose from exposure does not exceed 1 mSv in a given calendar year, even without additional measures. This release from monitoring is effected through written notice [strlschg_en_bf.pdf](strlschg_en_bf.pdf:0:103)."
      ],
      "text/plain": [
       "<IPython.core.display.Markdown object>"
      ]
     },
     "metadata": {},
     "output_type": "display_data"
    },
    {
     "name": "stdout",
     "output_type": "stream",
     "text": [
      "Time taken: 13.71 seconds\n",
      "________________________________\n"
     ]
    },
    {
     "data": {
      "text/markdown": [
       "#LLM: mistral-nemo"
      ],
      "text/plain": [
       "<IPython.core.display.Markdown object>"
      ]
     },
     "metadata": {},
     "output_type": "display_data"
    },
    {
     "data": {
      "text/markdown": [
       "**Summary:**\n",
       "\n",
       "The German Atomic Energy Act (AtG) outlines regulations for the disposal and recovery of radioactive residues, empowering the federal government to issue ordinances setting monitoring limits and methods [StrlSchG_en_Bf.pdf:0:102]. Key provisions include:\n",
       "\n",
       "- Residues must not be mixed or diluted before disposal/recovery to meet monitoring limits [1].\n",
       "- Importers must declare storage of monitored residues to the competent authority, who must also be informed upon cessation of storage [4].\n",
       "- Cross-border transportation of residues into Germany for disposal is prohibited [7].\n",
       "\n",
       "Parties obligated under Section 61 must:\n",
       "- Secure residues against loss and unauthorized access before disposal/recovery [6].\n",
       "- Declare intended recovery/disposal to the competent authority, stating nature, mass, and specific activity [Section 62(1)].\n",
       "- May request release from monitoring obligations for specific recovery/disposal methods if certain conditions are met, such as ensuring population protection and complying with waste laws [Section 62(2)].\n",
       "\n",
       "The public exposure constraint is an effective dose of 1 mSv in a given calendar year even without additional measures [StrlSchG_en_Bf.pdf:0:103]."
      ],
      "text/plain": [
       "<IPython.core.display.Markdown object>"
      ]
     },
     "metadata": {},
     "output_type": "display_data"
    },
    {
     "name": "stdout",
     "output_type": "stream",
     "text": [
      "Time taken: 6.63 seconds\n",
      "________________________________\n"
     ]
    }
   ],
   "source": [
    "import time\n",
    "models = [\"deepseek-r1:1.5b\",\"deepseek-r1:latest\", \"llama3.1:8b-instruct-q4_0\", \"llama3.2\", \"gemma3:4b\", \"phi4-mini\", \"mistral:instruct\", \"mistrallite\"]\n",
    "models += [\"deepseek-r1:70b\", \"qwq\", \"gemma3:27b\", \"llama3.3\", \"mistral-small\", \"mistral-nemo\"]\n",
    "\n",
    "for model in models:\n",
    "    start_time = time.time()\n",
    "    summary = source_summarizer('', tr, model)\n",
    "    elapsed_time = time.time() - start_time\n",
    "    display(Markdown(f'#LLM: {model}'))\n",
    "    display(Markdown(summary['content']))\n",
    "    print(f'Time taken: {elapsed_time:.2f} seconds')\n",
    "    print('________________________________')"
   ]
  },
  {
   "cell_type": "code",
   "execution_count": 15,
   "metadata": {},
   "outputs": [],
   "source": [
    "from langchain_community.llms import Ollama\n",
    "from langchain_core.messages import SystemMessage, HumanMessage\n",
    "import re\n",
    "\n",
    "def source_summarizer_Ollama(query, context_documents, llm_model=\"deepseek-r1\"):\n",
    "    system_message = SUMMARIZER_SYSTEM_PROMPT\n",
    "\n",
    "    formatted_context = \"\\n\".join(\n",
    "        f\"Content: {doc['content']}\\nSource: {doc['metadata']['name']}\\nPath: {doc['metadata']['path']}\"\n",
    "        for doc in context_documents\n",
    "    )\n",
    "\n",
    "    prompt = f\"\"\"\n",
    "    Based on the user's query\n",
    "\n",
    "    {query}\n",
    "\n",
    "    , here are the documents to summarize:\n",
    "    \n",
    "    {formatted_context}\n",
    "    \n",
    "    Provide a deep summary with proper citations:\n",
    "    \"\"\"\n",
    "    \n",
    "    # Initialize ChatOllama with the specified model and temperature\n",
    "    llm = Ollama(model=llm_model, temperature=0.1, repeat_penalty=1.2) \n",
    "    # For RAG systems like your summarizer, consider:\n",
    "    #    Using lower temperatures (0.1-0.3) for factual accuracy\n",
    "    #   Combining with repeat_penalty=1.1-1.3 to avoid redundant content\n",
    "    #   Monitoring token usage with num_ctx for long documents\n",
    "    \n",
    "    # Format messages for LangChain\n",
    "    messages = [\n",
    "        SystemMessage(content=system_message),\n",
    "        HumanMessage(content=prompt)\n",
    "    ]\n",
    "    \n",
    "    # Get response from the model\n",
    "    response = llm.invoke(messages)\n",
    "    \n",
    "    # Extract content from response\n",
    "    response_content = response\n",
    "    \n",
    "    # Clean markdown formatting if present\n",
    "    try:\n",
    "        final_content = re.sub(r\"<think>.*?</think>\", \"\", response_content, flags=re.DOTALL).strip()\n",
    "    except:\n",
    "        final_content = response_content.strip()\n",
    "\n",
    "    # Extract metadata from all documents\n",
    "    document_names = [doc['metadata']['name'] for doc in context_documents]\n",
    "    document_paths = [doc['metadata']['path'] for doc in context_documents]\n",
    "\n",
    "    return {\n",
    "        \"content\": final_content,\n",
    "        \"metadata\": {\n",
    "            \"name\": document_names,\n",
    "            \"path\": document_paths\n",
    "        }\n",
    "    }\n"
   ]
  },
  {
   "cell_type": "code",
   "execution_count": 16,
   "metadata": {},
   "outputs": [
    {
     "name": "stderr",
     "output_type": "stream",
     "text": [
      "/tmp/ipykernel_1467828/3500871307.py:26: LangChainDeprecationWarning: The class `Ollama` was deprecated in LangChain 0.3.1 and will be removed in 1.0.0. An updated version of the class exists in the :class:`~langchain-ollama package and should be used instead. To use it run `pip install -U :class:`~langchain-ollama` and import as `from :class:`~langchain_ollama import OllamaLLM``.\n",
      "  llm = Ollama(model=llm_model, temperature=0.1, repeat_penalty=1.2)\n"
     ]
    },
    {
     "data": {
      "text/markdown": [
       "#LLM: deepseek-r1:1.5b"
      ],
      "text/plain": [
       "<IPython.core.display.Markdown object>"
      ]
     },
     "metadata": {},
     "output_type": "display_data"
    },
    {
     "data": {
      "text/markdown": [
       "**Summary:**\n",
       "\n",
       "Residues released for disposal or recovery in Germany must adhere to monitoring limits set by regulatory bodies. Specifically, 3 residues cannot be mixed or diluted before intended disposal or recovery due to these limits (Section 2). The first document outlines the procedures required when storing residues on a party subjecting an obligation, emphasizing that declaration of residue requirements without delay is necessary if they require monitoring.\n",
       "\n",
       "The second document highlights cross-border transportation into Germany for disposal, noting it's not prohibited. However, release from regulatory control requires specific procedures and public exposure protection thresholds (Section 62). Unauthorised parties must pass residues to other parties before intended disposal or recovery, with conditions on notification and declaration of residue requirements needing monitoring.\n",
       "\n",
       "Key points include:\n",
       "- Monitoring limits apply when storing residues.\n",
       "- Cross-border transportation is allowed but has its own regulations.\n",
       "- Public exposure requires effective doses even without additional measures."
      ],
      "text/plain": [
       "<IPython.core.display.Markdown object>"
      ]
     },
     "metadata": {},
     "output_type": "display_data"
    },
    {
     "name": "stdout",
     "output_type": "stream",
     "text": [
      "Time taken: 4.05 seconds\n",
      "________________________________\n"
     ]
    },
    {
     "data": {
      "text/markdown": [
       "#LLM: deepseek-r1:latest"
      ],
      "text/plain": [
       "<IPython.core.display.Markdown object>"
      ]
     },
     "metadata": {},
     "output_type": "display_data"
    },
    {
     "data": {
      "text/markdown": [
       "The German regulatory framework for managing residues under section 61(2) empowers the federal government to issue ORDs with the Bundesrat's consent. These ORDs establish monitoring limits and disposal methods (Document: strlschg_en_bf.pdf:0:102). Residues requiring monitoring cannot be mixed or diluted before disposal, as per subsection 3.\n",
       "\n",
       "Cross-border transportation of residues into Germany for disposal is prohibited under section 7(61). For parties under an obligation in section 61(1), declaring recovery/disposal intentions to the competent authority without undue delay (subsection 2) is mandatory upon establishing monitoring requirements. If notification via section 63(1) suffices due to residues' nature, this can be done without a declaration.\n",
       "\n",
       "Subsection 62 allows releasing residues from monitoring by issuing ORDs if three conditions are met: adequate population protection, body dose limits compliance, and permissible disposal methods (Document: strlschg_en_bf.pdf:0:103). Release is effected through written notice."
      ],
      "text/plain": [
       "<IPython.core.display.Markdown object>"
      ]
     },
     "metadata": {},
     "output_type": "display_data"
    },
    {
     "name": "stdout",
     "output_type": "stream",
     "text": [
      "Time taken: 7.59 seconds\n",
      "________________________________\n"
     ]
    },
    {
     "data": {
      "text/markdown": [
       "#LLM: llama3.1:8b-instruct-q4_0"
      ],
      "text/plain": [
       "<IPython.core.display.Markdown object>"
      ]
     },
     "metadata": {},
     "output_type": "display_data"
    },
    {
     "data": {
      "text/markdown": [
       "To release residues from regulatory control, the party under obligation must comply with specific methods of recovery and disposal laid down by statutory ordinance. The federal government is empowered to issue ordinances establishing monitoring limits and methods for residues (strlschg_en_bf.pdf:0:102). Residues accumulated may not be mixed or diluted prior to their intended disposal or recovery, unless the competent authority permits it due to the nature and specific activity of the residues requiring monitoring.\n",
       "\n",
       "The party under obligation must declare storage of residues on operating premises to the competent authority (strlschg_en_bf.pdf:0:102). If such storage ceases, the competent authority shall be informed without undue delay. For residues not subject to a monitoring requirement, the competent authority may require proof that compliance is met with monitoring limits and methods in accordance with statutory ordinance.\n",
       "\n",
       "The party under obligation must secure residues against loss and unauthorized access prior to their disposal or recovery (strlschg_en_bf.pdf:0:102). Residues can only be passed on to other parties for the purpose of disposal or recovery. The cross-border transportation of residues into Germany for their disposal is prohibited (strlschg_en_bf.pdf:0:103).\n",
       "\n",
       "To release residues from monitoring, the competent authority shall consider requests by the party under obligation where:\n",
       "\n",
       "1. Requisite protection of the population against exposure is ensured through measures put in place for recovery or disposal.\n",
       "2. The body dose of occupational workers during disposal or recovery does not exceed levels for categorization as an occupationally-exposed person (strlschg_en_bf.pdf:0:103).\n",
       "3. There are no reservations under the law on waste regarding the permissibility of the envisaged method of recovery or disposal and compliance with it.\n",
       "\n",
       "Release from monitoring obligation shall be effected by means of notice in writing, considering criteria for public protection that an effective dose of 1 mSv in a given calendar year is not exceeded without additional measures (strlschg_en_bf.pdf:0:103)."
      ],
      "text/plain": [
       "<IPython.core.display.Markdown object>"
      ]
     },
     "metadata": {},
     "output_type": "display_data"
    },
    {
     "name": "stdout",
     "output_type": "stream",
     "text": [
      "Time taken: 5.08 seconds\n",
      "________________________________\n"
     ]
    },
    {
     "data": {
      "text/markdown": [
       "#LLM: llama3.2"
      ],
      "text/plain": [
       "<IPython.core.display.Markdown object>"
      ]
     },
     "metadata": {},
     "output_type": "display_data"
    },
    {
     "data": {
      "text/markdown": [
       "The German Federal Ministry for the Environment (Bundesministerium für Umwelt, Naturschutz und nukleare Sicherheit) has established regulations for the release of residues from regulatory control. According to Section 61(1), first sentence, a party subject to an obligation must declare their intention to recover or dispose of residues without undue delay (Source: strlschg_en_bf.pdf:0:102).\n",
       "\n",
       "The declaration must include information on the nature, mass, and specific activity of the residues (Source: strlschg_en_bf.pdf:0:103). The competent authority may release residues requiring monitoring from monitoring for a particular recovery or disposal if certain conditions are met. These conditions include ensuring public protection against exposure through measures put in place for recovery or disposal, preventing occupational workers' body doses exceeding categorization levels (Source: strlschg_en_bf.pdf:0:103), and compliance with applicable waste laws (Source: strlschg_en_bf.pdf:0:104).\n",
       "\n",
       "The criteria for protecting the public include an effective dose of 1 mSv in a given calendar year, even without additional measures. The competent authority may lay down technical procedures, suitable measurement procedures, and other requirements to ensure compliance with monitoring limits and methods of recovery and disposal (Source: strlschg_en_bf.pdf:0:104).\n",
       "\n",
       "Residues must be secured against loss and unauthorized access prior to their disposal or recovery (Source: strlschg_en_bf.pdf:7). They may only be passed on to other parties for the purpose of disposal or recovery. Cross-border transportation of residues into Germany is prohibited (Source: strlschg_en_bf.pdf:71).\n",
       "\n",
       "In summary, German regulations require parties subject to an obligation to declare their intention to recover or dispose of residues without undue delay and provide information on residue characteristics. The competent authority may release residues from monitoring if certain conditions are met, including public protection against exposure and compliance with waste laws.\n",
       "\n",
       "Metadata:\n",
       "{\n",
       "    \"content\": doc.page_content,\n",
       "    \"metadata\": {\n",
       "        \"name\": doc.metadata['id'],\n",
       "        \"path\": doc.metadata['source']\n",
       "    }}\n",
       "    \n",
       "Citations:\n",
       "\n",
       "- strlschg_en_bf.pdf:0:102\n",
       "- strlschg_en_bf.pdf:0:103\n",
       "- strlschg_en_bf.pdf:0:104"
      ],
      "text/plain": [
       "<IPython.core.display.Markdown object>"
      ]
     },
     "metadata": {},
     "output_type": "display_data"
    },
    {
     "name": "stdout",
     "output_type": "stream",
     "text": [
      "Time taken: 3.75 seconds\n",
      "________________________________\n"
     ]
    },
    {
     "data": {
      "text/markdown": [
       "#LLM: gemma3:4b"
      ],
      "text/plain": [
       "<IPython.core.display.Markdown object>"
      ]
     },
     "metadata": {},
     "output_type": "display_data"
    },
    {
     "data": {
      "text/markdown": [
       "The federal government is empowered to issue statutory ordinances, with the consent of the Bundesrat, establishing monitoring limits and methods of recovery and disposal for residues [strlschg_en_bf.pdf:0:102]. Three residues accumulated may not be mixed or diluted prior to disposal or recovery to satisfy monitoring limits [strlschg_en_bf.pdf:0:102]. Residues accumulated abroad and brought into Germany for recovery are also subject to these regulations [strlschg_en_bf.pdf:0:102]. Parties subject to an obligation must declare storage of residues to the competent authority and inform them if storage ceases [strlschg_en_bf.pdf:0:102]. For residues not subject to monitoring, the competent authority may require compliance proof using recovery and disposal methods [strlschg_en_bf.pdf:0:103]. Parties must secure residues against loss and unauthorized access before disposal or recovery, and may only pass them on to another party for this purpose [strlschg_en_bf.pdf:0:102]. Cross-border transportation of residues into Germany for disposal is prohibited [strlschg_en_bf.pdf:0:102]. The competent authority may release residues from monitoring if the population is protected, worker doses do not exceed specified levels, and there are no legal reservations regarding the recovery or disposal method [strlschg_en_bf.pdf:0:103]. This release must be documented in writing [strlschg_en_bf.pdf:0:103]."
      ],
      "text/plain": [
       "<IPython.core.display.Markdown object>"
      ]
     },
     "metadata": {},
     "output_type": "display_data"
    },
    {
     "name": "stdout",
     "output_type": "stream",
     "text": [
      "Time taken: 5.77 seconds\n",
      "________________________________\n"
     ]
    },
    {
     "data": {
      "text/markdown": [
       "#LLM: phi4-mini"
      ],
      "text/plain": [
       "<IPython.core.display.Markdown object>"
      ]
     },
     "metadata": {},
     "output_type": "display_data"
    },
    {
     "data": {
      "text/markdown": [
       "The documents outline regulations for the release and disposal control over residues. The federal government is authorized to issue ordinances, approved by Bundesrat (Federal Council), setting monitoring limits on recovery methods [Document 1](strlschg_en_bf.pdf:0). Residues accumulated may not be mixed or diluted before their intended use; this rule also applies if the residue originates abroad and enters Germany for disposal. Parties with obligations must declare storage of residues to a competent authority, which should promptly receive updates on any changes [Document 1](strlschg_en_bf.pdf:0). Non-monitoring-required substances may still need proof from authorities that they comply within statutory limits; this includes establishing technical procedures and measurement methods for specific activities. Parties are required by law (Section §62) to secure residues against loss or unauthorized access before disposal, with cross-border transportation of such materials into Germany prohibited [Document 1](strlschg_en_bf.pdf:0). Obligated parties must declare their intended recovery/disposal plans promptly upon establishing the need for monitoring. Authorities can release monitored substances from oversight if certain conditions are met to ensure public protection and compliance without additional measures, with written notice required (Section §63) [Document 1](strlschg_en_bf.pdf:0)."
      ],
      "text/plain": [
       "<IPython.core.display.Markdown object>"
      ]
     },
     "metadata": {},
     "output_type": "display_data"
    },
    {
     "name": "stdout",
     "output_type": "stream",
     "text": [
      "Time taken: 8.88 seconds\n",
      "________________________________\n"
     ]
    },
    {
     "data": {
      "text/markdown": [
       "#LLM: mistral:instruct"
      ],
      "text/plain": [
       "<IPython.core.display.Markdown object>"
      ]
     },
     "metadata": {},
     "output_type": "display_data"
    },
    {
     "data": {
      "text/markdown": [
       "To release residues from regulatory control, the party subject to an obligation must comply with methods of disposal or recovery as established by a statutory ordinance [strlschg_en_bf.pdf:0:102]. The federal government can issue such an ordinance with the consent of the Bundesrat, establishing monitoring limits and methods for residues accumulated in Germany [strlschg_en_bf.pdf:0:102].\n",
       "\n",
       "   Prior to disposal or recovery, these residues must not be mixed or diluted to satisfy monitoring limits [strlschg_en_bf.pdf:0:102]. The party subject to an obligation must declare the storage of such residues to the competent authority and inform them without undue delay if the storage ceases [strlschg_en_bf.pdf:0:102].\n",
       "\n",
       "   For those residues not subject to a monitoring requirement, the competent authority may require compliance with monitoring limits and methods of recovery or disposal as per a statutory ordinance [strlschg_en_bf.pdf:0:103]. The party under an obligation must secure these residues against loss and unauthorized access before their disposal or recovery, and they can only be passed on to another party for the same purpose [strlschg_en_bf.pdf:0:102].\n",
       "\n",
       "   Cross-border transportation of residues into Germany for their disposal is prohibited [strlschg_en_bf.pdf:0:102]. The party under an obligation must declare the intended recovery or disposal of the residues to the competent authority without undue delay, stating their nature, mass and specific activity as soon as they have established that said residues require monitoring [strlschg_en_bf.pdf:0:103].\n",
       "\n",
       "   The competent authority may release residues requiring monitoring from that monitoring for a particular recovery or disposal under certain conditions [strlschg_en_bf.pdf:0:103]:\n",
       "    - The requisite protection of the population against exposure is ensured by measures put in place for recovery or disposal.\n",
       "    - The body dose of occupational workers during disposal or recovery cannot exceed levels for categorization as an occupationally-exposed person.\n",
       "    - There are no reservations under waste law regarding the permissibility and compliance with the envisaged method of recovery or disposal.\n",
       "   Release from monitoring obligation is effected by means of written notice [strlschg_en_bf.pdf:0:103]. The criteria for public protection in terms of exposure caused by disposal or recovery are that, even without additional measures, an effective dose of 1 mSv in a given calendar year should not be exceeded [strlschg_en_bf.pdf:0:103]."
      ],
      "text/plain": [
       "<IPython.core.display.Markdown object>"
      ]
     },
     "metadata": {},
     "output_type": "display_data"
    },
    {
     "name": "stdout",
     "output_type": "stream",
     "text": [
      "Time taken: 7.38 seconds\n",
      "________________________________\n"
     ]
    },
    {
     "data": {
      "text/markdown": [
       "#LLM: mistrallite"
      ],
      "text/plain": [
       "<IPython.core.display.Markdown object>"
      ]
     },
     "metadata": {},
     "output_type": "display_data"
    },
    {
     "data": {
      "text/markdown": [
       "Summary of the documents provided:\n",
       "\n",
       "    The first document outlines methods for recovery and disposal of residues, including requirements that they not be mixed or diluted prior to their intended disposal or recovery. It also establishes monitoring limits and methods for those requiring monitoring. The second document provides additional details on storage and transportation of residues, as well as the declaration process required by the first document.\n",
       "    \n",
       "    Based on these documents, it appears that there are strict regulations in place to ensure the safe disposal or recovery of residues. These include requirements for secure storage prior to disposal or recovery, prohibitions against cross-border transportation, and a detailed declaration process. The competent authority plays an important role in enforcing these regulations, including the ability to require compliance with monitoring limits and methods of recovery and disposal through technical procedures and measurement procedures.\n",
       "    \n",
       "    In summary, the documents provide clear guidelines for the safe management of residues, ensuring that they are disposed of or recovered in a manner that protects both public health and workers' safety."
      ],
      "text/plain": [
       "<IPython.core.display.Markdown object>"
      ]
     },
     "metadata": {},
     "output_type": "display_data"
    },
    {
     "name": "stdout",
     "output_type": "stream",
     "text": [
      "Time taken: 4.26 seconds\n",
      "________________________________\n"
     ]
    },
    {
     "data": {
      "text/markdown": [
       "#LLM: deepseek-r1:70b"
      ],
      "text/plain": [
       "<IPython.core.display.Markdown object>"
      ]
     },
     "metadata": {},
     "output_type": "display_data"
    },
    {
     "data": {
      "text/markdown": [
       "To release residues from regulatory control, follow these steps:\n",
       "\n",
       "1. **Notification Requirement**: Inform the competent authority without delay when you determine that monitoring is necessary for your residues under Section 61 subsection 2 [Document 2](strlschg_en_bf.pdf). Provide details on their nature, mass, and specific activity.\n",
       "\n",
       "2. **Exception to Notification**: If a declaration under section 63 subsection 1 applies due to the residue's characteristics, you might be exempt from this initial notification.\n",
       "\n",
       "3. **Request for Release**: Submit a request to the competent authority for release from monitoring obligations for specific recovery or disposal methods [Document 2](strlschg_en_bf.pdf).\n",
       "\n",
       "4. **Compliance with Conditions**:\n",
       "   - Ensure public exposure is controlled such that the effective dose does not exceed 1 mSv annually.\n",
       "   - Maintain worker doses within occupational exposure limits.\n",
       "   - Confirm compliance with waste laws regarding method permissibility and adherence.\n",
       "\n",
       "5. **Written Approval**: Obtain written notice from authorities upon meeting all conditions [Document 2](strlschg_en_bf.pdf).\n",
       "\n",
       "6. **Storage and Security**:\n",
       "   - Declare on-site storage of monitored residues to authorities and inform them promptly if storage ceases.\n",
       "   - Secure residues against loss or unauthorized access until disposal.\n",
       "\n",
       "7. **Prohibited Actions**: Do not mix, dilute residues before recovery/disposal [Document 1](strlschg_en_bf.pdf). Cross-border transportation into Germany for disposal is prohibited under section 71 [Document 2](strlschg_en_bf.pdf).\n",
       "\n",
       "8. **Compliance with Ordinances**: Adhere to statutory ordinances on recovery and disposal methods set by the federal government with Bundesrat consent [Document 1](strlschg_en_bf.pdf)."
      ],
      "text/plain": [
       "<IPython.core.display.Markdown object>"
      ]
     },
     "metadata": {},
     "output_type": "display_data"
    },
    {
     "name": "stdout",
     "output_type": "stream",
     "text": [
      "Time taken: 64.08 seconds\n",
      "________________________________\n"
     ]
    },
    {
     "data": {
      "text/markdown": [
       "#LLM: qwq"
      ],
      "text/plain": [
       "<IPython.core.display.Markdown object>"
      ]
     },
     "metadata": {},
     "output_type": "display_data"
    },
    {
     "data": {
      "text/markdown": [
       "The regulatory framework for releasing residues from control under **strlschg_en_bf.pdf** mandates compliance with statutory ordinances established by the federal government in collaboration with the Bundesrat. These ordinances define recovery and disposal methods, including monitoring limits that must not be circumvented through pre-disposal mixing or dilution of residues [Section 61](strlschg_en_bf.pdf:0:102). This applies to both domestic and foreign-origin residues brought into Germany for processing.\n",
       "\n",
       "Obligated parties are required to declare residue storage details to authorities, who retain the power to demand proof of compliance even in cases not explicitly under regulatory monitoring. Residues must remain secured against unauthorized access until final disposal or recovery [Section 61](strlschg_en_bf.pdf:0:102).  \n",
       "\n",
       "For formal release from oversight, parties must submit residue-specific details (e.g., volume and characteristics) to competent authorities when legally required. Release is permitted only if three conditions are met:  \n",
       "1. Public exposure limits are respected (effective dose ≤ **1 mSv/year**),  \n",
       "2. Worker radiation exposure does not exceed legal thresholds, and  \n",
       "3. Compliance with broader waste management laws [Section 62](strlschg_en_bf.pdf:0:103).  \n",
       "\n",
       "This structured approach ensures residues are managed safely while balancing regulatory rigor with operational feasibility."
      ],
      "text/plain": [
       "<IPython.core.display.Markdown object>"
      ]
     },
     "metadata": {},
     "output_type": "display_data"
    },
    {
     "name": "stdout",
     "output_type": "stream",
     "text": [
      "Time taken: 49.68 seconds\n",
      "________________________________\n"
     ]
    },
    {
     "data": {
      "text/markdown": [
       "#LLM: gemma3:27b"
      ],
      "text/plain": [
       "<IPython.core.display.Markdown object>"
      ]
     },
     "metadata": {},
     "output_type": "display_data"
    },
    {
     "data": {
      "text/markdown": [
       "Methods of recovery and disposal laid down by a statutory ordinance must be complied with for residue disposal or recovery [strlschg_en_bf.pdf](strlschg_en_bf.pdf:0:102). The federal government is empowered to issue a statutory ordinance, with the consent of the Bundesrat, establishing monitoring limits and methods for residue recovery and disposal [strlschg_en_bf.pdf](strlschg_en_bf.pdf:0:102). Residues accumulated may not be mixed or diluted before disposal or recovery to meet monitoring limits [strlschg_en_bf.pdf](strlschg_en_bf.pdf:0:102). This applies to residues accumulated abroad and brought into Germany for recovery [strlschg_en_bf.pdf](strlschg_en_bf.pdf:0:102). If residues requiring monitoring are stored on the operating premises of the obligated party, this storage must be declared to the competent authority, and cessation of storage must be reported without undue delay [strlschg_en_bf.pdf](strlschg_en_bf.pdf:0:102). For residues not subject to monitoring requirements, the competent authority may require proof of compliance with monitoring limits and recovery/disposal methods [strlschg_en_bf.pdf](strlschg_en_bf.pdf:0:102). The obligated party must secure residues against loss and unauthorized access before disposal or recovery, and may only pass them on to other parties for these purposes [strlschg_en_bf.pdf](strlschg_en_bf.pdf:0:102). Cross-border transportation of residues into Germany for disposal is prohibited [strlschg_en_bf.pdf](strlschg_en_bf.pdf:0:102).\n",
       "\n",
       "The party obligated under section 61 subsection 1, first sentence, must declare the intended recovery or disposal of residues to the competent authority, stating their nature, mass, and specific activity, as soon as it is established that monitoring is required [strlschg_en_bf.pdf](strlschg_en_bf.pdf:0:103). A declaration may be waived if notification is made under section 63 subsection 1 due to the nature and specific activity of the residues [strlschg_en_bf.pdf](strlschg_en_bf.pdf:0:103). The competent authority may release residues requiring monitoring from that monitoring for a particular recovery or disposal if the requisite protection of the population is ensured by the measures in place, the body dose of occupational workers does not exceed levels for occupationally exposed persons, and there are no reservations under waste law regarding the permissibility of the recovery/disposal method [strlschg_en_bf.pdf](strlschg_en_bf.pdf:0:103). Release from the monitoring obligation is effected by written notice [strlschg_en_bf.pdf](strlschg_en_bf.pdf:0:103). The criteria for public protection is that, as a constraint for public exposure caused by disposal or recovery, an effective dose of 1 mSv in a given calendar year is acceptable even without additional measures [strlschg_en_bf.pdf](strlschg_en_bf.pdf:0:103)."
      ],
      "text/plain": [
       "<IPython.core.display.Markdown object>"
      ]
     },
     "metadata": {},
     "output_type": "display_data"
    },
    {
     "name": "stdout",
     "output_type": "stream",
     "text": [
      "Time taken: 26.59 seconds\n",
      "________________________________\n"
     ]
    },
    {
     "data": {
      "text/markdown": [
       "#LLM: llama3.3"
      ],
      "text/plain": [
       "<IPython.core.display.Markdown object>"
      ]
     },
     "metadata": {},
     "output_type": "display_data"
    },
    {
     "data": {
      "text/markdown": [
       "To release residues from regulatory control, the party under obligation must declare the intended recovery or disposal of the residues to the competent authority without undue delay, stating their nature, mass and specific activity [strlschg_en_bf.pdf](strlschg_en_bf.pdf:0:103). This declaration is required as soon as it is established that the residues require monitoring in accordance with section 61 subsection 2 [strlschg_en_bf.pdf](strlschg_en_bf.pdf:0:102). However, a declaration may be dispensed with where notification is made in accordance with section 63 subsection 1 due to the nature and specific activity of the residues requiring monitoring [strlschg_en_bf.pdf](strlschg_en_bf.pdf:0:103).\n",
       "\n",
       "The competent authority shall release residues requiring monitoring from that monitoring for the purpose of a particular recovery or disposal, at the request of the party under obligation, if certain conditions are met [strlschg_en_bf.pdf](strlschg_en_bf.pdf:0:103). These conditions include ensuring the requisite protection of the population against exposure through measures put in place for recovery or disposal [strlschg_en_bf.pdf](strlschg_en_bf.pdf:0:103), limiting the body dose of occupational workers to levels that do not exceed categorization as an occupationally-exposed person [strlschg_en_bf.pdf](strlschg_en_bf.pdf:0:103), and compliance with waste law regarding the permissibility and execution of the recovery or disposal method [strlschg_en_bf.pdf](strlschg_en_bf.pdf:0:103).\n",
       "\n",
       "Release from the monitoring obligation is effected by means of notice in writing [strlschg_en_bf.pdf](strlschg_en_bf.pdf:0:103). The criteria for public protection include ensuring that even without additional measures, an effective dose of 1 mSv in a given calendar year is not exceeded due to disposal or recovery activities [strlschg_en_bf.pdf](strlschg_en_bf.pdf:0:103).\n",
       "\n",
       "It's also important to note that residues accumulated may not be mixed or diluted prior to their intended disposal or recovery to satisfy monitoring limits [strlschg_en_bf.pdf](strlschg_en_bf.pdf:0:102), and the party subject to an obligation must secure residues against loss and unauthorized access before disposal or recovery, only passing them on for these purposes [strlschg_en_bf.pdf](strlschg_en_bf.pdf:0:102). Additionally, cross-border transportation of residues into Germany for disposal is prohibited [strlschg_en_bf.pdf](strlschg_en_bf.pdf:0:102).\n",
       "\n",
       "The federal government has the power to issue statutory ordinances with the consent of the Bundesrat to establish monitoring limits and methods of recovery and disposal applicable to residues [strlschg_en_bf.pdf](strlschg_en_bf.pdf:0:102), which must be complied with in their disposal or recovery as laid down by a statutory ordinance [strlschg_en_bf.pdf](strlschg_en_bf.pdf:0:102)."
      ],
      "text/plain": [
       "<IPython.core.display.Markdown object>"
      ]
     },
     "metadata": {},
     "output_type": "display_data"
    },
    {
     "name": "stdout",
     "output_type": "stream",
     "text": [
      "Time taken: 45.40 seconds\n",
      "________________________________\n"
     ]
    },
    {
     "data": {
      "text/markdown": [
       "#LLM: mistral-small"
      ],
      "text/plain": [
       "<IPython.core.display.Markdown object>"
      ]
     },
     "metadata": {},
     "output_type": "display_data"
    },
    {
     "data": {
      "text/markdown": [
       "To release residues from regulatory control under German law, specific procedures and criteria must be followed. The party obligated by Section 61(1) of the statutory ordinance must declare their intended recovery or disposal to the competent authority without undue delay if they determine that these residues require monitoring in accordance with Section 61(2). This declaration includes details about the nature, mass, and specific activity of the residues. However, this requirement can be waived under certain conditions specified by Section 63 (1) [strlschg_en_bf.pdf](strlschg_en_bf.pdf:0:103).\n",
       "\n",
       "The competent authority may release monitored residues from monitoring obligations for a particular recovery or disposal if several criteria are met. These include ensuring the protection of the population against exposure through appropriate measures, maintaining occupational worker body doses within permissible levels, and complying with waste law regulations regarding the method of recovery or disposal [strlschg_en_bf.pdf](strlschg_en_bf.pdf:0:103).\n",
       "\n",
       "The criteria for public safety stipulate that even without additional protective measures, the effective dose to members of the public should not exceed 1 mSv in a given calendar year. This release from monitoring obligations is formalized through written notification [strlschg_en_bf.pdf](strlschg_en_bf.pdf:0:103)."
      ],
      "text/plain": [
       "<IPython.core.display.Markdown object>"
      ]
     },
     "metadata": {},
     "output_type": "display_data"
    },
    {
     "name": "stdout",
     "output_type": "stream",
     "text": [
      "Time taken: 14.68 seconds\n",
      "________________________________\n"
     ]
    },
    {
     "data": {
      "text/markdown": [
       "#LLM: mistral-nemo"
      ],
      "text/plain": [
       "<IPython.core.display.Markdown object>"
      ]
     },
     "metadata": {},
     "output_type": "display_data"
    },
    {
     "data": {
      "text/markdown": [
       "**Summary:**\n",
       "\n",
       "The German Atomic Energy Act (AtG) outlines regulations for the recovery and disposal of radioactive residues, empowering the federal government to issue ordinances establishing monitoring limits and methods. Key provisions include:\n",
       "\n",
       "- **Residue Management:** Residues must not be mixed or diluted before disposal/recovery to meet monitoring limits [1](strlschg_en_bf.pdf:0:102).\n",
       "- **Cross-Border Transportation Ban:** Importing residues for disposal into Germany is prohibited [7][1].\n",
       "- **Declaration Requirements:** Parties under obligation must declare intended recovery/disposal of monitored residues, stating nature, mass, and specific activity [8](strlschg_en_bf.pdf:0:103).\n",
       "- **Release from Monitoring:** Upon request, the competent authority may release residues from monitoring for a particular recovery/disposal if certain conditions are met, such as ensuring population protection and adhering to waste laws. Release is effected by written notice [9][2].\n",
       "- **Public Protection Criteria:** The constraint for public exposure caused by disposal/recovery should not exceed an effective dose of 1 mSv in a given calendar year without additional measures [3].\n",
       "\n",
       "**References:**\n",
       "[1] strlschg_en_bf.pdf:0:102\n",
       "[2] strlschg_en_bf.pdf:0:103"
      ],
      "text/plain": [
       "<IPython.core.display.Markdown object>"
      ]
     },
     "metadata": {},
     "output_type": "display_data"
    },
    {
     "name": "stdout",
     "output_type": "stream",
     "text": [
      "Time taken: 6.24 seconds\n",
      "________________________________\n"
     ]
    }
   ],
   "source": [
    "for model in models:\n",
    "    start_time = time.time()\n",
    "    summary = source_summarizer_Ollama('',tr,model)\n",
    "    elapsed_time = time.time() - start_time\n",
    "    display(Markdown(f'#LLM: {model}'))\n",
    "    display(Markdown(summary['content']))\n",
    "    print(f'Time taken: {elapsed_time:.2f} seconds')\n",
    "    print('________________________________')"
   ]
  },
  {
   "cell_type": "code",
   "execution_count": 17,
   "metadata": {},
   "outputs": [
    {
     "name": "stderr",
     "output_type": "stream",
     "text": [
      "Some weights of BertModel were not initialized from the model checkpoint at jinaai/jina-embeddings-v2-base-de and are newly initialized: ['embeddings.position_embeddings.weight', 'encoder.layer.0.intermediate.dense.bias', 'encoder.layer.0.intermediate.dense.weight', 'encoder.layer.0.output.LayerNorm.bias', 'encoder.layer.0.output.LayerNorm.weight', 'encoder.layer.0.output.dense.bias', 'encoder.layer.0.output.dense.weight', 'encoder.layer.1.intermediate.dense.bias', 'encoder.layer.1.intermediate.dense.weight', 'encoder.layer.1.output.LayerNorm.bias', 'encoder.layer.1.output.LayerNorm.weight', 'encoder.layer.1.output.dense.bias', 'encoder.layer.1.output.dense.weight', 'encoder.layer.10.intermediate.dense.bias', 'encoder.layer.10.intermediate.dense.weight', 'encoder.layer.10.output.LayerNorm.bias', 'encoder.layer.10.output.LayerNorm.weight', 'encoder.layer.10.output.dense.bias', 'encoder.layer.10.output.dense.weight', 'encoder.layer.11.intermediate.dense.bias', 'encoder.layer.11.intermediate.dense.weight', 'encoder.layer.11.output.LayerNorm.bias', 'encoder.layer.11.output.LayerNorm.weight', 'encoder.layer.11.output.dense.bias', 'encoder.layer.11.output.dense.weight', 'encoder.layer.2.intermediate.dense.bias', 'encoder.layer.2.intermediate.dense.weight', 'encoder.layer.2.output.LayerNorm.bias', 'encoder.layer.2.output.LayerNorm.weight', 'encoder.layer.2.output.dense.bias', 'encoder.layer.2.output.dense.weight', 'encoder.layer.3.intermediate.dense.bias', 'encoder.layer.3.intermediate.dense.weight', 'encoder.layer.3.output.LayerNorm.bias', 'encoder.layer.3.output.LayerNorm.weight', 'encoder.layer.3.output.dense.bias', 'encoder.layer.3.output.dense.weight', 'encoder.layer.4.intermediate.dense.bias', 'encoder.layer.4.intermediate.dense.weight', 'encoder.layer.4.output.LayerNorm.bias', 'encoder.layer.4.output.LayerNorm.weight', 'encoder.layer.4.output.dense.bias', 'encoder.layer.4.output.dense.weight', 'encoder.layer.5.intermediate.dense.bias', 'encoder.layer.5.intermediate.dense.weight', 'encoder.layer.5.output.LayerNorm.bias', 'encoder.layer.5.output.LayerNorm.weight', 'encoder.layer.5.output.dense.bias', 'encoder.layer.5.output.dense.weight', 'encoder.layer.6.intermediate.dense.bias', 'encoder.layer.6.intermediate.dense.weight', 'encoder.layer.6.output.LayerNorm.bias', 'encoder.layer.6.output.LayerNorm.weight', 'encoder.layer.6.output.dense.bias', 'encoder.layer.6.output.dense.weight', 'encoder.layer.7.intermediate.dense.bias', 'encoder.layer.7.intermediate.dense.weight', 'encoder.layer.7.output.LayerNorm.bias', 'encoder.layer.7.output.LayerNorm.weight', 'encoder.layer.7.output.dense.bias', 'encoder.layer.7.output.dense.weight', 'encoder.layer.8.intermediate.dense.bias', 'encoder.layer.8.intermediate.dense.weight', 'encoder.layer.8.output.LayerNorm.bias', 'encoder.layer.8.output.LayerNorm.weight', 'encoder.layer.8.output.dense.bias', 'encoder.layer.8.output.dense.weight', 'encoder.layer.9.intermediate.dense.bias', 'encoder.layer.9.intermediate.dense.weight', 'encoder.layer.9.output.LayerNorm.bias', 'encoder.layer.9.output.LayerNorm.weight', 'encoder.layer.9.output.dense.bias', 'encoder.layer.9.output.dense.weight']\n",
      "You should probably TRAIN this model on a down-stream task to be able to use it for predictions and inference.\n"
     ]
    },
    {
     "name": "stdout",
     "output_type": "stream",
     "text": [
      "-------------------------\n",
      "Using embedding model: jinaai/jina-embeddings-v2-base-de\n",
      "client=SentenceTransformer(\n",
      "  (0): Transformer({'max_seq_length': 8192, 'do_lower_case': False}) with Transformer model: BertModel \n",
      "  (1): Pooling({'word_embedding_dimension': 768, 'pooling_mode_cls_token': False, 'pooling_mode_mean_tokens': True, 'pooling_mode_max_tokens': False, 'pooling_mode_mean_sqrt_len_tokens': False, 'pooling_mode_weightedmean_tokens': False, 'pooling_mode_lasttoken': False, 'include_prompt': True})\n",
      "  (2): Normalize()\n",
      ") model_name='jinaai/jina-embeddings-v2-base-de' cache_folder=None model_kwargs={'device': 'cpu'} encode_kwargs={} multi_process=False show_progress=False\n",
      "-------------------------\n"
     ]
    },
    {
     "data": {
      "text/plain": [
       "HuggingFaceEmbeddings(client=SentenceTransformer(\n",
       "  (0): Transformer({'max_seq_length': 8192, 'do_lower_case': False}) with Transformer model: BertModel \n",
       "  (1): Pooling({'word_embedding_dimension': 768, 'pooling_mode_cls_token': False, 'pooling_mode_mean_tokens': True, 'pooling_mode_max_tokens': False, 'pooling_mode_mean_sqrt_len_tokens': False, 'pooling_mode_weightedmean_tokens': False, 'pooling_mode_lasttoken': False, 'include_prompt': True})\n",
       "  (2): Normalize()\n",
       "), model_name='jinaai/jina-embeddings-v2-base-de', cache_folder=None, model_kwargs={'device': 'cpu'}, encode_kwargs={}, multi_process=False, show_progress=False)"
      ]
     },
     "execution_count": 17,
     "metadata": {},
     "output_type": "execute_result"
    }
   ],
   "source": [
    "get_embedding_model()"
   ]
  },
  {
   "cell_type": "code",
   "execution_count": 18,
   "metadata": {},
   "outputs": [
    {
     "ename": "ModuleNotFoundError",
     "evalue": "No module named 'langchain_ollama'",
     "output_type": "error",
     "traceback": [
      "\u001b[31m---------------------------------------------------------------------------\u001b[39m",
      "\u001b[31mModuleNotFoundError\u001b[39m                       Traceback (most recent call last)",
      "\u001b[36mCell\u001b[39m\u001b[36m \u001b[39m\u001b[32mIn[18]\u001b[39m\u001b[32m, line 1\u001b[39m\n\u001b[32m----> \u001b[39m\u001b[32m1\u001b[39m \u001b[38;5;28;01mfrom\u001b[39;00m\u001b[38;5;250m \u001b[39m\u001b[34;01mlangchain_ollama\u001b[39;00m\u001b[38;5;250m \u001b[39m\u001b[38;5;28;01mimport\u001b[39;00m ChatOllama\n\u001b[32m      2\u001b[39m \u001b[38;5;28;01mfrom\u001b[39;00m\u001b[38;5;250m \u001b[39m\u001b[34;01mlangchain_core\u001b[39;00m\u001b[34;01m.\u001b[39;00m\u001b[34;01mmessages\u001b[39;00m\u001b[38;5;250m \u001b[39m\u001b[38;5;28;01mimport\u001b[39;00m SystemMessage, HumanMessage\n\u001b[32m      3\u001b[39m \u001b[38;5;28;01mimport\u001b[39;00m\u001b[38;5;250m \u001b[39m\u001b[34;01mre\u001b[39;00m\n",
      "\u001b[31mModuleNotFoundError\u001b[39m: No module named 'langchain_ollama'"
     ]
    }
   ],
   "source": [
    "from langchain_ollama import ChatOllama\n",
    "from langchain_core.messages import SystemMessage, HumanMessage\n",
    "import re\n",
    "\n",
    "def source_summarizer_ChatOllama(context_documents, llm_model=\"deepseek-r1\"):\n",
    "    system_message = SUMMARIZER_SYSTEM_PROMPT\n",
    "\n",
    "    formatted_context = \"\\n\".join(\n",
    "        f\"Content: {doc['content']}\\nSource: {doc['metadata']['name']}\\nPath: {doc['metadata']['path']}\"\n",
    "        for doc in context_documents\n",
    "    )\n",
    "\n",
    "    prompt = f\"\"\"\n",
    "    Here are the documents to summarize:\n",
    "    \n",
    "    {formatted_context}\n",
    "    \n",
    "    Provide a concise summary with proper citations:\n",
    "    \"\"\"\n",
    "    \n",
    "    # Initialize ChatOllama with the specified model and temperature\n",
    "    llm = ChatOllama(model=llm_model, temperature=0.1)\n",
    "    \n",
    "    # Format messages for LangChain\n",
    "    messages = [\n",
    "        SystemMessage(content=system_message),\n",
    "        HumanMessage(content=prompt)\n",
    "    ]\n",
    "    \n",
    "    # Get response from the model\n",
    "    response = llm.invoke(messages)\n",
    "    \n",
    "    # Extract content from response\n",
    "    response_content = response.content\n",
    "    \n",
    "    # Clean markdown formatting if present\n",
    "    try:\n",
    "        final_content = re.sub(r\"<think>.*?</think>\", \"\", response_content, flags=re.DOTALL).strip()\n",
    "    except:\n",
    "        final_content = response_content.strip()\n",
    "\n",
    "    # Extract metadata from all documents\n",
    "    document_names = [doc['metadata']['name'] for doc in context_documents]\n",
    "    document_paths = [doc['metadata']['path'] for doc in context_documents]\n",
    "\n",
    "    return {\n",
    "        \"content\": final_content,\n",
    "        \"metadata\": {\n",
    "            \"name\": document_names,\n",
    "            \"path\": document_paths\n",
    "        }\n",
    "    }\n"
   ]
  },
  {
   "cell_type": "code",
   "execution_count": null,
   "metadata": {},
   "outputs": [],
   "source": [
    "for model in models:\n",
    "    start_time = time.time()\n",
    "    summary = source_summarizer_ChatOllama(tr,model)\n",
    "    elapsed_time = time.time() - start_time\n",
    "    display(Markdown(f'#LLM: {model}'))\n",
    "    display(Markdown(summary['content']))\n",
    "    print(f'Time taken: {elapsed_time:.2f} seconds')\n",
    "    print('________________________________')"
   ]
  }
 ],
 "metadata": {
  "kernelspec": {
   "display_name": "lrrd-venv",
   "language": "python",
   "name": "python3"
  },
  "language_info": {
   "codemirror_mode": {
    "name": "ipython",
    "version": 3
   },
   "file_extension": ".py",
   "mimetype": "text/x-python",
   "name": "python",
   "nbconvert_exporter": "python",
   "pygments_lexer": "ipython3",
   "version": "3.12.3"
  }
 },
 "nbformat": 4,
 "nbformat_minor": 2
}
