{
 "cells": [
  {
   "cell_type": "code",
   "execution_count": 1,
   "metadata": {},
   "outputs": [],
   "source": [
    "import sys, os\n",
    "sys.path.append(os.path.abspath(os.path.join(os.getcwd(), '..')))\n",
    "\n",
    "from src.assistant.rag_helpers import similarity_search_for_tenant\n",
    "from src.assistant.vector_db import get_embedding_model"
   ]
  },
  {
   "cell_type": "code",
   "execution_count": 2,
   "metadata": {},
   "outputs": [
    {
     "name": "stderr",
     "output_type": "stream",
     "text": [
      "/tmp/ipykernel_1480319/2424114893.py:11: LangChainDeprecationWarning: The class `HuggingFaceEmbeddings` was deprecated in LangChain 0.2.2 and will be removed in 1.0. An updated version of the class exists in the :class:`~langchain-huggingface package and should be used instead. To use it run `pip install -U :class:`~langchain-huggingface` and import as `from :class:`~langchain_huggingface import HuggingFaceEmbeddings``.\n",
      "  embed_llm=HuggingFaceEmbeddings(model_name='sentence-transformers/all-mpnet-base-v2', model_kwargs={'device': 'cpu'}),\n",
      "/home/he/ai/dev/langgraph/local-rag-researcher-deepseek-he/lrrd-venv/lib/python3.12/site-packages/tqdm/auto.py:21: TqdmWarning: IProgress not found. Please update jupyter and ipywidgets. See https://ipywidgets.readthedocs.io/en/stable/user_install.html\n",
      "  from .autonotebook import tqdm as notebook_tqdm\n"
     ]
    },
    {
     "name": "stdout",
     "output_type": "stream",
     "text": [
      "CUDA memory cache cleared\n"
     ]
    },
    {
     "name": "stderr",
     "output_type": "stream",
     "text": [
      "/home/he/ai/dev/langgraph/local-rag-researcher-deepseek-he/src/assistant/rag_helpers.py:91: LangChainDeprecationWarning: The class `Chroma` was deprecated in LangChain 0.2.9 and will be removed in 1.0. An updated version of the class exists in the :class:`~langchain-chroma package and should be used instead. To use it run `pip install -U :class:`~langchain-chroma` and import as `from :class:`~langchain_chroma import Chroma``.\n",
      "  vectorstore = Chroma(\n"
     ]
    },
    {
     "name": "stdout",
     "output_type": "stream",
     "text": [
      "CUDA memory cache cleared\n"
     ]
    },
    {
     "data": {
      "text/plain": [
       "[Document(metadata={'id': 'strlschg_en_bf.pdf:0:102', 'page': 0, 'path': 'files/strlschg_en_bf.pdf', 'source': 'strlschg_en_bf.pdf'}, page_content='methods of recovery and disposal laid down by a statutory ordinance in accordance with the second sentence are complied with in their disposal or recovery. the federal government is herewith empowered to issue a statutory ordinance, with the consent of the bundesrat, es\\xad tablishing the monitoring limits and methods of recovery and disposal to apply to residues. 3 residues accumulated may not be mixed or diluted prior to their intended disposal or recovery in order to satisfy the monitoring limits in accordance with subsection 2. the first sentence shall also apply to residues accumulated abroad and brought into germany for recovery. 4 if the residues requiring monitoring are stored on the operating premises of the par\\xad ty subject to an obligation in accordance with subsection 1, the latter must declare said storage to the competent authority. the competent authority shall be informed without undue delay if such storage ceases. 5 for those residues that are not subject to a monitoring requirement, the competent authority may require that compliance be proven with the monitoring limits and methods of recovery and disposal in accordance with a statutory ordinance in accordance with the sec\\xad ond sentence of subsection 2. to this end, the competent authority may lay down technical procedures, suitable measurement procedures and other requirements, in particular those covering the ascertainment of representative measurement values for the specific activity. 6 the party subject to an obligation in accordance with subsection 1 shall secure residues against loss and against access by unauthorised parties prior to their disposal or recovery. they may only be passed on to other party for the purpose of the disposal or re\\xad covery. 7 the crossborder transportation of residues into germany for their disposal is here\\xad 71 with prohibited. section 62 release of residues from monitoring empowerment to issue ordinances 1 the party under an obligation in accordance with section 61'),\n",
       " Document(metadata={'id': 'strlschg_en_bf.pdf:0:103', 'page': 0, 'path': 'files/strlschg_en_bf.pdf', 'source': 'strlschg_en_bf.pdf'}, page_content='by unauthorised parties prior to their disposal or recovery. they may only be passed on to other party for the purpose of the disposal or re\\xad covery. 7 the crossborder transportation of residues into germany for their disposal is here\\xad 71 with prohibited. section 62 release of residues from monitoring empowerment to issue ordinances 1 the party under an obligation in accordance with section 61 subsection 1, first sentence, must declare the intended recovery or disposal of the residues to the competent authority without undue delay, stating their nature, mass and specific activity, as soon as he or she has established that said residues require monitoring in accordance with section 61 subsection 2. a declaration in accordance with the first sentence above may be dispensed with where notification is made in accordance with section 63 subsection 1 due to the na\\xad ture and specific activity of the residues requiring monitoring. 2 at the request of the party under an obligation in accordance with section 61 sub\\xad section 1, first sentence, the competent authority shall release residues requiring monitor\\xad ing from that monitoring for the purpose of a particular recovery or disposal, where 1. the requisite protection of the population against exposure is ensured by means of the measures put in place for recovery or disposal, 2. the body dose of occupational workers in the course of disposal or recovery cannot ex\\xad ceed the levels for categorisation as an occupationallyexposed person, and 3. there are no reservations under the law on waste as to the permissibility of the envis\\xad aged method of recovery or disposal and as to whether it will be complied with. release from the monitoring obligation shall be effected by means of notice in writing. 3 the criteria for the protection of the public shall be that, as the constraint for the ex\\xad posure of members of the public caused by disposal or recovery, even without additional measures an effective dose of 1 msv in a given calendar')]"
      ]
     },
     "execution_count": 2,
     "metadata": {},
     "output_type": "execute_result"
    }
   ],
   "source": [
    "from langchain_community.embeddings import HuggingFaceEmbeddings\n",
    "\n",
    "# Test query\n",
    "test_query = \"how to release residues from regulatory control\"\n",
    "\n",
    "# Get results\n",
    "results = similarity_search_for_tenant(\n",
    "    tenant_id=\"default\",\n",
    "    #embed_llm=get_embedding_model().\n",
    "    #embed_llm=HuggingFaceEmbeddings(model_name='jinaai/jina-embeddings-v2-base-de', model_kwargs={'device': 'cpu'}),\n",
    "    embed_llm=HuggingFaceEmbeddings(model_name='sentence-transformers/all-mpnet-base-v2', model_kwargs={'device': 'cpu'}),\n",
    "    persist_directory=\"/home/he/ai/dev/langgraph/local-rag-researcher-deepseek-he/database/sentence-transformers--all-mpnet-base-v2\",\n",
    "    similarity=\"cosine\",\n",
    "    normal=True,\n",
    "    query=test_query\n",
    ")\n",
    "\n",
    "# Print results\n",
    "results"
   ]
  },
  {
   "cell_type": "code",
   "execution_count": 3,
   "metadata": {},
   "outputs": [
    {
     "name": "stderr",
     "output_type": "stream",
     "text": [
      "Some weights of BertModel were not initialized from the model checkpoint at jinaai/jina-embeddings-v2-base-de and are newly initialized: ['embeddings.position_embeddings.weight', 'encoder.layer.0.intermediate.dense.bias', 'encoder.layer.0.intermediate.dense.weight', 'encoder.layer.0.output.LayerNorm.bias', 'encoder.layer.0.output.LayerNorm.weight', 'encoder.layer.0.output.dense.bias', 'encoder.layer.0.output.dense.weight', 'encoder.layer.1.intermediate.dense.bias', 'encoder.layer.1.intermediate.dense.weight', 'encoder.layer.1.output.LayerNorm.bias', 'encoder.layer.1.output.LayerNorm.weight', 'encoder.layer.1.output.dense.bias', 'encoder.layer.1.output.dense.weight', 'encoder.layer.10.intermediate.dense.bias', 'encoder.layer.10.intermediate.dense.weight', 'encoder.layer.10.output.LayerNorm.bias', 'encoder.layer.10.output.LayerNorm.weight', 'encoder.layer.10.output.dense.bias', 'encoder.layer.10.output.dense.weight', 'encoder.layer.11.intermediate.dense.bias', 'encoder.layer.11.intermediate.dense.weight', 'encoder.layer.11.output.LayerNorm.bias', 'encoder.layer.11.output.LayerNorm.weight', 'encoder.layer.11.output.dense.bias', 'encoder.layer.11.output.dense.weight', 'encoder.layer.2.intermediate.dense.bias', 'encoder.layer.2.intermediate.dense.weight', 'encoder.layer.2.output.LayerNorm.bias', 'encoder.layer.2.output.LayerNorm.weight', 'encoder.layer.2.output.dense.bias', 'encoder.layer.2.output.dense.weight', 'encoder.layer.3.intermediate.dense.bias', 'encoder.layer.3.intermediate.dense.weight', 'encoder.layer.3.output.LayerNorm.bias', 'encoder.layer.3.output.LayerNorm.weight', 'encoder.layer.3.output.dense.bias', 'encoder.layer.3.output.dense.weight', 'encoder.layer.4.intermediate.dense.bias', 'encoder.layer.4.intermediate.dense.weight', 'encoder.layer.4.output.LayerNorm.bias', 'encoder.layer.4.output.LayerNorm.weight', 'encoder.layer.4.output.dense.bias', 'encoder.layer.4.output.dense.weight', 'encoder.layer.5.intermediate.dense.bias', 'encoder.layer.5.intermediate.dense.weight', 'encoder.layer.5.output.LayerNorm.bias', 'encoder.layer.5.output.LayerNorm.weight', 'encoder.layer.5.output.dense.bias', 'encoder.layer.5.output.dense.weight', 'encoder.layer.6.intermediate.dense.bias', 'encoder.layer.6.intermediate.dense.weight', 'encoder.layer.6.output.LayerNorm.bias', 'encoder.layer.6.output.LayerNorm.weight', 'encoder.layer.6.output.dense.bias', 'encoder.layer.6.output.dense.weight', 'encoder.layer.7.intermediate.dense.bias', 'encoder.layer.7.intermediate.dense.weight', 'encoder.layer.7.output.LayerNorm.bias', 'encoder.layer.7.output.LayerNorm.weight', 'encoder.layer.7.output.dense.bias', 'encoder.layer.7.output.dense.weight', 'encoder.layer.8.intermediate.dense.bias', 'encoder.layer.8.intermediate.dense.weight', 'encoder.layer.8.output.LayerNorm.bias', 'encoder.layer.8.output.LayerNorm.weight', 'encoder.layer.8.output.dense.bias', 'encoder.layer.8.output.dense.weight', 'encoder.layer.9.intermediate.dense.bias', 'encoder.layer.9.intermediate.dense.weight', 'encoder.layer.9.output.LayerNorm.bias', 'encoder.layer.9.output.LayerNorm.weight', 'encoder.layer.9.output.dense.bias', 'encoder.layer.9.output.dense.weight']\n",
      "You should probably TRAIN this model on a down-stream task to be able to use it for predictions and inference.\n"
     ]
    },
    {
     "name": "stdout",
     "output_type": "stream",
     "text": [
      "-------------------------\n",
      "Using embedding model: jinaai/jina-embeddings-v2-base-de\n",
      "client=SentenceTransformer(\n",
      "  (0): Transformer({'max_seq_length': 8192, 'do_lower_case': False}) with Transformer model: BertModel \n",
      "  (1): Pooling({'word_embedding_dimension': 768, 'pooling_mode_cls_token': False, 'pooling_mode_mean_tokens': True, 'pooling_mode_max_tokens': False, 'pooling_mode_mean_sqrt_len_tokens': False, 'pooling_mode_weightedmean_tokens': False, 'pooling_mode_lasttoken': False, 'include_prompt': True})\n",
      "  (2): Normalize()\n",
      ") model_name='jinaai/jina-embeddings-v2-base-de' cache_folder=None model_kwargs={'device': 'cpu'} encode_kwargs={} multi_process=False show_progress=False\n",
      "-------------------------\n"
     ]
    },
    {
     "data": {
      "text/plain": [
       "HuggingFaceEmbeddings(client=SentenceTransformer(\n",
       "  (0): Transformer({'max_seq_length': 8192, 'do_lower_case': False}) with Transformer model: BertModel \n",
       "  (1): Pooling({'word_embedding_dimension': 768, 'pooling_mode_cls_token': False, 'pooling_mode_mean_tokens': True, 'pooling_mode_max_tokens': False, 'pooling_mode_mean_sqrt_len_tokens': False, 'pooling_mode_weightedmean_tokens': False, 'pooling_mode_lasttoken': False, 'include_prompt': True})\n",
       "  (2): Normalize()\n",
       "), model_name='jinaai/jina-embeddings-v2-base-de', cache_folder=None, model_kwargs={'device': 'cpu'}, encode_kwargs={}, multi_process=False, show_progress=False)"
      ]
     },
     "execution_count": 3,
     "metadata": {},
     "output_type": "execute_result"
    }
   ],
   "source": [
    "get_embedding_model()"
   ]
  },
  {
   "cell_type": "code",
   "execution_count": 4,
   "metadata": {},
   "outputs": [],
   "source": [
    "#from langchain_community.embeddings import HuggingFaceEmbeddings\n",
    "#HuggingFaceEmbeddings(model_name='jinaai/jina-embeddings-v2-base-de', model_kwargs={'device': 'cpu'})"
   ]
  },
  {
   "cell_type": "code",
   "execution_count": 5,
   "metadata": {},
   "outputs": [
    {
     "name": "stdout",
     "output_type": "stream",
     "text": [
      "models--jinaai--jina-embeddings-v2-base-de\t  version.txt\n",
      "models--sentence-transformers--all-mpnet-base-v2\n"
     ]
    },
    {
     "name": "stderr",
     "output_type": "stream",
     "text": [
      "huggingface/tokenizers: The current process just got forked, after parallelism has already been used. Disabling parallelism to avoid deadlocks...\n",
      "To disable this warning, you can either:\n",
      "\t- Avoid using `tokenizers` before the fork if possible\n",
      "\t- Explicitly set the environment variable TOKENIZERS_PARALLELISM=(true | false)\n"
     ]
    }
   ],
   "source": [
    "!ls /home/he/.cache/huggingface/hub/"
   ]
  },
  {
   "cell_type": "code",
   "execution_count": 6,
   "metadata": {},
   "outputs": [],
   "source": [
    "#from langchain_community.embeddings import HuggingFaceEmbeddings\n",
    "#HuggingFaceEmbeddings(model_name='jinaai/jina-embeddings-v2-base-de', model_kwargs={'device': 'cpu'})"
   ]
  },
  {
   "cell_type": "code",
   "execution_count": 7,
   "metadata": {},
   "outputs": [],
   "source": [
    "def transform_documents(documents):\n",
    "    \"\"\"\n",
    "    Transforms a list of Document objects into a specific dictionary format.\n",
    "    \n",
    "    Args:\n",
    "        documents (list): List of Document objects with metadata and page_content\n",
    "        \n",
    "    Returns:\n",
    "        list: List of dictionaries with content and metadata in the required format\n",
    "    \"\"\"\n",
    "    samples = []\n",
    "    \n",
    "    for doc in documents:\n",
    "        transformed_doc = {\n",
    "            \"content\": doc.page_content,\n",
    "            \"metadata\": {\n",
    "                \"name\": doc.metadata['id'],\n",
    "                \"path\": doc.metadata['source']\n",
    "            }\n",
    "        }\n",
    "        samples.append(transformed_doc)\n",
    "    \n",
    "    return samples"
   ]
  },
  {
   "cell_type": "code",
   "execution_count": 8,
   "metadata": {},
   "outputs": [
    {
     "data": {
      "text/plain": [
       "[{'content': 'methods of recovery and disposal laid down by a statutory ordinance in accordance with the second sentence are complied with in their disposal or recovery. the federal government is herewith empowered to issue a statutory ordinance, with the consent of the bundesrat, es\\xad tablishing the monitoring limits and methods of recovery and disposal to apply to residues. 3 residues accumulated may not be mixed or diluted prior to their intended disposal or recovery in order to satisfy the monitoring limits in accordance with subsection 2. the first sentence shall also apply to residues accumulated abroad and brought into germany for recovery. 4 if the residues requiring monitoring are stored on the operating premises of the par\\xad ty subject to an obligation in accordance with subsection 1, the latter must declare said storage to the competent authority. the competent authority shall be informed without undue delay if such storage ceases. 5 for those residues that are not subject to a monitoring requirement, the competent authority may require that compliance be proven with the monitoring limits and methods of recovery and disposal in accordance with a statutory ordinance in accordance with the sec\\xad ond sentence of subsection 2. to this end, the competent authority may lay down technical procedures, suitable measurement procedures and other requirements, in particular those covering the ascertainment of representative measurement values for the specific activity. 6 the party subject to an obligation in accordance with subsection 1 shall secure residues against loss and against access by unauthorised parties prior to their disposal or recovery. they may only be passed on to other party for the purpose of the disposal or re\\xad covery. 7 the crossborder transportation of residues into germany for their disposal is here\\xad 71 with prohibited. section 62 release of residues from monitoring empowerment to issue ordinances 1 the party under an obligation in accordance with section 61',\n",
       "  'metadata': {'name': 'strlschg_en_bf.pdf:0:102',\n",
       "   'path': 'strlschg_en_bf.pdf'}},\n",
       " {'content': 'by unauthorised parties prior to their disposal or recovery. they may only be passed on to other party for the purpose of the disposal or re\\xad covery. 7 the crossborder transportation of residues into germany for their disposal is here\\xad 71 with prohibited. section 62 release of residues from monitoring empowerment to issue ordinances 1 the party under an obligation in accordance with section 61 subsection 1, first sentence, must declare the intended recovery or disposal of the residues to the competent authority without undue delay, stating their nature, mass and specific activity, as soon as he or she has established that said residues require monitoring in accordance with section 61 subsection 2. a declaration in accordance with the first sentence above may be dispensed with where notification is made in accordance with section 63 subsection 1 due to the na\\xad ture and specific activity of the residues requiring monitoring. 2 at the request of the party under an obligation in accordance with section 61 sub\\xad section 1, first sentence, the competent authority shall release residues requiring monitor\\xad ing from that monitoring for the purpose of a particular recovery or disposal, where 1. the requisite protection of the population against exposure is ensured by means of the measures put in place for recovery or disposal, 2. the body dose of occupational workers in the course of disposal or recovery cannot ex\\xad ceed the levels for categorisation as an occupationallyexposed person, and 3. there are no reservations under the law on waste as to the permissibility of the envis\\xad aged method of recovery or disposal and as to whether it will be complied with. release from the monitoring obligation shall be effected by means of notice in writing. 3 the criteria for the protection of the public shall be that, as the constraint for the ex\\xad posure of members of the public caused by disposal or recovery, even without additional measures an effective dose of 1 msv in a given calendar',\n",
       "  'metadata': {'name': 'strlschg_en_bf.pdf:0:103',\n",
       "   'path': 'strlschg_en_bf.pdf'}}]"
      ]
     },
     "execution_count": 8,
     "metadata": {},
     "output_type": "execute_result"
    }
   ],
   "source": [
    "tr=transform_documents(results)\n",
    "tr"
   ]
  },
  {
   "cell_type": "code",
   "execution_count": 9,
   "metadata": {},
   "outputs": [],
   "source": [
    "SUMMARIZER_SYSTEM_PROMPT = \"\"\"\n",
    "    You are an expert summarizer working within a RAG system. Your task is to create a comprehensive, accurate summary of the provided information while properly attributing all facts to their sources.\n",
    "\n",
    "    Guidelines:\n",
    "    - Create a clear, coherent summary using neutral and professional language\n",
    "    - Focus on the most important facts and insights\n",
    "    - Maintain factual accuracy without adding new information\n",
    "    - Maintain exact figures, data points, sections and paragraphs\n",
    "    - Cite EVERY piece of information using the format [Document Name](document_path)\n",
    "    - Place citations immediately after the relevant information\n",
    "    - Ensure each citation is correctly matched to its source\n",
    "    - Return only the plain text summary without any reliminary remarks and without markdown formatting\n",
    "\n",
    "    Important: The citation information [Document Name](document_path) is stored in a dict and provided within the 'metadata'\n",
    "    {{\n",
    "    \"content\": doc.page_content,\n",
    "    \"metadata\": {\n",
    "        \"name\": doc.metadata['id'],\n",
    "        \"path\": doc.metadata['source']\n",
    "    }}\n",
    "    \"\"\""
   ]
  },
  {
   "cell_type": "code",
   "execution_count": 10,
   "metadata": {},
   "outputs": [],
   "source": [
    "import ollama\n",
    "import re\n",
    "from IPython.display import Markdown, display"
   ]
  },
  {
   "cell_type": "code",
   "execution_count": 11,
   "metadata": {},
   "outputs": [],
   "source": [
    "def source_summarizer(query, context_documents, llm_model=\"deepseek-r1\"):\n",
    "    system_message = SUMMARIZER_SYSTEM_PROMPT\n",
    "\n",
    "    formatted_context = \"\\n\".join(\n",
    "        f\"Content: {doc['content']}\\nSource: {doc['metadata']['name']}\\nPath: {doc['metadata']['path']}\"\n",
    "        for doc in context_documents\n",
    "    )\n",
    "\n",
    "    prompt = f\"\"\"\n",
    "    Based on the user's query\n",
    "\n",
    "    {query}\n",
    "\n",
    "    , here are the documents to summarize:\n",
    "    \n",
    "    {formatted_context}\n",
    "    \n",
    "    Provide a deep summary with proper citations:\n",
    "    \"\"\"\n",
    "    \n",
    "    response = ollama.chat(\n",
    "        model=llm_model,\n",
    "        messages=[\n",
    "            {\"role\": \"system\", \"content\": system_message},\n",
    "            {\"role\": \"user\", \"content\": prompt}\n",
    "        ]\n",
    "    )\n",
    "    \n",
    "    response_content = response[\"message\"][\"content\"]\n",
    "    \n",
    "    # Clean markdown formatting if present\n",
    "    try:\n",
    "        final_content = re.sub(r\"<think>.*?</think>\", \"\", response_content, flags=re.DOTALL).strip()\n",
    "    except:\n",
    "        final_content = response_content.strip()\n",
    "\n",
    "    # Extract metadata from all documents\n",
    "    document_names = [doc['metadata']['name'] for doc in context_documents]\n",
    "    document_paths = [doc['metadata']['path'] for doc in context_documents]\n",
    "\n",
    "    return {\n",
    "        \"content\": final_content,\n",
    "        \"metadata\": {\n",
    "            \"name\": document_names,\n",
    "            \"path\": document_paths\n",
    "        }\n",
    "    }"
   ]
  },
  {
   "cell_type": "code",
   "execution_count": 12,
   "metadata": {},
   "outputs": [
    {
     "data": {
      "text/plain": [
       "{'content': 'The provided documents outline the statutory regulations governing the monitoring and disposal of residues (byproducts) in Germany, as established by a federal ordinance. The key provisions include:\\n\\n- **Monitoring Requirements**: Residues requiring monitoring must meet specified limits to avoid dilution or mixing. These requirements apply both domestically and internationally. The competent authority must be informed of storage locations for residues subject to monitoring and notified without undue delay if storage ceases.\\n  \\n- **Storage Obligations**: Parties under an obligation may store residues on their premises but must declare such storage to the competent authority. Storage can only cease if notified promptly.\\n\\n- **Cross-Border Restrictions**: The transport of residues into Germany for disposal is prohibited.\\n\\n- **Release of Residues**: Release from monitoring requirements and approval to issue new ordinances depend on factors such as population protection, occupational exposure limits, and waste law compliance. Release is facilitated through written notices under specific conditions.\\n\\nFor detailed sections and subsections, refer to the respective pages in `strlschg_en_bf.pdf`.\\n\\n[Citations: (strlschg_en_bf.pdf:0:102)]:  \\n1. Monitoring Limits and Methods ([strlschg_en_bf.pdf:0:102]  \\n2. Storage Declaration Obligations  \\n3. Cross-Border Transportation Restrictions  \\n4. Release from Monitoring Obligation  \\n\\n[Citations: (strlschg_en_bf.pdf:0:103)]  \\n5. Declaration of Intent to Dispose or Recover ([strlschg_en_bf.pdf:0:103]  \\n6. Conditions for Residue Release',\n",
       " 'metadata': {'name': ['strlschg_en_bf.pdf:0:102', 'strlschg_en_bf.pdf:0:103'],\n",
       "  'path': ['strlschg_en_bf.pdf', 'strlschg_en_bf.pdf']}}"
      ]
     },
     "execution_count": 12,
     "metadata": {},
     "output_type": "execute_result"
    }
   ],
   "source": [
    "smry = source_summarizer('',tr)\n",
    "smry"
   ]
  },
  {
   "cell_type": "code",
   "execution_count": 13,
   "metadata": {},
   "outputs": [
    {
     "data": {
      "text/markdown": [
       "The provided documents outline the statutory regulations governing the monitoring and disposal of residues (byproducts) in Germany, as established by a federal ordinance. The key provisions include:\n",
       "\n",
       "- **Monitoring Requirements**: Residues requiring monitoring must meet specified limits to avoid dilution or mixing. These requirements apply both domestically and internationally. The competent authority must be informed of storage locations for residues subject to monitoring and notified without undue delay if storage ceases.\n",
       "  \n",
       "- **Storage Obligations**: Parties under an obligation may store residues on their premises but must declare such storage to the competent authority. Storage can only cease if notified promptly.\n",
       "\n",
       "- **Cross-Border Restrictions**: The transport of residues into Germany for disposal is prohibited.\n",
       "\n",
       "- **Release of Residues**: Release from monitoring requirements and approval to issue new ordinances depend on factors such as population protection, occupational exposure limits, and waste law compliance. Release is facilitated through written notices under specific conditions.\n",
       "\n",
       "For detailed sections and subsections, refer to the respective pages in `strlschg_en_bf.pdf`.\n",
       "\n",
       "[Citations: (strlschg_en_bf.pdf:0:102)]:  \n",
       "1. Monitoring Limits and Methods ([strlschg_en_bf.pdf:0:102]  \n",
       "2. Storage Declaration Obligations  \n",
       "3. Cross-Border Transportation Restrictions  \n",
       "4. Release from Monitoring Obligation  \n",
       "\n",
       "[Citations: (strlschg_en_bf.pdf:0:103)]  \n",
       "5. Declaration of Intent to Dispose or Recover ([strlschg_en_bf.pdf:0:103]  \n",
       "6. Conditions for Residue Release"
      ],
      "text/plain": [
       "<IPython.core.display.Markdown object>"
      ]
     },
     "metadata": {},
     "output_type": "display_data"
    }
   ],
   "source": [
    "display(Markdown(smry['content']))"
   ]
  },
  {
   "cell_type": "code",
   "execution_count": 14,
   "metadata": {},
   "outputs": [
    {
     "data": {
      "text/markdown": [
       "#LLM: deepseek-r1:1.5b"
      ],
      "text/plain": [
       "<IPython.core.display.Markdown object>"
      ]
     },
     "metadata": {},
     "output_type": "display_data"
    },
    {
     "data": {
      "text/markdown": [
       "Based on the provided documents, the information can be summarized as follows:\n",
       "\n",
       "The federal government has empowered its statutory ordinance to issue regulations with the consent of bundesrat. These regulations aim to ensure compliance with monitoring limits and methods for the disposal or recovery of residues. Importantly, three accumulated residues may not be mixed or diluted before their intended disposal or recovery. The first sentence applies also to residues accumulated abroad and brought into Germany for recovery.\n",
       "\n",
       "Residues subject to subsection 1 must declare their storage to the competent authority without undue delay upon declaration. For residues not subject to such subsections, the competent authority can require compliance with monitoring limits in accordance with a statutory ordinance.\n",
       "\n",
       "Regarding crossborder transportation of residues into Germany, it is prohibited. The document also outlines specific regulations and measures needed for residue transport, ensuring public exposure constraints are met effectively.\n",
       "\n",
       "This summary integrates all key points from the provided content, citing the relevant documents as per the metadata."
      ],
      "text/plain": [
       "<IPython.core.display.Markdown object>"
      ]
     },
     "metadata": {},
     "output_type": "display_data"
    },
    {
     "name": "stdout",
     "output_type": "stream",
     "text": [
      "Time taken: 3.76 seconds\n",
      "________________________________\n"
     ]
    },
    {
     "data": {
      "text/markdown": [
       "#LLM: deepseek-r1:latest"
      ],
      "text/plain": [
       "<IPython.core.display.Markdown object>"
      ]
     },
     "metadata": {},
     "output_type": "display_data"
    },
    {
     "data": {
      "text/markdown": [
       "This document outlines residue management guidelines under German law, focusing on monitoring requirements, disposal procedures, and authority oversight.\n",
       "\n",
       "**Monitoring Requirements:**\n",
       "- Residues accumulating up to three units must meet specific criteria before disposal or recovery; mixing or dilution is prohibited without compliance ([Section 61.3](https://strlschg_en_bf.pdf:0:102)).\n",
       "- Obligees must declare storage intentions on operating premises to the competent authority and inform authorities of any cessation of such storage promptly ([Section 61.4](https://strlschg_en_bf.pdf:0:102)).\n",
       "- For residues not subject to monitoring, the authority may establish technical procedures to ensure compliance with limits and measurement methods ([Section 61.5](https://strlschg_en_bf.pdf:0:102)).\n",
       "\n",
       "**Disposal and Recovery Procedures:**\n",
       "- Residues must be secured against unauthorized access or transfer before disposal or recovery; transferred residues can only occur between parties for disposal purposes ([Sections 61.6, 61.7](https://strlschg_en_bf.pdf:0:102)).\n",
       "- Cross-border transportation of residues into Germany is prohibited for disposal ([Section 61.8](https://strlschg_en_bf.pdf:0:102)).\n",
       "\n",
       "**Monitoring Release Conditions:**\n",
       "- Residues requiring monitoring can be released from such obligations if population exposure risks are mitigated, worker doses comply with limits, and waste laws permit the method of disposal ([Section 62.2](https://strlschg_en_bf.pdf:0:103)).\n",
       "- Release is implemented through written notice without undue delay ([Section 62.3](https://strlschg_en_bf.pdf:0:103)).\n",
       "\n",
       "**Public Protection Criteria:**\n",
       "- Public protection standards require a maximum dose of 1 msv to ensure safe disposal or recovery practices ([Section 62.4](https://strlschg_en_bf.pdf:0:103))."
      ],
      "text/plain": [
       "<IPython.core.display.Markdown object>"
      ]
     },
     "metadata": {},
     "output_type": "display_data"
    },
    {
     "name": "stdout",
     "output_type": "stream",
     "text": [
      "Time taken: 4.32 seconds\n",
      "________________________________\n"
     ]
    },
    {
     "data": {
      "text/markdown": [
       "#LLM: llama3.1:8b-instruct-q4_0"
      ],
      "text/plain": [
       "<IPython.core.display.Markdown object>"
      ]
     },
     "metadata": {},
     "output_type": "display_data"
    },
    {
     "data": {
      "text/markdown": [
       "According to the provided documents [strlschg_en_bf.pdf](document_path), the following key points regarding recovery and disposal of residues are summarized below:\n",
       "\n",
       "The federal government is empowered to issue a statutory ordinance, with the consent of the Bundesrat, establishing monitoring limits and methods of recovery and disposal for residues. The ordinance must be complied with in accordance with the second sentence, which states that residues accumulated may not be mixed or diluted prior to their intended disposal or recovery.\n",
       "\n",
       "Residues accumulated abroad and brought into Germany for recovery are also subject to the same rules as those accumulated in Germany. If the residues requiring monitoring are stored on the operating premises of the party subject to an obligation, the latter must declare said storage to the competent authority [Section 61].\n",
       "\n",
       "The competent authority may require that compliance be proven with the monitoring limits and methods of recovery and disposal for residues not subject to a monitoring requirement. To this end, the competent authority may lay down technical procedures, suitable measurement procedures, and other requirements [Section 5].\n",
       "\n",
       "The party subject to an obligation must secure residues against loss and unauthorized access prior to their disposal or recovery. They may only be passed on to another party for the purpose of disposal or recovery [Section 6]. The cross-border transportation of residues into Germany for their disposal is prohibited.\n",
       "\n",
       "In order to release residues from monitoring, the competent authority requires a written notice stating the nature, mass, and specific activity of the residues. This can be dispensed with where notification is made due to the nature and specific activity of the residues requiring monitoring [Section 62].\n",
       "\n",
       "Residues are released from monitoring if the requisite protection of the population against exposure is ensured by means of the measures put in place for recovery or disposal, and other conditions are met [Section 62]. Release from the monitoring obligation shall be effected by means of notice in writing.\n",
       "\n",
       "The criteria for protecting the public include ensuring that even without additional measures an effective dose of 1 mSv in a given calendar year is not exceeded due to disposal or recovery."
      ],
      "text/plain": [
       "<IPython.core.display.Markdown object>"
      ]
     },
     "metadata": {},
     "output_type": "display_data"
    },
    {
     "name": "stdout",
     "output_type": "stream",
     "text": [
      "Time taken: 6.53 seconds\n",
      "________________________________\n"
     ]
    },
    {
     "data": {
      "text/markdown": [
       "#LLM: llama3.2"
      ],
      "text/plain": [
       "<IPython.core.display.Markdown object>"
      ]
     },
     "metadata": {},
     "output_type": "display_data"
    },
    {
     "data": {
      "text/markdown": [
       "The statutory ordinance established by the federal government, in conjunction with the consent of the Bundesrat, sets forth methods of recovery and disposal for residues in accordance with section 61 subsection 2. (strlschg_en_bf.pdf:0:102)\n",
       "\n",
       "Compliance with these methods is mandatory for the disposal or recovery of residues accumulated to a total of three residues, which must not be mixed or diluted prior to their intended disposal or recovery to meet monitoring limits established by the ordinance. (strlschg_en_bf.pdf:0:103)\n",
       "\n",
       "For residues stored on operating premises subject to an obligation under section 1, the party responsible must declare such storage to the competent authority and inform them without undue delay if storage ceases. (strlschg_en_bf.pdf:0:104)\n",
       "\n",
       "The competent authority may require proof of compliance with monitoring limits and methods for non-monitored residues, setting technical procedures, measurement procedures, and other requirements as necessary. (strlschg_en_bf.pdf:0:105)\n",
       "\n",
       "To secure against loss and unauthorized access prior to disposal or recovery, parties subject to an obligation must ensure the residues are kept safe and only passed on to other parties for that purpose. (strlschg_en_bf.pdf:0:106)\n",
       "\n",
       "Cross-border transportation of residues into Germany is prohibited under section 71, while release from monitoring is permitted upon declaration by the party responsible, stating nature, mass, and specific activity, as well as adherence to protective measures. (strlschg_en_bf.pdf:0:107)\n",
       "\n",
       "A declaration may be exempted where notification is made in accordance with section 63 subsection 1 due to the nature and specific activity of the residues requiring monitoring. The competent authority shall release residues from monitoring upon request, provided protection for the population against exposure is ensured, and occupational worker body doses do not exceed levels for categorization as occupationally-exposed individuals. (strlschg_en_bf.pdf:0:108)\n",
       "\n",
       "Releases from monitoring are effected by written notice, with criteria for public protection set at an effective dose of 1 msv in a given calendar year, excluding additional measures."
      ],
      "text/plain": [
       "<IPython.core.display.Markdown object>"
      ]
     },
     "metadata": {},
     "output_type": "display_data"
    },
    {
     "name": "stdout",
     "output_type": "stream",
     "text": [
      "Time taken: 4.26 seconds\n",
      "________________________________\n"
     ]
    },
    {
     "data": {
      "text/markdown": [
       "#LLM: gemma3:4b"
      ],
      "text/plain": [
       "<IPython.core.display.Markdown object>"
      ]
     },
     "metadata": {},
     "output_type": "display_data"
    },
    {
     "data": {
      "text/markdown": [
       "The disposal or recovery of residues is governed by a statutory ordinance [strlschg_en_bf.pdf:0:102] in accordance with the second sentence of a relevant section [strlschg_en_bf.pdf:0:102]. The federal government is empowered, with the consent of the Bundesrat, to establish monitoring limits and methods of recovery and disposal for residues [strlschg_en_bf.pdf:0:102]. No more than three residues may be mixed or diluted prior to disposal or recovery to satisfy the monitoring limits [strlschg_en_bf.pdf:0:103]. Residues accumulated abroad and brought into Germany for recovery are also subject to these regulations [strlschg_en_bf.pdf:0:103]. Parties subject to the obligation under section 61 must declare the storage of residues to the competent authority, informing them of the nature, mass, and specific activity of the residues [strlschg_en_bf.pdf:0:103]. They must also secure the residues against loss and unauthorized access [strlschg_en_bf.pdf:0:103], and may only pass them on to another party for the purpose of disposal or recovery [strlschg_en_bf.pdf:0:103]. Cross-border transportation of residues into Germany for disposal is prohibited [strlschg_en_bf.pdf:0:103]. The competent authority may release residues from monitoring if the measures for recovery or disposal ensure protection of the population, if occupational worker doses do not exceed levels for categorisation, and if there are no legal reservations regarding the method of recovery or disposal [strlschg_en_bf.pdf:0:103]. Such releases must be documented in writing [strlschg_en_bf.pdf:0:103]. The criteria for protecting the public from exposure include an effective dose of 1 msv [strlschg_en_bf.pdf:0:103]."
      ],
      "text/plain": [
       "<IPython.core.display.Markdown object>"
      ]
     },
     "metadata": {},
     "output_type": "display_data"
    },
    {
     "name": "stdout",
     "output_type": "stream",
     "text": [
      "Time taken: 5.86 seconds\n",
      "________________________________\n"
     ]
    },
    {
     "data": {
      "text/markdown": [
       "#LLM: phi4-mini"
      ],
      "text/plain": [
       "<IPython.core.display.Markdown object>"
      ]
     },
     "metadata": {},
     "output_type": "display_data"
    },
    {
     "data": {
      "text/markdown": [
       "The document outlines regulations for the monitoring and disposal or recovery methods laid down by statutory ordinances. It empowers federal government to establish these limits, following consent from the Bundesrat [Document Name](strlschg_en_bf.pdf)[document_path]. The rules stipulate that residues accumulated may not be mixed/diluted prior to their intended use in order comply with monitoring requirements (2). There are additional obligations for those who store such substances on operating premises. Furthermore, compliance must always prove adherence to these limits and methods [Document Name](strlschg_en_bf.pdf)[document_path]. The document also emphasizes securing residues against loss or unauthorized access prior disposal/recovery by transferring them only within the designated purpose of recovery/disposal (6). Cross-border transportation into Germany for residue disposal is prohibited. Parties under obligations must declare their intended actions to authorities promptly [Document Name](strlschg_en_bf.pdf)[document_path]. Finally, release from monitoring requirements are subject to specific conditions ensuring protection against exposure risks and compliance with waste law regulations."
      ],
      "text/plain": [
       "<IPython.core.display.Markdown object>"
      ]
     },
     "metadata": {},
     "output_type": "display_data"
    },
    {
     "name": "stdout",
     "output_type": "stream",
     "text": [
      "Time taken: 3.55 seconds\n",
      "________________________________\n"
     ]
    },
    {
     "data": {
      "text/markdown": [
       "#LLM: mistral:instruct"
      ],
      "text/plain": [
       "<IPython.core.display.Markdown object>"
      ]
     },
     "metadata": {},
     "output_type": "display_data"
    },
    {
     "data": {
      "text/markdown": [
       "Under the statutory ordinance outlined in [strlschg_en_bf.pdf](strlschg_en_bf.pdf), parties subject to an obligation are required to comply with specified methods of recovery and disposal for residues. The federal government, with the consent of the Bundesrat, can issue a statutory ordinance establishing monitoring limits and recovery/disposal methods ([strlschg_en_bf.pdf](strlschg_en_bf.pdf):0:102).\n",
       "\n",
       "   - Residues accumulated may not be mixed or diluted prior to disposal or recovery to meet the monitoring limits ([strlschg_en_bf.pdf](strlschg_en_bf.pdf):0:102)\n",
       "   - The first sentence applies to residues brought into Germany from abroad for recovery ([strlschg_en_bf.pdf](strlschg_en_bf.pdf):0:102)\n",
       "   - If the residues requiring monitoring are stored on the operating premises of the party, they must be declared to the competent authority and cease storage must also be reported ([strlschg_en_bf.pdf](strlschg_en_bf.pdf):0:102)\n",
       "   - The competent authority can require compliance with monitoring limits and methods of recovery and disposal for residues not subject to a monitoring requirement ([strlschg_en_bf.pdf](strlschg_en_bf.pdf):0:103)\n",
       "   - Technical procedures, suitable measurement procedures, and other requirements can be laid down by the competent authority to ensure compliance with monitoring limits ([strlschg_en_bf.pdf](strlschg_en_bf.pdf):0:103)\n",
       "   - The party subject to an obligation must secure residues against loss and unauthorized access prior to their disposal or recovery, and they may only be passed on to another party for the purpose of disposal or recovery ([strlschg_en_bf.pdf](strlschg_en_bf.pdf):0:102)\n",
       "   - The cross-border transportation of residues into Germany for their disposal is prohibited ([strlschg_en_bf.pdf](strlschg_en_bf.pdf):0:102)\n",
       "\n",
       "   Additionally, the party under an obligation must declare the intended recovery or disposal of residues to the competent authority without undue delay once they have established that said residues require monitoring ([strlschg_en_bf.pdf](strlschg_en_bf.pdf):0:103). The party can be released from monitoring for a particular recovery or disposal under specific conditions, such as ensuring protection of the population and worker safety ([strlschg_en_bf.pdf](strlschg_en_bf.pdf):0:103). The criteria for public protection involve keeping the effective dose of 1 msv or less in a given calendar year ([strlschg_en_bf.pdf](strlschg_en_bf.pdf):0:103)."
      ],
      "text/plain": [
       "<IPython.core.display.Markdown object>"
      ]
     },
     "metadata": {},
     "output_type": "display_data"
    },
    {
     "name": "stdout",
     "output_type": "stream",
     "text": [
      "Time taken: 8.48 seconds\n",
      "________________________________\n"
     ]
    },
    {
     "data": {
      "text/markdown": [
       "#LLM: mistrallite"
      ],
      "text/plain": [
       "<IPython.core.display.Markdown object>"
      ]
     },
     "metadata": {},
     "output_type": "display_data"
    },
    {
     "data": {
      "text/markdown": [
       "<|summary|>\n",
       "    This document lays out the rules for disposing of and recovering residues that require monitoring in accordance with the second sentence of §61 StrLSchG. The federal government is authorized to issue a statutory ordinance establishing the monitoring limits and methods of recovery and disposal to apply to residues. Residues may not be mixed or diluted prior to their intended disposal or recovery in order to satisfy the monitoring limits in accordance with subsection 2. The first sentence also applies to residues accumulated abroad and brought into Germany for recovery.\n",
       "    \n",
       "    The party subject to an obligation in accordance with §61 subsection 1 is required to declare storage of the residues to the competent authority without undue delay, if such storage ceases. For those residues that are not subject to a monitoring requirement, the competent authority may require compliance with the monitoring limits and methods of recovery and disposal in accordance with a statutory ordinance in accordance with the second sentence of §61. The party must secure the residues against loss and access by unauthorised parties prior to their disposal or recovery.\n",
       "    \n",
       "    The cross-border transportation of residues into Germany for their disposal is prohibited."
      ],
      "text/plain": [
       "<IPython.core.display.Markdown object>"
      ]
     },
     "metadata": {},
     "output_type": "display_data"
    },
    {
     "name": "stdout",
     "output_type": "stream",
     "text": [
      "Time taken: 5.56 seconds\n",
      "________________________________\n"
     ]
    },
    {
     "data": {
      "text/markdown": [
       "#LLM: deepseek-r1:70b"
      ],
      "text/plain": [
       "<IPython.core.display.Markdown object>"
      ]
     },
     "metadata": {},
     "output_type": "display_data"
    },
    {
     "data": {
      "text/markdown": [
       "The document outlines regulations for the disposal and recovery of residues, specifically focusing on radioactive materials. It empowers the federal government, with Bundesrat consent, to establish methods and limits for recovery and disposal through statutory ordinances [Document Name](strlschg_en_bf.pdf:0:102). Residues cannot be altered to meet monitoring limits before disposal, a rule that also applies to international imports into Germany [same document].\n",
       "\n",
       "Parties responsible must notify authorities about residue storage and immediately inform them if storage ceases. Authorities can require compliance proof for non-monitored residues, including technical procedures and specific activity measurements [same document]. Residues must be secured against unauthorized access and only transferred for disposal or recovery; their import into Germany for disposal is prohibited under Section 71.\n",
       "\n",
       "For releasing residues from monitoring, obligated parties must declare disposal intentions to authorities, detailing residue characteristics. This declaration may be waived if notification under Section 63 subsection 1 is made [Document Name](strlschg_en_bf.pdf:0:103). Authorities can grant exemptions if public protection, worker safety, and waste law compliance are ensured, via written notice.\n",
       "\n",
       "Public exposure limits are set at an effective dose of 1 mSv per year without additional measures."
      ],
      "text/plain": [
       "<IPython.core.display.Markdown object>"
      ]
     },
     "metadata": {},
     "output_type": "display_data"
    },
    {
     "name": "stdout",
     "output_type": "stream",
     "text": [
      "Time taken: 68.74 seconds\n",
      "________________________________\n"
     ]
    },
    {
     "data": {
      "text/markdown": [
       "#LLM: qwq"
      ],
      "text/plain": [
       "<IPython.core.display.Markdown object>"
      ]
     },
     "metadata": {},
     "output_type": "display_data"
    },
    {
     "data": {
      "text/markdown": [
       "The German statutory ordinance mandates that residues must be disposed of or recovered following methods prescribed by federal regulations, established with Bundesrat consent [strlschg_en_bf.pdf](strlschg_en_bf.pdf). The federal government is empowered to set monitoring limits and disposal/recovery protocols under this framework. Residues cannot be mixed or diluted prior to disposal or recovery to meet these limits; this applies equally to residues imported into Germany for recovery [strlschg_en_bf.pdf](strlschg_en_bf.pdf). Parties obligated under Section 61 must declare the storage of monitored residues to competent authorities and notify any cessation of such storage [strlschg_en_bf.pdf](strlschg_en_bf.pdf). For non-monitored residues, authorities may require proof of compliance with monitoring standards through technical procedures and measurement protocols, including determining representative specific activity values [strlschg_en_bf.pdf](strlschg_en_bf.pdf). Residues must be secured against unauthorized access or loss until disposal/recovery and can only be transferred to parties for that purpose [strlschg_en_bf.pdf](strlschg_en_bf.pdf). Cross-border transportation of residues into Germany for disposal is prohibited [strlschg_en_bf.pdf](strlschg_en_bf.pdf).  \n",
       "\n",
       "Under Section 62, obligated parties must declare the nature, mass, and specific activity of monitored residues to authorities unless exempted by Section 63 notifications [strlschg_en_bf.pdf:0:103](strlschg_en_bf.pdf). Competent authorities may release residues from monitoring if three criteria are met: public exposure protection ensuring no effective dose exceeding 1 mSv/year without additional measures, occupational worker doses within legally defined limits, and compliance with waste management laws regarding disposal methods [strlschg_en_bf.pdf:0:103](strlschg_en_bf.pdf). Public protection criteria specifically limit exposure to an effective dose of 1 millisievert annually under baseline conditions [strlschg_en_bf.pdf:0:103](strlschg_en_bf.pdf)."
      ],
      "text/plain": [
       "<IPython.core.display.Markdown object>"
      ]
     },
     "metadata": {},
     "output_type": "display_data"
    },
    {
     "name": "stdout",
     "output_type": "stream",
     "text": [
      "Time taken: 32.79 seconds\n",
      "________________________________\n"
     ]
    },
    {
     "data": {
      "text/markdown": [
       "#LLM: gemma3:27b"
      ],
      "text/plain": [
       "<IPython.core.display.Markdown object>"
      ]
     },
     "metadata": {},
     "output_type": "display_data"
    },
    {
     "data": {
      "text/markdown": [
       "Methods of recovery and disposal are governed by a statutory ordinance as outlined in the second sentence [strlschg_en_bf.pdf:0:102]. The federal government is empowered to issue a statutory ordinance, with the consent of the Bundesrat, establishing monitoring limits and methods for residue recovery and disposal [strlschg_en_bf.pdf:0:102]. Residues accumulated may not be mixed or diluted before disposal or recovery to meet monitoring limits [strlschg_en_bf.pdf:0:102]. This applies to residues accumulated abroad and brought into Germany for recovery [strlschg_en_bf.pdf:0:102]. If residues requiring monitoring are stored on the operating premises of the obligated party, this storage must be declared to the competent authority, and cessation of storage must be reported without undue delay [strlschg_en_bf.pdf:0:102].\n",
       "\n",
       "For residues not subject to monitoring requirements, the competent authority may require proof of compliance with monitoring limits and recovery/disposal methods via statutory ordinance, potentially establishing technical procedures, measurement methods, and requirements for ascertaining representative measurement values [strlschg_en_bf.pdf:0:102]. The obligated party must secure residues against loss and unauthorized access before disposal or recovery, and may only pass them on to other parties for these purposes [strlschg_en_bf.pdf:0:102]. Cross-border transportation of residues into Germany for disposal is prohibited [strlschg_en_bf.pdf:0:102].\n",
       "\n",
       "Parties obligated under section 61 subsection 1, first sentence, must declare the intended recovery or disposal of monitored residues to the competent authority, stating their nature, mass, and specific activity, once monitoring is established [strlschg_en_bf.pdf:0:103]. This declaration may be waived if notification is made under section 63 subsection 1 due to the nature and specific activity of the residues [strlschg_en_bf.pdf:0:103]. \n",
       "\n",
       "The competent authority may release monitored residues from monitoring for specific recovery or disposal if population protection is ensured by implemented measures, occupational worker body doses remain within acceptable limits, and there are no legal objections to the proposed recovery or disposal method [strlschg_en_bf.pdf:0:103]. Release from monitoring is confirmed via written notice [strlschg_en_bf.pdf:0:103]. The criteria for public protection dictate that, without additional measures, an effective dose of 1 mSv in a given calendar year should not be exceeded [strlschg_en_bf.pdf:0:103]."
      ],
      "text/plain": [
       "<IPython.core.display.Markdown object>"
      ]
     },
     "metadata": {},
     "output_type": "display_data"
    },
    {
     "name": "stdout",
     "output_type": "stream",
     "text": [
      "Time taken: 23.60 seconds\n",
      "________________________________\n"
     ]
    },
    {
     "data": {
      "text/markdown": [
       "#LLM: llama3.3"
      ],
      "text/plain": [
       "<IPython.core.display.Markdown object>"
      ]
     },
     "metadata": {},
     "output_type": "display_data"
    },
    {
     "data": {
      "text/markdown": [
       "The methods of recovery and disposal are laid down by a statutory ordinance in accordance with the second sentence, which must be complied with in their disposal or recovery [strlschg_en_bf.pdf](strlschg_en_bf.pdf:0:102). The federal government is empowered to issue a statutory ordinance, with the consent of the Bundesrat, establishing the monitoring limits and methods of recovery and disposal to apply to residues [strlschg_en_bf.pdf](strlschg_en_bf.pdf:0:102). Residues accumulated may not be mixed or diluted prior to their intended disposal or recovery in order to satisfy the monitoring limits in accordance with subsection 2 [strlschg_en_bf.pdf](strlschg_en_bf.pdf:0:102). \n",
       "\n",
       "If the residues requiring monitoring are stored on the operating premises of the party subject to an obligation, the latter must declare said storage to the competent authority [strlschg_en_bf.pdf](strlschg_en_bf.pdf:0:102). The competent authority shall be informed without undue delay if such storage ceases [strlschg_en_bf.pdf](strlschg_en_bf.pdf:0:102). For those residues that are not subject to a monitoring requirement, the competent authority may require that compliance be proven with the monitoring limits and methods of recovery and disposal in accordance with a statutory ordinance [strlschg_en_bf.pdf](strlschg_en_bf.pdf:0:102). \n",
       "\n",
       "The party subject to an obligation shall secure residues against loss and against access by unauthorised parties prior to their disposal or recovery [strlschg_en_bf.pdf](strlschg_en_bf.pdf:0:102). They may only be passed on to other party for the purpose of the disposal or recovery [strlschg_en_bf.pdf](strlschg_en_bf.pdf:0:102). The cross-border transportation of residues into Germany for their disposal is prohibited [strlschg_en_bf.pdf](strlschg_en_bf.pdf:0:102).\n",
       "\n",
       "The party under an obligation must declare the intended recovery or disposal of the residues to the competent authority without undue delay, stating their nature, mass and specific activity, as soon as he or she has established that said residues require monitoring [strlschg_en_bf.pdf](strlschg_en_bf.pdf:0:103). A declaration may be dispensed with where notification is made due to the nature and specific activity of the residues requiring monitoring [strlschg_en_bf.pdf](strlschg_en_bf.pdf:0:103). \n",
       "\n",
       "At the request of the party under an obligation, the competent authority shall release residues requiring monitoring from that monitoring for the purpose of a particular recovery or disposal, where certain conditions are met [strlschg_en_bf.pdf](strlschg_en_bf.pdf:0:103). These conditions include ensuring the requisite protection of the population against exposure and that the body dose of occupational workers cannot exceed the levels for categorisation as an occupationally-exposed person [strlschg_en_bf.pdf](strlschg_en_bf.pdf:0:103). The release from the monitoring obligation shall be effected by means of notice in writing [strlschg_en_bf.pdf](strlschg_en_bf.pdf:0:103). \n",
       "\n",
       "The criteria for the protection of the public include that, as the constraint for the exposure of members of the public caused by disposal or recovery, even without additional measures an effective dose of 1 mSv in a given calendar [strlschg_en_bf.pdf](strlschg_en_bf.pdf:0:103)."
      ],
      "text/plain": [
       "<IPython.core.display.Markdown object>"
      ]
     },
     "metadata": {},
     "output_type": "display_data"
    },
    {
     "name": "stdout",
     "output_type": "stream",
     "text": [
      "Time taken: 63.97 seconds\n",
      "________________________________\n"
     ]
    },
    {
     "data": {
      "text/markdown": [
       "#LLM: mistral-small"
      ],
      "text/plain": [
       "<IPython.core.display.Markdown object>"
      ]
     },
     "metadata": {},
     "output_type": "display_data"
    },
    {
     "data": {
      "text/markdown": [
       "The statutory ordinance outlines specific methods for the recovery and disposal of residues, emphasizing compliance with monitoring limits and procedures. The federal government is authorized to establish these monitoring limits and methods through a statutory ordinance, with the consent of the Bundesrat. Residues must not be mixed or diluted before disposal or recovery to meet monitoring limits. This regulation also applies to residues accumulated abroad and brought into Germany for recovery [strlschg_en_bf.pdf](strlschg_en_bf.pdf:0:102).\n",
       "\n",
       "Residues requiring monitoring, when stored on the premises of the obligated party, must be declared to the competent authority. Any cessation of such storage must also be reported promptly. For residues not subject to monitoring requirements, the competent authority can mandate proof of compliance with monitoring limits and disposal methods through technical procedures and measurement standards [strlschg_en_bf.pdf](strlschg_en_bf.pdf:0:102).\n",
       "\n",
       "The obligated party is responsible for securing residues against loss and unauthorized access until their disposal or recovery. Residues can only be transferred to another party for the purpose of disposal or recovery. The cross-border transportation of residues into Germany for disposal is prohibited [strlschg_en_bf.pdf](strlschg_en_bf.pdf:0:102).\n",
       "\n",
       "Section 62 addresses the release of residues from monitoring, requiring the obligated party to declare the intended recovery or disposal of monitored residues to the competent authority. This declaration includes details on the nature, mass, and specific activity of the residues. Exemptions from this declaration can be made if notification is required under Section 63 due to the nature and specific activity of the residues [strlschg_en_bf.pdf](strlschg_en_bf.pdf:0:103).\n",
       "\n",
       "The competent authority can release monitored residues from monitoring for a specific recovery or disposal process if certain conditions are met, including ensuring public protection against exposure and compliance with occupational dose limits. The criteria for public protection stipulate that the effective dose to members of the public should not exceed 1 mSv in any given calendar year [strlschg_en_bf.pdf](strlschg_en_bf.pdf:0:103)."
      ],
      "text/plain": [
       "<IPython.core.display.Markdown object>"
      ]
     },
     "metadata": {},
     "output_type": "display_data"
    },
    {
     "name": "stdout",
     "output_type": "stream",
     "text": [
      "Time taken: 14.06 seconds\n",
      "________________________________\n"
     ]
    },
    {
     "data": {
      "text/markdown": [
       "#LLM: mistral-nemo"
      ],
      "text/plain": [
       "<IPython.core.display.Markdown object>"
      ]
     },
     "metadata": {},
     "output_type": "display_data"
    },
    {
     "data": {
      "text/markdown": [
       "**Summary:**\n",
       "\n",
       "The German Atomic Energy Act (AtG) outlines regulations for the handling, disposal, and recovery of radioactive residues. Key points include:\n",
       "\n",
       "- The federal government can issue ordinances, with the consent of the Bundesrat, establishing monitoring limits and methods for residue disposal and recovery [1](strlschg_en_bf.pdf:0:102).\n",
       "- Residues may not be mixed or diluted before disposal/recovery to meet monitoring limits [1].\n",
       "- If residues are stored on-site, the party responsible must declare this to the competent authority without delay [1].\n",
       "- For non-monitored residues, the competent authority can require proof of compliance with recovery/disposal methods and set technical procedures [1].\n",
       "- Residues must be secured against loss and unauthorized access before disposal/recovery. They can only be transferred to another party for these purposes [1][2].\n",
       "- Cross-border transportation of residues into Germany for disposal is prohibited [1].\n",
       "- Before recovering or disposing of monitored residues, the responsible party must declare their nature, mass, and specific activity to the competent authority [2].\n",
       "- Upon request, the competent authority can release residues from monitoring obligations under certain conditions, such as ensuring public protection and adhering to waste laws [2].\n",
       "- The public exposure constraint for disposal/recovery is an effective dose of 1 mSv per calendar year without additional measures [2]."
      ],
      "text/plain": [
       "<IPython.core.display.Markdown object>"
      ]
     },
     "metadata": {},
     "output_type": "display_data"
    },
    {
     "name": "stdout",
     "output_type": "stream",
     "text": [
      "Time taken: 7.03 seconds\n",
      "________________________________\n"
     ]
    }
   ],
   "source": [
    "import time\n",
    "models = [\"deepseek-r1:1.5b\",\"deepseek-r1:latest\", \"llama3.1:8b-instruct-q4_0\", \"llama3.2\", \"gemma3:4b\", \"phi4-mini\", \"mistral:instruct\", \"mistrallite\"]\n",
    "models += [\"deepseek-r1:70b\", \"qwq\", \"gemma3:27b\", \"llama3.3\", \"mistral-small\", \"mistral-nemo\"]\n",
    "\n",
    "for model in models:\n",
    "    start_time = time.time()\n",
    "    summary = source_summarizer('', tr, model)\n",
    "    elapsed_time = time.time() - start_time\n",
    "    display(Markdown(f'#LLM: {model}'))\n",
    "    display(Markdown(summary['content']))\n",
    "    print(f'Time taken: {elapsed_time:.2f} seconds')\n",
    "    print('________________________________')"
   ]
  },
  {
   "cell_type": "code",
   "execution_count": 15,
   "metadata": {},
   "outputs": [],
   "source": [
    "from langchain_community.llms import Ollama\n",
    "from langchain_core.messages import SystemMessage, HumanMessage\n",
    "import re\n",
    "\n",
    "def source_summarizer_Ollama(query, context_documents, llm_model=\"deepseek-r1\"):\n",
    "    system_message = SUMMARIZER_SYSTEM_PROMPT\n",
    "\n",
    "    formatted_context = \"\\n\".join(\n",
    "        f\"Content: {doc['content']}\\nSource: {doc['metadata']['name']}\\nPath: {doc['metadata']['path']}\"\n",
    "        for doc in context_documents\n",
    "    )\n",
    "\n",
    "    prompt = f\"\"\"\n",
    "    Based on the user's query\n",
    "\n",
    "    {query}\n",
    "\n",
    "    , here are the documents to summarize:\n",
    "    \n",
    "    {formatted_context}\n",
    "    \n",
    "    Provide a deep summary with proper citations:\n",
    "    \"\"\"\n",
    "    \n",
    "    # Initialize ChatOllama with the specified model and temperature\n",
    "    llm = Ollama(model=llm_model, temperature=0.1, repeat_penalty=1.2) \n",
    "    # For RAG systems like your summarizer, consider:\n",
    "    #    Using lower temperatures (0.1-0.3) for factual accuracy\n",
    "    #   Combining with repeat_penalty=1.1-1.3 to avoid redundant content\n",
    "    #   Monitoring token usage with num_ctx for long documents\n",
    "    \n",
    "    # Format messages for LangChain\n",
    "    messages = [\n",
    "        SystemMessage(content=system_message),\n",
    "        HumanMessage(content=prompt)\n",
    "    ]\n",
    "    \n",
    "    # Get response from the model\n",
    "    response = llm.invoke(messages)\n",
    "    \n",
    "    # Extract content from response\n",
    "    response_content = response\n",
    "    \n",
    "    # Clean markdown formatting if present\n",
    "    try:\n",
    "        final_content = re.sub(r\"<think>.*?</think>\", \"\", response_content, flags=re.DOTALL).strip()\n",
    "    except:\n",
    "        final_content = response_content.strip()\n",
    "\n",
    "    # Extract metadata from all documents\n",
    "    document_names = [doc['metadata']['name'] for doc in context_documents]\n",
    "    document_paths = [doc['metadata']['path'] for doc in context_documents]\n",
    "\n",
    "    return {\n",
    "        \"content\": final_content,\n",
    "        \"metadata\": {\n",
    "            \"name\": document_names,\n",
    "            \"path\": document_paths\n",
    "        }\n",
    "    }\n"
   ]
  },
  {
   "cell_type": "code",
   "execution_count": 16,
   "metadata": {},
   "outputs": [
    {
     "name": "stderr",
     "output_type": "stream",
     "text": [
      "/tmp/ipykernel_1480319/3500871307.py:26: LangChainDeprecationWarning: The class `Ollama` was deprecated in LangChain 0.3.1 and will be removed in 1.0.0. An updated version of the class exists in the :class:`~langchain-ollama package and should be used instead. To use it run `pip install -U :class:`~langchain-ollama` and import as `from :class:`~langchain_ollama import OllamaLLM``.\n",
      "  llm = Ollama(model=llm_model, temperature=0.1, repeat_penalty=1.2)\n"
     ]
    },
    {
     "data": {
      "text/markdown": [
       "#LLM: deepseek-r1:1.5b"
      ],
      "text/plain": [
       "<IPython.core.display.Markdown object>"
      ]
     },
     "metadata": {},
     "output_type": "display_data"
    },
    {
     "data": {
      "text/markdown": [
       "**Summary**\n",
       "\n",
       "The German Federal Government has empowered a statutory ordinance to issue regulations for the disposal or recovery of specific substances in Germany (Source: strlschg_en_bf.pdf:0:102). This regulation includes monitoring limits on how much residues can be mixed or diluted before they are monitored. The limit is three accumulated residues, but if more than that is mixed or diluted, special monitoring may be required.\n",
       "\n",
       "Additionally, cross-border transportation of these substances into Germany for their disposal has been prohibited (Source: strlschg_en_bf.pdf:0:103). This restriction impacts how residues move across borders and the ability to monitor them effectively.\n",
       "\n",
       "The document also outlines that if a residue is stored on your own premises under an obligation with subsection 1, you must declare its nature, mass, and specific activity within 24 hours. If declared immediately but later notified due to other reasons (e.g., their nature), some monitoring requirements may be waived. However, residues requiring monitoring cannot be released until notification is provided in writing.\n",
       "\n",
       "To ensure public exposure constraints are met without causing occupational worker-related doses exceeding limits or allowing waste under legal provisions, the criteria include an effective dose of 1 msv per square meter as a constraint for public health protection (Source: strlschg_en_bf.pdf:0:103).\n",
       "\n",
       "These regulations aim to protect public health by ensuring residues are monitored and disposed of safely."
      ],
      "text/plain": [
       "<IPython.core.display.Markdown object>"
      ]
     },
     "metadata": {},
     "output_type": "display_data"
    },
    {
     "name": "stdout",
     "output_type": "stream",
     "text": [
      "Time taken: 4.50 seconds\n",
      "________________________________\n"
     ]
    },
    {
     "data": {
      "text/markdown": [
       "#LLM: deepseek-r1:latest"
      ],
      "text/plain": [
       "<IPython.core.display.Markdown object>"
      ]
     },
     "metadata": {},
     "output_type": "display_data"
    },
    {
     "data": {
      "text/markdown": [
       "The German statutory ordinance establishes guidelines for residue management to ensure compliance with health standards. The federal government can issue this ordinance after consulting the Bundesrat, setting monitoring limits and recovery/disposal methods ([Document Name](strlschg_en_bf.pdf:0:102)). Residues accumulated up to three units must not be mixed or diluted before disposal without violating these limits (Section 3). Parties under obligation are required to declare residue intentions promptly upon determining the need for monitoring, and this declaration may be waived if notification is made as per Section 63. Cross-border transportation of residues into Germany is prohibited unless specific conditions ensuring public protection are met ([Document Name](strlschg_en_bf.pdf:0:102)). Release from monitoring can occur with notice in writing under certain circumstances, such as when population exposure and worker dose limits are satisfied (Section 62)."
      ],
      "text/plain": [
       "<IPython.core.display.Markdown object>"
      ]
     },
     "metadata": {},
     "output_type": "display_data"
    },
    {
     "name": "stdout",
     "output_type": "stream",
     "text": [
      "Time taken: 7.18 seconds\n",
      "________________________________\n"
     ]
    },
    {
     "data": {
      "text/markdown": [
       "#LLM: llama3.1:8b-instruct-q4_0"
      ],
      "text/plain": [
       "<IPython.core.display.Markdown object>"
      ]
     },
     "metadata": {},
     "output_type": "display_data"
    },
    {
     "data": {
      "text/markdown": [
       "According to the provided documents [strlschg_en_bf.pdf](path:strlschg_en_bf.pdf), regulations regarding the recovery and disposal of residues are governed by statutory ordinances. The federal government is empowered to issue such ordinances, with the consent of the Bundesrat, establishing monitoring limits and methods for residue recovery and disposal.\n",
       "\n",
       "Residues accumulated in Germany or brought into the country from abroad must not be mixed or diluted prior to their intended disposal or recovery [strlschg_en_bf.pdf](path:strlschg_en_bf.pdf:0:102). The party responsible for an obligation under Section 61, subsection 1, first sentence, must declare storage of residues requiring monitoring to the competent authority and inform them without undue delay if such storage ceases.\n",
       "\n",
       "For residues not subject to a monitoring requirement, the competent authority may require proof that compliance with monitoring limits and methods is met. This can involve technical procedures, measurement procedures, or other requirements [strlschg_en_bf.pdf](path:strlschg_en_bf.pdf:0:103).\n",
       "\n",
       "The party responsible for an obligation under Section 61 must secure residues against loss and unauthorized access prior to their disposal or recovery. Residues may only be passed on to another party for the purpose of disposal or recovery [strlschg_en_bf.pdf](path:strlschg_en_bf.pdf:0:102).\n",
       "\n",
       "Cross-border transportation of residues into Germany for their disposal is prohibited, as stated in Section 71.\n",
       "\n",
       "Release from monitoring obligations can occur under specific conditions. The competent authority may release residues requiring monitoring if the requisite protection of the population against exposure is ensured by means of measures put in place for recovery or disposal [strlschg_en_bf.pdf](path:strlschg_en_bf.pdf:0:103). This includes ensuring that occupational workers' body dose does not exceed levels categorizing them as occupationally exposed persons and verifying compliance with waste law.\n",
       "\n",
       "Release from monitoring obligations is typically done through written notice. The criteria for public protection include an effective dose of 1 mSv in a given calendar year, even without additional measures [strlschg_en_bf.pdf](path:strlschg_en_bf.pdf:0:103)."
      ],
      "text/plain": [
       "<IPython.core.display.Markdown object>"
      ]
     },
     "metadata": {},
     "output_type": "display_data"
    },
    {
     "name": "stdout",
     "output_type": "stream",
     "text": [
      "Time taken: 5.52 seconds\n",
      "________________________________\n"
     ]
    },
    {
     "data": {
      "text/markdown": [
       "#LLM: llama3.2"
      ],
      "text/plain": [
       "<IPython.core.display.Markdown object>"
      ]
     },
     "metadata": {},
     "output_type": "display_data"
    },
    {
     "data": {
      "text/markdown": [
       "The German Federal Ministry for the Environment (Bundesministerium für Umwelt, Naturschutz und nukleare Sicherheit) has established regulations for the recovery and disposal of radioactive residues. According to Section 61 of the StrlSchG [strlschg_en_bf.pdf:0:102], the federal government is empowered to issue a statutory ordinance with the consent of the Bundesrat, establishing monitoring limits and methods of recovery and disposal.\n",
       "\n",
       "The regulation states that no more than three residues accumulated may be mixed or diluted prior to their intended disposal or recovery in order to satisfy the monitoring limits [strlschg_en_bf.pdf:0:102]. Additionally, if residues requiring monitoring are stored on operating premises subject to an obligation under Section 1, the party must declare this storage to the competent authority without undue delay.\n",
       "\n",
       "The regulation also specifies that for those residues not subject to a monitoring requirement, compliance with monitoring limits and methods of recovery and disposal may be required [strlschg_en_bf.pdf:0:103]. The competent authority may lay down technical procedures, suitable measurement procedures, and other requirements, including the ascertainment of representative measurement values.\n",
       "\n",
       "Furthermore, parties under an obligation must secure residues against loss and unauthorized access prior to their disposal or recovery. They may only pass on these residues to another party for the purpose of disposal or recovery [strlschg_en_bf.pdf:0:103].\n",
       "\n",
       "The cross-border transportation of radioactive residues into Germany is prohibited [strlschg_en_bf.pdf:0:102]. In addition, parties under an obligation must declare their intended recovery or disposal of residues without undue delay to the competent authority.\n",
       "\n",
       "A declaration may be dispensed with if notification is made in accordance with Section 63 subsection 1 due to the nature and specific activity of the residues requiring monitoring [strlschg_en_bf.pdf:0:103]. The release from monitoring for a particular recovery or disposal can occur where measures are taken to ensure public protection, occupational exposure levels do not exceed categorization limits, and there are no reservations under waste law regarding the method's permissibility.\n",
       "\n",
       "The criteria for protecting the public include an effective dose of 1 mSv in a given calendar year without additional measures [strlschg_en_bf.pdf:0:103]."
      ],
      "text/plain": [
       "<IPython.core.display.Markdown object>"
      ]
     },
     "metadata": {},
     "output_type": "display_data"
    },
    {
     "name": "stdout",
     "output_type": "stream",
     "text": [
      "Time taken: 3.76 seconds\n",
      "________________________________\n"
     ]
    },
    {
     "data": {
      "text/markdown": [
       "#LLM: gemma3:4b"
      ],
      "text/plain": [
       "<IPython.core.display.Markdown object>"
      ]
     },
     "metadata": {},
     "output_type": "display_data"
    },
    {
     "data": {
      "text/markdown": [
       "Disposal or recovery of residues must comply with statutory ordinances [strlschg_en_bf.pdf:0:102] established with the consent of the Bundesrat, which include monitoring limits and methods [strlschg_en_bf.pdf:0:102]. A maximum of three residues may not be mixed or diluted [strlschg_en_bf.pdf:0:102] to meet monitoring limits. Residues accumulated abroad and brought into Germany for recovery must also comply with these regulations [strlschg_en_bf.pdf:0:102]. Parties subject to an obligation under section 61 must declare the intended recovery or disposal of residues to the competent authority, stating their nature, mass, and specific activity [strlschg_en_bf.pdf:0:103]. This declaration must be made without undue delay upon establishing that the residues require monitoring [strlschg_en_bf.pdf:0:103]. The competent authority may release residues from monitoring if the recovery or disposal ensures population protection, worker doses do not exceed occupational exposure levels, and the method complies with waste law [strlschg_en_bf.pdf:0:103]. Such releases must be documented in writing [strlschg_en_bf.pdf:0:103]. Cross-border transportation of residues into Germany for disposal is prohibited [strlschg_en_bf.pdf:0:103]."
      ],
      "text/plain": [
       "<IPython.core.display.Markdown object>"
      ]
     },
     "metadata": {},
     "output_type": "display_data"
    },
    {
     "name": "stdout",
     "output_type": "stream",
     "text": [
      "Time taken: 5.94 seconds\n",
      "________________________________\n"
     ]
    },
    {
     "data": {
      "text/markdown": [
       "#LLM: phi4-mini"
      ],
      "text/plain": [
       "<IPython.core.display.Markdown object>"
      ]
     },
     "metadata": {},
     "output_type": "display_data"
    },
    {
     "data": {
      "text/markdown": [
       "In Germany's statutory ordinance on monitoring limits and methods for recovery or disposal, residues accumulated may not be mixed to meet the requirements [Document Name](strlschg_en_bf.pdf#path). The federal government can issue an order establishing these regulations after Bundesrat consent. Residues must comply with specified standards upon intended use; this also applies if they are imported from abroad and stored on-site by obligated parties, who need authorization for storage cessation notifications to authorities [Document Name](strlschg_en_bf.pdf#path). Non-monitoring residues may still require proof of compliance through technical procedures set forth in the ordinance. Obligated entities must secure residue access prior disposal or recovery; cross-border transport into Germany is prohibited unless authorized by competent authority, which also oversees monitoring release for specific recoveries/disposals [Document Name](strlschg_en_bf.pdf#path)."
      ],
      "text/plain": [
       "<IPython.core.display.Markdown object>"
      ]
     },
     "metadata": {},
     "output_type": "display_data"
    },
    {
     "name": "stdout",
     "output_type": "stream",
     "text": [
      "Time taken: 3.71 seconds\n",
      "________________________________\n"
     ]
    },
    {
     "data": {
      "text/markdown": [
       "#LLM: mistral:instruct"
      ],
      "text/plain": [
       "<IPython.core.display.Markdown object>"
      ]
     },
     "metadata": {},
     "output_type": "display_data"
    },
    {
     "data": {
      "text/markdown": [
       "The provided documents outline the regulations for recovery and disposal of residues in Germany, as stated in the Statutory Ordinance [strlschg_en_bf.pdf](strlschg_en_bf.pdf). Residues must comply with monitoring limits and methods established by a statutory ordinance issued by the federal government [strlschg_en_bf.pdf:0:102].\n",
       "\n",
       "   - Residues accumulated may not be mixed or diluted prior to disposal or recovery to meet these monitoring limits [strlschg_en_bf.pdf:0:102]\n",
       "   - The first sentence applies to residues brought into Germany for recovery, regardless of their origin [strlschg_en_bf.pdf:0:102]\n",
       "   - Those subject to a monitoring requirement must declare storage and ceasing of storage to the competent authority [strlschg_en_bf.pdf:0:103]\n",
       "   - The competent authority may require compliance with monitoring limits for residues not subject to a monitoring requirement [strlschg_en_bf.pdf:0:103]\n",
       "   - Residues must be secured against loss and unauthorized access before disposal or recovery, and can only be passed on for the same purpose [strlschg_en_bf.pdf:0:102]\n",
       "   - Cross-border transportation of residues into Germany for their disposal is prohibited [strlschg_en_bf.pdf:0:103]\n",
       "\n",
       "   The party under an obligation in accordance with the regulations must declare the intended recovery or disposal to the competent authority without undue delay, stating the nature, mass and specific activity of the residues requiring monitoring [strlschg_en_bf.pdf:0:103]. Release from monitoring may be granted for a particular recovery or disposal under certain conditions [strlschg_en_bf.pdf:0:103]:\n",
       "   - The requisite protection of the population against exposure is ensured by measures put in place for recovery or disposal\n",
       "   - The body dose of occupational workers cannot exceed levels for categorization as an occupationally-exposed person\n",
       "   - There are no reservations under waste law regarding the permissibility and compliance with the envisaged method of recovery or disposal. Release from monitoring is effected by means of written notice [strlschg_en_bf.pdf:0:103]. The criteria for public protection include an effective dose of 1 msv in a given calendar year without additional measures [strlschg_en_bf.pdf:0:103]."
      ],
      "text/plain": [
       "<IPython.core.display.Markdown object>"
      ]
     },
     "metadata": {},
     "output_type": "display_data"
    },
    {
     "name": "stdout",
     "output_type": "stream",
     "text": [
      "Time taken: 7.19 seconds\n",
      "________________________________\n"
     ]
    },
    {
     "data": {
      "text/markdown": [
       "#LLM: mistrallite"
      ],
      "text/plain": [
       "<IPython.core.display.Markdown object>"
      ]
     },
     "metadata": {},
     "output_type": "display_data"
    },
    {
     "data": {
      "text/markdown": [
       "Summary of the documents provided by the user:\n",
       "\n",
       "    Document 1 (strlschg_en_bf.pdf): This document outlines methods for recovery and disposal of residues in accordance with a statutory ordinance, as well as requirements for monitoring limits and methods of recovery and disposal to apply to residues. It also establishes that the federal government is empowered to issue a statutory ordinance on this matter with the consent of the bundesrat. The document emphasizes the importance of complying with these regulations, including provisions for storage, transportation, and proof of compliance.\n",
       "\n",
       "    Document 2 (strlschg_en_bf.pdf): This document provides additional information on requirements for monitoring residues requiring monitoring in accordance with section 61 subsection 2. It outlines procedures for declaring the intended recovery or disposal of these residues, as well as criteria for protecting public health and safety during this process.\n",
       "\n",
       "    Overall, it is important to note that all information provided should be properly attributed to its source in order to maintain factual accuracy and avoid any confusion or misinterpretation."
      ],
      "text/plain": [
       "<IPython.core.display.Markdown object>"
      ]
     },
     "metadata": {},
     "output_type": "display_data"
    },
    {
     "name": "stdout",
     "output_type": "stream",
     "text": [
      "Time taken: 9.28 seconds\n",
      "________________________________\n"
     ]
    },
    {
     "data": {
      "text/markdown": [
       "#LLM: deepseek-r1:70b"
      ],
      "text/plain": [
       "<IPython.core.display.Markdown object>"
      ]
     },
     "metadata": {},
     "output_type": "display_data"
    },
    {
     "data": {
      "text/markdown": [
       "The documents outline regulations concerning the recovery and disposal of residues, emphasizing compliance with statutory ordinances [strlschg_en_bf.pdf:0:102](strlschg_en_bf.pdf). The federal government is authorized to establish monitoring limits and methods through ordinances, requiring consent from the Bundesrat. Residues must not be altered before disposal or recovery to meet these standards, a rule that also applies to foreign residues brought into Germany [strlschg_en_bf.pdf:0:102](strlschg_en_bf.pdf).\n",
       "\n",
       "Storage of monitored residues on premises must be declared to authorities and any cessation reported promptly. For non-monitored residues, proof of compliance with recovery or disposal methods may still be required by authorities, who can specify technical procedures for measurement [strlschg_en_bf.pdf:0:102](strlschg_en_bf.pdf).\n",
       "\n",
       "Residues must be secured against loss or unauthorized access and only transferred to others for disposal or recovery. Importantly, cross-border transportation into Germany for disposal is prohibited under Section 71 [strlschg_en_bf.pdf:0:103](strlschg_en_bf.pdf).\n",
       "\n",
       "Parties responsible must declare details of intended recovery or disposal when monitoring is required, including residue nature, mass, and activity. However, this declaration can be waived if notification under Section 63 subsection 1 applies due to specific characteristics [strlschg_en_bf.pdf:0:103](strlschg_en_bf.pdf).\n",
       "\n",
       "Authorities may release residues from monitoring for specific purposes if public exposure is controlled below 1 mSv annually without additional measures. Occupational doses must not exceed exposed person levels, and no legal objections under waste law should exist regarding methods [strlschg_en_bf.pdf:0:103](strlschg_en_bf.pdf). Release occurs via written notice from the authority.\n",
       "\n",
       "Public protection criteria ensure exposure does not exceed 1 mSv annually without extra measures."
      ],
      "text/plain": [
       "<IPython.core.display.Markdown object>"
      ]
     },
     "metadata": {},
     "output_type": "display_data"
    },
    {
     "name": "stdout",
     "output_type": "stream",
     "text": [
      "Time taken: 62.93 seconds\n",
      "________________________________\n"
     ]
    },
    {
     "data": {
      "text/markdown": [
       "#LLM: qwq"
      ],
      "text/plain": [
       "<IPython.core.display.Markdown object>"
      ]
     },
     "metadata": {},
     "output_type": "display_data"
    },
    {
     "data": {
      "text/markdown": [
       "The statutory ordinance under Section 61 mandates compliance with specified recovery and disposal methods for residues [strlschg_en_bf.pdf](strlschg_en_bf.pdf:0:102). The federal government, with Bundesrat consent, establishes monitoring limits and procedures via ordinances. Residues must not be mixed or diluted before disposal to meet these limits; this applies equally to foreign-sourced residues brought into Germany for recovery [strlschg_en_bf.pdf](strlschg_en_bf.pdf:0:102). Operators storing monitored residues on-site must notify the competent authority and report storage cessation promptly. For non-monitored residues, authorities may still require proof of compliance with monitoring limits through technical procedures or measurement protocols to ensure representative activity assessments [strlschg_en_bf.pdf](strlschg_en_bf.pdf:0:102). Residues are secured against unauthorized access until disposal and can only be transferred for recovery/disposal purposes. Cross-border transportation into Germany for residue disposal is prohibited [strlschg_en_bf.pdf](strlschg_en_bf.pdf:0:102).  \n",
       "\n",
       "Under Section 62, obligated parties must declare residues requiring monitoring to the competent authority by specifying nature, mass, and activity levels unless exempt via Section 63. Competent authorities may release monitored residues from oversight if three criteria are met [strlschg_en_bf.pdf](strlschg_en_bf.pdf:0:103):  \n",
       "1) Public exposure protection ensures an effective dose ≤1 mSv/year without additional measures,  \n",
       "2) Occupational worker doses do not exceed thresholds for categorization as exposed persons under radiation law, and  \n",
       "3) Compliance with waste management laws regarding chosen recovery/disposal methods. Release decisions are communicated in writing [strlschg_en_bf.pdf](strlschg_en_bf.pdf:0:103)."
      ],
      "text/plain": [
       "<IPython.core.display.Markdown object>"
      ]
     },
     "metadata": {},
     "output_type": "display_data"
    },
    {
     "name": "stdout",
     "output_type": "stream",
     "text": [
      "Time taken: 34.56 seconds\n",
      "________________________________\n"
     ]
    },
    {
     "data": {
      "text/markdown": [
       "#LLM: gemma3:27b"
      ],
      "text/plain": [
       "<IPython.core.display.Markdown object>"
      ]
     },
     "metadata": {},
     "output_type": "display_data"
    },
    {
     "data": {
      "text/markdown": [
       "Methods of recovery and disposal laid down by a statutory ordinance must be complied with when disposing of or recovering residues [strlschg_en_bf.pdf:0:102]. The federal government is empowered to issue a statutory ordinance, with the consent of the Bundesrat, establishing monitoring limits and methods for residue recovery and disposal [strlschg_en_bf.pdf:0:102]. Residues accumulated may not be mixed or diluted before disposal or recovery to meet monitoring limits [strlschg_en_bf.pdf:0:102]. This applies to residues accumulated abroad and brought into Germany for recovery [strlschg_en_bf.pdf:0:102]. If residues requiring monitoring are stored on the operating premises of the obligated party, this storage must be declared to the competent authority, and cessation of storage must be reported without undue delay [strlschg_en_bf.pdf:0:102]. For residues not subject to monitoring requirements, the competent authority may require proof of compliance with monitoring limits and recovery/disposal methods via statutory ordinance, potentially establishing technical procedures, measurement methods, and requirements for ascertaining representative measurement values [strlschg_en_bf.pdf:0:102]. The obligated party must secure residues against loss and unauthorized access before disposal or recovery, and may only pass them on to other parties for these purposes [strlschg_en_bf.pdf:0:102]. Cross-border transportation of residues into Germany for disposal is prohibited [strlschg_en_bf.pdf:0:102].\n",
       "\n",
       "The party obligated under section 61 subsection 1, first sentence, must declare the intended recovery or disposal of residues to the competent authority, stating their nature, mass, and specific activity, as soon as it is determined that monitoring is required under section 61 subsection 2 [strlschg_en_bf.pdf:0:103]. A declaration may be waived if notification is made under section 63 subsection 1 due to the nature and specific activity of the residues [strlschg_en_bf.pdf:0:103]. At the request of the obligated party, the competent authority may release residues from monitoring for a specific recovery or disposal if population protection is ensured by the implemented measures, occupational worker body doses do not exceed levels for occupationally exposed persons, and there are no legal reservations regarding the recovery/disposal method [strlschg_en_bf.pdf:0:103]. Release from the monitoring obligation is done via written notice [strlschg_en_bf.pdf:0:103]. The criteria for public protection is that, as a constraint for public exposure caused by disposal or recovery, an effective dose of 1 mSv in a given calendar year should not be exceeded, even without additional measures [strlschg_en_bf.pdf:0:103]."
      ],
      "text/plain": [
       "<IPython.core.display.Markdown object>"
      ]
     },
     "metadata": {},
     "output_type": "display_data"
    },
    {
     "name": "stdout",
     "output_type": "stream",
     "text": [
      "Time taken: 23.82 seconds\n",
      "________________________________\n"
     ]
    },
    {
     "data": {
      "text/markdown": [
       "#LLM: llama3.3"
      ],
      "text/plain": [
       "<IPython.core.display.Markdown object>"
      ]
     },
     "metadata": {},
     "output_type": "display_data"
    },
    {
     "data": {
      "text/markdown": [
       "The methods of recovery and disposal are laid down by a statutory ordinance in accordance with the second sentence, which must be complied with [strlschg_en_bf.pdf](strlschg_en_bf.pdf:0:102). The federal government is empowered to issue a statutory ordinance establishing monitoring limits and methods of recovery and disposal for residues, with the consent of the Bundesrat [strlschg_en_bf.pdf](strlschg_en_bf.pdf:0:102). Residues accumulated may not be mixed or diluted prior to their intended disposal or recovery in order to satisfy the monitoring limits [strlschg_en_bf.pdf](strlschg_en_bf.pdf:0:102). If residues requiring monitoring are stored on operating premises, the party subject to an obligation must declare said storage to the competent authority and inform them without undue delay if such storage ceases [strlschg_en_bf.pdf](strlschg_en_bf.pdf:0:102).\n",
       "\n",
       "For those residues not subject to a monitoring requirement, the competent authority may require compliance with monitoring limits and methods of recovery and disposal in accordance with a statutory ordinance [strlschg_en_bf.pdf](strlschg_en_bf.pdf:0:103). The party under an obligation must secure residues against loss and unauthorized access prior to their disposal or recovery, and they may only be passed on to another party for the purpose of disposal or recovery [strlschg_en_bf.pdf](strlschg_en_bf.pdf:0:102).\n",
       "\n",
       "The cross-border transportation of residues into Germany for disposal is prohibited [strlschg_en_bf.pdf](strlschg_en_bf.pdf:0:103). The party under an obligation must declare the intended recovery or disposal of residues to the competent authority without undue delay, stating their nature, mass, and specific activity [strlschg_en_bf.pdf](strlschg_en_bf.pdf:0:103). At the request of the party under an obligation, the competent authority may release residues requiring monitoring from that monitoring for a particular recovery or disposal if certain conditions are met, including ensuring requisite protection against exposure and compliance with waste law [strlschg_en_bf.pdf](strlschg_en_bf.pdf:0:103).\n",
       "\n",
       "The criteria for protecting the public include an effective dose of 1 mSv in a given calendar year as the constraint for exposure caused by disposal or recovery [strlschg_en_bf.pdf](strlschg_en_bf.pdf:0:103). Release from monitoring obligations is effected through notice in writing, and measures must be put in place to ensure protection against exposure during recovery or disposal [strlschg_en_bf.pdf](strlschg_en_bf.pdf:0:103)."
      ],
      "text/plain": [
       "<IPython.core.display.Markdown object>"
      ]
     },
     "metadata": {},
     "output_type": "display_data"
    },
    {
     "name": "stdout",
     "output_type": "stream",
     "text": [
      "Time taken: 40.90 seconds\n",
      "________________________________\n"
     ]
    },
    {
     "data": {
      "text/markdown": [
       "#LLM: mistral-small"
      ],
      "text/plain": [
       "<IPython.core.display.Markdown object>"
      ]
     },
     "metadata": {},
     "output_type": "display_data"
    },
    {
     "data": {
      "text/markdown": [
       "The German statutory ordinance outlines specific methods for the recovery and disposal of residues, ensuring compliance through monitoring limits established by federal authorities. The Federal Government is authorized to issue regulations regarding these processes in consultation with the Bundesrat [strlschg_en_bf](strlschg_en_bf.pdf:0). Residues must not be mixed or diluted before their intended recovery or disposal to meet specified monitoring limits, and this rule applies even if residues are accumulated abroad and brought into Germany for processing. Any storage of monitored residues on the premises of obligated parties requires declaration to competent authorities [strlschg_en_bf](strlschg_en_bf.pdf:0). For non-monitored residues, compliance with monitoring limits can be required by technical procedures or measurement methods as specified by a statutory ordinance. Obligated parties must secure these residues against unauthorized access and loss until disposal or recovery [strlschg_en_bf](strlschg_en_bf.pdf:0). Cross-border transportation of such residues into Germany for disposal is prohibited, with specific regulations governing the release from monitoring obligations under Section 62. The party responsible for monitored residues must declare their intended disposal to authorities without delay, detailing nature, mass, and activity [strlschg_en_bf](strlschg_en_bf.pdf:0). Release from these monitoring requirements can be granted if certain safety criteria are met, including ensuring public protection against exposure. The effective dose for the general population should not exceed 1 mSv per calendar year without additional measures to mitigate risk [strlschg_en_bf](strlschg_en_bf.pdf:0)."
      ],
      "text/plain": [
       "<IPython.core.display.Markdown object>"
      ]
     },
     "metadata": {},
     "output_type": "display_data"
    },
    {
     "name": "stdout",
     "output_type": "stream",
     "text": [
      "Time taken: 15.20 seconds\n",
      "________________________________\n"
     ]
    },
    {
     "data": {
      "text/markdown": [
       "#LLM: mistral-nemo"
      ],
      "text/plain": [
       "<IPython.core.display.Markdown object>"
      ]
     },
     "metadata": {},
     "output_type": "display_data"
    },
    {
     "data": {
      "text/markdown": [
       "**Summary:**\n",
       "\n",
       "The German Radiation Protection Ordinance (StrlSchV) outlines regulations for the recovery and disposal of radioactive residues. Key provisions include:\n",
       "\n",
       "- **Monitoring Limits and Methods:** The Federal Government, with Bundesrat's consent, can issue ordinances establishing monitoring limits and methods for residue recovery and disposal [1](strlschg_en_bf.pdf:0:102).\n",
       "- **Residue Management:**\n",
       "  - Residues cannot be mixed or diluted before disposal/recovery to meet monitoring limits.\n",
       "  - Storage of residues on operating premises must be declared to the competent authority, with immediate notification upon cessation [1](strlschg_en_bf.pdf:0:102).\n",
       "- **Cross-Border Transportation:** Importing radioactive waste for disposal is prohibited in Germany [1](strlschg_en_bf.pdf:0:102).\n",
       "- **Release from Monitoring:**\n",
       "  - The party responsible must declare intended recovery/disposal of residues to the competent authority, stating nature, mass, and specific activity.\n",
       "  - Residues can be released from monitoring for particular recovery/disposal upon request if certain conditions are met [2](strlschg_en_bf.pdf:0:103).\n",
       "- **Public Protection:** The constraint for public exposure caused by disposal/recovery is an effective dose of 1 mSv in a given calendar year, even without additional measures [2](strlschg_en_bf.pdf:0:103)."
      ],
      "text/plain": [
       "<IPython.core.display.Markdown object>"
      ]
     },
     "metadata": {},
     "output_type": "display_data"
    },
    {
     "name": "stdout",
     "output_type": "stream",
     "text": [
      "Time taken: 6.44 seconds\n",
      "________________________________\n"
     ]
    }
   ],
   "source": [
    "for model in models:\n",
    "    start_time = time.time()\n",
    "    summary = source_summarizer_Ollama('',tr,model)\n",
    "    elapsed_time = time.time() - start_time\n",
    "    display(Markdown(f'#LLM: {model}'))\n",
    "    display(Markdown(summary['content']))\n",
    "    print(f'Time taken: {elapsed_time:.2f} seconds')\n",
    "    print('________________________________')"
   ]
  },
  {
   "cell_type": "code",
   "execution_count": 17,
   "metadata": {},
   "outputs": [
    {
     "name": "stderr",
     "output_type": "stream",
     "text": [
      "Some weights of BertModel were not initialized from the model checkpoint at jinaai/jina-embeddings-v2-base-de and are newly initialized: ['embeddings.position_embeddings.weight', 'encoder.layer.0.intermediate.dense.bias', 'encoder.layer.0.intermediate.dense.weight', 'encoder.layer.0.output.LayerNorm.bias', 'encoder.layer.0.output.LayerNorm.weight', 'encoder.layer.0.output.dense.bias', 'encoder.layer.0.output.dense.weight', 'encoder.layer.1.intermediate.dense.bias', 'encoder.layer.1.intermediate.dense.weight', 'encoder.layer.1.output.LayerNorm.bias', 'encoder.layer.1.output.LayerNorm.weight', 'encoder.layer.1.output.dense.bias', 'encoder.layer.1.output.dense.weight', 'encoder.layer.10.intermediate.dense.bias', 'encoder.layer.10.intermediate.dense.weight', 'encoder.layer.10.output.LayerNorm.bias', 'encoder.layer.10.output.LayerNorm.weight', 'encoder.layer.10.output.dense.bias', 'encoder.layer.10.output.dense.weight', 'encoder.layer.11.intermediate.dense.bias', 'encoder.layer.11.intermediate.dense.weight', 'encoder.layer.11.output.LayerNorm.bias', 'encoder.layer.11.output.LayerNorm.weight', 'encoder.layer.11.output.dense.bias', 'encoder.layer.11.output.dense.weight', 'encoder.layer.2.intermediate.dense.bias', 'encoder.layer.2.intermediate.dense.weight', 'encoder.layer.2.output.LayerNorm.bias', 'encoder.layer.2.output.LayerNorm.weight', 'encoder.layer.2.output.dense.bias', 'encoder.layer.2.output.dense.weight', 'encoder.layer.3.intermediate.dense.bias', 'encoder.layer.3.intermediate.dense.weight', 'encoder.layer.3.output.LayerNorm.bias', 'encoder.layer.3.output.LayerNorm.weight', 'encoder.layer.3.output.dense.bias', 'encoder.layer.3.output.dense.weight', 'encoder.layer.4.intermediate.dense.bias', 'encoder.layer.4.intermediate.dense.weight', 'encoder.layer.4.output.LayerNorm.bias', 'encoder.layer.4.output.LayerNorm.weight', 'encoder.layer.4.output.dense.bias', 'encoder.layer.4.output.dense.weight', 'encoder.layer.5.intermediate.dense.bias', 'encoder.layer.5.intermediate.dense.weight', 'encoder.layer.5.output.LayerNorm.bias', 'encoder.layer.5.output.LayerNorm.weight', 'encoder.layer.5.output.dense.bias', 'encoder.layer.5.output.dense.weight', 'encoder.layer.6.intermediate.dense.bias', 'encoder.layer.6.intermediate.dense.weight', 'encoder.layer.6.output.LayerNorm.bias', 'encoder.layer.6.output.LayerNorm.weight', 'encoder.layer.6.output.dense.bias', 'encoder.layer.6.output.dense.weight', 'encoder.layer.7.intermediate.dense.bias', 'encoder.layer.7.intermediate.dense.weight', 'encoder.layer.7.output.LayerNorm.bias', 'encoder.layer.7.output.LayerNorm.weight', 'encoder.layer.7.output.dense.bias', 'encoder.layer.7.output.dense.weight', 'encoder.layer.8.intermediate.dense.bias', 'encoder.layer.8.intermediate.dense.weight', 'encoder.layer.8.output.LayerNorm.bias', 'encoder.layer.8.output.LayerNorm.weight', 'encoder.layer.8.output.dense.bias', 'encoder.layer.8.output.dense.weight', 'encoder.layer.9.intermediate.dense.bias', 'encoder.layer.9.intermediate.dense.weight', 'encoder.layer.9.output.LayerNorm.bias', 'encoder.layer.9.output.LayerNorm.weight', 'encoder.layer.9.output.dense.bias', 'encoder.layer.9.output.dense.weight']\n",
      "You should probably TRAIN this model on a down-stream task to be able to use it for predictions and inference.\n"
     ]
    },
    {
     "name": "stdout",
     "output_type": "stream",
     "text": [
      "-------------------------\n",
      "Using embedding model: jinaai/jina-embeddings-v2-base-de\n",
      "client=SentenceTransformer(\n",
      "  (0): Transformer({'max_seq_length': 8192, 'do_lower_case': False}) with Transformer model: BertModel \n",
      "  (1): Pooling({'word_embedding_dimension': 768, 'pooling_mode_cls_token': False, 'pooling_mode_mean_tokens': True, 'pooling_mode_max_tokens': False, 'pooling_mode_mean_sqrt_len_tokens': False, 'pooling_mode_weightedmean_tokens': False, 'pooling_mode_lasttoken': False, 'include_prompt': True})\n",
      "  (2): Normalize()\n",
      ") model_name='jinaai/jina-embeddings-v2-base-de' cache_folder=None model_kwargs={'device': 'cpu'} encode_kwargs={} multi_process=False show_progress=False\n",
      "-------------------------\n"
     ]
    },
    {
     "data": {
      "text/plain": [
       "HuggingFaceEmbeddings(client=SentenceTransformer(\n",
       "  (0): Transformer({'max_seq_length': 8192, 'do_lower_case': False}) with Transformer model: BertModel \n",
       "  (1): Pooling({'word_embedding_dimension': 768, 'pooling_mode_cls_token': False, 'pooling_mode_mean_tokens': True, 'pooling_mode_max_tokens': False, 'pooling_mode_mean_sqrt_len_tokens': False, 'pooling_mode_weightedmean_tokens': False, 'pooling_mode_lasttoken': False, 'include_prompt': True})\n",
       "  (2): Normalize()\n",
       "), model_name='jinaai/jina-embeddings-v2-base-de', cache_folder=None, model_kwargs={'device': 'cpu'}, encode_kwargs={}, multi_process=False, show_progress=False)"
      ]
     },
     "execution_count": 17,
     "metadata": {},
     "output_type": "execute_result"
    }
   ],
   "source": [
    "get_embedding_model()"
   ]
  },
  {
   "cell_type": "code",
   "execution_count": 18,
   "metadata": {},
   "outputs": [
    {
     "ename": "ModuleNotFoundError",
     "evalue": "No module named 'langchain_ollama'",
     "output_type": "error",
     "traceback": [
      "\u001b[31m---------------------------------------------------------------------------\u001b[39m",
      "\u001b[31mModuleNotFoundError\u001b[39m                       Traceback (most recent call last)",
      "\u001b[36mCell\u001b[39m\u001b[36m \u001b[39m\u001b[32mIn[18]\u001b[39m\u001b[32m, line 1\u001b[39m\n\u001b[32m----> \u001b[39m\u001b[32m1\u001b[39m \u001b[38;5;28;01mfrom\u001b[39;00m\u001b[38;5;250m \u001b[39m\u001b[34;01mlangchain_ollama\u001b[39;00m\u001b[38;5;250m \u001b[39m\u001b[38;5;28;01mimport\u001b[39;00m ChatOllama\n\u001b[32m      2\u001b[39m \u001b[38;5;28;01mfrom\u001b[39;00m\u001b[38;5;250m \u001b[39m\u001b[34;01mlangchain_core\u001b[39;00m\u001b[34;01m.\u001b[39;00m\u001b[34;01mmessages\u001b[39;00m\u001b[38;5;250m \u001b[39m\u001b[38;5;28;01mimport\u001b[39;00m SystemMessage, HumanMessage\n\u001b[32m      3\u001b[39m \u001b[38;5;28;01mimport\u001b[39;00m\u001b[38;5;250m \u001b[39m\u001b[34;01mre\u001b[39;00m\n",
      "\u001b[31mModuleNotFoundError\u001b[39m: No module named 'langchain_ollama'"
     ]
    }
   ],
   "source": [
    "from langchain_ollama import ChatOllama\n",
    "from langchain_core.messages import SystemMessage, HumanMessage\n",
    "import re\n",
    "\n",
    "def source_summarizer_ChatOllama(context_documents, llm_model=\"deepseek-r1\"):\n",
    "    system_message = SUMMARIZER_SYSTEM_PROMPT\n",
    "\n",
    "    formatted_context = \"\\n\".join(\n",
    "        f\"Content: {doc['content']}\\nSource: {doc['metadata']['name']}\\nPath: {doc['metadata']['path']}\"\n",
    "        for doc in context_documents\n",
    "    )\n",
    "\n",
    "    prompt = f\"\"\"\n",
    "    Here are the documents to summarize:\n",
    "    \n",
    "    {formatted_context}\n",
    "    \n",
    "    Provide a concise summary with proper citations:\n",
    "    \"\"\"\n",
    "    \n",
    "    # Initialize ChatOllama with the specified model and temperature\n",
    "    llm = ChatOllama(model=llm_model, temperature=0.1)\n",
    "    \n",
    "    # Format messages for LangChain\n",
    "    messages = [\n",
    "        SystemMessage(content=system_message),\n",
    "        HumanMessage(content=prompt)\n",
    "    ]\n",
    "    \n",
    "    # Get response from the model\n",
    "    response = llm.invoke(messages)\n",
    "    \n",
    "    # Extract content from response\n",
    "    response_content = response.content\n",
    "    \n",
    "    # Clean markdown formatting if present\n",
    "    try:\n",
    "        final_content = re.sub(r\"<think>.*?</think>\", \"\", response_content, flags=re.DOTALL).strip()\n",
    "    except:\n",
    "        final_content = response_content.strip()\n",
    "\n",
    "    # Extract metadata from all documents\n",
    "    document_names = [doc['metadata']['name'] for doc in context_documents]\n",
    "    document_paths = [doc['metadata']['path'] for doc in context_documents]\n",
    "\n",
    "    return {\n",
    "        \"content\": final_content,\n",
    "        \"metadata\": {\n",
    "            \"name\": document_names,\n",
    "            \"path\": document_paths\n",
    "        }\n",
    "    }\n"
   ]
  },
  {
   "cell_type": "code",
   "execution_count": null,
   "metadata": {},
   "outputs": [],
   "source": [
    "for model in models:\n",
    "    start_time = time.time()\n",
    "    summary = source_summarizer_ChatOllama(tr,model)\n",
    "    elapsed_time = time.time() - start_time\n",
    "    display(Markdown(f'#LLM: {model}'))\n",
    "    display(Markdown(summary['content']))\n",
    "    print(f'Time taken: {elapsed_time:.2f} seconds')\n",
    "    print('________________________________')"
   ]
  }
 ],
 "metadata": {
  "kernelspec": {
   "display_name": "lrrd-venv",
   "language": "python",
   "name": "python3"
  },
  "language_info": {
   "codemirror_mode": {
    "name": "ipython",
    "version": 3
   },
   "file_extension": ".py",
   "mimetype": "text/x-python",
   "name": "python",
   "nbconvert_exporter": "python",
   "pygments_lexer": "ipython3",
   "version": "3.11.11"
  }
 },
 "nbformat": 4,
 "nbformat_minor": 2
}
