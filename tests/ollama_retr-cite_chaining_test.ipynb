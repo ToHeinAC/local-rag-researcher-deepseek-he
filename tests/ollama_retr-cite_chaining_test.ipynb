{
 "cells": [
  {
   "cell_type": "code",
   "execution_count": 1,
   "metadata": {},
   "outputs": [],
   "source": [
    "import sys, os\n",
    "sys.path.append(os.path.abspath(os.path.join(os.getcwd(), '..')))\n",
    "\n",
    "from src.assistant.rag_helpers import similarity_search_for_tenant\n",
    "from src.assistant.vector_db import get_embedding_model"
   ]
  },
  {
   "cell_type": "code",
   "execution_count": 2,
   "metadata": {},
   "outputs": [
    {
     "name": "stderr",
     "output_type": "stream",
     "text": [
      "/home/he/ai/dev/langgraph/local-rag-researcher-deepseek-he/src/assistant/vector_db.py:11: LangChainDeprecationWarning: The class `HuggingFaceEmbeddings` was deprecated in LangChain 0.2.2 and will be removed in 1.0. An updated version of the class exists in the :class:`~langchain-huggingface package and should be used instead. To use it run `pip install -U :class:`~langchain-huggingface` and import as `from :class:`~langchain_huggingface import HuggingFaceEmbeddings``.\n",
      "  return HuggingFaceEmbeddings(model_kwargs={'device': 'cpu'})\n",
      "/home/he/ai/dev/langgraph/local-rag-researcher-deepseek-he/src/assistant/vector_db.py:11: LangChainDeprecationWarning: Default values for HuggingFaceEmbeddings.model_name were deprecated in LangChain 0.2.16 and will be removed in 0.4.0. Explicitly pass a model_name to the HuggingFaceEmbeddings constructor instead.\n",
      "  return HuggingFaceEmbeddings(model_kwargs={'device': 'cpu'})\n",
      "/home/he/ai/dev/langgraph/local-rag-researcher-deepseek-he/lrrd-venv/lib/python3.12/site-packages/tqdm/auto.py:21: TqdmWarning: IProgress not found. Please update jupyter and ipywidgets. See https://ipywidgets.readthedocs.io/en/stable/user_install.html\n",
      "  from .autonotebook import tqdm as notebook_tqdm\n"
     ]
    },
    {
     "name": "stdout",
     "output_type": "stream",
     "text": [
      "CUDA memory cache cleared\n"
     ]
    },
    {
     "name": "stderr",
     "output_type": "stream",
     "text": [
      "/home/he/ai/dev/langgraph/local-rag-researcher-deepseek-he/src/assistant/rag_helpers.py:91: LangChainDeprecationWarning: The class `Chroma` was deprecated in LangChain 0.2.9 and will be removed in 1.0. An updated version of the class exists in the :class:`~langchain-chroma package and should be used instead. To use it run `pip install -U :class:`~langchain-chroma` and import as `from :class:`~langchain_chroma import Chroma``.\n",
      "  vectorstore = Chroma(\n"
     ]
    },
    {
     "name": "stdout",
     "output_type": "stream",
     "text": [
      "CUDA memory cache cleared\n"
     ]
    },
    {
     "data": {
      "text/plain": [
       "[Document(metadata={'id': 'strlschg_en_bf.pdf:0:102', 'page': 0, 'source': 'strlschg_en_bf.pdf'}, page_content='methods of recovery and disposal laid down by a statutory ordinance in accordance with the second sentence are complied with in their disposal or recovery. the federal government is herewith empowered to issue a statutory ordinance, with the consent of the bundesrat, es\\xad tablishing the monitoring limits and methods of recovery and disposal to apply to residues. 3 residues accumulated may not be mixed or diluted prior to their intended disposal or recovery in order to satisfy the monitoring limits in accordance with subsection 2. the first sentence shall also apply to residues accumulated abroad and brought into germany for recovery. 4 if the residues requiring monitoring are stored on the operating premises of the par\\xad ty subject to an obligation in accordance with subsection 1, the latter must declare said storage to the competent authority. the competent authority shall be informed without undue delay if such storage ceases. 5 for those residues that are not subject to a monitoring requirement, the competent authority may require that compliance be proven with the monitoring limits and methods of recovery and disposal in accordance with a statutory ordinance in accordance with the sec\\xad ond sentence of subsection 2. to this end, the competent authority may lay down technical procedures, suitable measurement procedures and other requirements, in particular those covering the ascertainment of representative measurement values for the specific activity. 6 the party subject to an obligation in accordance with subsection 1 shall secure residues against loss and against access by unauthorised parties prior to their disposal or recovery. they may only be passed on to other party for the purpose of the disposal or re\\xad covery. 7 the crossborder transportation of residues into germany for their disposal is here\\xad 71 with prohibited. section 62 release of residues from monitoring empowerment to issue ordinances 1 the party under an obligation in accordance with section 61'),\n",
       " Document(metadata={'id': 'strlschg_en_bf.pdf:0:103', 'page': 0, 'source': 'strlschg_en_bf.pdf'}, page_content='by unauthorised parties prior to their disposal or recovery. they may only be passed on to other party for the purpose of the disposal or re\\xad covery. 7 the crossborder transportation of residues into germany for their disposal is here\\xad 71 with prohibited. section 62 release of residues from monitoring empowerment to issue ordinances 1 the party under an obligation in accordance with section 61 subsection 1, first sentence, must declare the intended recovery or disposal of the residues to the competent authority without undue delay, stating their nature, mass and specific activity, as soon as he or she has established that said residues require monitoring in accordance with section 61 subsection 2. a declaration in accordance with the first sentence above may be dispensed with where notification is made in accordance with section 63 subsection 1 due to the na\\xad ture and specific activity of the residues requiring monitoring. 2 at the request of the party under an obligation in accordance with section 61 sub\\xad section 1, first sentence, the competent authority shall release residues requiring monitor\\xad ing from that monitoring for the purpose of a particular recovery or disposal, where 1. the requisite protection of the population against exposure is ensured by means of the measures put in place for recovery or disposal, 2. the body dose of occupational workers in the course of disposal or recovery cannot ex\\xad ceed the levels for categorisation as an occupationallyexposed person, and 3. there are no reservations under the law on waste as to the permissibility of the envis\\xad aged method of recovery or disposal and as to whether it will be complied with. release from the monitoring obligation shall be effected by means of notice in writing. 3 the criteria for the protection of the public shall be that, as the constraint for the ex\\xad posure of members of the public caused by disposal or recovery, even without additional measures an effective dose of 1 msv in a given calendar')]"
      ]
     },
     "execution_count": 2,
     "metadata": {},
     "output_type": "execute_result"
    }
   ],
   "source": [
    "# Test query\n",
    "test_query = \"how to release residues from regulatory control\"\n",
    "\n",
    "# Get results\n",
    "results = similarity_search_for_tenant(\n",
    "    tenant_id=\"default\",\n",
    "    embed_llm=get_embedding_model(),\n",
    "    persist_directory=\"../database\",\n",
    "    similarity=\"cosine\",\n",
    "    normal=True,\n",
    "    query=test_query\n",
    ")\n",
    "\n",
    "# Print results\n",
    "results"
   ]
  },
  {
   "cell_type": "code",
   "execution_count": 3,
   "metadata": {},
   "outputs": [],
   "source": [
    "def transform_documents(documents):\n",
    "    \"\"\"\n",
    "    Transforms a list of Document objects into a specific dictionary format.\n",
    "    \n",
    "    Args:\n",
    "        documents (list): List of Document objects with metadata and page_content\n",
    "        \n",
    "    Returns:\n",
    "        list: List of dictionaries with content and metadata in the required format\n",
    "    \"\"\"\n",
    "    samples = []\n",
    "    \n",
    "    for doc in documents:\n",
    "        transformed_doc = {\n",
    "            \"content\": doc.page_content,\n",
    "            \"metadata\": {\n",
    "                \"name\": doc.metadata['id'],\n",
    "                \"path\": doc.metadata['source']\n",
    "            }\n",
    "        }\n",
    "        samples.append(transformed_doc)\n",
    "    \n",
    "    return samples"
   ]
  },
  {
   "cell_type": "code",
   "execution_count": 4,
   "metadata": {},
   "outputs": [
    {
     "data": {
      "text/plain": [
       "[{'content': 'methods of recovery and disposal laid down by a statutory ordinance in accordance with the second sentence are complied with in their disposal or recovery. the federal government is herewith empowered to issue a statutory ordinance, with the consent of the bundesrat, es\\xad tablishing the monitoring limits and methods of recovery and disposal to apply to residues. 3 residues accumulated may not be mixed or diluted prior to their intended disposal or recovery in order to satisfy the monitoring limits in accordance with subsection 2. the first sentence shall also apply to residues accumulated abroad and brought into germany for recovery. 4 if the residues requiring monitoring are stored on the operating premises of the par\\xad ty subject to an obligation in accordance with subsection 1, the latter must declare said storage to the competent authority. the competent authority shall be informed without undue delay if such storage ceases. 5 for those residues that are not subject to a monitoring requirement, the competent authority may require that compliance be proven with the monitoring limits and methods of recovery and disposal in accordance with a statutory ordinance in accordance with the sec\\xad ond sentence of subsection 2. to this end, the competent authority may lay down technical procedures, suitable measurement procedures and other requirements, in particular those covering the ascertainment of representative measurement values for the specific activity. 6 the party subject to an obligation in accordance with subsection 1 shall secure residues against loss and against access by unauthorised parties prior to their disposal or recovery. they may only be passed on to other party for the purpose of the disposal or re\\xad covery. 7 the crossborder transportation of residues into germany for their disposal is here\\xad 71 with prohibited. section 62 release of residues from monitoring empowerment to issue ordinances 1 the party under an obligation in accordance with section 61',\n",
       "  'metadata': {'name': 'strlschg_en_bf.pdf:0:102',\n",
       "   'path': 'strlschg_en_bf.pdf'}},\n",
       " {'content': 'by unauthorised parties prior to their disposal or recovery. they may only be passed on to other party for the purpose of the disposal or re\\xad covery. 7 the crossborder transportation of residues into germany for their disposal is here\\xad 71 with prohibited. section 62 release of residues from monitoring empowerment to issue ordinances 1 the party under an obligation in accordance with section 61 subsection 1, first sentence, must declare the intended recovery or disposal of the residues to the competent authority without undue delay, stating their nature, mass and specific activity, as soon as he or she has established that said residues require monitoring in accordance with section 61 subsection 2. a declaration in accordance with the first sentence above may be dispensed with where notification is made in accordance with section 63 subsection 1 due to the na\\xad ture and specific activity of the residues requiring monitoring. 2 at the request of the party under an obligation in accordance with section 61 sub\\xad section 1, first sentence, the competent authority shall release residues requiring monitor\\xad ing from that monitoring for the purpose of a particular recovery or disposal, where 1. the requisite protection of the population against exposure is ensured by means of the measures put in place for recovery or disposal, 2. the body dose of occupational workers in the course of disposal or recovery cannot ex\\xad ceed the levels for categorisation as an occupationallyexposed person, and 3. there are no reservations under the law on waste as to the permissibility of the envis\\xad aged method of recovery or disposal and as to whether it will be complied with. release from the monitoring obligation shall be effected by means of notice in writing. 3 the criteria for the protection of the public shall be that, as the constraint for the ex\\xad posure of members of the public caused by disposal or recovery, even without additional measures an effective dose of 1 msv in a given calendar',\n",
       "  'metadata': {'name': 'strlschg_en_bf.pdf:0:103',\n",
       "   'path': 'strlschg_en_bf.pdf'}}]"
      ]
     },
     "execution_count": 4,
     "metadata": {},
     "output_type": "execute_result"
    }
   ],
   "source": [
    "tr=transform_documents(results)\n",
    "tr"
   ]
  },
  {
   "cell_type": "code",
   "execution_count": 5,
   "metadata": {},
   "outputs": [],
   "source": [
    "import ollama\n",
    "import re\n",
    "from IPython.display import Markdown, display"
   ]
  },
  {
   "cell_type": "code",
   "execution_count": 6,
   "metadata": {},
   "outputs": [],
   "source": [
    "def source_summarizer(context_documents, llm_model=\"deepseek-r1\"):\n",
    "    system_message = \"\"\"\n",
    "    You are an expert summarizer working within a RAG system. Your task is to create a concise, accurate summary of the provided information while properly attributing all facts to their sources.\n",
    "\n",
    "    Guidelines:\n",
    "    - Create a clear, coherent summary limited to 3-5 sentences\n",
    "    - Focus on the most important facts and insights\n",
    "    - Maintain factual accuracy without adding new information\n",
    "    - Use neutral, professional language\n",
    "    - Cite EVERY piece of information using the format [Document Name](document_path)\n",
    "    - Place citations immediately after the relevant information\n",
    "    - Ensure each citation is correctly matched to its source\n",
    "    - Return only the plain text summary without markdown formatting\n",
    "    \"\"\"\n",
    "\n",
    "    formatted_context = \"\\n\".join(\n",
    "        f\"Content: {doc['content']}\\nSource: {doc['metadata']['name']}\\nPath: {doc['metadata']['path']}\"\n",
    "        for doc in context_documents\n",
    "    )\n",
    "\n",
    "    prompt = f\"\"\"\n",
    "    Here are the documents to summarize:\n",
    "    \n",
    "    {formatted_context}\n",
    "    \n",
    "    Provide a concise summary with proper citations:\n",
    "    \"\"\"\n",
    "    \n",
    "    response = ollama.chat(\n",
    "        model=llm_model,\n",
    "        messages=[\n",
    "            {\"role\": \"system\", \"content\": system_message},\n",
    "            {\"role\": \"user\", \"content\": prompt}\n",
    "        ]\n",
    "    )\n",
    "    \n",
    "    response_content = response[\"message\"][\"content\"]\n",
    "    \n",
    "    # Clean markdown formatting if present\n",
    "    try:\n",
    "        final_content = re.sub(r\"<think>.*?</think>\", \"\", response_content, flags=re.DOTALL).strip()\n",
    "    except:\n",
    "        final_content = response_content.strip()\n",
    "\n",
    "    # Extract metadata from all documents\n",
    "    document_names = [doc['metadata']['name'] for doc in context_documents]\n",
    "    document_paths = [doc['metadata']['path'] for doc in context_documents]\n",
    "\n",
    "    return {\n",
    "        \"content\": final_content,\n",
    "        \"metadata\": {\n",
    "            \"name\": document_names,\n",
    "            \"path\": document_paths\n",
    "        }\n",
    "    }"
   ]
  },
  {
   "cell_type": "code",
   "execution_count": 7,
   "metadata": {},
   "outputs": [
    {
     "data": {
      "text/plain": [
       "{'content': \"The federal government has established an ordinance requiring the declaration of residues' nature, mass, and specific activity when monitoring is necessary [102: strlschg_en_bf.pdf:0:102]. Residues cannot be mixed or diluted before disposal if they require monitoring to ensure public protection. Cross-border transportation of monitored residues into Germany for disposal is prohibited unless specific safety measures are in place, ensuring the public and occupational workers' safety [103: strlschg_en_bf.pdf:0:103]. Parties under an obligation must declare storage requirements without undue delay, while non-monitored residues may require additional technical procedures as outlined by the competent authority.\",\n",
       " 'metadata': {'name': ['strlschg_en_bf.pdf:0:102', 'strlschg_en_bf.pdf:0:103'],\n",
       "  'path': ['strlschg_en_bf.pdf', 'strlschg_en_bf.pdf']}}"
      ]
     },
     "execution_count": 7,
     "metadata": {},
     "output_type": "execute_result"
    }
   ],
   "source": [
    "smry = source_summarizer(tr)\n",
    "smry"
   ]
  },
  {
   "cell_type": "code",
   "execution_count": 8,
   "metadata": {},
   "outputs": [
    {
     "data": {
      "text/markdown": [
       "The federal government has established an ordinance requiring the declaration of residues' nature, mass, and specific activity when monitoring is necessary [102: strlschg_en_bf.pdf:0:102]. Residues cannot be mixed or diluted before disposal if they require monitoring to ensure public protection. Cross-border transportation of monitored residues into Germany for disposal is prohibited unless specific safety measures are in place, ensuring the public and occupational workers' safety [103: strlschg_en_bf.pdf:0:103]. Parties under an obligation must declare storage requirements without undue delay, while non-monitored residues may require additional technical procedures as outlined by the competent authority."
      ],
      "text/plain": [
       "<IPython.core.display.Markdown object>"
      ]
     },
     "metadata": {},
     "output_type": "display_data"
    }
   ],
   "source": [
    "display(Markdown(smry['content']))"
   ]
  },
  {
   "cell_type": "code",
   "execution_count": 9,
   "metadata": {},
   "outputs": [
    {
     "data": {
      "text/markdown": [
       "#LLM: deepseek-r1:latest"
      ],
      "text/plain": [
       "<IPython.core.display.Markdown object>"
      ]
     },
     "metadata": {},
     "output_type": "display_data"
    },
    {
     "data": {
      "text/markdown": [
       "The German federal government has authorized a statutory ordinance empowering the Bundestag to establish monitoring limits for residues, ensuring they are not mixed or diluted prior to disposal or recovery [1](https://strlschg_en_bf.pdf:0:102). Residues accumulated on a party's premises must be declared to the competent authority immediately if monitoring is required. For residues exempt from monitoring, additional technical procedures may be established by the authority. Cross-border transportation of residues into Germany for disposal is prohibited [1](https://strlschg_en_bf.pdf:0:102). Residues requiring monitoring must declare their intended recovery or disposal to the competent authority promptly if their nature, mass, and specific activity are known. Release from monitoring obligations is permissible only if measures ensure public protection and comply with occupational exposure limits [2](https://strlschg_en_bf.pdf:0:103). Public protection criteria require an effective dose of 1 msv for disposal or recovery."
      ],
      "text/plain": [
       "<IPython.core.display.Markdown object>"
      ]
     },
     "metadata": {},
     "output_type": "display_data"
    },
    {
     "name": "stdout",
     "output_type": "stream",
     "text": [
      "________________________________\n"
     ]
    },
    {
     "data": {
      "text/markdown": [
       "#LLM: deepseek-r1:70b"
      ],
      "text/plain": [
       "<IPython.core.display.Markdown object>"
      ]
     },
     "metadata": {},
     "output_type": "display_data"
    },
    {
     "data": {
      "text/markdown": [
       "The federal government is empowered to issue statutory ordinances, with the consent of the Bundesrat, establishing methods and limits for the recovery or disposal of residues [strlschg_en_bf.pdf:0:102](strlschg_en_bf.pdf). Residues requiring monitoring must not be mixed or diluted to meet these limits and must be stored securely to prevent unauthorized access [strlschg_en_bf.pdf:0:102](strlschg_en_bf.pdf). Cross-border transportation of residues into Germany for disposal is prohibited unless approved by the competent authority, which may require proof of compliance with specified recovery or disposal methods [strlschg_en_bf.pdf:0:102](strlschg_en_bf.pdf). The party under obligation must declare storage details to the authority and ensure residues are only passed on for disposal or recovery [strlschg_en_bf.pdf:0:103](strlschg_en_bf.pdf). Release from monitoring may be granted if public exposure is adequately protected, occupational doses remain within limits, and waste laws are complied with [strlschg_en_bf.pdf:0:103](strlschg_en_bf.pdf)."
      ],
      "text/plain": [
       "<IPython.core.display.Markdown object>"
      ]
     },
     "metadata": {},
     "output_type": "display_data"
    },
    {
     "name": "stdout",
     "output_type": "stream",
     "text": [
      "________________________________\n"
     ]
    },
    {
     "data": {
      "text/markdown": [
       "#LLM: qwq"
      ],
      "text/plain": [
       "<IPython.core.display.Markdown object>"
      ]
     },
     "metadata": {},
     "output_type": "display_data"
    },
    {
     "data": {
      "text/markdown": [
       "<think>\n",
       "\n",
       "Okay, let me tackle this query. The user wants me to summarize the provided documents from strlschg_en_bf.pdf. First, I need to read through both content sections carefully.\n",
       "\n",
       "The first document (page 102) talks about regulations for residue disposal and recovery in Germany. It mentions that the federal government can set monitoring limits via statutory ordinance with Bundesrat consent. Also, residues can't be mixed or diluted before disposal, and they have storage declaration requirements. Cross-border transport into Germany is prohibited here.\n",
       "\n",
       "The second document (page 103) continues with section 62, detailing how parties must declare residue plans to authorities unless notified under section 63. The competent authority can release residues from monitoring if certain conditions are met like public safety and worker exposure limits. They mention specific criteria like an effective dose limit of 1 mSv for the public.\n",
       "\n",
       "Now, I need to condense this into a concise summary with citations. Each fact should be attributed correctly. Let me check each point again:\n",
       "\n",
       "- Federal government's power via ordinance: from page 102.\n",
       "- Mixing/dilution prohibition and storage declarations also on 102.\n",
       "- Cross-border transport ban is in first doc, so 102 too.\n",
       "- Declaration requirements and release conditions under section 62 (page 103).\n",
       "- The 1 mSv threshold comes from page 103's criteria.\n",
       "\n",
       "I need to ensure each sentence cites the correct document. Since both documents are from the same PDF but different pages, I should note the path with the specific page reference in brackets? Wait, looking back at the user's instruction: \"Cite EVERY piece of information using the format [Document Name](document_path)\" and \"Path: strlschg_en_bf.pdf\". The example shows that the citation is just the document name followed by the path. Since both are from same PDF but different pages (0:102 vs 0:103), maybe I need to include the page number in the citation for clarity?\n",
       "\n",
       "Wait, checking the user's examples again:\n",
       "\n",
       "The first content snippet says Path: strlschg_en_bf.pdf and the source includes \"strlschg_en_bf.pdf:0:102\". The second is similar but 0:103. So perhaps each citation should specify the path with the page number.\n",
       "\n",
       "But in the user's example, when they provided the documents, both have Path as strlschg_en_bf.pdf but different content parts (page numbers). Therefore, to properly cite each part, I need to reference the specific pages. For instance:\n",
       "\n",
       "If a fact comes from page 102: [strlschg_en_bf.pdf](strlschg_en_bf.pdf:0:102)\n",
       "\n",
       "Similarly for page 103.\n",
       "\n",
       "Looking at the first document's content (page 102), it covers points like federal government's power, mixing prohibition, storage declarations, cross-border transport ban.\n",
       "\n",
       "The second document (page 103) has section 62 details about declarations to authorities, release conditions with criteria including 1 mSv dose limit.\n",
       "\n",
       "Now structuring the summary:\n",
       "\n",
       "Start with the main regulations: compliance with methods via ordinance [cite 102]. Then mention mixing/dilution prohibition and storage requirements from same page. Note cross-border transport ban also in 102. Then move to section 62's declaration requirement (page 103), release conditions, including public exposure limit of 1 mSv (from 103).\n",
       "\n",
       "Make sure each sentence cites the correct part. For example:\n",
       "\n",
       "\"The federal government can establish monitoring limits and methods for residue disposal through statutory ordinances with Bundesrat consent [strlschg_en_bf.pdf](strlschg_en_bf.pdf:0:102). Residues must not be mixed or diluted before disposal, and storage declarations are mandatory; cross-border transportation into Germany is prohibited [same citation]. Parties must declare recovery/disposal plans unless exempted, while authorities can release residues from monitoring if public exposure stays under 1 mSv and worker doses comply with occupational standards [strlschg_en_bf.pdf](strlschg_en_bf.pdf:0:103).\"\n",
       "\n",
       "Wait, but the storage declarations are in first doc (page 102), so need to cite that. The cross-border is also there. Then the declaration requirements and release criteria from page 103.\n",
       "\n",
       "So splitting into sentences:\n",
       "\n",
       "First sentence covers federal power and methods. Second about mixing/dilution, storage rules, and transport ban (all from 102). Third sentence on declarations and releases under section 62 with specific criteria from 103.\n",
       "\n",
       "Need to check if all key points are included: monitoring limits by ordinance, no mixing before disposal, storage declaration requirements, cross-border prohibition. Then in section 62: declare intent, release conditions including public dose limit (1 mSv), worker exposure below occupational thresholds, and compliance with waste law.\n",
       "\n",
       "So the summary should mention:\n",
       "\n",
       "- Federal authority to set rules via ordinance [cite 102]\n",
       "- Mixing/dilution prohibited; storage declarations required; cross-border transport banned [all from 102]\n",
       "- Parties must declare unless under section63 notification [from 103]\n",
       "- Authorities can release residues if public dose <1 mSv and worker limits met, plus waste law compliance [103]\n",
       "\n",
       "Now assembling into concise sentences with proper citations:\n",
       "\n",
       "\"The federal government establishes monitoring limits and disposal methods for residues through statutory ordinances approved by the Bundesrat [strlschg_en_bf.pdf](strlschg_en_bf.pdf:0:102). Residues must not be mixed or diluted prior to disposal, and their storage requires mandatory declarations; cross-border transportation into Germany is prohibited [strlschg_en_bf.pdf](strlschg_en_bf.pdf:0:102). Parties must submit recovery/disposal plans to authorities unless exempted under Section 63, while residues may be released from monitoring if public exposure stays below 1 mSv and worker doses comply with occupational standards, alongside adherence to waste laws [strlschg_en_bf.pdf](strlschg_en_bf.pdf:0:103).\"\n",
       "\n",
       "I think this covers all main points, each cited correctly. Each citation is linked properly."
      ],
      "text/plain": [
       "<IPython.core.display.Markdown object>"
      ]
     },
     "metadata": {},
     "output_type": "display_data"
    },
    {
     "name": "stdout",
     "output_type": "stream",
     "text": [
      "________________________________\n"
     ]
    },
    {
     "data": {
      "text/markdown": [
       "#LLM: gemma3:27b"
      ],
      "text/plain": [
       "<IPython.core.display.Markdown object>"
      ]
     },
     "metadata": {},
     "output_type": "display_data"
    },
    {
     "data": {
      "text/markdown": [
       "Residues must be disposed of or recovered in compliance with legally mandated methods [strlschg_en_bf.pdf:0:102]. Parties with monitoring obligations must declare the storage, nature, mass, and specific activity of residues to the competent authority [strlschg_en_bf.pdf:0:103]. Cross-border transportation of residues into Germany for disposal is prohibited [strlschg_en_bf.pdf:0:102]. The competent authority can release residues from monitoring for specific recovery or disposal methods if population protection is ensured, occupational worker doses are within limits, and waste laws are followed [strlschg_en_bf.pdf:0:103]. An effective dose of 1 msv is the constraint for public exposure caused by disposal or recovery, even without additional measures [strlschg_en_bf.pdf:0:103]."
      ],
      "text/plain": [
       "<IPython.core.display.Markdown object>"
      ]
     },
     "metadata": {},
     "output_type": "display_data"
    },
    {
     "name": "stdout",
     "output_type": "stream",
     "text": [
      "________________________________\n"
     ]
    },
    {
     "data": {
      "text/markdown": [
       "#LLM: mistral-small:latest"
      ],
      "text/plain": [
       "<IPython.core.display.Markdown object>"
      ]
     },
     "metadata": {},
     "output_type": "display_data"
    },
    {
     "data": {
      "text/markdown": [
       "The German statutory ordinance mandates that residues must be disposed of or recovered according to specified methods and monitoring limits, which the federal government can establish with the consent of the Bundesrat [strlschg_en_bf.pdf](strlschg_en_bf.pdf). Residues requiring monitoring must be declared to the competent authority if stored on operating premises, and any cessation of storage must also be reported [strlschg_en_bf.pdf](strlschg_en_bf.pdf). The cross-border transportation of residues into Germany for disposal is prohibited, and parties obligated under section 61 must declare the intended recovery or disposal of monitored residues to the competent authority [strlschg_en_bf.pdf](strlschg_en_bf.pdf)."
      ],
      "text/plain": [
       "<IPython.core.display.Markdown object>"
      ]
     },
     "metadata": {},
     "output_type": "display_data"
    },
    {
     "name": "stdout",
     "output_type": "stream",
     "text": [
      "________________________________\n"
     ]
    },
    {
     "data": {
      "text/markdown": [
       "#LLM: llama3.3"
      ],
      "text/plain": [
       "<IPython.core.display.Markdown object>"
      ]
     },
     "metadata": {},
     "output_type": "display_data"
    },
    {
     "data": {
      "text/markdown": [
       "The federal government is empowered to issue a statutory ordinance establishing monitoring limits and methods of recovery and disposal for residues, with the consent of the Bundesrat [strlschg_en_bf.pdf](strlschg_en_bf.pdf:0:102). Residues accumulated may not be mixed or diluted prior to disposal or recovery to satisfy monitoring limits [strlschg_en_bf.pdf](strlschg_en_bf.pdf:0:102). Parties subject to an obligation must declare storage of residues to the competent authority and secure them against loss and unauthorized access [strlschg_en_bf.pdf](strlschg_en_bf.pdf:0:102). The cross-border transportation of residues into Germany for disposal is prohibited [strlschg_en_bf.pdf](strlschg_en_bf.pdf:0:102). The competent authority may release residues from monitoring for a particular recovery or disposal if certain criteria are met, including ensuring requisite protection of the population and complying with waste law [strlschg_en_bf.pdf](strlschg_en_bf.pdf:0:103)."
      ],
      "text/plain": [
       "<IPython.core.display.Markdown object>"
      ]
     },
     "metadata": {},
     "output_type": "display_data"
    },
    {
     "name": "stdout",
     "output_type": "stream",
     "text": [
      "________________________________\n"
     ]
    },
    {
     "data": {
      "text/markdown": [
       "#LLM: llama3.2"
      ],
      "text/plain": [
       "<IPython.core.display.Markdown object>"
      ]
     },
     "metadata": {},
     "output_type": "display_data"
    },
    {
     "data": {
      "text/markdown": [
       "The German Federal Ordinance on the Release of Residues from Monitoring Empowerment establishes procedures for the release of residues from monitoring requirements. A party subject to an obligation must declare their intention to recover or dispose of residues to the competent authority without undue delay, stating their nature, mass, and specific activity [1]. The competent authority may release residues requiring monitoring if certain conditions are met, including ensuring public protection against exposure, limiting occupational worker exposure, and compliance with relevant waste laws [2]. This allows for controlled recovery or disposal under specific circumstances.\n",
       "\n",
       "[1] strlschg_en_bf.pdf:0:102\n",
       "[2] strlschg_en_bf.pdf:0:103"
      ],
      "text/plain": [
       "<IPython.core.display.Markdown object>"
      ]
     },
     "metadata": {},
     "output_type": "display_data"
    },
    {
     "name": "stdout",
     "output_type": "stream",
     "text": [
      "________________________________\n"
     ]
    }
   ],
   "source": [
    "models = [\"deepseek-r1:latest\", \"deepseek-r1:70b\", \"qwq\", \"gemma3:27b\", \"mistral-small:latest\", \"llama3.3\", \"llama3.2\"]\n",
    "\n",
    "for model in models:\n",
    "    summary = source_summarizer(tr,model)\n",
    "    display(Markdown(f'#LLM: {model}'))\n",
    "    display(Markdown(summary['content']))\n",
    "    print('________________________________')"
   ]
  }
 ],
 "metadata": {
  "kernelspec": {
   "display_name": "lrrd-venv",
   "language": "python",
   "name": "python3"
  },
  "language_info": {
   "codemirror_mode": {
    "name": "ipython",
    "version": 3
   },
   "file_extension": ".py",
   "mimetype": "text/x-python",
   "name": "python",
   "nbconvert_exporter": "python",
   "pygments_lexer": "ipython3",
   "version": "3.12.3"
  }
 },
 "nbformat": 4,
 "nbformat_minor": 2
}
