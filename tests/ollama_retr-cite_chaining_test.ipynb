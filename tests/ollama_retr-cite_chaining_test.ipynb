{
 "cells": [
  {
   "cell_type": "code",
   "execution_count": 1,
   "metadata": {},
   "outputs": [],
   "source": [
    "import sys, os\n",
    "sys.path.append(os.path.abspath(os.path.join(os.getcwd(), '..')))\n",
    "\n",
    "from src.assistant.rag_helpers import similarity_search_for_tenant\n",
    "from src.assistant.vector_db import get_embedding_model"
   ]
  },
  {
   "cell_type": "code",
   "execution_count": 2,
   "metadata": {},
   "outputs": [
    {
     "name": "stderr",
     "output_type": "stream",
     "text": [
      "/home/he/ai/dev/langgraph/local-rag-researcher-deepseek-he/src/assistant/vector_db.py:11: LangChainDeprecationWarning: The class `HuggingFaceEmbeddings` was deprecated in LangChain 0.2.2 and will be removed in 1.0. An updated version of the class exists in the :class:`~langchain-huggingface package and should be used instead. To use it run `pip install -U :class:`~langchain-huggingface` and import as `from :class:`~langchain_huggingface import HuggingFaceEmbeddings``.\n",
      "  return HuggingFaceEmbeddings(model_kwargs={'device': 'cpu'})\n",
      "/home/he/ai/dev/langgraph/local-rag-researcher-deepseek-he/src/assistant/vector_db.py:11: LangChainDeprecationWarning: Default values for HuggingFaceEmbeddings.model_name were deprecated in LangChain 0.2.16 and will be removed in 0.4.0. Explicitly pass a model_name to the HuggingFaceEmbeddings constructor instead.\n",
      "  return HuggingFaceEmbeddings(model_kwargs={'device': 'cpu'})\n",
      "/home/he/ai/dev/langgraph/local-rag-researcher-deepseek-he/lrrd-venv/lib/python3.12/site-packages/tqdm/auto.py:21: TqdmWarning: IProgress not found. Please update jupyter and ipywidgets. See https://ipywidgets.readthedocs.io/en/stable/user_install.html\n",
      "  from .autonotebook import tqdm as notebook_tqdm\n"
     ]
    },
    {
     "name": "stdout",
     "output_type": "stream",
     "text": [
      "CUDA memory cache cleared\n"
     ]
    },
    {
     "name": "stderr",
     "output_type": "stream",
     "text": [
      "/home/he/ai/dev/langgraph/local-rag-researcher-deepseek-he/src/assistant/rag_helpers.py:91: LangChainDeprecationWarning: The class `Chroma` was deprecated in LangChain 0.2.9 and will be removed in 1.0. An updated version of the class exists in the :class:`~langchain-chroma package and should be used instead. To use it run `pip install -U :class:`~langchain-chroma` and import as `from :class:`~langchain_chroma import Chroma``.\n",
      "  vectorstore = Chroma(\n"
     ]
    },
    {
     "name": "stdout",
     "output_type": "stream",
     "text": [
      "CUDA memory cache cleared\n"
     ]
    },
    {
     "data": {
      "text/plain": [
       "[Document(metadata={'id': 'strlschg_en_bf.pdf:0:102', 'page': 0, 'source': 'strlschg_en_bf.pdf'}, page_content='methods of recovery and disposal laid down by a statutory ordinance in accordance with the second sentence are complied with in their disposal or recovery. the federal government is herewith empowered to issue a statutory ordinance, with the consent of the bundesrat, es\\xad tablishing the monitoring limits and methods of recovery and disposal to apply to residues. 3 residues accumulated may not be mixed or diluted prior to their intended disposal or recovery in order to satisfy the monitoring limits in accordance with subsection 2. the first sentence shall also apply to residues accumulated abroad and brought into germany for recovery. 4 if the residues requiring monitoring are stored on the operating premises of the par\\xad ty subject to an obligation in accordance with subsection 1, the latter must declare said storage to the competent authority. the competent authority shall be informed without undue delay if such storage ceases. 5 for those residues that are not subject to a monitoring requirement, the competent authority may require that compliance be proven with the monitoring limits and methods of recovery and disposal in accordance with a statutory ordinance in accordance with the sec\\xad ond sentence of subsection 2. to this end, the competent authority may lay down technical procedures, suitable measurement procedures and other requirements, in particular those covering the ascertainment of representative measurement values for the specific activity. 6 the party subject to an obligation in accordance with subsection 1 shall secure residues against loss and against access by unauthorised parties prior to their disposal or recovery. they may only be passed on to other party for the purpose of the disposal or re\\xad covery. 7 the crossborder transportation of residues into germany for their disposal is here\\xad 71 with prohibited. section 62 release of residues from monitoring empowerment to issue ordinances 1 the party under an obligation in accordance with section 61'),\n",
       " Document(metadata={'id': 'strlschg_en_bf.pdf:0:103', 'page': 0, 'source': 'strlschg_en_bf.pdf'}, page_content='by unauthorised parties prior to their disposal or recovery. they may only be passed on to other party for the purpose of the disposal or re\\xad covery. 7 the crossborder transportation of residues into germany for their disposal is here\\xad 71 with prohibited. section 62 release of residues from monitoring empowerment to issue ordinances 1 the party under an obligation in accordance with section 61 subsection 1, first sentence, must declare the intended recovery or disposal of the residues to the competent authority without undue delay, stating their nature, mass and specific activity, as soon as he or she has established that said residues require monitoring in accordance with section 61 subsection 2. a declaration in accordance with the first sentence above may be dispensed with where notification is made in accordance with section 63 subsection 1 due to the na\\xad ture and specific activity of the residues requiring monitoring. 2 at the request of the party under an obligation in accordance with section 61 sub\\xad section 1, first sentence, the competent authority shall release residues requiring monitor\\xad ing from that monitoring for the purpose of a particular recovery or disposal, where 1. the requisite protection of the population against exposure is ensured by means of the measures put in place for recovery or disposal, 2. the body dose of occupational workers in the course of disposal or recovery cannot ex\\xad ceed the levels for categorisation as an occupationallyexposed person, and 3. there are no reservations under the law on waste as to the permissibility of the envis\\xad aged method of recovery or disposal and as to whether it will be complied with. release from the monitoring obligation shall be effected by means of notice in writing. 3 the criteria for the protection of the public shall be that, as the constraint for the ex\\xad posure of members of the public caused by disposal or recovery, even without additional measures an effective dose of 1 msv in a given calendar')]"
      ]
     },
     "execution_count": 2,
     "metadata": {},
     "output_type": "execute_result"
    }
   ],
   "source": [
    "# Test query\n",
    "test_query = \"how to release residues from regulatory control\"\n",
    "\n",
    "# Get results\n",
    "results = similarity_search_for_tenant(\n",
    "    tenant_id=\"default\",\n",
    "    embed_llm=get_embedding_model(),\n",
    "    persist_directory=\"../database\",\n",
    "    similarity=\"cosine\",\n",
    "    normal=True,\n",
    "    query=test_query\n",
    ")\n",
    "\n",
    "# Print results\n",
    "results"
   ]
  },
  {
   "cell_type": "code",
   "execution_count": 15,
   "metadata": {},
   "outputs": [
    {
     "name": "stderr",
     "output_type": "stream",
     "text": [
      "/home/he/ai/dev/langgraph/local-rag-researcher-deepseek-he/src/assistant/vector_db.py:11: LangChainDeprecationWarning: Default values for HuggingFaceEmbeddings.model_name were deprecated in LangChain 0.2.16 and will be removed in 0.4.0. Explicitly pass a model_name to the HuggingFaceEmbeddings constructor instead.\n",
      "  return HuggingFaceEmbeddings(model_kwargs={'device': 'cpu'})\n"
     ]
    },
    {
     "data": {
      "text/plain": [
       "HuggingFaceEmbeddings(client=SentenceTransformer(\n",
       "  (0): Transformer({'max_seq_length': 384, 'do_lower_case': False}) with Transformer model: MPNetModel \n",
       "  (1): Pooling({'word_embedding_dimension': 768, 'pooling_mode_cls_token': False, 'pooling_mode_mean_tokens': True, 'pooling_mode_max_tokens': False, 'pooling_mode_mean_sqrt_len_tokens': False, 'pooling_mode_weightedmean_tokens': False, 'pooling_mode_lasttoken': False, 'include_prompt': True})\n",
       "  (2): Normalize()\n",
       "), model_name='sentence-transformers/all-mpnet-base-v2', cache_folder=None, model_kwargs={'device': 'cpu'}, encode_kwargs={}, multi_process=False, show_progress=False)"
      ]
     },
     "execution_count": 15,
     "metadata": {},
     "output_type": "execute_result"
    }
   ],
   "source": [
    "get_embedding_model()"
   ]
  },
  {
   "cell_type": "code",
   "execution_count": 18,
   "metadata": {},
   "outputs": [
    {
     "name": "stderr",
     "output_type": "stream",
     "text": [
      "Some weights of BertModel were not initialized from the model checkpoint at jinaai/jina-embeddings-v2-base-de and are newly initialized: ['embeddings.position_embeddings.weight', 'encoder.layer.0.intermediate.dense.bias', 'encoder.layer.0.intermediate.dense.weight', 'encoder.layer.0.output.LayerNorm.bias', 'encoder.layer.0.output.LayerNorm.weight', 'encoder.layer.0.output.dense.bias', 'encoder.layer.0.output.dense.weight', 'encoder.layer.1.intermediate.dense.bias', 'encoder.layer.1.intermediate.dense.weight', 'encoder.layer.1.output.LayerNorm.bias', 'encoder.layer.1.output.LayerNorm.weight', 'encoder.layer.1.output.dense.bias', 'encoder.layer.1.output.dense.weight', 'encoder.layer.10.intermediate.dense.bias', 'encoder.layer.10.intermediate.dense.weight', 'encoder.layer.10.output.LayerNorm.bias', 'encoder.layer.10.output.LayerNorm.weight', 'encoder.layer.10.output.dense.bias', 'encoder.layer.10.output.dense.weight', 'encoder.layer.11.intermediate.dense.bias', 'encoder.layer.11.intermediate.dense.weight', 'encoder.layer.11.output.LayerNorm.bias', 'encoder.layer.11.output.LayerNorm.weight', 'encoder.layer.11.output.dense.bias', 'encoder.layer.11.output.dense.weight', 'encoder.layer.2.intermediate.dense.bias', 'encoder.layer.2.intermediate.dense.weight', 'encoder.layer.2.output.LayerNorm.bias', 'encoder.layer.2.output.LayerNorm.weight', 'encoder.layer.2.output.dense.bias', 'encoder.layer.2.output.dense.weight', 'encoder.layer.3.intermediate.dense.bias', 'encoder.layer.3.intermediate.dense.weight', 'encoder.layer.3.output.LayerNorm.bias', 'encoder.layer.3.output.LayerNorm.weight', 'encoder.layer.3.output.dense.bias', 'encoder.layer.3.output.dense.weight', 'encoder.layer.4.intermediate.dense.bias', 'encoder.layer.4.intermediate.dense.weight', 'encoder.layer.4.output.LayerNorm.bias', 'encoder.layer.4.output.LayerNorm.weight', 'encoder.layer.4.output.dense.bias', 'encoder.layer.4.output.dense.weight', 'encoder.layer.5.intermediate.dense.bias', 'encoder.layer.5.intermediate.dense.weight', 'encoder.layer.5.output.LayerNorm.bias', 'encoder.layer.5.output.LayerNorm.weight', 'encoder.layer.5.output.dense.bias', 'encoder.layer.5.output.dense.weight', 'encoder.layer.6.intermediate.dense.bias', 'encoder.layer.6.intermediate.dense.weight', 'encoder.layer.6.output.LayerNorm.bias', 'encoder.layer.6.output.LayerNorm.weight', 'encoder.layer.6.output.dense.bias', 'encoder.layer.6.output.dense.weight', 'encoder.layer.7.intermediate.dense.bias', 'encoder.layer.7.intermediate.dense.weight', 'encoder.layer.7.output.LayerNorm.bias', 'encoder.layer.7.output.LayerNorm.weight', 'encoder.layer.7.output.dense.bias', 'encoder.layer.7.output.dense.weight', 'encoder.layer.8.intermediate.dense.bias', 'encoder.layer.8.intermediate.dense.weight', 'encoder.layer.8.output.LayerNorm.bias', 'encoder.layer.8.output.LayerNorm.weight', 'encoder.layer.8.output.dense.bias', 'encoder.layer.8.output.dense.weight', 'encoder.layer.9.intermediate.dense.bias', 'encoder.layer.9.intermediate.dense.weight', 'encoder.layer.9.output.LayerNorm.bias', 'encoder.layer.9.output.LayerNorm.weight', 'encoder.layer.9.output.dense.bias', 'encoder.layer.9.output.dense.weight']\n",
      "You should probably TRAIN this model on a down-stream task to be able to use it for predictions and inference.\n"
     ]
    },
    {
     "data": {
      "text/plain": [
       "HuggingFaceEmbeddings(client=SentenceTransformer(\n",
       "  (0): Transformer({'max_seq_length': 8192, 'do_lower_case': False}) with Transformer model: BertModel \n",
       "  (1): Pooling({'word_embedding_dimension': 768, 'pooling_mode_cls_token': False, 'pooling_mode_mean_tokens': True, 'pooling_mode_max_tokens': False, 'pooling_mode_mean_sqrt_len_tokens': False, 'pooling_mode_weightedmean_tokens': False, 'pooling_mode_lasttoken': False, 'include_prompt': True})\n",
       "  (2): Normalize()\n",
       "), model_name='jinaai/jina-embeddings-v2-base-de', cache_folder=None, model_kwargs={'device': 'cpu'}, encode_kwargs={}, multi_process=False, show_progress=False)"
      ]
     },
     "execution_count": 18,
     "metadata": {},
     "output_type": "execute_result"
    }
   ],
   "source": [
    "#from langchain_community.embeddings import HuggingFaceEmbeddings\n",
    "#HuggingFaceEmbeddings(model_name='jinaai/jina-embeddings-v2-base-de', model_kwargs={'device': 'cpu'})"
   ]
  },
  {
   "cell_type": "code",
   "execution_count": 20,
   "metadata": {},
   "outputs": [
    {
     "name": "stdout",
     "output_type": "stream",
     "text": [
      "models--jinaai--jina-embeddings-v2-base-de\t  version.txt\n",
      "models--sentence-transformers--all-mpnet-base-v2\n"
     ]
    },
    {
     "name": "stderr",
     "output_type": "stream",
     "text": [
      "huggingface/tokenizers: The current process just got forked, after parallelism has already been used. Disabling parallelism to avoid deadlocks...\n",
      "To disable this warning, you can either:\n",
      "\t- Avoid using `tokenizers` before the fork if possible\n",
      "\t- Explicitly set the environment variable TOKENIZERS_PARALLELISM=(true | false)\n"
     ]
    }
   ],
   "source": [
    "#!ls /home/he/.cache/huggingface/hub/"
   ]
  },
  {
   "cell_type": "code",
   "execution_count": 3,
   "metadata": {},
   "outputs": [],
   "source": [
    "def transform_documents(documents):\n",
    "    \"\"\"\n",
    "    Transforms a list of Document objects into a specific dictionary format.\n",
    "    \n",
    "    Args:\n",
    "        documents (list): List of Document objects with metadata and page_content\n",
    "        \n",
    "    Returns:\n",
    "        list: List of dictionaries with content and metadata in the required format\n",
    "    \"\"\"\n",
    "    samples = []\n",
    "    \n",
    "    for doc in documents:\n",
    "        transformed_doc = {\n",
    "            \"content\": doc.page_content,\n",
    "            \"metadata\": {\n",
    "                \"name\": doc.metadata['id'],\n",
    "                \"path\": doc.metadata['source']\n",
    "            }\n",
    "        }\n",
    "        samples.append(transformed_doc)\n",
    "    \n",
    "    return samples"
   ]
  },
  {
   "cell_type": "code",
   "execution_count": null,
   "metadata": {},
   "outputs": [
    {
     "name": "stderr",
     "output_type": "stream",
     "text": [
      "Some weights of BertModel were not initialized from the model checkpoint at jinaai/jina-embeddings-v2-base-de and are newly initialized: ['embeddings.position_embeddings.weight', 'encoder.layer.0.intermediate.dense.bias', 'encoder.layer.0.intermediate.dense.weight', 'encoder.layer.0.output.LayerNorm.bias', 'encoder.layer.0.output.LayerNorm.weight', 'encoder.layer.0.output.dense.bias', 'encoder.layer.0.output.dense.weight', 'encoder.layer.1.intermediate.dense.bias', 'encoder.layer.1.intermediate.dense.weight', 'encoder.layer.1.output.LayerNorm.bias', 'encoder.layer.1.output.LayerNorm.weight', 'encoder.layer.1.output.dense.bias', 'encoder.layer.1.output.dense.weight', 'encoder.layer.10.intermediate.dense.bias', 'encoder.layer.10.intermediate.dense.weight', 'encoder.layer.10.output.LayerNorm.bias', 'encoder.layer.10.output.LayerNorm.weight', 'encoder.layer.10.output.dense.bias', 'encoder.layer.10.output.dense.weight', 'encoder.layer.11.intermediate.dense.bias', 'encoder.layer.11.intermediate.dense.weight', 'encoder.layer.11.output.LayerNorm.bias', 'encoder.layer.11.output.LayerNorm.weight', 'encoder.layer.11.output.dense.bias', 'encoder.layer.11.output.dense.weight', 'encoder.layer.2.intermediate.dense.bias', 'encoder.layer.2.intermediate.dense.weight', 'encoder.layer.2.output.LayerNorm.bias', 'encoder.layer.2.output.LayerNorm.weight', 'encoder.layer.2.output.dense.bias', 'encoder.layer.2.output.dense.weight', 'encoder.layer.3.intermediate.dense.bias', 'encoder.layer.3.intermediate.dense.weight', 'encoder.layer.3.output.LayerNorm.bias', 'encoder.layer.3.output.LayerNorm.weight', 'encoder.layer.3.output.dense.bias', 'encoder.layer.3.output.dense.weight', 'encoder.layer.4.intermediate.dense.bias', 'encoder.layer.4.intermediate.dense.weight', 'encoder.layer.4.output.LayerNorm.bias', 'encoder.layer.4.output.LayerNorm.weight', 'encoder.layer.4.output.dense.bias', 'encoder.layer.4.output.dense.weight', 'encoder.layer.5.intermediate.dense.bias', 'encoder.layer.5.intermediate.dense.weight', 'encoder.layer.5.output.LayerNorm.bias', 'encoder.layer.5.output.LayerNorm.weight', 'encoder.layer.5.output.dense.bias', 'encoder.layer.5.output.dense.weight', 'encoder.layer.6.intermediate.dense.bias', 'encoder.layer.6.intermediate.dense.weight', 'encoder.layer.6.output.LayerNorm.bias', 'encoder.layer.6.output.LayerNorm.weight', 'encoder.layer.6.output.dense.bias', 'encoder.layer.6.output.dense.weight', 'encoder.layer.7.intermediate.dense.bias', 'encoder.layer.7.intermediate.dense.weight', 'encoder.layer.7.output.LayerNorm.bias', 'encoder.layer.7.output.LayerNorm.weight', 'encoder.layer.7.output.dense.bias', 'encoder.layer.7.output.dense.weight', 'encoder.layer.8.intermediate.dense.bias', 'encoder.layer.8.intermediate.dense.weight', 'encoder.layer.8.output.LayerNorm.bias', 'encoder.layer.8.output.LayerNorm.weight', 'encoder.layer.8.output.dense.bias', 'encoder.layer.8.output.dense.weight', 'encoder.layer.9.intermediate.dense.bias', 'encoder.layer.9.intermediate.dense.weight', 'encoder.layer.9.output.LayerNorm.bias', 'encoder.layer.9.output.LayerNorm.weight', 'encoder.layer.9.output.dense.bias', 'encoder.layer.9.output.dense.weight']\n",
      "You should probably TRAIN this model on a down-stream task to be able to use it for predictions and inference.\n"
     ]
    },
    {
     "data": {
      "text/plain": [
       "HuggingFaceEmbeddings(client=SentenceTransformer(\n",
       "  (0): Transformer({'max_seq_length': 8192, 'do_lower_case': False}) with Transformer model: BertModel \n",
       "  (1): Pooling({'word_embedding_dimension': 768, 'pooling_mode_cls_token': False, 'pooling_mode_mean_tokens': True, 'pooling_mode_max_tokens': False, 'pooling_mode_mean_sqrt_len_tokens': False, 'pooling_mode_weightedmean_tokens': False, 'pooling_mode_lasttoken': False, 'include_prompt': True})\n",
       "  (2): Normalize()\n",
       "), model_name='jinaai/jina-embeddings-v2-base-de', cache_folder=None, model_kwargs={'device': 'cpu'}, encode_kwargs={}, multi_process=False, show_progress=False)"
      ]
     },
     "metadata": {},
     "output_type": "display_data"
    }
   ],
   "source": [
    "from langchain_community.embeddings import HuggingFaceEmbeddings\n",
    "HuggingFaceEmbeddings(model_name='jinaai/jina-embeddings-v2-base-de', model_kwargs={'device': 'cpu'})"
   ]
  },
  {
   "cell_type": "code",
   "execution_count": null,
   "metadata": {},
   "outputs": [
    {
     "name": "stderr",
     "output_type": "stream",
     "text": [
      "Some weights of BertModel were not initialized from the model checkpoint at jinaai/jina-embeddings-v2-base-de and are newly initialized: ['embeddings.position_embeddings.weight', 'encoder.layer.0.intermediate.dense.bias', 'encoder.layer.0.intermediate.dense.weight', 'encoder.layer.0.output.LayerNorm.bias', 'encoder.layer.0.output.LayerNorm.weight', 'encoder.layer.0.output.dense.bias', 'encoder.layer.0.output.dense.weight', 'encoder.layer.1.intermediate.dense.bias', 'encoder.layer.1.intermediate.dense.weight', 'encoder.layer.1.output.LayerNorm.bias', 'encoder.layer.1.output.LayerNorm.weight', 'encoder.layer.1.output.dense.bias', 'encoder.layer.1.output.dense.weight', 'encoder.layer.10.intermediate.dense.bias', 'encoder.layer.10.intermediate.dense.weight', 'encoder.layer.10.output.LayerNorm.bias', 'encoder.layer.10.output.LayerNorm.weight', 'encoder.layer.10.output.dense.bias', 'encoder.layer.10.output.dense.weight', 'encoder.layer.11.intermediate.dense.bias', 'encoder.layer.11.intermediate.dense.weight', 'encoder.layer.11.output.LayerNorm.bias', 'encoder.layer.11.output.LayerNorm.weight', 'encoder.layer.11.output.dense.bias', 'encoder.layer.11.output.dense.weight', 'encoder.layer.2.intermediate.dense.bias', 'encoder.layer.2.intermediate.dense.weight', 'encoder.layer.2.output.LayerNorm.bias', 'encoder.layer.2.output.LayerNorm.weight', 'encoder.layer.2.output.dense.bias', 'encoder.layer.2.output.dense.weight', 'encoder.layer.3.intermediate.dense.bias', 'encoder.layer.3.intermediate.dense.weight', 'encoder.layer.3.output.LayerNorm.bias', 'encoder.layer.3.output.LayerNorm.weight', 'encoder.layer.3.output.dense.bias', 'encoder.layer.3.output.dense.weight', 'encoder.layer.4.intermediate.dense.bias', 'encoder.layer.4.intermediate.dense.weight', 'encoder.layer.4.output.LayerNorm.bias', 'encoder.layer.4.output.LayerNorm.weight', 'encoder.layer.4.output.dense.bias', 'encoder.layer.4.output.dense.weight', 'encoder.layer.5.intermediate.dense.bias', 'encoder.layer.5.intermediate.dense.weight', 'encoder.layer.5.output.LayerNorm.bias', 'encoder.layer.5.output.LayerNorm.weight', 'encoder.layer.5.output.dense.bias', 'encoder.layer.5.output.dense.weight', 'encoder.layer.6.intermediate.dense.bias', 'encoder.layer.6.intermediate.dense.weight', 'encoder.layer.6.output.LayerNorm.bias', 'encoder.layer.6.output.LayerNorm.weight', 'encoder.layer.6.output.dense.bias', 'encoder.layer.6.output.dense.weight', 'encoder.layer.7.intermediate.dense.bias', 'encoder.layer.7.intermediate.dense.weight', 'encoder.layer.7.output.LayerNorm.bias', 'encoder.layer.7.output.LayerNorm.weight', 'encoder.layer.7.output.dense.bias', 'encoder.layer.7.output.dense.weight', 'encoder.layer.8.intermediate.dense.bias', 'encoder.layer.8.intermediate.dense.weight', 'encoder.layer.8.output.LayerNorm.bias', 'encoder.layer.8.output.LayerNorm.weight', 'encoder.layer.8.output.dense.bias', 'encoder.layer.8.output.dense.weight', 'encoder.layer.9.intermediate.dense.bias', 'encoder.layer.9.intermediate.dense.weight', 'encoder.layer.9.output.LayerNorm.bias', 'encoder.layer.9.output.LayerNorm.weight', 'encoder.layer.9.output.dense.bias', 'encoder.layer.9.output.dense.weight']\n",
      "You should probably TRAIN this model on a down-stream task to be able to use it for predictions and inference.\n"
     ]
    },
    {
     "data": {
      "text/plain": [
       "HuggingFaceEmbeddings(client=SentenceTransformer(\n",
       "  (0): Transformer({'max_seq_length': 8192, 'do_lower_case': False}) with Transformer model: BertModel \n",
       "  (1): Pooling({'word_embedding_dimension': 768, 'pooling_mode_cls_token': False, 'pooling_mode_mean_tokens': True, 'pooling_mode_max_tokens': False, 'pooling_mode_mean_sqrt_len_tokens': False, 'pooling_mode_weightedmean_tokens': False, 'pooling_mode_lasttoken': False, 'include_prompt': True})\n",
       "  (2): Normalize()\n",
       "), model_name='jinaai/jina-embeddings-v2-base-de', cache_folder=None, model_kwargs={'device': 'cpu'}, encode_kwargs={}, multi_process=False, show_progress=False)"
      ]
     },
     "metadata": {},
     "output_type": "display_data"
    }
   ],
   "source": [
    "from langchain_community.embeddings import HuggingFaceEmbeddings\n",
    "HuggingFaceEmbeddings(model_name='jinaai/jina-embeddings-v2-base-de', model_kwargs={'device': 'cpu'})"
   ]
  },
  {
   "cell_type": "code",
   "execution_count": null,
   "metadata": {},
   "outputs": [
    {
     "name": "stderr",
     "output_type": "stream",
     "text": [
      "Some weights of BertModel were not initialized from the model checkpoint at jinaai/jina-embeddings-v2-base-de and are newly initialized: ['embeddings.position_embeddings.weight', 'encoder.layer.0.intermediate.dense.bias', 'encoder.layer.0.intermediate.dense.weight', 'encoder.layer.0.output.LayerNorm.bias', 'encoder.layer.0.output.LayerNorm.weight', 'encoder.layer.0.output.dense.bias', 'encoder.layer.0.output.dense.weight', 'encoder.layer.1.intermediate.dense.bias', 'encoder.layer.1.intermediate.dense.weight', 'encoder.layer.1.output.LayerNorm.bias', 'encoder.layer.1.output.LayerNorm.weight', 'encoder.layer.1.output.dense.bias', 'encoder.layer.1.output.dense.weight', 'encoder.layer.10.intermediate.dense.bias', 'encoder.layer.10.intermediate.dense.weight', 'encoder.layer.10.output.LayerNorm.bias', 'encoder.layer.10.output.LayerNorm.weight', 'encoder.layer.10.output.dense.bias', 'encoder.layer.10.output.dense.weight', 'encoder.layer.11.intermediate.dense.bias', 'encoder.layer.11.intermediate.dense.weight', 'encoder.layer.11.output.LayerNorm.bias', 'encoder.layer.11.output.LayerNorm.weight', 'encoder.layer.11.output.dense.bias', 'encoder.layer.11.output.dense.weight', 'encoder.layer.2.intermediate.dense.bias', 'encoder.layer.2.intermediate.dense.weight', 'encoder.layer.2.output.LayerNorm.bias', 'encoder.layer.2.output.LayerNorm.weight', 'encoder.layer.2.output.dense.bias', 'encoder.layer.2.output.dense.weight', 'encoder.layer.3.intermediate.dense.bias', 'encoder.layer.3.intermediate.dense.weight', 'encoder.layer.3.output.LayerNorm.bias', 'encoder.layer.3.output.LayerNorm.weight', 'encoder.layer.3.output.dense.bias', 'encoder.layer.3.output.dense.weight', 'encoder.layer.4.intermediate.dense.bias', 'encoder.layer.4.intermediate.dense.weight', 'encoder.layer.4.output.LayerNorm.bias', 'encoder.layer.4.output.LayerNorm.weight', 'encoder.layer.4.output.dense.bias', 'encoder.layer.4.output.dense.weight', 'encoder.layer.5.intermediate.dense.bias', 'encoder.layer.5.intermediate.dense.weight', 'encoder.layer.5.output.LayerNorm.bias', 'encoder.layer.5.output.LayerNorm.weight', 'encoder.layer.5.output.dense.bias', 'encoder.layer.5.output.dense.weight', 'encoder.layer.6.intermediate.dense.bias', 'encoder.layer.6.intermediate.dense.weight', 'encoder.layer.6.output.LayerNorm.bias', 'encoder.layer.6.output.LayerNorm.weight', 'encoder.layer.6.output.dense.bias', 'encoder.layer.6.output.dense.weight', 'encoder.layer.7.intermediate.dense.bias', 'encoder.layer.7.intermediate.dense.weight', 'encoder.layer.7.output.LayerNorm.bias', 'encoder.layer.7.output.LayerNorm.weight', 'encoder.layer.7.output.dense.bias', 'encoder.layer.7.output.dense.weight', 'encoder.layer.8.intermediate.dense.bias', 'encoder.layer.8.intermediate.dense.weight', 'encoder.layer.8.output.LayerNorm.bias', 'encoder.layer.8.output.LayerNorm.weight', 'encoder.layer.8.output.dense.bias', 'encoder.layer.8.output.dense.weight', 'encoder.layer.9.intermediate.dense.bias', 'encoder.layer.9.intermediate.dense.weight', 'encoder.layer.9.output.LayerNorm.bias', 'encoder.layer.9.output.LayerNorm.weight', 'encoder.layer.9.output.dense.bias', 'encoder.layer.9.output.dense.weight']\n",
      "You should probably TRAIN this model on a down-stream task to be able to use it for predictions and inference.\n"
     ]
    },
    {
     "data": {
      "text/plain": [
       "HuggingFaceEmbeddings(client=SentenceTransformer(\n",
       "  (0): Transformer({'max_seq_length': 8192, 'do_lower_case': False}) with Transformer model: BertModel \n",
       "  (1): Pooling({'word_embedding_dimension': 768, 'pooling_mode_cls_token': False, 'pooling_mode_mean_tokens': True, 'pooling_mode_max_tokens': False, 'pooling_mode_mean_sqrt_len_tokens': False, 'pooling_mode_weightedmean_tokens': False, 'pooling_mode_lasttoken': False, 'include_prompt': True})\n",
       "  (2): Normalize()\n",
       "), model_name='jinaai/jina-embeddings-v2-base-de', cache_folder=None, model_kwargs={'device': 'cpu'}, encode_kwargs={}, multi_process=False, show_progress=False)"
      ]
     },
     "metadata": {},
     "output_type": "display_data"
    }
   ],
   "source": [
    "from langchain_community.embeddings import HuggingFaceEmbeddings\n",
    "HuggingFaceEmbeddings(model_name='jinaai/jina-embeddings-v2-base-de', model_kwargs={'device': 'cpu'})"
   ]
  },
  {
   "cell_type": "code",
   "execution_count": null,
   "metadata": {},
   "outputs": [
    {
     "name": "stderr",
     "output_type": "stream",
     "text": [
      "Some weights of BertModel were not initialized from the model checkpoint at jinaai/jina-embeddings-v2-base-de and are newly initialized: ['embeddings.position_embeddings.weight', 'encoder.layer.0.intermediate.dense.bias', 'encoder.layer.0.intermediate.dense.weight', 'encoder.layer.0.output.LayerNorm.bias', 'encoder.layer.0.output.LayerNorm.weight', 'encoder.layer.0.output.dense.bias', 'encoder.layer.0.output.dense.weight', 'encoder.layer.1.intermediate.dense.bias', 'encoder.layer.1.intermediate.dense.weight', 'encoder.layer.1.output.LayerNorm.bias', 'encoder.layer.1.output.LayerNorm.weight', 'encoder.layer.1.output.dense.bias', 'encoder.layer.1.output.dense.weight', 'encoder.layer.10.intermediate.dense.bias', 'encoder.layer.10.intermediate.dense.weight', 'encoder.layer.10.output.LayerNorm.bias', 'encoder.layer.10.output.LayerNorm.weight', 'encoder.layer.10.output.dense.bias', 'encoder.layer.10.output.dense.weight', 'encoder.layer.11.intermediate.dense.bias', 'encoder.layer.11.intermediate.dense.weight', 'encoder.layer.11.output.LayerNorm.bias', 'encoder.layer.11.output.LayerNorm.weight', 'encoder.layer.11.output.dense.bias', 'encoder.layer.11.output.dense.weight', 'encoder.layer.2.intermediate.dense.bias', 'encoder.layer.2.intermediate.dense.weight', 'encoder.layer.2.output.LayerNorm.bias', 'encoder.layer.2.output.LayerNorm.weight', 'encoder.layer.2.output.dense.bias', 'encoder.layer.2.output.dense.weight', 'encoder.layer.3.intermediate.dense.bias', 'encoder.layer.3.intermediate.dense.weight', 'encoder.layer.3.output.LayerNorm.bias', 'encoder.layer.3.output.LayerNorm.weight', 'encoder.layer.3.output.dense.bias', 'encoder.layer.3.output.dense.weight', 'encoder.layer.4.intermediate.dense.bias', 'encoder.layer.4.intermediate.dense.weight', 'encoder.layer.4.output.LayerNorm.bias', 'encoder.layer.4.output.LayerNorm.weight', 'encoder.layer.4.output.dense.bias', 'encoder.layer.4.output.dense.weight', 'encoder.layer.5.intermediate.dense.bias', 'encoder.layer.5.intermediate.dense.weight', 'encoder.layer.5.output.LayerNorm.bias', 'encoder.layer.5.output.LayerNorm.weight', 'encoder.layer.5.output.dense.bias', 'encoder.layer.5.output.dense.weight', 'encoder.layer.6.intermediate.dense.bias', 'encoder.layer.6.intermediate.dense.weight', 'encoder.layer.6.output.LayerNorm.bias', 'encoder.layer.6.output.LayerNorm.weight', 'encoder.layer.6.output.dense.bias', 'encoder.layer.6.output.dense.weight', 'encoder.layer.7.intermediate.dense.bias', 'encoder.layer.7.intermediate.dense.weight', 'encoder.layer.7.output.LayerNorm.bias', 'encoder.layer.7.output.LayerNorm.weight', 'encoder.layer.7.output.dense.bias', 'encoder.layer.7.output.dense.weight', 'encoder.layer.8.intermediate.dense.bias', 'encoder.layer.8.intermediate.dense.weight', 'encoder.layer.8.output.LayerNorm.bias', 'encoder.layer.8.output.LayerNorm.weight', 'encoder.layer.8.output.dense.bias', 'encoder.layer.8.output.dense.weight', 'encoder.layer.9.intermediate.dense.bias', 'encoder.layer.9.intermediate.dense.weight', 'encoder.layer.9.output.LayerNorm.bias', 'encoder.layer.9.output.LayerNorm.weight', 'encoder.layer.9.output.dense.bias', 'encoder.layer.9.output.dense.weight']\n",
      "You should probably TRAIN this model on a down-stream task to be able to use it for predictions and inference.\n"
     ]
    },
    {
     "data": {
      "text/plain": [
       "HuggingFaceEmbeddings(client=SentenceTransformer(\n",
       "  (0): Transformer({'max_seq_length': 8192, 'do_lower_case': False}) with Transformer model: BertModel \n",
       "  (1): Pooling({'word_embedding_dimension': 768, 'pooling_mode_cls_token': False, 'pooling_mode_mean_tokens': True, 'pooling_mode_max_tokens': False, 'pooling_mode_mean_sqrt_len_tokens': False, 'pooling_mode_weightedmean_tokens': False, 'pooling_mode_lasttoken': False, 'include_prompt': True})\n",
       "  (2): Normalize()\n",
       "), model_name='jinaai/jina-embeddings-v2-base-de', cache_folder=None, model_kwargs={'device': 'cpu'}, encode_kwargs={}, multi_process=False, show_progress=False)"
      ]
     },
     "metadata": {},
     "output_type": "display_data"
    }
   ],
   "source": [
    "from langchain_community.embeddings import HuggingFaceEmbeddings\n",
    "HuggingFaceEmbeddings(model_name='jinaai/jina-embeddings-v2-base-de', model_kwargs={'device': 'cpu'})"
   ]
  },
  {
   "cell_type": "code",
   "execution_count": 4,
   "metadata": {},
   "outputs": [
    {
     "data": {
      "text/plain": [
       "[{'content': 'methods of recovery and disposal laid down by a statutory ordinance in accordance with the second sentence are complied with in their disposal or recovery. the federal government is herewith empowered to issue a statutory ordinance, with the consent of the bundesrat, es\\xad tablishing the monitoring limits and methods of recovery and disposal to apply to residues. 3 residues accumulated may not be mixed or diluted prior to their intended disposal or recovery in order to satisfy the monitoring limits in accordance with subsection 2. the first sentence shall also apply to residues accumulated abroad and brought into germany for recovery. 4 if the residues requiring monitoring are stored on the operating premises of the par\\xad ty subject to an obligation in accordance with subsection 1, the latter must declare said storage to the competent authority. the competent authority shall be informed without undue delay if such storage ceases. 5 for those residues that are not subject to a monitoring requirement, the competent authority may require that compliance be proven with the monitoring limits and methods of recovery and disposal in accordance with a statutory ordinance in accordance with the sec\\xad ond sentence of subsection 2. to this end, the competent authority may lay down technical procedures, suitable measurement procedures and other requirements, in particular those covering the ascertainment of representative measurement values for the specific activity. 6 the party subject to an obligation in accordance with subsection 1 shall secure residues against loss and against access by unauthorised parties prior to their disposal or recovery. they may only be passed on to other party for the purpose of the disposal or re\\xad covery. 7 the crossborder transportation of residues into germany for their disposal is here\\xad 71 with prohibited. section 62 release of residues from monitoring empowerment to issue ordinances 1 the party under an obligation in accordance with section 61',\n",
       "  'metadata': {'name': 'strlschg_en_bf.pdf:0:102',\n",
       "   'path': 'strlschg_en_bf.pdf'}},\n",
       " {'content': 'by unauthorised parties prior to their disposal or recovery. they may only be passed on to other party for the purpose of the disposal or re\\xad covery. 7 the crossborder transportation of residues into germany for their disposal is here\\xad 71 with prohibited. section 62 release of residues from monitoring empowerment to issue ordinances 1 the party under an obligation in accordance with section 61 subsection 1, first sentence, must declare the intended recovery or disposal of the residues to the competent authority without undue delay, stating their nature, mass and specific activity, as soon as he or she has established that said residues require monitoring in accordance with section 61 subsection 2. a declaration in accordance with the first sentence above may be dispensed with where notification is made in accordance with section 63 subsection 1 due to the na\\xad ture and specific activity of the residues requiring monitoring. 2 at the request of the party under an obligation in accordance with section 61 sub\\xad section 1, first sentence, the competent authority shall release residues requiring monitor\\xad ing from that monitoring for the purpose of a particular recovery or disposal, where 1. the requisite protection of the population against exposure is ensured by means of the measures put in place for recovery or disposal, 2. the body dose of occupational workers in the course of disposal or recovery cannot ex\\xad ceed the levels for categorisation as an occupationallyexposed person, and 3. there are no reservations under the law on waste as to the permissibility of the envis\\xad aged method of recovery or disposal and as to whether it will be complied with. release from the monitoring obligation shall be effected by means of notice in writing. 3 the criteria for the protection of the public shall be that, as the constraint for the ex\\xad posure of members of the public caused by disposal or recovery, even without additional measures an effective dose of 1 msv in a given calendar',\n",
       "  'metadata': {'name': 'strlschg_en_bf.pdf:0:103',\n",
       "   'path': 'strlschg_en_bf.pdf'}}]"
      ]
     },
     "execution_count": 4,
     "metadata": {},
     "output_type": "execute_result"
    }
   ],
   "source": [
    "tr=transform_documents(results)\n",
    "tr"
   ]
  },
  {
   "cell_type": "code",
   "execution_count": 5,
   "metadata": {},
   "outputs": [],
   "source": [
    "SUMMARIZER_SYSTEM_PROMPT = \"\"\"\n",
    "    You are an expert summarizer working within a RAG system. Your task is to create a comprehensive, accurate summary of the provided information while properly attributing all facts to their sources.\n",
    "\n",
    "    Guidelines:\n",
    "    - Create a clear, coherent summary using neutral and professional language\n",
    "    - Focus on the most important facts and insights\n",
    "    - Maintain factual accuracy without adding new information\n",
    "    - Maintain exact figures, data points, sections and paragraphs\n",
    "    - Cite EVERY piece of information using the format [Document Name](document_path)\n",
    "    - Place citations immediately after the relevant information\n",
    "    - Ensure each citation is correctly matched to its source\n",
    "    - Return only the plain text summary without any reliminary remarks and without markdown formatting\n",
    "\n",
    "    Important: The citation information [Document Name](document_path) is stored in a dict and provided within the 'metadata'\n",
    "    {{\n",
    "    \"content\": doc.page_content,\n",
    "    \"metadata\": {\n",
    "        \"name\": doc.metadata['id'],\n",
    "        \"path\": doc.metadata['source']\n",
    "    }}\n",
    "    \"\"\""
   ]
  },
  {
   "cell_type": "code",
   "execution_count": 6,
   "metadata": {},
   "outputs": [],
   "source": [
    "import ollama\n",
    "import re\n",
    "from IPython.display import Markdown, display"
   ]
  },
  {
   "cell_type": "code",
   "execution_count": 7,
   "metadata": {},
   "outputs": [],
   "source": [
    "def source_summarizer(context_documents, llm_model=\"deepseek-r1\"):\n",
    "    system_message = SUMMARIZER_SYSTEM_PROMPT\n",
    "\n",
    "    formatted_context = \"\\n\".join(\n",
    "        f\"Content: {doc['content']}\\nSource: {doc['metadata']['name']}\\nPath: {doc['metadata']['path']}\"\n",
    "        for doc in context_documents\n",
    "    )\n",
    "\n",
    "    prompt = f\"\"\"\n",
    "    Here are the documents to summarize:\n",
    "    \n",
    "    {formatted_context}\n",
    "    \n",
    "    Provide a concise summary with proper citations:\n",
    "    \"\"\"\n",
    "    \n",
    "    response = ollama.chat(\n",
    "        model=llm_model,\n",
    "        messages=[\n",
    "            {\"role\": \"system\", \"content\": system_message},\n",
    "            {\"role\": \"user\", \"content\": prompt}\n",
    "        ]\n",
    "    )\n",
    "    \n",
    "    response_content = response[\"message\"][\"content\"]\n",
    "    \n",
    "    # Clean markdown formatting if present\n",
    "    try:\n",
    "        final_content = re.sub(r\"<think>.*?</think>\", \"\", response_content, flags=re.DOTALL).strip()\n",
    "    except:\n",
    "        final_content = response_content.strip()\n",
    "\n",
    "    # Extract metadata from all documents\n",
    "    document_names = [doc['metadata']['name'] for doc in context_documents]\n",
    "    document_paths = [doc['metadata']['path'] for doc in context_documents]\n",
    "\n",
    "    return {\n",
    "        \"content\": final_content,\n",
    "        \"metadata\": {\n",
    "            \"name\": document_names,\n",
    "            \"path\": document_paths\n",
    "        }\n",
    "    }"
   ]
  },
  {
   "cell_type": "code",
   "execution_count": 8,
   "metadata": {},
   "outputs": [
    {
     "data": {
      "text/plain": [
       "{'content': \"The documents outline Germany's statutory framework for residue management and disposal:\\n\\n1. **Monitoring Requirements**: Residues exceeding three units must comply with monitoring limits and procedures. Mixing or diluting residues before disposal is prohibited (Section 61, pp. 72-102).\\n\\n2. **Obligations Under Section 61**:\\n   - Parties under obligation must declare residue intent to authorities without undue delay once monitoring is required.\\n   - Notifications via subsection 3 are allowed where applicable based on specific activity and risk (Section 61, pp. 72-103).\\n\\n3. **Non-Monitored Residues**: The competent authority may require technical procedures for these residues, focusing on measurement values and specific activities (Section 61, pp. 72-103).\\n\\n4. **Cross-Border Prohibition**: Residue transport into Germany is prohibited for disposal purposes (Section 61, p. 71; Section 62, pp. 72-103).\\n\\n5. **Residue Release from Monitoring**:\\n   - Release can occur if population protection measures are in place, occupational worker exposure limits comply, and methods comply with waste laws.\\n   - Releases must be notified in writing (Section 62, p. 72; Section 63, pp. 71-103).\\n\\n6. **Disposal Conditions**: Release from monitoring ensures public health protection, occupational safety compliance, and permissible disposal methods without regulatory barriers.\\n\\nCitations are provided for each relevant section to ensure factual accuracy.\",\n",
       " 'metadata': {'name': ['strlschg_en_bf.pdf:0:102', 'strlschg_en_bf.pdf:0:103'],\n",
       "  'path': ['strlschg_en_bf.pdf', 'strlschg_en_bf.pdf']}}"
      ]
     },
     "execution_count": 8,
     "metadata": {},
     "output_type": "execute_result"
    }
   ],
   "source": [
    "smry = source_summarizer(tr)\n",
    "smry"
   ]
  },
  {
   "cell_type": "code",
   "execution_count": 9,
   "metadata": {},
   "outputs": [
    {
     "data": {
      "text/markdown": [
       "The documents outline Germany's statutory framework for residue management and disposal:\n",
       "\n",
       "1. **Monitoring Requirements**: Residues exceeding three units must comply with monitoring limits and procedures. Mixing or diluting residues before disposal is prohibited (Section 61, pp. 72-102).\n",
       "\n",
       "2. **Obligations Under Section 61**:\n",
       "   - Parties under obligation must declare residue intent to authorities without undue delay once monitoring is required.\n",
       "   - Notifications via subsection 3 are allowed where applicable based on specific activity and risk (Section 61, pp. 72-103).\n",
       "\n",
       "3. **Non-Monitored Residues**: The competent authority may require technical procedures for these residues, focusing on measurement values and specific activities (Section 61, pp. 72-103).\n",
       "\n",
       "4. **Cross-Border Prohibition**: Residue transport into Germany is prohibited for disposal purposes (Section 61, p. 71; Section 62, pp. 72-103).\n",
       "\n",
       "5. **Residue Release from Monitoring**:\n",
       "   - Release can occur if population protection measures are in place, occupational worker exposure limits comply, and methods comply with waste laws.\n",
       "   - Releases must be notified in writing (Section 62, p. 72; Section 63, pp. 71-103).\n",
       "\n",
       "6. **Disposal Conditions**: Release from monitoring ensures public health protection, occupational safety compliance, and permissible disposal methods without regulatory barriers.\n",
       "\n",
       "Citations are provided for each relevant section to ensure factual accuracy."
      ],
      "text/plain": [
       "<IPython.core.display.Markdown object>"
      ]
     },
     "metadata": {},
     "output_type": "display_data"
    }
   ],
   "source": [
    "display(Markdown(smry['content']))"
   ]
  },
  {
   "cell_type": "code",
   "execution_count": 10,
   "metadata": {},
   "outputs": [
    {
     "data": {
      "text/markdown": [
       "#LLM: deepseek-r1:1.5b"
      ],
      "text/plain": [
       "<IPython.core.display.Markdown object>"
      ]
     },
     "metadata": {},
     "output_type": "display_data"
    },
    {
     "data": {
      "text/markdown": [
       "The document outlines regulations regarding the disposal and recovery of residues in Germany. Here's a concise summary:\n",
       "\n",
       "1. **Statutory Ordinance empowerement**: The federal government is granted authority to issue a statutory ordinance on residue recovery/dischaly for compliance with monitoring limits, which apply to three accumulated residues unless otherwise prohibited.\n",
       "\n",
       "2. **Storage Requirements**: Residues stored on the party's premises under an obligation must be declared to the competent authority without delay upon establishing their need for monitoring. Details such as nature, mass, and specific activity are provided immediately after this declaration.\n",
       "\n",
       "3. **Release from Monitoring**: When releasing residues that were monitored under certain conditions (e.g., protection of public exposure, occupational worker limits), authorities may lay technical procedures suitable for measurement and other requirements.\n",
       "\n",
       "Citations:\n",
       "- Document Name: strlschg_en_bf.pdf\n",
       "  - Path: strlschg_en_bf.pdf\n",
       "  - Section 1.1\n",
       "  - Section 2.3\n",
       "  - Section 3.5\n",
       "\n",
       "This summary highlights the key legal principles concerning residue management, monitoring, and release from operational requirements."
      ],
      "text/plain": [
       "<IPython.core.display.Markdown object>"
      ]
     },
     "metadata": {},
     "output_type": "display_data"
    },
    {
     "name": "stdout",
     "output_type": "stream",
     "text": [
      "Time taken: 3.68 seconds\n",
      "________________________________\n"
     ]
    },
    {
     "data": {
      "text/markdown": [
       "#LLM: deepseek-r1:latest"
      ],
      "text/plain": [
       "<IPython.core.display.Markdown object>"
      ]
     },
     "metadata": {},
     "output_type": "display_data"
    },
    {
     "data": {
      "text/markdown": [
       "The provided documents outline residue management regulations under Germany's environmental protection framework. These guidelines establish the monitoring limits and methods for residues to comply with subsection 2 of the relevant legal text. Up to three residues must not be mixed or diluted before disposal to meet monitoring requirements, and residues accumulated abroad must be brought into Germany for disposal following specific protocols.\n",
       "\n",
       "Under section 61, parties under an obligation must declare their intended recovery or disposal of residues to the Competent Authority without undue delay, specifying details like nature, mass, and specific activity once monitoring is required. If notification is made under section 63 due to residues' characteristics, a declaration may be waived.\n",
       "\n",
       "Section 62 permits the release of residues from monitoring if measures ensure population protection, worker exposure limits are not exceeded, and waste laws permit the method of recovery or disposal. Such releases must be documented in writing.\n",
       "\n",
       "[Document Name](strlschg_en_bf.pdf:0:102)  \n",
       "[Document Name](strlschg_en_bf.pdf:0:103)"
      ],
      "text/plain": [
       "<IPython.core.display.Markdown object>"
      ]
     },
     "metadata": {},
     "output_type": "display_data"
    },
    {
     "name": "stdout",
     "output_type": "stream",
     "text": [
      "Time taken: 4.45 seconds\n",
      "________________________________\n"
     ]
    },
    {
     "data": {
      "text/markdown": [
       "#LLM: llama3.1:8b-instruct-q4_0"
      ],
      "text/plain": [
       "<IPython.core.display.Markdown object>"
      ]
     },
     "metadata": {},
     "output_type": "display_data"
    },
    {
     "data": {
      "text/markdown": [
       "According to the provided documents [strlschg_en_bf.pdf](strlschg_en_bf.pdf), residues requiring monitoring must be disposed of or recovered in accordance with statutory ordinances, which establish monitoring limits and methods of recovery and disposal.\n",
       "\n",
       "Prior to their intended disposal or recovery, residues accumulated may not be mixed or diluted to satisfy monitoring limits (Section 1). The party subject to an obligation must declare the storage of such residues on their operating premises to the competent authority and inform them without undue delay if the storage ceases (Sections 3-4).\n",
       "\n",
       "The cross-border transportation of residues into Germany for disposal is prohibited (Section 6).\n",
       "\n",
       "Residues requiring monitoring may be released from this monitoring obligation by the competent authority under certain conditions, such as where the recovery or disposal ensures adequate protection of the population and does not exceed occupational exposure limits (Section 62).\n",
       "\n",
       "For those residues not subject to a monitoring requirement, the competent authority may require proof of compliance with monitoring limits and methods of recovery and disposal, laying down technical procedures as necessary (Section 5)."
      ],
      "text/plain": [
       "<IPython.core.display.Markdown object>"
      ]
     },
     "metadata": {},
     "output_type": "display_data"
    },
    {
     "name": "stdout",
     "output_type": "stream",
     "text": [
      "Time taken: 5.64 seconds\n",
      "________________________________\n"
     ]
    },
    {
     "data": {
      "text/markdown": [
       "#LLM: llama3.2"
      ],
      "text/plain": [
       "<IPython.core.display.Markdown object>"
      ]
     },
     "metadata": {},
     "output_type": "display_data"
    },
    {
     "data": {
      "text/markdown": [
       "The statutory ordinance establishes methods of recovery and disposal for residues, requiring compliance with monitoring limits and procedures outlined in the ordinance. The federal government can issue ordinances with the consent of the Bundesrat to set monitoring limits and methods of recovery and disposal (section 62). \n",
       "\n",
       "Accumulated residues must not be mixed or diluted prior to disposal or recovery (section 3), nor may they be transported across borders for disposal (section 7) [strlschg_en_bf.pdf:0:102].\n",
       "\n",
       "If stored on operating premises, parties subject to an obligation must declare such storage to the competent authority, and this information must be updated if storage ceases (sections 4 and 5). The competent authority may require proof of compliance with monitoring limits and procedures for non-regulated residues (section 5).\n",
       "\n",
       "To ensure public protection, the competent authority can release residues from monitoring requirements for specific recovery or disposal purposes, provided measures meet certain criteria (effective dose ≤ 1 mSv) [strlschg_en_bf.pdf:0:103]."
      ],
      "text/plain": [
       "<IPython.core.display.Markdown object>"
      ]
     },
     "metadata": {},
     "output_type": "display_data"
    },
    {
     "name": "stdout",
     "output_type": "stream",
     "text": [
      "Time taken: 3.58 seconds\n",
      "________________________________\n"
     ]
    },
    {
     "data": {
      "text/markdown": [
       "#LLM: gemma3:4b"
      ],
      "text/plain": [
       "<IPython.core.display.Markdown object>"
      ]
     },
     "metadata": {},
     "output_type": "display_data"
    },
    {
     "data": {
      "text/markdown": [
       "The federal government is empowered to establish monitoring limits and methods of recovery and disposal for residues [strlschg_en_bf.pdf:0:102]. Three residues may not be mixed or diluted prior to disposal or recovery [strlschg_en_bf.pdf:0:102]. Residues accumulated abroad and brought into Germany for recovery are subject to the same regulations [strlschg_en_bf.pdf:0:102]. Parties subject to an obligation must declare residue storage to the competent authority [strlschg_en_bf.pdf:0:103], and must secure residues against loss and unauthorised access [strlschg_en_bf.pdf:0:103]. Crossborder transportation of residues into Germany for disposal is prohibited [strlschg_en_bf.pdf:0:103]. The competent authority may release residues from monitoring if the protection of the population is ensured, occupational worker doses do not exceed specified levels, and there are no legal reservations concerning the recovery or disposal method [strlschg_en_bf.pdf:0:103]."
      ],
      "text/plain": [
       "<IPython.core.display.Markdown object>"
      ]
     },
     "metadata": {},
     "output_type": "display_data"
    },
    {
     "name": "stdout",
     "output_type": "stream",
     "text": [
      "Time taken: 4.65 seconds\n",
      "________________________________\n"
     ]
    },
    {
     "data": {
      "text/markdown": [
       "#LLM: phi4-mini"
      ],
      "text/plain": [
       "<IPython.core.display.Markdown object>"
      ]
     },
     "metadata": {},
     "output_type": "display_data"
    },
    {
     "data": {
      "text/markdown": [
       "The documents outline regulations for the monitoring and disposal of residues. A statutory ordinance allows federal authorities to establish limits on recovery, mixing restrictions (Document 1), reporting requirements without undue delay once storage ceases or is commenced by parties obligated under subsection 1 ([Source](strlschg_en_bf.pdf:0:102)), [Path](strlschg_en_bf.pdf). Unauthorised access and cross-border transportation into Germany for disposal are prohibited. Parties must declare residues to authorities, stating their nature upon establishment of the need for monitoring (Document 2), with exceptions under certain conditions ([Source](strlschg_en_bf.pdf:0:103)), [Path](strlschg_en_bf.pdf). The authority can release monitored substances from oversight if protection criteria are met. Release is done via written notice and public exposure must not exceed specific radiation dose limits (Document 3), with a particular emphasis on occupational worker safety ([Source](strlschg_en_bf.pdf:0:102)), [Path](strlschg_en_bf.pdf)."
      ],
      "text/plain": [
       "<IPython.core.display.Markdown object>"
      ]
     },
     "metadata": {},
     "output_type": "display_data"
    },
    {
     "name": "stdout",
     "output_type": "stream",
     "text": [
      "Time taken: 3.56 seconds\n",
      "________________________________\n"
     ]
    },
    {
     "data": {
      "text/markdown": [
       "#LLM: mistral:instruct"
      ],
      "text/plain": [
       "<IPython.core.display.Markdown object>"
      ]
     },
     "metadata": {},
     "output_type": "display_data"
    },
    {
     "data": {
      "text/markdown": [
       "The statutory ordinance outlines methods for recovery and disposal of residues, which must be complied with [strlschg_en_bf.pdf:0:102]. The federal government can issue an ordinance establishing monitoring limits and recovery/disposal methods for these residues [strlschg_en_bf.pdf:0:102]. Residues may not be mixed or diluted before disposal or recovery to meet monitoring limits [strlschg_en_bf.pdf:0:102]. The first sentence applies to residues accumulated abroad and brought into Germany for recovery [strlschg_en_bf.pdf:0:102]. Those storing residues must declare this to the competent authority and inform them if storage ceases [strlschg_en_bf.pdf:0:102]. The competent authority may require compliance with monitoring limits for non-monitored residues through technical procedures, suitable measurement methods, and other requirements [strlschg_en_bf.pdf:0:102]. Residues must be secured against loss and unauthorized access before disposal or recovery, and can only be passed on to another party for the same purpose [strlschg_en_bf.pdf:0:102]. Crossborder transportation of residues into Germany for their disposal is prohibited [strlschg_en_bf.pdf:0:102].\n",
       "\n",
       "   The party under an obligation in accordance with section 61 must declare the intended recovery or disposal of the residues to the competent authority as soon as they establish that said residues require monitoring, stating their nature, mass, and specific activity [strlschg_en_bf.pdf:0:103]. This declaration can be dispensed with if notification is made in accordance with section 63 subsection 1 due to the nature and specific activity of the residues requiring monitoring [strlschg_en_bf.pdf:0:103]. The competent authority may release residues from monitoring for a particular recovery or disposal under certain conditions, such as ensuring protection of the population against exposure, maintaining occupational worker body doses below levels for categorization as an occupationally exposed person, and having no legal reservations regarding the envisaged method of recovery or disposal [strlschg_en_bf.pdf:0:103]. Release from monitoring obligation is done through written notice [strlschg_en_bf.pdf:0:103]. The criteria for public protection are that, even without additional measures, an effective dose of 1 msv in a given calendar year should not be exceeded [strlschg_en_bf.pdf:0:103]."
      ],
      "text/plain": [
       "<IPython.core.display.Markdown object>"
      ]
     },
     "metadata": {},
     "output_type": "display_data"
    },
    {
     "name": "stdout",
     "output_type": "stream",
     "text": [
      "Time taken: 6.57 seconds\n",
      "________________________________\n"
     ]
    },
    {
     "data": {
      "text/markdown": [
       "#LLM: mistrallite"
      ],
      "text/plain": [
       "<IPython.core.display.Markdown object>"
      ]
     },
     "metadata": {},
     "output_type": "display_data"
    },
    {
     "data": {
      "text/markdown": [
       "The Statutory Ordinance lays down methods of recovery and disposal to apply to residues. 3 residues accumulated may not be mixed or diluted prior to their intended disposal or recovery in order to satisfy the monitoring limits in accordance with subsection 2. 4 if the residues requiring monitoring are stored on the operating premises of the par­ ty subject to an obligation in accordance with subsection 1, the latter must declare said storage to the competent authority. 5 for those residues that are not subject to a monitoring requirement, the competent authority may require that compliance be proven with the monitoring limits and methods of recovery and disposal in accordance with a statutory ordinance in accordance with the second sentence of subsection 2. 6 the party subject to an obligation in accordance with subsection 1 shall secure residues against loss and against access by unauthorised parties prior to their disposal or recovery. 7 the crossborder transportation of residues into germany for their disposal is here­ 71 with prohibited. section 62 release of residues from monitoring empowerment to issue ordinances 1 the party under an obligation in accordance with section 61 subsection 1, first sentence, must declare the intended recovery or disposal of the residues to the competent authority without undue delay, stating their nature, mass and specific activity, as soon as he or she has established that said residues require monitoring in accordance with section 61 subsection 2."
      ],
      "text/plain": [
       "<IPython.core.display.Markdown object>"
      ]
     },
     "metadata": {},
     "output_type": "display_data"
    },
    {
     "name": "stdout",
     "output_type": "stream",
     "text": [
      "Time taken: 4.90 seconds\n",
      "________________________________\n"
     ]
    },
    {
     "data": {
      "text/markdown": [
       "#LLM: mistral-small"
      ],
      "text/plain": [
       "<IPython.core.display.Markdown object>"
      ]
     },
     "metadata": {},
     "output_type": "display_data"
    },
    {
     "data": {
      "text/markdown": [
       "The German statutory ordinance outlines specific methods for the recovery and disposal of residues, emphasizing compliance with monitoring limits and procedures. The federal government is authorized to issue regulations regarding these limits and methods, with the consent of the Bundesrat. Residues must not be mixed or diluted before disposal or recovery to meet monitoring limits, and this rule also applies to residues brought into Germany from abroad for recovery. Storage of monitored residues on operational premises requires declaration to the competent authority, which must be informed if storage ceases. For non-monitored residues, the competent authority can require proof of compliance with monitoring limits and disposal methods through technical procedures and measurement standards. Residues must be secured against loss and unauthorized access before disposal or recovery and can only be transferred for these purposes. Cross-border transportation of residues into Germany for disposal is prohibited.\n",
       "\n",
       "The ordinance also addresses the release of residues from monitoring. Parties obligated under Section 61 must declare the intended recovery or disposal of monitored residues to the competent authority, specifying their nature, mass, and specific activity. This declaration can be waived if notification is made under Section 63 due to the nature and specific activity of the residues. The competent authority can release residues from monitoring for a particular recovery or disposal if certain conditions are met, including ensuring public protection and compliance with occupational exposure levels. Release from monitoring requires written notice. The criteria for public protection include an effective dose constraint of 1 mSv per calendar year [strlschg_en_bf.pdf](strlschg_en_bf.pdf)"
      ],
      "text/plain": [
       "<IPython.core.display.Markdown object>"
      ]
     },
     "metadata": {},
     "output_type": "display_data"
    },
    {
     "name": "stdout",
     "output_type": "stream",
     "text": [
      "Time taken: 13.96 seconds\n",
      "________________________________\n"
     ]
    },
    {
     "data": {
      "text/markdown": [
       "#LLM: deepseek-r1:70b"
      ],
      "text/plain": [
       "<IPython.core.display.Markdown object>"
      ]
     },
     "metadata": {},
     "output_type": "display_data"
    },
    {
     "data": {
      "text/markdown": [
       "The documents outline regulations for the handling, storage, and disposal of residues, particularly those requiring monitoring under statutory ordinances. The federal government is empowered to establish monitoring limits and methods for recovery and disposal, with the consent of the Bundesrat [strlschg_en_bf.pdf:0:102]. Residues must not be mixed or diluted to meet monitoring limits and must be stored securely against loss or unauthorized access prior to disposal or recovery. Cross-border transportation of residues into Germany for disposal is prohibited unless specifically allowed under Section 71 [strlschg_en_bf.pdf:0:103].\n",
       "\n",
       "Parties responsible for residues must declare their storage to the competent authority and notify them if storage ceases [strlschg_en_bf.pdf:0:102]. For residues not requiring monitoring, authorities may still require compliance with recovery or disposal methods and limits set by ordinance. Competent authorities can also impose technical procedures and measurement protocols to ensure adherence to these requirements.\n",
       "\n",
       "Parties under obligation must declare the intended recovery or disposal of monitored residues to the authority, detailing their nature, mass, and specific activity once monitoring is determined necessary [strlschg_en_bf.pdf:0:103]. Exceptions may apply if notification is made under Section 63 subsection 1 due to residue characteristics. Authorities can release residues from monitoring for specific recovery or disposal purposes if public exposure protection is ensured, worker doses remain within occupational exposure limits, and waste law permits the method used [strlschg_en_bf.pdf:0:103]. Releases are granted in writing, with public protection criteria ensuring an effective dose of 1 mSv per calendar year without additional measures."
      ],
      "text/plain": [
       "<IPython.core.display.Markdown object>"
      ]
     },
     "metadata": {},
     "output_type": "display_data"
    },
    {
     "name": "stdout",
     "output_type": "stream",
     "text": [
      "Time taken: 56.87 seconds\n",
      "________________________________\n"
     ]
    },
    {
     "data": {
      "text/markdown": [
       "#LLM: qwq"
      ],
      "text/plain": [
       "<IPython.core.display.Markdown object>"
      ]
     },
     "metadata": {},
     "output_type": "display_data"
    },
    {
     "data": {
      "text/markdown": [
       "The documents outline regulations for managing radioactive residues under statutory ordinances. Compliance with recovery and disposal methods is mandated, enforced via federal ordinances approved by the Bundesrat [strlschg_en_bf.pdf:0:102](strlschg_en_bf.pdf). Residues may not be mixed or diluted prior to handling to meet limits, a rule applicable even for residues imported into Germany for recovery [strlschg_en_bf.pdf:0:102](strlschg_en_bf.pdf). Obligated parties must declare monitored residue storage to authorities and report cessation of storage [strlschg_en_bf.pdf:0:102](strlschg_en_bf.pdf). Non-monitored residues may still require proof of compliance through technical procedures set by authorities [strlschg_en_bf.pdf:0:102](strlschg_en_bf.pdf). Residues must be secured against unauthorized access until disposal and transferred only to authorized parties for that purpose [strlschg_en_bf.pdf:0:102](strlschg_en_bf.pdf). Cross-border transport into Germany for disposal is prohibited [strlschg_en_bf.pdf:0:102](strlschg_en_bf.pdf).  \n",
       "\n",
       "Under Section 62, obligated parties must declare monitored residues’ nature, mass, and activity to authorities unless exempt under Section 63 [strlschg_en_bf.pdf:0:103](strlschg_en_bf.pdf). Authorities may release residues from monitoring if three conditions are met: (1) public protection via recovery/disposal measures, (2) occupational worker doses stay below limits, and (3) compliance with waste laws [strlschg_en_bf.pdf:0:103](strlschg_en_bf.pdf). Public exposure criteria limit effective annual doses to ≤1 mSv [strlschg_en_bf.pdf:0:103](strlschg_en_bf.pdf)."
      ],
      "text/plain": [
       "<IPython.core.display.Markdown object>"
      ]
     },
     "metadata": {},
     "output_type": "display_data"
    },
    {
     "name": "stdout",
     "output_type": "stream",
     "text": [
      "Time taken: 48.89 seconds\n",
      "________________________________\n"
     ]
    },
    {
     "data": {
      "text/markdown": [
       "#LLM: gemma3:27b"
      ],
      "text/plain": [
       "<IPython.core.display.Markdown object>"
      ]
     },
     "metadata": {},
     "output_type": "display_data"
    },
    {
     "data": {
      "text/markdown": [
       "Methods of recovery and disposal laid down by a statutory ordinance must be complied with when disposing of or recovering residues [strlschg_en_bf.pdf](strlschg_en_bf.pdf). The federal government is empowered to issue a statutory ordinance, with the consent of the Bundesrat, establishing monitoring limits and methods for residue recovery and disposal [strlschg_en_bf.pdf](strlschg_en_bf.pdf). Residues accumulated may not be mixed or diluted before disposal or recovery to meet monitoring limits [strlschg_en_bf.pdf](strlschg_en_bf.pdf); this also applies to residues from abroad brought into Germany for recovery [strlschg_en_bf.pdf](strlschg_en_bf.pdf). If residues requiring monitoring are stored on-site, the responsible party must declare this to the competent authority, and inform them when storage ceases [strlschg_en_bf.pdf](strlschg_en_bf.pdf). For residues not subject to monitoring requirements, the competent authority may still require proof of compliance with recovery and disposal methods [strlschg_en_bf.pdf](strlschg_en_bf.pdf).\n",
       "\n",
       "The responsible party must secure residues against loss and unauthorized access before disposal or recovery, and may only pass them on to other parties for these purposes [strlschg_en_bf.pdf](strlschg_en_bf.pdf). Cross-border transportation of residues into Germany for disposal is prohibited [strlschg_en_bf.pdf](strlschg_en_bf.pdf). The party obligated under section 61 subsection 1 must declare the intended recovery or disposal of residues to the competent authority, stating their nature, mass, and specific activity, once it’s determined they require monitoring [strlschg_en_bf.pdf](strlschg_en_bf.pdf). A declaration may be waived if notification is made under section 63 subsection 1 [strlschg_en_bf.pdf](strlschg_en_bf.pdf). \n",
       "\n",
       "The competent authority may release residues from monitoring for specific recovery or disposal if population protection is ensured, occupational worker body doses are within acceptable limits, and there are no objections under waste management law [strlschg_en_bf.pdf](strlschg_en_bf.pdf). Release is confirmed in writing [strlschg_en_bf.pdf](strlschg_en_bf.pdf). The criteria for public protection is an effective dose of 1 mSv in a given calendar year [strlschg_en_bf.pdf](strlschg_en_bf.pdf)."
      ],
      "text/plain": [
       "<IPython.core.display.Markdown object>"
      ]
     },
     "metadata": {},
     "output_type": "display_data"
    },
    {
     "name": "stdout",
     "output_type": "stream",
     "text": [
      "Time taken: 22.51 seconds\n",
      "________________________________\n"
     ]
    },
    {
     "data": {
      "text/markdown": [
       "#LLM: llama3.3"
      ],
      "text/plain": [
       "<IPython.core.display.Markdown object>"
      ]
     },
     "metadata": {},
     "output_type": "display_data"
    },
    {
     "data": {
      "text/markdown": [
       "The federal government is empowered to issue a statutory ordinance establishing monitoring limits and methods of recovery and disposal for residues, with the consent of the Bundesrat [strlschg_en_bf.pdf](strlschg_en_bf.pdf:0:102). Residues accumulated may not be mixed or diluted prior to their intended disposal or recovery to satisfy monitoring limits [strlschg_en_bf.pdf](strlschg_en_bf.pdf:0:102). The party subject to an obligation must declare storage of residues to the competent authority and inform them without undue delay if storage ceases [strlschg_en_bf.pdf](strlschg_en_bf.pdf:0:102). Cross-border transportation of residues into Germany for disposal is prohibited [strlschg_en_bf.pdf](strlschg_en_bf.pdf:0:102). The party under an obligation must declare the intended recovery or disposal of residues to the competent authority, stating their nature, mass, and specific activity [strlschg_en_bf.pdf](strlschg_en_bf.pdf:0:103). Residues requiring monitoring can be released from monitoring for a particular recovery or disposal if certain conditions are met, including ensuring requisite protection of the population against exposure [strlschg_en_bf.pdf](strlschg_en_bf.pdf:0:103). The criteria for protecting the public include limiting the effective dose to 1 mSv in a given calendar year [strlschg_en_bf.pdf](strlschg_en_bf.pdf:0:103)."
      ],
      "text/plain": [
       "<IPython.core.display.Markdown object>"
      ]
     },
     "metadata": {},
     "output_type": "display_data"
    },
    {
     "name": "stdout",
     "output_type": "stream",
     "text": [
      "Time taken: 42.41 seconds\n",
      "________________________________\n"
     ]
    }
   ],
   "source": [
    "import time\n",
    "models = [\"deepseek-r1:1.5b\",\"deepseek-r1:latest\", \"llama3.1:8b-instruct-q4_0\", \"llama3.2\", \"gemma3:4b\", \"phi4-mini\", \"mistral:instruct\", \"mistrallite\", \"mistral-small\"]\n",
    "models += [\"deepseek-r1:70b\", \"qwq\", \"gemma3:27b\", \"llama3.3\"]\n",
    "\n",
    "for model in models:\n",
    "    start_time = time.time()\n",
    "    summary = source_summarizer(tr,model)\n",
    "    elapsed_time = time.time() - start_time\n",
    "    display(Markdown(f'#LLM: {model}'))\n",
    "    display(Markdown(summary['content']))\n",
    "    print(f'Time taken: {elapsed_time:.2f} seconds')\n",
    "    print('________________________________')"
   ]
  },
  {
   "cell_type": "code",
   "execution_count": 11,
   "metadata": {},
   "outputs": [],
   "source": [
    "from langchain_community.llms import Ollama\n",
    "from langchain_core.messages import SystemMessage, HumanMessage\n",
    "import re\n",
    "\n",
    "def source_summarizer_Ollama(context_documents, llm_model=\"deepseek-r1\"):\n",
    "    system_message = SUMMARIZER_SYSTEM_PROMPT\n",
    "\n",
    "    formatted_context = \"\\n\".join(\n",
    "        f\"Content: {doc['content']}\\nSource: {doc['metadata']['name']}\\nPath: {doc['metadata']['path']}\"\n",
    "        for doc in context_documents\n",
    "    )\n",
    "\n",
    "    prompt = f\"\"\"\n",
    "    Here are the documents to summarize:\n",
    "    \n",
    "    {formatted_context}\n",
    "    \n",
    "    Provide a concise summary with proper citations:\n",
    "    \"\"\"\n",
    "    \n",
    "    # Initialize ChatOllama with the specified model and temperature\n",
    "    llm = Ollama(model=llm_model, temperature=0.1, repeat_penalty=1.2) \n",
    "    # For RAG systems like your summarizer, consider:\n",
    "    #    Using lower temperatures (0.1-0.3) for factual accuracy\n",
    "    #   Combining with repeat_penalty=1.1-1.3 to avoid redundant content\n",
    "    #   Monitoring token usage with num_ctx for long documents\n",
    "    \n",
    "    # Format messages for LangChain\n",
    "    messages = [\n",
    "        SystemMessage(content=system_message),\n",
    "        HumanMessage(content=prompt)\n",
    "    ]\n",
    "    \n",
    "    # Get response from the model\n",
    "    response = llm.invoke(messages)\n",
    "    \n",
    "    # Extract content from response\n",
    "    response_content = response\n",
    "    \n",
    "    # Clean markdown formatting if present\n",
    "    try:\n",
    "        final_content = re.sub(r\"<think>.*?</think>\", \"\", response_content, flags=re.DOTALL).strip()\n",
    "    except:\n",
    "        final_content = response_content.strip()\n",
    "\n",
    "    # Extract metadata from all documents\n",
    "    document_names = [doc['metadata']['name'] for doc in context_documents]\n",
    "    document_paths = [doc['metadata']['path'] for doc in context_documents]\n",
    "\n",
    "    return {\n",
    "        \"content\": final_content,\n",
    "        \"metadata\": {\n",
    "            \"name\": document_names,\n",
    "            \"path\": document_paths\n",
    "        }\n",
    "    }\n"
   ]
  },
  {
   "cell_type": "code",
   "execution_count": 12,
   "metadata": {},
   "outputs": [
    {
     "name": "stderr",
     "output_type": "stream",
     "text": [
      "/tmp/ipykernel_759027/2226840946.py:22: LangChainDeprecationWarning: The class `Ollama` was deprecated in LangChain 0.3.1 and will be removed in 1.0.0. An updated version of the class exists in the :class:`~langchain-ollama package and should be used instead. To use it run `pip install -U :class:`~langchain-ollama` and import as `from :class:`~langchain_ollama import OllamaLLM``.\n",
      "  llm = Ollama(model=llm_model, temperature=0.1, repeat_penalty=1.2)\n"
     ]
    },
    {
     "data": {
      "text/markdown": [
       "#LLM: deepseek-r1:1.5b"
      ],
      "text/plain": [
       "<IPython.core.display.Markdown object>"
      ]
     },
     "metadata": {},
     "output_type": "display_data"
    },
    {
     "data": {
      "text/markdown": [
       "**Summary**\n",
       "\n",
       "The document outlines the legal framework governing residue transportation and recovery in Germany:\n",
       "\n",
       "1. **Overview**: The federal government is empowered to issue a statutory ordinance for residues under specific conditions (3 or fewer accumulated before disposal/recovery). Monitoring limits apply only if 3 residues are present, otherwise, more may not be mixed due to violation.\n",
       "\n",
       "2. **Monitoring Limits**: If exceeding monitoring limits requires compliance with subsections 1 and 2 of Section 61, the authority must declare residue storage details promptly (without delay) upon notification when necessary. Prompt declaration is optional under certain conditions outlined in Subsection 63.\n",
       "\n",
       "3. **Cross-Border Transportation**: Residues transported across Germany for disposal are prohibited due to legal constraints on cross-border transportation into Germany.\n",
       "\n",
       "4. **Storage Declaration**: When monitoring requires declaring residue storage details, the authority must provide immediate information about residues' nature, mass, and specific activity upon declaration or under certain conditions (Subsection 63).\n",
       "\n",
       "5. **Release of Residues**: The authority releases monitored residues by notifying them in writing if they meet criteria for public exposure protection, worker dose limits, waste reservations, etc.\n",
       "\n",
       "**Citations**\n",
       "\n",
       "- [Document Name](path)  \n",
       "- [Document Name](path)"
      ],
      "text/plain": [
       "<IPython.core.display.Markdown object>"
      ]
     },
     "metadata": {},
     "output_type": "display_data"
    },
    {
     "name": "stdout",
     "output_type": "stream",
     "text": [
      "Time taken: 3.87 seconds\n",
      "________________________________\n"
     ]
    },
    {
     "data": {
      "text/markdown": [
       "#LLM: deepseek-r1:latest"
      ],
      "text/plain": [
       "<IPython.core.display.Markdown object>"
      ]
     },
     "metadata": {},
     "output_type": "display_data"
    },
    {
     "data": {
      "text/markdown": [
       "The documents outline residue management regulations in Germany:\n",
       "\n",
       "1. **Monitoring Requirements**: A statutory ordinance allows the federal government, with bundesrat consent, to establish monitoring limits for residues (Section 2). Residues cannot be mixed or diluted before disposal without violating these limits.\n",
       "\n",
       "2. **Storage and Declaration**: If residues are stored on a party's premises under an obligation, they must declare this storage to the Competent Authority immediately upon establishment. The authority is informed promptly if storage ceases (Sections 1 & 4).\n",
       "\n",
       "3. **Non-Monitored Residues**: For residues not subject to monitoring requirements, the Competent Authority may require compliance with statutory procedures or measurement values for specific activities.\n",
       "\n",
       "4. **Prohibition on Cross-Border Transportation**: Residue transportation into Germany is prohibited unless a permit is obtained (Section 71).\n",
       "\n",
       "5. **Declaration of Intention**: The party under an obligation must declare residue recovery/disposal to the Competent Authority without undue delay, providing details about nature, mass, and specific activity once monitoring is required.\n",
       "\n",
       "6. **Release from Monitoring Obligation**: Residues can be released if population exposure measures are in place (Section 2), body doses comply with occupational limits, and waste laws permit the method of disposal or recovery.\n",
       "\n",
       "7. **Public Exposure Criteria**: Public exposure must not exceed an effective dose of 1 msv without additional protective measures.\n",
       "\n",
       "These regulations ensure safe residue handling while balancing industrial needs with environmental protection."
      ],
      "text/plain": [
       "<IPython.core.display.Markdown object>"
      ]
     },
     "metadata": {},
     "output_type": "display_data"
    },
    {
     "name": "stdout",
     "output_type": "stream",
     "text": [
      "Time taken: 8.34 seconds\n",
      "________________________________\n"
     ]
    },
    {
     "data": {
      "text/markdown": [
       "#LLM: llama3.1:8b-instruct-q4_0"
      ],
      "text/plain": [
       "<IPython.core.display.Markdown object>"
      ]
     },
     "metadata": {},
     "output_type": "display_data"
    },
    {
     "data": {
      "text/markdown": [
       "Residues requiring monitoring must be disposed or recovered in accordance with statutory ordinances, as per the second sentence of Section 61 [strlschg_en_bf.pdf](path:strlschg_en_bf.pdf:0:102). The federal government is empowered to issue a statutory ordinance establishing monitoring limits and methods for residues. Residues may not be mixed or diluted prior to disposal or recovery (Section 61, subsection 2).\n",
       "\n",
       "The party subject to an obligation in accordance with Section 61 must declare storage of residues requiring monitoring to the competent authority and inform them without undue delay if such storage ceases (Section 61, subsections 3-4). The competent authority may require proof that compliance is met with monitoring limits and methods for non-monitored residues.\n",
       "\n",
       "Residues are secured against loss and unauthorized access prior to disposal or recovery. Cross-border transportation of residues into Germany for their disposal is prohibited (Section 62).\n",
       "\n",
       "Release from the monitoring obligation requires notification by the party under an obligation in accordance with Section 61, stating nature, mass, and specific activity of the residues requiring monitoring. Release may be granted if certain conditions are met, including protection of the population against exposure and compliance with measures for recovery or disposal [strlschg_en_bf.pdf](path:strlschg_en_bf.pdf:0:103)."
      ],
      "text/plain": [
       "<IPython.core.display.Markdown object>"
      ]
     },
     "metadata": {},
     "output_type": "display_data"
    },
    {
     "name": "stdout",
     "output_type": "stream",
     "text": [
      "Time taken: 4.72 seconds\n",
      "________________________________\n"
     ]
    },
    {
     "data": {
      "text/markdown": [
       "#LLM: llama3.2"
      ],
      "text/plain": [
       "<IPython.core.display.Markdown object>"
      ]
     },
     "metadata": {},
     "output_type": "display_data"
    },
    {
     "data": {
      "text/markdown": [
       "The German Federal Ordinance on the Release from Monitoring Obligations for Residues (strlschg_en_bf.pdf) establishes procedures for the release of residues requiring monitoring from their monitoring obligations. \n",
       "\n",
       "According to Section 62, subsection 1, first sentence, a party under an obligation in accordance with Section 61 must declare its intention to recover or dispose of residues without undue delay [strlschg_en_bf.pdf:0:102]. The declaration should include the nature, mass, and specific activity of the residues. \n",
       "\n",
       "The competent authority may release residues requiring monitoring from their obligations if certain conditions are met, including ensuring public protection against exposure through measures for recovery or disposal (Section 62, subsection 2, point 1), maintaining occupational worker doses below categorization levels as an occupationally exposed person (Section 62, subsection 2, point 2), and compliance with applicable waste law regulations regarding the method of recovery or disposal (Section 62, subsection 3) [strlschg_en_bf.pdf:0:103]. \n",
       "\n",
       "Release from monitoring obligations is effected through a written notice."
      ],
      "text/plain": [
       "<IPython.core.display.Markdown object>"
      ]
     },
     "metadata": {},
     "output_type": "display_data"
    },
    {
     "name": "stdout",
     "output_type": "stream",
     "text": [
      "Time taken: 3.27 seconds\n",
      "________________________________\n"
     ]
    },
    {
     "data": {
      "text/markdown": [
       "#LLM: gemma3:4b"
      ],
      "text/plain": [
       "<IPython.core.display.Markdown object>"
      ]
     },
     "metadata": {},
     "output_type": "display_data"
    },
    {
     "data": {
      "text/markdown": [
       "Disposal or recovery of residues must comply with a statutory ordinance [strlschg_en_bf.pdf:0:102] established with the consent of the Bundesrat, which includes monitoring limits and methods [strlschg_en_bf.pdf:0:102]. A maximum of three residues may not be mixed or diluted [strlschg_en_bf.pdf:0:102] prior to disposal or recovery [strlschg_en_bf.pdf:0:102]. Residues accumulated abroad and brought into Germany for recovery [strlschg_en_bf.pdf:0:102] must also comply with these regulations [strlschg_en_bf.pdf:0:102]. Parties subject to an obligation [strlschg_en_bf.pdf:0:102] must declare the storage of residues to the competent authority [strlschg_en_bf.pdf:0:103], stating their nature, mass, and specific activity [strlschg_en_bf.pdf:0:103]. The competent authority may release residues from monitoring if measures ensure population protection [strlschg_en_bf.pdf:0:103], occupational worker doses do not exceed specified levels [strlschg_en_bf.pdf:0:103], and the recovery or disposal method complies with waste law [strlschg_en_bf.pdf:0:103]."
      ],
      "text/plain": [
       "<IPython.core.display.Markdown object>"
      ]
     },
     "metadata": {},
     "output_type": "display_data"
    },
    {
     "name": "stdout",
     "output_type": "stream",
     "text": [
      "Time taken: 5.17 seconds\n",
      "________________________________\n"
     ]
    },
    {
     "data": {
      "text/markdown": [
       "#LLM: phi4-mini"
      ],
      "text/plain": [
       "<IPython.core.display.Markdown object>"
      ]
     },
     "metadata": {},
     "output_type": "display_data"
    },
    {
     "data": {
      "text/markdown": [
       "The provided documents outline the statutory ordinance requirements for monitoring and disposal methods concerning residues. The federal government is authorized to issue an order, approved by Bundesrat (Federal Council), establishing limits on residue accumulation before recovery or mixing/dilution can occur [Document 1](strlschg_en_bf.pdf:0). Residues accumulated abroad must also comply with these regulations upon being brought into Germany for disposal. Parties obligated under this ordinance are required to declare storage of residues and inform the competent authority promptly if such conditions cease, as well as secure against loss or unauthorized access [Document 1](strlschg_en_bf.pdf:0). The transportation across borders is prohibited unless specific criteria related to public protection during recovery/disposal processes meet certain standards. Parties must notify authorities without undue delay when residues requiring monitoring are identified and may be released from this obligation under specified conditions ensuring population safety, occupational exposure limits not exceeding categorization as an exposed person in the workplace [Document 2](strlschg_en_bf.pdf:0)."
      ],
      "text/plain": [
       "<IPython.core.display.Markdown object>"
      ]
     },
     "metadata": {},
     "output_type": "display_data"
    },
    {
     "name": "stdout",
     "output_type": "stream",
     "text": [
      "Time taken: 3.69 seconds\n",
      "________________________________\n"
     ]
    },
    {
     "data": {
      "text/markdown": [
       "#LLM: mistral:instruct"
      ],
      "text/plain": [
       "<IPython.core.display.Markdown object>"
      ]
     },
     "metadata": {},
     "output_type": "display_data"
    },
    {
     "data": {
      "text/markdown": [
       "The provided documents outline regulations for the recovery and disposal of residues in Germany, as established by a statutory ordinance [strlschg_en_bf.pdf:0:102]. Key points include:\n",
       "    - Residues must comply with monitoring limits and methods of recovery or disposal [strlschg_en_bf.pdf:0:102]\n",
       "    - No mixing, dilution, or cross-border transportation is allowed before intended disposal or recovery [strlschg_en_bf.pdf:0:102]\n",
       "    - Parties subject to an obligation must declare storage of residues and ceasing storage to the competent authority [strlschg_en_bf.pdf:0:103]\n",
       "    - The competent authority may require compliance with monitoring limits for non-monitored residues [strlschg_en_bf.pdf:0:103]\n",
       "    - Residues must be secured against loss and unauthorized access before disposal or recovery [strlschg_en_bf.pdf:0:102]\n",
       "    - The party under an obligation must declare the intended recovery or disposal of residues to the competent authority without undue delay, stating their nature, mass, and specific activity [strlschg_en_bf.pdf:0:103]\n",
       "    - Release from monitoring may be granted for a particular recovery or disposal under certain conditions [strlschg_en_bf.pdf:0:103]\n",
       "    - The criteria for public protection are an effective dose of 1 msv in a given calendar year without additional measures [strlschg_en_bf.pdf:0:103]."
      ],
      "text/plain": [
       "<IPython.core.display.Markdown object>"
      ]
     },
     "metadata": {},
     "output_type": "display_data"
    },
    {
     "name": "stdout",
     "output_type": "stream",
     "text": [
      "Time taken: 6.00 seconds\n",
      "________________________________\n"
     ]
    },
    {
     "data": {
      "text/markdown": [
       "#LLM: mistrallite"
      ],
      "text/plain": [
       "<IPython.core.display.Markdown object>"
      ]
     },
     "metadata": {},
     "output_type": "display_data"
    },
    {
     "data": {
      "text/markdown": [
       "Summary of the documents provided:\n",
       "\n",
       "    - The first document outlines methods for recovery and disposal of residues in accordance with a statutory ordinance, including requirements for monitoring limits and methods. It also empowers the federal government to issue a statutory ordinance on these matters.\n",
       "\n",
       "    - The second document provides additional details on the storage and transportation of residues, as well as requirements for declaring their intended recovery or disposal to the competent authority without undue delay.\n",
       "\n",
       "    \n",
       "    Summary:\n",
       "    By unauthorised parties prior to their disposal or recovery, residues may only be passed on to other party for the purpose of the disposal or re­covery. The crossborder transportation of residues into germany for their disposal is herewith prohibited. In accordance with section 61 subsection 1, first sentence, the party under an obligation must declare the intended recovery or disposal of the residues to the competent authority without undue delay, stating their nature, mass and specific activity as soon as he or she has established that said residues require monitoring in accordance with section 61 subsection 2. A declaration may be dispensed with where notification is made in accordance with section 63 subsection 1 due to the nature and specific activity of the residues requiring monitoring.\n",
       "    \n",
       "    At the request of the party under an obligation, the competent authority shall release residues requiring monitor­ ing from that monitoring for the purpose of a particular recovery or disposal where certain conditions are met:\n",
       "        1. the requisite protection of the population against exposure is ensured by means of the measures put in place for recovery or disposal, 2. the body dose of occupational workers in the course of disposal or recovery cannot ex­ ceed the levels for categorisation as an occupationallyexposed person, and 3. there are no reservations under the law on waste as to the permissibility of the envisaged method of recovery or disposal and whether it will be complied with.\n",
       "    \n",
       "    Release from the monitoring obligation shall be effected by means of notice in writing. The criteria for protecting the public include that, even without additional measures an effective dose of 1 msv in a given calendar year must not be exceeded."
      ],
      "text/plain": [
       "<IPython.core.display.Markdown object>"
      ]
     },
     "metadata": {},
     "output_type": "display_data"
    },
    {
     "name": "stdout",
     "output_type": "stream",
     "text": [
      "Time taken: 6.67 seconds\n",
      "________________________________\n"
     ]
    },
    {
     "data": {
      "text/markdown": [
       "#LLM: mistral-small"
      ],
      "text/plain": [
       "<IPython.core.display.Markdown object>"
      ]
     },
     "metadata": {},
     "output_type": "display_data"
    },
    {
     "data": {
      "text/markdown": [
       "The statutory ordinance mandates that residues must be disposed or recovered according to specified methods and monitoring limits, which the federal government can establish with Bundesrat consent. Residues cannot be mixed or diluted before disposal to meet these limits [strlschg_en_bf.pdf](strlschg_en_bf.pdf:0:102). Storage of monitored residues on operational premises must be declared to competent authorities and any cessation of storage reported promptly[ strlschg_en_bf.pdf](strlschg_en_bf.pdf:0:102).\n",
       "\n",
       "For non-monitored residues, the competent authority can require proof of compliance with monitoring limits through technical procedures [strlschg_en_bf.pdf](strlschg_en_bf.pdf:0:102). Residues must be secured against loss and unauthorized access before disposal or recovery. They may only be transferred to another party for these purposes, and cross-border transportation of residues into Germany is prohibited[ strlschg_en_bf.pdf](strlschg_en_bf.pdf:0:103).\n",
       "\n",
       "The release from monitoring requires a declaration by the obligated party stating the nature, mass, and specific activity of the residues. This requirement can be waived if notification under section 63 is made due to residue characteristics [ strlschg_en_bf.pdf](strlschg_en_bf.pdf:0:102). The competent authority may release monitored residues from monitoring for a particular recovery or disposal method, provided certain conditions are met. These include ensuring public protection and compliance with occupational exposure levels[ strlschg_en_bf.pdf](strlschg_en_bf.pdf:0:103).\n",
       "\n",
       "The criteria for protecting the public involve maintaining an effective dose of 1 mSv per calendar year from disposal or recovery activities [strlschg_en_bf.pdf](strlschg_en_bf.pdf:0:102)."
      ],
      "text/plain": [
       "<IPython.core.display.Markdown object>"
      ]
     },
     "metadata": {},
     "output_type": "display_data"
    },
    {
     "name": "stdout",
     "output_type": "stream",
     "text": [
      "Time taken: 21.00 seconds\n",
      "________________________________\n"
     ]
    },
    {
     "data": {
      "text/markdown": [
       "#LLM: deepseek-r1:70b"
      ],
      "text/plain": [
       "<IPython.core.display.Markdown object>"
      ]
     },
     "metadata": {},
     "output_type": "display_data"
    },
    {
     "data": {
      "text/markdown": [
       "The statutory ordinance empowers the federal government, with the consent of the Bundesrat, to establish monitoring limits and methods for the recovery and disposal of residues [strlschg_en_bf.pdf](strlschg_en_bf.pdf:0:102). Residues must not be mixed or diluted before their intended disposal or recovery to meet these limits. Storage of monitored residues on operating premises requires declaration to the competent authority, who must also be informed promptly if storage ceases [strlschg_en_bf.pdf](strlschg_en_bf.pdf:0:102). The party responsible for residues must secure them against loss and unauthorized access before disposal or recovery and may only transfer them to other parties for these purposes. Cross-border transportation of residues into Germany for disposal is prohibited under Section 71 [strlschg_en_bf.pdf](strlschg_en_bf.pdf:0:102).\n",
       "\n",
       "The party responsible for monitored residues must declare their intended recovery or disposal, including details on nature, mass, and specific activity, to the competent authority without delay. Exceptions apply if notification is made under Section 63 subsection 1 due to residue characteristics [strlschg_en_bf.pdf](strlschg_en_bf.pdf:0:103). The competent authority may release residues from monitoring for specific recovery or disposal purposes if public exposure protection measures are in place, worker doses do not exceed occupational exposure levels, and waste laws permit the method. Releases must be granted in writing [strlschg_en_bf.pdf](strlschg_en_bf.pdf:0:103). Public protection criteria require that disposal or recovery activities limit effective dose to 1 mSv per calendar year without additional measures [strlschg_en_bf.pdf](strlschg_en_bf.pdf:0:103)."
      ],
      "text/plain": [
       "<IPython.core.display.Markdown object>"
      ]
     },
     "metadata": {},
     "output_type": "display_data"
    },
    {
     "name": "stdout",
     "output_type": "stream",
     "text": [
      "Time taken: 52.50 seconds\n",
      "________________________________\n"
     ]
    },
    {
     "data": {
      "text/markdown": [
       "#LLM: qwq"
      ],
      "text/plain": [
       "<IPython.core.display.Markdown object>"
      ]
     },
     "metadata": {},
     "output_type": "display_data"
    },
    {
     "data": {
      "text/markdown": [
       "The provided documents outline regulations for residue management under statutory ordinances. Under Section 61, the federal government establishes recovery and disposal methods through a statutory ordinance requiring Bundesrat consent [strlschg_en_bf.pdf:0:102]. Residues must not be mixed or diluted before disposal in Germany or imported from abroad; storage declarations are mandatory for obligated parties, with security measures to prevent unauthorized access. Cross-border transport of residues into Germany is prohibited under this framework [strlschg_en_bf.pdf:0:102].\n",
       "\n",
       "Section 62 details residue release criteria. Obligated entities must declare disposal plans to authorities unless exempted by Section 63 notifications. Release requires ensuring public protection (e.g., an effective annual dose limit of ≤1 mSv), adherence to worker radiation exposure limits, and compliance with waste management laws [strlschg_en_bf.pdf:0:103]."
      ],
      "text/plain": [
       "<IPython.core.display.Markdown object>"
      ]
     },
     "metadata": {},
     "output_type": "display_data"
    },
    {
     "name": "stdout",
     "output_type": "stream",
     "text": [
      "Time taken: 44.97 seconds\n",
      "________________________________\n"
     ]
    },
    {
     "data": {
      "text/markdown": [
       "#LLM: gemma3:27b"
      ],
      "text/plain": [
       "<IPython.core.display.Markdown object>"
      ]
     },
     "metadata": {},
     "output_type": "display_data"
    },
    {
     "data": {
      "text/markdown": [
       "Methods of recovery and disposal laid down by a statutory ordinance must be complied with when disposing of or recovering residues [strlschg_en_bf.pdf](strlschg_en_bf.pdf:0:102). The federal government is empowered to issue a statutory ordinance, with the consent of the Bundesrat, establishing monitoring limits and methods for residue recovery and disposal [strlschg_en_bf.pdf](strlschg_en_bf.pdf:0:102). Residues accumulated may not be mixed or diluted before disposal or recovery to meet monitoring limits [strlschg_en_bf.pdf](strlschg_en_bf.pdf:0:102). This applies to residues accumulated abroad and brought into Germany for recovery [strlschg_en_bf.pdf](strlschg_en_bf.pdf:0:102). If residues requiring monitoring are stored on the operating premises of the obligated party, this storage must be declared to the competent authority, and cessation of storage must be reported without undue delay [strlschg_en_bf.pdf](strlschg_en_bf.pdf:0:102). For residues not subject to monitoring requirements, the competent authority may require proof of compliance with monitoring limits and recovery/disposal methods [strlschg_en_bf.pdf](strlschg_en_bf.pdf:0:102). The obligated party must secure residues against loss and unauthorized access before disposal or recovery, and may only pass them on to other parties for these purposes [strlschg_en_bf.pdf](strlschg_en_bf.pdf:0:102). Cross-border transportation of residues into Germany for disposal is prohibited [strlschg_en_bf.pdf](strlschg_en_bf.pdf:0:102).\n",
       "\n",
       "The party obligated under section 61 subsection 1, first sentence, must declare the intended recovery or disposal of residues to the competent authority, stating their nature, mass, and specific activity, once it is determined they require monitoring [strlschg_en_bf.pdf](strlschg_en_bf.pdf:0:103). A declaration may be waived if notification is made under section 63 subsection 1 due to the nature and specific activity of the residues [strlschg_en_bf.pdf](strlschg_en_bf.pdf:0:103). The competent authority may release residues requiring monitoring from that obligation for a specific recovery or disposal if population protection is ensured, occupational worker body doses do not exceed permissible levels, and there are no objections under waste law [strlschg_en_bf.pdf](strlschg_en_bf.pdf:0:103). Release is effected via written notice [strlschg_en_bf.pdf](strlschg_en_bf.pdf:0:103). The criteria for public protection is an effective dose of 1 mSv in a given calendar year [strlschg_en_bf.pdf](strlschg_en_bf.pdf:0:103)."
      ],
      "text/plain": [
       "<IPython.core.display.Markdown object>"
      ]
     },
     "metadata": {},
     "output_type": "display_data"
    },
    {
     "name": "stdout",
     "output_type": "stream",
     "text": [
      "Time taken: 24.69 seconds\n",
      "________________________________\n"
     ]
    },
    {
     "data": {
      "text/markdown": [
       "#LLM: llama3.3"
      ],
      "text/plain": [
       "<IPython.core.display.Markdown object>"
      ]
     },
     "metadata": {},
     "output_type": "display_data"
    },
    {
     "data": {
      "text/markdown": [
       "The methods of recovery and disposal are laid down by a statutory ordinance in accordance with the second sentence, which must be complied with [strlschg_en_bf.pdf](strlschg_en_bf.pdf:0:102). The federal government is empowered to issue a statutory ordinance establishing monitoring limits and methods of recovery and disposal for residues [strlschg_en_bf.pdf](strlschg_en_bf.pdf:0:102). Residues accumulated may not be mixed or diluted prior to their intended disposal or recovery in order to satisfy the monitoring limits [strlschg_en_bf.pdf](strlschg_en_bf.pdf:0:102). If residues requiring monitoring are stored on operating premises, the party subject to an obligation must declare said storage to the competent authority and inform them without undue delay if such storage ceases [strlschg_en_bf.pdf](strlschg_en_bf.pdf:0:102). The cross-border transportation of residues into Germany for disposal is prohibited [strlschg_en_bf.pdf](strlschg_en_bf.pdf:0:102). A party under an obligation must declare the intended recovery or disposal of residues to the competent authority without undue delay, stating their nature, mass, and specific activity [strlschg_en_bf.pdf](strlschg_en_bf.pdf:0:103). The competent authority may release residues requiring monitoring from that monitoring for a particular recovery or disposal if certain conditions are met, including ensuring requisite protection of the population against exposure [strlschg_en_bf.pdf](strlschg_en_bf.pdf:0:103). The criteria for protecting the public include an effective dose of 1 mSv in a given calendar year as the constraint for exposure caused by disposal or recovery [strlschg_en_bf.pdf](strlschg_en_bf.pdf:0:103)."
      ],
      "text/plain": [
       "<IPython.core.display.Markdown object>"
      ]
     },
     "metadata": {},
     "output_type": "display_data"
    },
    {
     "name": "stdout",
     "output_type": "stream",
     "text": [
      "Time taken: 44.35 seconds\n",
      "________________________________\n"
     ]
    }
   ],
   "source": [
    "for model in models:\n",
    "    start_time = time.time()\n",
    "    summary = source_summarizer_Ollama(tr,model)\n",
    "    elapsed_time = time.time() - start_time\n",
    "    display(Markdown(f'#LLM: {model}'))\n",
    "    display(Markdown(summary['content']))\n",
    "    print(f'Time taken: {elapsed_time:.2f} seconds')\n",
    "    print('________________________________')"
   ]
  },
  {
   "cell_type": "code",
   "execution_count": 14,
   "metadata": {},
   "outputs": [
    {
     "ename": "ModuleNotFoundError",
     "evalue": "No module named 'langchain_ollama'",
     "output_type": "error",
     "traceback": [
      "\u001b[31m---------------------------------------------------------------------------\u001b[39m",
      "\u001b[31mModuleNotFoundError\u001b[39m                       Traceback (most recent call last)",
      "\u001b[36mCell\u001b[39m\u001b[36m \u001b[39m\u001b[32mIn[14]\u001b[39m\u001b[32m, line 1\u001b[39m\n\u001b[32m----> \u001b[39m\u001b[32m1\u001b[39m \u001b[38;5;28;01mfrom\u001b[39;00m\u001b[38;5;250m \u001b[39m\u001b[34;01mlangchain_ollama\u001b[39;00m\u001b[38;5;250m \u001b[39m\u001b[38;5;28;01mimport\u001b[39;00m ChatOllama\n\u001b[32m      2\u001b[39m \u001b[38;5;28;01mfrom\u001b[39;00m\u001b[38;5;250m \u001b[39m\u001b[34;01mlangchain_core\u001b[39;00m\u001b[34;01m.\u001b[39;00m\u001b[34;01mmessages\u001b[39;00m\u001b[38;5;250m \u001b[39m\u001b[38;5;28;01mimport\u001b[39;00m SystemMessage, HumanMessage\n\u001b[32m      3\u001b[39m \u001b[38;5;28;01mimport\u001b[39;00m\u001b[38;5;250m \u001b[39m\u001b[34;01mre\u001b[39;00m\n",
      "\u001b[31mModuleNotFoundError\u001b[39m: No module named 'langchain_ollama'"
     ]
    }
   ],
   "source": [
    "from langchain_ollama import ChatOllama\n",
    "from langchain_core.messages import SystemMessage, HumanMessage\n",
    "import re\n",
    "\n",
    "def source_summarizer_ChatOllama(context_documents, llm_model=\"deepseek-r1\"):\n",
    "    system_message = SUMMARIZER_SYSTEM_PROMPT\n",
    "\n",
    "    formatted_context = \"\\n\".join(\n",
    "        f\"Content: {doc['content']}\\nSource: {doc['metadata']['name']}\\nPath: {doc['metadata']['path']}\"\n",
    "        for doc in context_documents\n",
    "    )\n",
    "\n",
    "    prompt = f\"\"\"\n",
    "    Here are the documents to summarize:\n",
    "    \n",
    "    {formatted_context}\n",
    "    \n",
    "    Provide a concise summary with proper citations:\n",
    "    \"\"\"\n",
    "    \n",
    "    # Initialize ChatOllama with the specified model and temperature\n",
    "    llm = ChatOllama(model=llm_model, temperature=0.1)\n",
    "    \n",
    "    # Format messages for LangChain\n",
    "    messages = [\n",
    "        SystemMessage(content=system_message),\n",
    "        HumanMessage(content=prompt)\n",
    "    ]\n",
    "    \n",
    "    # Get response from the model\n",
    "    response = llm.invoke(messages)\n",
    "    \n",
    "    # Extract content from response\n",
    "    response_content = response.content\n",
    "    \n",
    "    # Clean markdown formatting if present\n",
    "    try:\n",
    "        final_content = re.sub(r\"<think>.*?</think>\", \"\", response_content, flags=re.DOTALL).strip()\n",
    "    except:\n",
    "        final_content = response_content.strip()\n",
    "\n",
    "    # Extract metadata from all documents\n",
    "    document_names = [doc['metadata']['name'] for doc in context_documents]\n",
    "    document_paths = [doc['metadata']['path'] for doc in context_documents]\n",
    "\n",
    "    return {\n",
    "        \"content\": final_content,\n",
    "        \"metadata\": {\n",
    "            \"name\": document_names,\n",
    "            \"path\": document_paths\n",
    "        }\n",
    "    }\n"
   ]
  },
  {
   "cell_type": "code",
   "execution_count": null,
   "metadata": {},
   "outputs": [],
   "source": [
    "for model in models:\n",
    "    start_time = time.time()\n",
    "    summary = source_summarizer_ChatOllama(tr,model)\n",
    "    elapsed_time = time.time() - start_time\n",
    "    display(Markdown(f'#LLM: {model}'))\n",
    "    display(Markdown(summary['content']))\n",
    "    print(f'Time taken: {elapsed_time:.2f} seconds')\n",
    "    print('________________________________')"
   ]
  }
 ],
 "metadata": {
  "kernelspec": {
   "display_name": "lrrd-venv",
   "language": "python",
   "name": "python3"
  },
  "language_info": {
   "codemirror_mode": {
    "name": "ipython",
    "version": 3
   },
   "file_extension": ".py",
   "mimetype": "text/x-python",
   "name": "python",
   "nbconvert_exporter": "python",
   "pygments_lexer": "ipython3",
   "version": "3.12.3"
  }
 },
 "nbformat": 4,
 "nbformat_minor": 2
}
