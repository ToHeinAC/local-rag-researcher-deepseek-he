{
 "cells": [
  {
   "cell_type": "code",
   "execution_count": 1,
   "metadata": {},
   "outputs": [],
   "source": [
    "import sys, os\n",
    "sys.path.append(os.path.abspath(os.path.join(os.getcwd(), '..')))\n",
    "\n",
    "from src.assistant.rag_helpers import similarity_search_for_tenant\n",
    "from src.assistant.vector_db import get_embedding_model"
   ]
  },
  {
   "cell_type": "code",
   "execution_count": 2,
   "metadata": {},
   "outputs": [
    {
     "name": "stderr",
     "output_type": "stream",
     "text": [
      "/tmp/ipykernel_1488755/1271146424.py:11: LangChainDeprecationWarning: The class `HuggingFaceEmbeddings` was deprecated in LangChain 0.2.2 and will be removed in 1.0. An updated version of the class exists in the :class:`~langchain-huggingface package and should be used instead. To use it run `pip install -U :class:`~langchain-huggingface` and import as `from :class:`~langchain_huggingface import HuggingFaceEmbeddings``.\n",
      "  embed_llm=HuggingFaceEmbeddings(model_name='sentence-transformers/all-mpnet-base-v2', model_kwargs={'device': 'cpu'}),\n",
      "/home/he/ai/dev/langgraph/local-rag-researcher-deepseek-he/lrrd-venv/lib/python3.12/site-packages/tqdm/auto.py:21: TqdmWarning: IProgress not found. Please update jupyter and ipywidgets. See https://ipywidgets.readthedocs.io/en/stable/user_install.html\n",
      "  from .autonotebook import tqdm as notebook_tqdm\n"
     ]
    },
    {
     "name": "stdout",
     "output_type": "stream",
     "text": [
      "CUDA memory cache cleared\n"
     ]
    },
    {
     "name": "stderr",
     "output_type": "stream",
     "text": [
      "/home/he/ai/dev/langgraph/local-rag-researcher-deepseek-he/src/assistant/rag_helpers.py:91: LangChainDeprecationWarning: The class `Chroma` was deprecated in LangChain 0.2.9 and will be removed in 1.0. An updated version of the class exists in the :class:`~langchain-chroma package and should be used instead. To use it run `pip install -U :class:`~langchain-chroma` and import as `from :class:`~langchain_chroma import Chroma``.\n",
      "  vectorstore = Chroma(\n"
     ]
    },
    {
     "name": "stdout",
     "output_type": "stream",
     "text": [
      "CUDA memory cache cleared\n"
     ]
    },
    {
     "data": {
      "text/plain": [
       "[Document(metadata={'id': 'strlschg_en_bf.pdf:0:102', 'page': 0, 'path': 'files/strlschg_en_bf.pdf', 'source': 'strlschg_en_bf.pdf'}, page_content='methods of recovery and disposal laid down by a statutory ordinance in accordance with the second sentence are complied with in their disposal or recovery. the federal government is herewith empowered to issue a statutory ordinance, with the consent of the bundesrat, es\\xad tablishing the monitoring limits and methods of recovery and disposal to apply to residues. 3 residues accumulated may not be mixed or diluted prior to their intended disposal or recovery in order to satisfy the monitoring limits in accordance with subsection 2. the first sentence shall also apply to residues accumulated abroad and brought into germany for recovery. 4 if the residues requiring monitoring are stored on the operating premises of the par\\xad ty subject to an obligation in accordance with subsection 1, the latter must declare said storage to the competent authority. the competent authority shall be informed without undue delay if such storage ceases. 5 for those residues that are not subject to a monitoring requirement, the competent authority may require that compliance be proven with the monitoring limits and methods of recovery and disposal in accordance with a statutory ordinance in accordance with the sec\\xad ond sentence of subsection 2. to this end, the competent authority may lay down technical procedures, suitable measurement procedures and other requirements, in particular those covering the ascertainment of representative measurement values for the specific activity. 6 the party subject to an obligation in accordance with subsection 1 shall secure residues against loss and against access by unauthorised parties prior to their disposal or recovery. they may only be passed on to other party for the purpose of the disposal or re\\xad covery. 7 the crossborder transportation of residues into germany for their disposal is here\\xad 71 with prohibited. section 62 release of residues from monitoring empowerment to issue ordinances 1 the party under an obligation in accordance with section 61'),\n",
       " Document(metadata={'id': 'strlschg_en_bf.pdf:0:103', 'page': 0, 'path': 'files/strlschg_en_bf.pdf', 'source': 'strlschg_en_bf.pdf'}, page_content='by unauthorised parties prior to their disposal or recovery. they may only be passed on to other party for the purpose of the disposal or re\\xad covery. 7 the crossborder transportation of residues into germany for their disposal is here\\xad 71 with prohibited. section 62 release of residues from monitoring empowerment to issue ordinances 1 the party under an obligation in accordance with section 61 subsection 1, first sentence, must declare the intended recovery or disposal of the residues to the competent authority without undue delay, stating their nature, mass and specific activity, as soon as he or she has established that said residues require monitoring in accordance with section 61 subsection 2. a declaration in accordance with the first sentence above may be dispensed with where notification is made in accordance with section 63 subsection 1 due to the na\\xad ture and specific activity of the residues requiring monitoring. 2 at the request of the party under an obligation in accordance with section 61 sub\\xad section 1, first sentence, the competent authority shall release residues requiring monitor\\xad ing from that monitoring for the purpose of a particular recovery or disposal, where 1. the requisite protection of the population against exposure is ensured by means of the measures put in place for recovery or disposal, 2. the body dose of occupational workers in the course of disposal or recovery cannot ex\\xad ceed the levels for categorisation as an occupationallyexposed person, and 3. there are no reservations under the law on waste as to the permissibility of the envis\\xad aged method of recovery or disposal and as to whether it will be complied with. release from the monitoring obligation shall be effected by means of notice in writing. 3 the criteria for the protection of the public shall be that, as the constraint for the ex\\xad posure of members of the public caused by disposal or recovery, even without additional measures an effective dose of 1 msv in a given calendar')]"
      ]
     },
     "execution_count": 2,
     "metadata": {},
     "output_type": "execute_result"
    }
   ],
   "source": [
    "from langchain_community.embeddings import HuggingFaceEmbeddings\n",
    "\n",
    "# Test query\n",
    "test_query = \"how to release residues from regulatory control\"\n",
    "\n",
    "# Get results\n",
    "results = similarity_search_for_tenant(\n",
    "    tenant_id=\"default\",\n",
    "    #embed_llm=get_embedding_model().\n",
    "    #embed_llm=HuggingFaceEmbeddings(model_name='jinaai/jina-embeddings-v2-base-de', model_kwargs={'device': 'cpu'}),\n",
    "    embed_llm=HuggingFaceEmbeddings(model_name='sentence-transformers/all-mpnet-base-v2', model_kwargs={'device': 'cpu'}),\n",
    "    persist_directory=\"../database\",\n",
    "    similarity=\"cosine\",\n",
    "    normal=True,\n",
    "    query=test_query\n",
    ")\n",
    "\n",
    "# Print results\n",
    "results"
   ]
  },
  {
   "cell_type": "code",
   "execution_count": 3,
   "metadata": {},
   "outputs": [
    {
     "name": "stderr",
     "output_type": "stream",
     "text": [
      "Some weights of BertModel were not initialized from the model checkpoint at jinaai/jina-embeddings-v2-base-de and are newly initialized: ['embeddings.position_embeddings.weight', 'encoder.layer.0.intermediate.dense.bias', 'encoder.layer.0.intermediate.dense.weight', 'encoder.layer.0.output.LayerNorm.bias', 'encoder.layer.0.output.LayerNorm.weight', 'encoder.layer.0.output.dense.bias', 'encoder.layer.0.output.dense.weight', 'encoder.layer.1.intermediate.dense.bias', 'encoder.layer.1.intermediate.dense.weight', 'encoder.layer.1.output.LayerNorm.bias', 'encoder.layer.1.output.LayerNorm.weight', 'encoder.layer.1.output.dense.bias', 'encoder.layer.1.output.dense.weight', 'encoder.layer.10.intermediate.dense.bias', 'encoder.layer.10.intermediate.dense.weight', 'encoder.layer.10.output.LayerNorm.bias', 'encoder.layer.10.output.LayerNorm.weight', 'encoder.layer.10.output.dense.bias', 'encoder.layer.10.output.dense.weight', 'encoder.layer.11.intermediate.dense.bias', 'encoder.layer.11.intermediate.dense.weight', 'encoder.layer.11.output.LayerNorm.bias', 'encoder.layer.11.output.LayerNorm.weight', 'encoder.layer.11.output.dense.bias', 'encoder.layer.11.output.dense.weight', 'encoder.layer.2.intermediate.dense.bias', 'encoder.layer.2.intermediate.dense.weight', 'encoder.layer.2.output.LayerNorm.bias', 'encoder.layer.2.output.LayerNorm.weight', 'encoder.layer.2.output.dense.bias', 'encoder.layer.2.output.dense.weight', 'encoder.layer.3.intermediate.dense.bias', 'encoder.layer.3.intermediate.dense.weight', 'encoder.layer.3.output.LayerNorm.bias', 'encoder.layer.3.output.LayerNorm.weight', 'encoder.layer.3.output.dense.bias', 'encoder.layer.3.output.dense.weight', 'encoder.layer.4.intermediate.dense.bias', 'encoder.layer.4.intermediate.dense.weight', 'encoder.layer.4.output.LayerNorm.bias', 'encoder.layer.4.output.LayerNorm.weight', 'encoder.layer.4.output.dense.bias', 'encoder.layer.4.output.dense.weight', 'encoder.layer.5.intermediate.dense.bias', 'encoder.layer.5.intermediate.dense.weight', 'encoder.layer.5.output.LayerNorm.bias', 'encoder.layer.5.output.LayerNorm.weight', 'encoder.layer.5.output.dense.bias', 'encoder.layer.5.output.dense.weight', 'encoder.layer.6.intermediate.dense.bias', 'encoder.layer.6.intermediate.dense.weight', 'encoder.layer.6.output.LayerNorm.bias', 'encoder.layer.6.output.LayerNorm.weight', 'encoder.layer.6.output.dense.bias', 'encoder.layer.6.output.dense.weight', 'encoder.layer.7.intermediate.dense.bias', 'encoder.layer.7.intermediate.dense.weight', 'encoder.layer.7.output.LayerNorm.bias', 'encoder.layer.7.output.LayerNorm.weight', 'encoder.layer.7.output.dense.bias', 'encoder.layer.7.output.dense.weight', 'encoder.layer.8.intermediate.dense.bias', 'encoder.layer.8.intermediate.dense.weight', 'encoder.layer.8.output.LayerNorm.bias', 'encoder.layer.8.output.LayerNorm.weight', 'encoder.layer.8.output.dense.bias', 'encoder.layer.8.output.dense.weight', 'encoder.layer.9.intermediate.dense.bias', 'encoder.layer.9.intermediate.dense.weight', 'encoder.layer.9.output.LayerNorm.bias', 'encoder.layer.9.output.LayerNorm.weight', 'encoder.layer.9.output.dense.bias', 'encoder.layer.9.output.dense.weight']\n",
      "You should probably TRAIN this model on a down-stream task to be able to use it for predictions and inference.\n"
     ]
    },
    {
     "name": "stdout",
     "output_type": "stream",
     "text": [
      "-------------------------\n",
      "Using embedding model: jinaai/jina-embeddings-v2-base-de\n",
      "client=SentenceTransformer(\n",
      "  (0): Transformer({'max_seq_length': 8192, 'do_lower_case': False}) with Transformer model: BertModel \n",
      "  (1): Pooling({'word_embedding_dimension': 768, 'pooling_mode_cls_token': False, 'pooling_mode_mean_tokens': True, 'pooling_mode_max_tokens': False, 'pooling_mode_mean_sqrt_len_tokens': False, 'pooling_mode_weightedmean_tokens': False, 'pooling_mode_lasttoken': False, 'include_prompt': True})\n",
      "  (2): Normalize()\n",
      ") model_name='jinaai/jina-embeddings-v2-base-de' cache_folder=None model_kwargs={'device': 'cpu'} encode_kwargs={} multi_process=False show_progress=False\n",
      "-------------------------\n"
     ]
    },
    {
     "data": {
      "text/plain": [
       "HuggingFaceEmbeddings(client=SentenceTransformer(\n",
       "  (0): Transformer({'max_seq_length': 8192, 'do_lower_case': False}) with Transformer model: BertModel \n",
       "  (1): Pooling({'word_embedding_dimension': 768, 'pooling_mode_cls_token': False, 'pooling_mode_mean_tokens': True, 'pooling_mode_max_tokens': False, 'pooling_mode_mean_sqrt_len_tokens': False, 'pooling_mode_weightedmean_tokens': False, 'pooling_mode_lasttoken': False, 'include_prompt': True})\n",
       "  (2): Normalize()\n",
       "), model_name='jinaai/jina-embeddings-v2-base-de', cache_folder=None, model_kwargs={'device': 'cpu'}, encode_kwargs={}, multi_process=False, show_progress=False)"
      ]
     },
     "execution_count": 3,
     "metadata": {},
     "output_type": "execute_result"
    }
   ],
   "source": [
    "get_embedding_model()"
   ]
  },
  {
   "cell_type": "code",
   "execution_count": 4,
   "metadata": {},
   "outputs": [],
   "source": [
    "#from langchain_community.embeddings import HuggingFaceEmbeddings\n",
    "#HuggingFaceEmbeddings(model_name='jinaai/jina-embeddings-v2-base-de', model_kwargs={'device': 'cpu'})"
   ]
  },
  {
   "cell_type": "code",
   "execution_count": 5,
   "metadata": {},
   "outputs": [
    {
     "name": "stdout",
     "output_type": "stream",
     "text": [
      "models--jinaai--jina-embeddings-v2-base-de\t  version.txt\n",
      "models--sentence-transformers--all-mpnet-base-v2\n"
     ]
    },
    {
     "name": "stderr",
     "output_type": "stream",
     "text": [
      "huggingface/tokenizers: The current process just got forked, after parallelism has already been used. Disabling parallelism to avoid deadlocks...\n",
      "To disable this warning, you can either:\n",
      "\t- Avoid using `tokenizers` before the fork if possible\n",
      "\t- Explicitly set the environment variable TOKENIZERS_PARALLELISM=(true | false)\n"
     ]
    }
   ],
   "source": [
    "!ls /home/he/.cache/huggingface/hub/"
   ]
  },
  {
   "cell_type": "code",
   "execution_count": 6,
   "metadata": {},
   "outputs": [],
   "source": [
    "#from langchain_community.embeddings import HuggingFaceEmbeddings\n",
    "#HuggingFaceEmbeddings(model_name='jinaai/jina-embeddings-v2-base-de', model_kwargs={'device': 'cpu'})"
   ]
  },
  {
   "cell_type": "code",
   "execution_count": 7,
   "metadata": {},
   "outputs": [],
   "source": [
    "def transform_documents(documents):\n",
    "    \"\"\"\n",
    "    Transforms a list of Document objects into a specific dictionary format.\n",
    "    \n",
    "    Args:\n",
    "        documents (list): List of Document objects with metadata and page_content\n",
    "        \n",
    "    Returns:\n",
    "        list: List of dictionaries with content and metadata in the required format\n",
    "    \"\"\"\n",
    "    samples = []\n",
    "    \n",
    "    for doc in documents:\n",
    "        transformed_doc = {\n",
    "            \"content\": doc.page_content,\n",
    "            \"metadata\": {\n",
    "                \"name\": doc.metadata['id'],\n",
    "                \"path\": doc.metadata['source']\n",
    "            }\n",
    "        }\n",
    "        samples.append(transformed_doc)\n",
    "    \n",
    "    return samples"
   ]
  },
  {
   "cell_type": "code",
   "execution_count": 8,
   "metadata": {},
   "outputs": [
    {
     "data": {
      "text/plain": [
       "[{'content': 'methods of recovery and disposal laid down by a statutory ordinance in accordance with the second sentence are complied with in their disposal or recovery. the federal government is herewith empowered to issue a statutory ordinance, with the consent of the bundesrat, es\\xad tablishing the monitoring limits and methods of recovery and disposal to apply to residues. 3 residues accumulated may not be mixed or diluted prior to their intended disposal or recovery in order to satisfy the monitoring limits in accordance with subsection 2. the first sentence shall also apply to residues accumulated abroad and brought into germany for recovery. 4 if the residues requiring monitoring are stored on the operating premises of the par\\xad ty subject to an obligation in accordance with subsection 1, the latter must declare said storage to the competent authority. the competent authority shall be informed without undue delay if such storage ceases. 5 for those residues that are not subject to a monitoring requirement, the competent authority may require that compliance be proven with the monitoring limits and methods of recovery and disposal in accordance with a statutory ordinance in accordance with the sec\\xad ond sentence of subsection 2. to this end, the competent authority may lay down technical procedures, suitable measurement procedures and other requirements, in particular those covering the ascertainment of representative measurement values for the specific activity. 6 the party subject to an obligation in accordance with subsection 1 shall secure residues against loss and against access by unauthorised parties prior to their disposal or recovery. they may only be passed on to other party for the purpose of the disposal or re\\xad covery. 7 the crossborder transportation of residues into germany for their disposal is here\\xad 71 with prohibited. section 62 release of residues from monitoring empowerment to issue ordinances 1 the party under an obligation in accordance with section 61',\n",
       "  'metadata': {'name': 'strlschg_en_bf.pdf:0:102',\n",
       "   'path': 'strlschg_en_bf.pdf'}},\n",
       " {'content': 'by unauthorised parties prior to their disposal or recovery. they may only be passed on to other party for the purpose of the disposal or re\\xad covery. 7 the crossborder transportation of residues into germany for their disposal is here\\xad 71 with prohibited. section 62 release of residues from monitoring empowerment to issue ordinances 1 the party under an obligation in accordance with section 61 subsection 1, first sentence, must declare the intended recovery or disposal of the residues to the competent authority without undue delay, stating their nature, mass and specific activity, as soon as he or she has established that said residues require monitoring in accordance with section 61 subsection 2. a declaration in accordance with the first sentence above may be dispensed with where notification is made in accordance with section 63 subsection 1 due to the na\\xad ture and specific activity of the residues requiring monitoring. 2 at the request of the party under an obligation in accordance with section 61 sub\\xad section 1, first sentence, the competent authority shall release residues requiring monitor\\xad ing from that monitoring for the purpose of a particular recovery or disposal, where 1. the requisite protection of the population against exposure is ensured by means of the measures put in place for recovery or disposal, 2. the body dose of occupational workers in the course of disposal or recovery cannot ex\\xad ceed the levels for categorisation as an occupationallyexposed person, and 3. there are no reservations under the law on waste as to the permissibility of the envis\\xad aged method of recovery or disposal and as to whether it will be complied with. release from the monitoring obligation shall be effected by means of notice in writing. 3 the criteria for the protection of the public shall be that, as the constraint for the ex\\xad posure of members of the public caused by disposal or recovery, even without additional measures an effective dose of 1 msv in a given calendar',\n",
       "  'metadata': {'name': 'strlschg_en_bf.pdf:0:103',\n",
       "   'path': 'strlschg_en_bf.pdf'}}]"
      ]
     },
     "execution_count": 8,
     "metadata": {},
     "output_type": "execute_result"
    }
   ],
   "source": [
    "tr=transform_documents(results)\n",
    "tr"
   ]
  },
  {
   "cell_type": "code",
   "execution_count": 9,
   "metadata": {},
   "outputs": [],
   "source": [
    "SUMMARIZER_SYSTEM_PROMPT = \"\"\"\n",
    "    You are an expert summarizer working within a RAG system. Your task is to create a comprehensive, accurate summary of the provided information while properly attributing all facts to their sources.\n",
    "\n",
    "    Guidelines:\n",
    "    - Create a clear, coherent summary using neutral and professional language\n",
    "    - Focus on the most important facts and insights\n",
    "    - Maintain factual accuracy without adding new information\n",
    "    - Maintain exact figures, data points, sections and paragraphs\n",
    "    - Cite EVERY piece of information using the format [Document Name](document_path)\n",
    "    - Place citations immediately after the relevant information\n",
    "    - Ensure each citation is correctly matched to its source\n",
    "    - Return only the plain text summary without any reliminary remarks and without markdown formatting\n",
    "\n",
    "    Important: The citation information [Document Name](document_path) is stored in a dict and provided within the 'metadata'\n",
    "    {{\n",
    "    \"content\": doc.page_content,\n",
    "    \"metadata\": {\n",
    "        \"name\": doc.metadata['id'],\n",
    "        \"path\": doc.metadata['source']\n",
    "    }}\n",
    "    \"\"\""
   ]
  },
  {
   "cell_type": "code",
   "execution_count": 10,
   "metadata": {},
   "outputs": [],
   "source": [
    "import ollama\n",
    "import re\n",
    "from IPython.display import Markdown, display"
   ]
  },
  {
   "cell_type": "code",
   "execution_count": 11,
   "metadata": {},
   "outputs": [],
   "source": [
    "def source_summarizer(context_documents, llm_model=\"deepseek-r1\"):\n",
    "    system_message = SUMMARIZER_SYSTEM_PROMPT\n",
    "\n",
    "    formatted_context = \"\\n\".join(\n",
    "        f\"Content: {doc['content']}\\nSource: {doc['metadata']['name']}\\nPath: {doc['metadata']['path']}\"\n",
    "        for doc in context_documents\n",
    "    )\n",
    "\n",
    "    prompt = f\"\"\"\n",
    "    Here are the documents to summarize:\n",
    "    \n",
    "    {formatted_context}\n",
    "    \n",
    "    Provide a concise summary with proper citations:\n",
    "    \"\"\"\n",
    "    \n",
    "    response = ollama.chat(\n",
    "        model=llm_model,\n",
    "        messages=[\n",
    "            {\"role\": \"system\", \"content\": system_message},\n",
    "            {\"role\": \"user\", \"content\": prompt}\n",
    "        ]\n",
    "    )\n",
    "    \n",
    "    response_content = response[\"message\"][\"content\"]\n",
    "    \n",
    "    # Clean markdown formatting if present\n",
    "    try:\n",
    "        final_content = re.sub(r\"<think>.*?</think>\", \"\", response_content, flags=re.DOTALL).strip()\n",
    "    except:\n",
    "        final_content = response_content.strip()\n",
    "\n",
    "    # Extract metadata from all documents\n",
    "    document_names = [doc['metadata']['name'] for doc in context_documents]\n",
    "    document_paths = [doc['metadata']['path'] for doc in context_documents]\n",
    "\n",
    "    return {\n",
    "        \"content\": final_content,\n",
    "        \"metadata\": {\n",
    "            \"name\": document_names,\n",
    "            \"path\": document_paths\n",
    "        }\n",
    "    }"
   ]
  },
  {
   "cell_type": "code",
   "execution_count": 12,
   "metadata": {},
   "outputs": [
    {
     "data": {
      "text/plain": [
       "{'content': 'The German legal framework outlined in [Document Name](strlschg_en_bf.pdf:0:102) and [Document Name](strlschg_en_bf.pdf:0:103) addresses the monitoring, disposal, and recovery of residues under a statutory ordinance. Key provisions include:\\n\\n1. **Obligations Under Monitoring Ordinance**: Residues requiring monitoring must be declared to competent authorities without undue delay upon identification as such. Notification may be deferred based on their nature and specific activity if it aligns with legal standards (Section 61, Subsection 2).\\n\\n2. **Cross-Border Transportation Prohibition**: The transportation of residues into Germany for disposal is prohibited (Section 7).\\n\\n3. **Release of Residues from Monitoring Obligation**: Residues requiring monitoring may be released from such obligations if:\\n   - Population protection measures ensure exposure limits.\\n   - Body dose limits are not exceeded during recovery/disposal.\\n   - Waste laws do not prohibit the method.\\n\\n4. **Declaration Requirements**: The party under an obligation must declare their intent to recover or dispose of residues promptly, stating their nature, mass, and specific activity (Section 61, Subsection 1).\\n\\nThis framework ensures compliance with health, safety, and environmental standards while providing flexibility where permissible.',\n",
       " 'metadata': {'name': ['strlschg_en_bf.pdf:0:102', 'strlschg_en_bf.pdf:0:103'],\n",
       "  'path': ['strlschg_en_bf.pdf', 'strlschg_en_bf.pdf']}}"
      ]
     },
     "execution_count": 12,
     "metadata": {},
     "output_type": "execute_result"
    }
   ],
   "source": [
    "smry = source_summarizer(tr)\n",
    "smry"
   ]
  },
  {
   "cell_type": "code",
   "execution_count": 13,
   "metadata": {},
   "outputs": [
    {
     "data": {
      "text/markdown": [
       "The German legal framework outlined in [Document Name](strlschg_en_bf.pdf:0:102) and [Document Name](strlschg_en_bf.pdf:0:103) addresses the monitoring, disposal, and recovery of residues under a statutory ordinance. Key provisions include:\n",
       "\n",
       "1. **Obligations Under Monitoring Ordinance**: Residues requiring monitoring must be declared to competent authorities without undue delay upon identification as such. Notification may be deferred based on their nature and specific activity if it aligns with legal standards (Section 61, Subsection 2).\n",
       "\n",
       "2. **Cross-Border Transportation Prohibition**: The transportation of residues into Germany for disposal is prohibited (Section 7).\n",
       "\n",
       "3. **Release of Residues from Monitoring Obligation**: Residues requiring monitoring may be released from such obligations if:\n",
       "   - Population protection measures ensure exposure limits.\n",
       "   - Body dose limits are not exceeded during recovery/disposal.\n",
       "   - Waste laws do not prohibit the method.\n",
       "\n",
       "4. **Declaration Requirements**: The party under an obligation must declare their intent to recover or dispose of residues promptly, stating their nature, mass, and specific activity (Section 61, Subsection 1).\n",
       "\n",
       "This framework ensures compliance with health, safety, and environmental standards while providing flexibility where permissible."
      ],
      "text/plain": [
       "<IPython.core.display.Markdown object>"
      ]
     },
     "metadata": {},
     "output_type": "display_data"
    }
   ],
   "source": [
    "display(Markdown(smry['content']))"
   ]
  },
  {
   "cell_type": "code",
   "execution_count": 14,
   "metadata": {},
   "outputs": [
    {
     "data": {
      "text/markdown": [
       "#LLM: deepseek-r1:1.5b"
      ],
      "text/plain": [
       "<IPython.core.display.Markdown object>"
      ]
     },
     "metadata": {},
     "output_type": "display_data"
    },
    {
     "data": {
      "text/markdown": [
       "Compliance with statutory ordinances laid out by a enforcement ordinance is established in accordance with [strlschg_en_bf.pdf](path). These regulations ensure that the recovery or disposal of residues adheres to specific guidelines. The federal government has been empowered to issue such statistical ordinances, with explicit consent from the bundesrat. This empowers the government to implement monitoring limits and procedures for residue management in order to comply with the requirements outlined in subsection 2.\n",
       "\n",
       "Residues that are required to undergo recovery or disposal must be stored under certain conditions. Specifically, three residues accumulated within a specified period of time may not be mixed or diluted before being intended for their recovery or disposal. This prevents violations of monitoring limits imposed on these substances and ensures consistency in residue management practices [strlschg_en_bf.pdf](path).\n",
       "\n",
       "Additionally, if the residues to be stored are not subject to monitoring requirements, there is an obligation to demonstrate compliance with monitoring limits through procedures such as technical measurements and other measures. These procedures should align with a statutory ordinance in subsection 2, allowing for necessary verification of compliance [strlschg_en_bf.pdf](path).\n",
       "\n",
       "The document also highlights the importance of residue release from monitoring empowerment, particularly when residues are not subject to specific monitoring requirements. In such cases, the competent authority must declare the intended recovery or disposal of the residues to the authorized entity without undue delay, providing sufficient notice of the objectives and details involved [strlschg_en_bf.pdf](path).\n",
       "\n",
       "Furthermore, there is a focus on procedures related to crossborder transportation of residues into Germany for their disposal. Specifically, crossborder transportation across the border in Germany is prohibited as per subsection 62. This section likely outlines additional regulations or procedures required when transferring residues across borders for disposal [strlschg_en_bf.pdf](path).\n",
       "\n",
       "Public exposure and protection are addressed by setting standards to ensure the safety of public members of the German population. These standards may include measures to limit doses of substances that could potentially affect residue release, particularly in relation to occupational workers who handle these materials [strlschg_en_bf.pdf](path)."
      ],
      "text/plain": [
       "<IPython.core.display.Markdown object>"
      ]
     },
     "metadata": {},
     "output_type": "display_data"
    },
    {
     "name": "stdout",
     "output_type": "stream",
     "text": [
      "Time taken: 5.18 seconds\n",
      "________________________________\n"
     ]
    },
    {
     "data": {
      "text/markdown": [
       "#LLM: deepseek-r1:latest"
      ],
      "text/plain": [
       "<IPython.core.display.Markdown object>"
      ]
     },
     "metadata": {},
     "output_type": "display_data"
    },
    {
     "data": {
      "text/markdown": [
       "The document outlines the statutory monitoring limits for residues under Germany's waste management framework. Residues requiring monitoring must not be mixed or diluted before disposal or recovery (Section 3). Monitoring obligations apply to residues accumulated both domestically and internationally, with storage declarations required if residues are kept on premises (Sections 4-5). Non-monitored residues can only be passed along for disposal or recovery without violating monitoring limits. Section 6 emphasizes securing residues against unauthorized access prior to disposal or recovery.\n",
       "\n",
       "The second document discusses the release of residues from monitoring obligations under Section 62, provided certain conditions are met, such as ensuring public protection and compliance with waste laws (Section 1). Release requires notification but can be dispensed with if authorized by Section 63. Residues released must comply with population exposure limits and existing waste laws (Sections 2-4). Public protection standards include limiting dose exposure to 1 msv without additional measures.\n",
       "\n",
       "Source: strlschg_en_bf.pdf"
      ],
      "text/plain": [
       "<IPython.core.display.Markdown object>"
      ]
     },
     "metadata": {},
     "output_type": "display_data"
    },
    {
     "name": "stdout",
     "output_type": "stream",
     "text": [
      "Time taken: 2.62 seconds\n",
      "________________________________\n"
     ]
    },
    {
     "data": {
      "text/markdown": [
       "#LLM: llama3.1:8b-instruct-q4_0"
      ],
      "text/plain": [
       "<IPython.core.display.Markdown object>"
      ]
     },
     "metadata": {},
     "output_type": "display_data"
    },
    {
     "data": {
      "text/markdown": [
       "The federal government is empowered to issue a statutory ordinance, with the consent of the Bundesrat, establishing monitoring limits and methods of recovery and disposal for residues. [strlschg_en_bf.pdf](strlschg_en_bf.pdf:0:102) \n",
       "\n",
       "Residues accumulated in Germany or brought from abroad must be disposed of or recovered in accordance with the statutory ordinance, and cannot be mixed or diluted to meet monitoring limits. [strlschg_en_bf.pdf](strlschg_en_bf.pdf:0:102)\n",
       "\n",
       "The party responsible for residues storage must declare it to the competent authority, and notify them if storage ceases. The competent authority may require proof of compliance with monitoring limits and methods of recovery and disposal for residues not subject to a monitoring requirement. [strlschg_en_bf.pdf](strlschg_en_bf.pdf:0:103)\n",
       "\n",
       "The party responsible must secure residues against loss and unauthorized access prior to disposal or recovery, and can only pass them on to another party for the purpose of disposal or recovery. Cross-border transportation of residues into Germany is prohibited. [strlschg_en_bf.pdf](strlschg_en_bf.pdf:0:102)\n",
       "\n",
       "The competent authority must be notified without undue delay of the intended recovery or disposal of residues, stating their nature, mass and specific activity. A declaration may be dispensed with where notification is made due to the nature and specific activity of the residues. [strlschg_en_bf.pdf](strlschg_en_bf.pdf:0:103)\n",
       "\n",
       "The competent authority may release residues from monitoring for a particular recovery or disposal if certain criteria are met, including protection of the population against exposure, occupational worker dose limits, and compliance with waste law. Release is effected by means of notice in writing. [strlschg_en_bf.pdf](strlschg_en_bf.pdf:0:103)"
      ],
      "text/plain": [
       "<IPython.core.display.Markdown object>"
      ]
     },
     "metadata": {},
     "output_type": "display_data"
    },
    {
     "name": "stdout",
     "output_type": "stream",
     "text": [
      "Time taken: 6.42 seconds\n",
      "________________________________\n"
     ]
    },
    {
     "data": {
      "text/markdown": [
       "#LLM: llama3.2"
      ],
      "text/plain": [
       "<IPython.core.display.Markdown object>"
      ]
     },
     "metadata": {},
     "output_type": "display_data"
    },
    {
     "data": {
      "text/markdown": [
       "The German statutory ordinance establishes methods for the recovery and disposal of residues, requiring compliance with specific limits and procedures. The federal government is empowered to issue ordinances establishing monitoring limits and methods of recovery and disposal (Section 1) [strlschg_en_bf.pdf:0:102]. \n",
       "\n",
       "A party subject to an obligation must declare storage of residues to the competent authority if stored on operating premises (Section 4) [strlschg_en_bf.pdf:0:103]. The authority must be informed without delay of cessation or changes in storage. For non-monitored residues, the authority may require compliance with monitoring limits and procedures.\n",
       "\n",
       "Prior to disposal or recovery, residues must be secured against loss and unauthorized access (Section 6) [strlschg_en_bf.pdf:0:102]. Cross-border transportation of residues into Germany for disposal is prohibited (Section 7) [strlschg_en_bf.pdf:0:103].\n",
       "\n",
       "A party subject to an obligation must declare intended recovery or disposal to the competent authority without delay, stating nature, mass, and specific activity (Section 62, subsection 1) [strlschg_en_bf.pdf:0:103]. Release from monitoring is allowed for specific recovery or disposal methods, ensuring public protection and occupational dose limits are met (Section 62, subsection 2) [strlschg_en_bf.pdf:0:104]."
      ],
      "text/plain": [
       "<IPython.core.display.Markdown object>"
      ]
     },
     "metadata": {},
     "output_type": "display_data"
    },
    {
     "name": "stdout",
     "output_type": "stream",
     "text": [
      "Time taken: 3.42 seconds\n",
      "________________________________\n"
     ]
    },
    {
     "data": {
      "text/markdown": [
       "#LLM: gemma3:4b"
      ],
      "text/plain": [
       "<IPython.core.display.Markdown object>"
      ]
     },
     "metadata": {},
     "output_type": "display_data"
    },
    {
     "data": {
      "text/markdown": [
       "Disposal or recovery of residues must comply with statutory ordinances [strlschg_en_bf.pdf:0:102], and a federal government ordinance, with the consent of the Bundesrat, can establish monitoring limits and recovery methods [strlschg_en_bf.pdf:0:102].  Three residues may not be mixed or diluted prior to disposal [strlschg_en_bf.pdf:0:103], and residues accumulated abroad must be declared to the competent authority [strlschg_en_bf.pdf:0:102].  Parties subject to obligations must secure residues against loss and unauthorized access [strlschg_en_bf.pdf:0:103] and may only pass them on for disposal or recovery [strlschg_en_bf.pdf:0:103]. Crossborder transportation of residues into Germany for disposal is prohibited [strlschg_en_bf.pdf:0:103].  The competent authority may require proof of compliance with monitoring limits if residues are not subject to a monitoring requirement [strlschg_en_bf.pdf:0:103], and may lay down technical procedures and measurement requirements [strlschg_en_bf.pdf:0:103].  The competent authority may release residues from monitoring if appropriate measures ensure population protection [strlschg_en_bf.pdf:0:103], occupational worker doses are controlled, and the recovery or disposal method complies with waste laws [strlschg_en_bf.pdf:0:103]."
      ],
      "text/plain": [
       "<IPython.core.display.Markdown object>"
      ]
     },
     "metadata": {},
     "output_type": "display_data"
    },
    {
     "name": "stdout",
     "output_type": "stream",
     "text": [
      "Time taken: 7.26 seconds\n",
      "________________________________\n"
     ]
    },
    {
     "data": {
      "text/markdown": [
       "#LLM: phi4-mini"
      ],
      "text/plain": [
       "<IPython.core.display.Markdown object>"
      ]
     },
     "metadata": {},
     "output_type": "display_data"
    },
    {
     "data": {
      "text/markdown": [
       "The Federal Government is authorized to issue ordinances establishing monitoring limits and methods for the recovery or disposal of residues, as per [StrlSchG](strlschg_en_bf.pdf). Residues accumulated may not be mixed/diluted before their intended use unless it complies with specified regulations. Monitoring obligations apply if certain conditions are met regarding storage on operating premises (Document 1), and a declaration must accompany the recovery or disposal of residues indicating nature, mass, and specific activity [StrlSchG](strlschg_en_bf.pdf). Cross-border transport to Germany for residue disposal is prohibited unless it aligns with specified criteria ensuring public protection during processes like mining waste utilization. Release from monitoring obligations requires written notice (Document 2) [StrlSchG](strlschg_en_bf.pdf).\n",
       "\n",
       "Additional details and specifications regarding recovery or disposal methods, including the necessity of proving compliance through technical procedures for unmonitored residues as well as securing these materials against loss/access by unauthorized parties prior to final disposition are mandated. Importantly, cross-border transport into Germany is forbidden unless specific conditions related to public protection during waste utilization processes can be met [StrlSchG](strlschg_en_bf.pdf)."
      ],
      "text/plain": [
       "<IPython.core.display.Markdown object>"
      ]
     },
     "metadata": {},
     "output_type": "display_data"
    },
    {
     "name": "stdout",
     "output_type": "stream",
     "text": [
      "Time taken: 3.79 seconds\n",
      "________________________________\n"
     ]
    },
    {
     "data": {
      "text/markdown": [
       "#LLM: mistral:instruct"
      ],
      "text/plain": [
       "<IPython.core.display.Markdown object>"
      ]
     },
     "metadata": {},
     "output_type": "display_data"
    },
    {
     "data": {
      "text/markdown": [
       "The statutory ordinance outlined in [strlschg_en_bf.pdf](strlschg_en_bf.pdf) dictates that residues accumulated must comply with the methods of recovery and disposal specified within the ordinance. The federal government is empowered to issue a statutory ordinance, establishing monitoring limits and methods of recovery and disposal for these residues with Bundesrat's consent.\n",
       "\n",
       "   - Residues may not be mixed or diluted before intended disposal or recovery to meet monitoring limits as outlined in subsection 2 ([strlschg_en_bf.pdf:0:102](strlschg_en_bf.pdf:0:102)).\n",
       "   - Residues requiring monitoring, whether domestically generated or imported, must be declared to the competent authority by the party under obligation (subsection 1) without undue delay ([strlschg_en_bf.pdf:0:102](strlschg_en_bf.pdf:0:102)).\n",
       "   - The competent authority may require compliance with monitoring limits and methods of recovery and disposal for residues not subject to a monitoring requirement ([strlschg_en_bf.pdf:0:103](strlschg_en_bf.pdf:0:103)).\n",
       "   - The party under obligation must secure residues against loss and unauthorized access prior to disposal or recovery, and may only be passed on to another party for the purpose of disposal or recovery ([strlschg_en_bf.pdf:0:102](strlschg_en_bf.pdf:0:102)).\n",
       "   - Cross-border transportation of residues into Germany for their disposal is prohibited ([strlschg_en_bf.pdf:0:103](strlschg_en_bf.pdf:0:103)).\n",
       "   - The party under obligation must declare the intended recovery or disposal of the residues to the competent authority as soon as they establish that said residues require monitoring ([strlschg_en_bf.pdf:0:103](strlschg_en_bf.pdf:0:103)).\n",
       "   - Release from monitoring obligation can be granted by the competent authority for a particular recovery or disposal, provided that certain conditions are met ([strlschg_en_bf.pdf:0:103](strlschg_en_bf.pdf:0:103)).\n",
       "   - The criteria for public protection require that effective dose of 1 msv in a given calendar year does not cause exposure to the public, even without additional measures ([strlschg_en_bf.pdf:0:103](strlschg_en_bf.pdf:0:103))."
      ],
      "text/plain": [
       "<IPython.core.display.Markdown object>"
      ]
     },
     "metadata": {},
     "output_type": "display_data"
    },
    {
     "name": "stdout",
     "output_type": "stream",
     "text": [
      "Time taken: 8.00 seconds\n",
      "________________________________\n"
     ]
    },
    {
     "data": {
      "text/markdown": [
       "#LLM: mistrallite"
      ],
      "text/plain": [
       "<IPython.core.display.Markdown object>"
      ]
     },
     "metadata": {},
     "output_type": "display_data"
    },
    {
     "data": {
      "text/markdown": [
       "Methods of recovery and disposal laid down by a statutory ordinance in accordance with the second sentence are complied with in their disposal or recovery. the federal government is herewith empowered to issue a statutory ordinance, with the consent of the bundesrat, es­ tablishing the monitoring limits and methods of recovery and disposal to apply to residues. 3 residues accumulated may not be mixed or diluted prior to their intended disposal or recovery in order to satisfy the monitoring limits in accordance with subsection 2."
      ],
      "text/plain": [
       "<IPython.core.display.Markdown object>"
      ]
     },
     "metadata": {},
     "output_type": "display_data"
    },
    {
     "name": "stdout",
     "output_type": "stream",
     "text": [
      "Time taken: 4.37 seconds\n",
      "________________________________\n"
     ]
    },
    {
     "data": {
      "text/markdown": [
       "#LLM: deepseek-r1:70b"
      ],
      "text/plain": [
       "<IPython.core.display.Markdown object>"
      ]
     },
     "metadata": {},
     "output_type": "display_data"
    },
    {
     "data": {
      "text/markdown": [
       "The statutory ordinance governs the recovery and disposal of residues, requiring compliance with specified methods and prohibiting mixing or dilution prior to disposal [Document Name](strlschg_en_bf.pdf:0:102). Residues subject to monitoring must be stored securely and declared to authorities; crossborder transportation into Germany for disposal is prohibited under Section 71 [Document Name](strlschg_en_bf.pdf:0:102).\n",
       "\n",
       "Parties responsible must notify authorities about intended recovery or disposal, detailing residue characteristics. Authorities may grant exemptions if protection measures ensure public safety and worker exposure limits are met [Document Name](strlschg_en_bf.pdf:0:103). Public protection criteria mandate an effective dose limit of 1 mSv per year without additional measures [Document Name](strlschg_en_bf.pdf:0:103).\n",
       "\n",
       "Release from monitoring requires written notice, ensuring compliance with waste laws and safe disposal methods."
      ],
      "text/plain": [
       "<IPython.core.display.Markdown object>"
      ]
     },
     "metadata": {},
     "output_type": "display_data"
    },
    {
     "name": "stdout",
     "output_type": "stream",
     "text": [
      "Time taken: 48.81 seconds\n",
      "________________________________\n"
     ]
    },
    {
     "data": {
      "text/markdown": [
       "#LLM: qwq"
      ],
      "text/plain": [
       "<IPython.core.display.Markdown object>"
      ]
     },
     "metadata": {},
     "output_type": "display_data"
    },
    {
     "data": {
      "text/markdown": [
       "The statutory ordinance under Section 61 requires compliance with recovery and disposal methods for residues, including monitoring limits established by the federal government with Bundesrat consent [strlschg_en_bf.pdf:102]. Residues may not be mixed or diluted to meet these limits, and storage must be declared to authorities; cross-border transportation into Germany for disposal is prohibited [strlschg_en_bf.pdf:102]. Operators must secure residues against unauthorized access and transfer them only for approved recovery/disposal purposes [strlschg_en_bf.pdf:102]. Non-monitored residues may still require proof of compliance with specified procedures, including measurement protocols for specific activity [strlschg_en_bf.pdf:102].  \n",
       "\n",
       "Under Section 62, operators must declare monitored residues to authorities, specifying their nature, mass, and activity unless exempt via Section 63 notifications [strlschg_en_bf.pdf:103]. Authorities may release residues from monitoring if disposal/recovery ensures public exposure ≤1 mSv/year (effective dose), occupational worker doses within legal limits, and compliance with waste law requirements. Releases are confirmed in writing [strlschg_en_bf.pdf:103]. Public protection criteria prioritize avoiding additional measures beyond inherent safety of the disposal method [strlschg_en_bf.pdf:103]."
      ],
      "text/plain": [
       "<IPython.core.display.Markdown object>"
      ]
     },
     "metadata": {},
     "output_type": "display_data"
    },
    {
     "name": "stdout",
     "output_type": "stream",
     "text": [
      "Time taken: 28.90 seconds\n",
      "________________________________\n"
     ]
    },
    {
     "data": {
      "text/markdown": [
       "#LLM: gemma3:27b"
      ],
      "text/plain": [
       "<IPython.core.display.Markdown object>"
      ]
     },
     "metadata": {},
     "output_type": "display_data"
    },
    {
     "data": {
      "text/markdown": [
       "Methods of recovery and disposal laid down by a statutory ordinance must be complied with when disposing of or recovering residues [strlschg_en_bf.pdf](strlschg_en_bf.pdf). The federal government is empowered to issue a statutory ordinance, with the consent of the Bundesrat, establishing monitoring limits and methods for residue recovery and disposal [strlschg_en_bf.pdf](strlschg_en_bf.pdf). Residues accumulated may not be mixed or diluted before disposal or recovery to meet monitoring limits [strlschg_en_bf.pdf](strlschg_en_bf.pdf); this also applies to residues from abroad brought into Germany for recovery [strlschg_en_bf.pdf](strlschg_en_bf.pdf). If residues requiring monitoring are stored on-site, the responsible party must declare this to the competent authority, and inform them when storage ceases [strlschg_en_bf.pdf](strlschg_en_bf.pdf). For residues not subject to monitoring requirements, the competent authority may still require proof of compliance with recovery and disposal methods [strlschg_en_bf.pdf](strlschg_en_bf.pdf).\n",
       "\n",
       "The responsible party must secure residues against loss and unauthorized access before disposal or recovery, and may only pass them on to other parties for these purposes [strlschg_en_bf.pdf](strlschg_en_bf.pdf). Cross-border transportation of residues into Germany for disposal is prohibited [strlschg_en_bf.pdf](strlschg_en_bf.pdf). The party obligated under section 61 subsection 1 must declare the intended recovery or disposal of monitored residues to the competent authority, stating their nature, mass, and specific activity [strlschg_en_bf.pdf](strlschg_en_bf.pdf). A declaration may be waived if notification is made under section 63 subsection 1 [strlschg_en_bf.pdf](strlschg_en_bf.pdf). \n",
       "\n",
       "The competent authority may release monitored residues from monitoring for specific recovery or disposal if population protection is ensured, occupational worker body doses are within acceptable limits, and there are no objections under waste management law [strlschg_en_bf.pdf](strlschg_en_bf.pdf). Release is confirmed in writing [strlschg_en_bf.pdf](strlschg_en_bf.pdf). The criteria for public protection is an effective dose of 1 mSv in a given calendar year [strlschg_en_bf.pdf](strlschg_en_bf.pdf)."
      ],
      "text/plain": [
       "<IPython.core.display.Markdown object>"
      ]
     },
     "metadata": {},
     "output_type": "display_data"
    },
    {
     "name": "stdout",
     "output_type": "stream",
     "text": [
      "Time taken: 22.60 seconds\n",
      "________________________________\n"
     ]
    },
    {
     "data": {
      "text/markdown": [
       "#LLM: llama3.3"
      ],
      "text/plain": [
       "<IPython.core.display.Markdown object>"
      ]
     },
     "metadata": {},
     "output_type": "display_data"
    },
    {
     "data": {
      "text/markdown": [
       "The federal government is empowered to issue a statutory ordinance, with the consent of the Bundesrat, establishing monitoring limits and methods of recovery and disposal for residues [strlschg_en_bf.pdf](strlschg_en_bf.pdf:0:102). Residues accumulated may not be mixed or diluted prior to disposal or recovery to satisfy monitoring limits [strlschg_en_bf.pdf](strlschg_en_bf.pdf:0:102). The party subject to an obligation must declare storage of residues to the competent authority and inform them if storage ceases [strlschg_en_bf.pdf](strlschg_en_bf.pdf:0:102). The competent authority may require proof of compliance with monitoring limits and methods of recovery and disposal for residues not subject to a monitoring requirement [strlschg_en_bf.pdf](strlschg_en_bf.pdf:0:102). Residues must be secured against loss and unauthorized access prior to disposal or recovery [strlschg_en_bf.pdf](strlschg_en_bf.pdf:0:102). Cross-border transportation of residues into Germany for disposal is prohibited [strlschg_en_bf.pdf](strlschg_en_bf.pdf:0:102). The party under an obligation must declare intended recovery or disposal of residues to the competent authority, stating their nature, mass, and specific activity [strlschg_en_bf.pdf](strlschg_en_bf.pdf:0:103). The competent authority may release residues from monitoring for a particular recovery or disposal if certain conditions are met, including ensuring requisite protection of the population against exposure [strlschg_en_bf.pdf](strlschg_en_bf.pdf:0:103). The criteria for protecting the public include an effective dose of 1 mSv in a given calendar year [strlschg_en_bf.pdf](strlschg_en_bf.pdf:0:103)."
      ],
      "text/plain": [
       "<IPython.core.display.Markdown object>"
      ]
     },
     "metadata": {},
     "output_type": "display_data"
    },
    {
     "name": "stdout",
     "output_type": "stream",
     "text": [
      "Time taken: 46.87 seconds\n",
      "________________________________\n"
     ]
    },
    {
     "data": {
      "text/markdown": [
       "#LLM: mistral-small"
      ],
      "text/plain": [
       "<IPython.core.display.Markdown object>"
      ]
     },
     "metadata": {},
     "output_type": "display_data"
    },
    {
     "data": {
      "text/markdown": [
       "The German statutory ordinance outlines specific methods for the recovery and disposal of residues, emphasizing compliance with monitoring limits and procedures. The federal government is authorized to issue regulations regarding these limits and methods, with the consent of the Bundesrat. Residues must not be mixed or diluted before disposal or recovery to meet monitoring limits. Storage of monitored residues on operational premises requires declaration to competent authorities, who must also be notified if storage ceases. For non-monitored residues, authorities can require proof of compliance with monitoring limits and methods. Residues must be secured against loss and unauthorized access until disposal or recovery, and cross-border transportation of residues into Germany for disposal is prohibited [strlschg_en_bf.pdf](strlschg_en_bf.pdf:0:102).\n",
       "\n",
       "The ordinance also addresses the release of residues from monitoring. Parties obligated under Section 61 must declare the intended recovery or disposal of monitored residues to competent authorities, specifying their nature, mass, and specific activity. This declaration can be waived if notification is made under Section 63 due to the nature and specific activity of the residues. Competent authorities can release residues from monitoring for specific recovery or disposal purposes if certain conditions are met, including ensuring public protection and compliance with occupational exposure levels. The criteria for public protection involve maintaining an effective dose of no more than 1 mSv per calendar year [strlschg_en_bf.pdf](strlschg_en_bf.pdf:0:103)."
      ],
      "text/plain": [
       "<IPython.core.display.Markdown object>"
      ]
     },
     "metadata": {},
     "output_type": "display_data"
    },
    {
     "name": "stdout",
     "output_type": "stream",
     "text": [
      "Time taken: 11.11 seconds\n",
      "________________________________\n"
     ]
    },
    {
     "data": {
      "text/markdown": [
       "#LLM: mistral-nemo"
      ],
      "text/plain": [
       "<IPython.core.display.Markdown object>"
      ]
     },
     "metadata": {},
     "output_type": "display_data"
    },
    {
     "data": {
      "text/markdown": [
       "**Summary:**\n",
       "\n",
       "- **Residue Disposal and Recovery:**\n",
       "  - Compliance with methods of recovery and disposal as per statutory ordinance is mandatory.\n",
       "  - Residues cannot be mixed or diluted before disposal to meet monitoring limits.\n",
       "  - First sentence also applies to residues brought into Germany from abroad for recovery.\n",
       "\n",
       "- **Competent Authority Notification:**\n",
       "  - Storage of monitored residues must be declared to the competent authority.\n",
       "  - For non-monitored residues, compliance with methods may be required by competent authority.\n",
       "  - Cross-border transportation of residues into Germany is prohibited.\n",
       "\n",
       "- **Residue Security and Transfer:**\n",
       "  - Residues must be secured against loss and unauthorized access before disposal or recovery.\n",
       "  - Transfer to another party for disposal/recovery purposes only allowed.\n",
       "\n",
       "**Sources:**\n",
       "[strlschg_en_bf.pdf](strlschg_en_bf.pdf)"
      ],
      "text/plain": [
       "<IPython.core.display.Markdown object>"
      ]
     },
     "metadata": {},
     "output_type": "display_data"
    },
    {
     "name": "stdout",
     "output_type": "stream",
     "text": [
      "Time taken: 6.22 seconds\n",
      "________________________________\n"
     ]
    }
   ],
   "source": [
    "import time\n",
    "models = [\"deepseek-r1:1.5b\",\"deepseek-r1:latest\", \"llama3.1:8b-instruct-q4_0\", \"llama3.2\", \"gemma3:4b\", \"phi4-mini\", \"mistral:instruct\", \"mistrallite\"]\n",
    "models += [\"deepseek-r1:70b\", \"qwq\", \"gemma3:27b\", \"llama3.3\", \"mistral-small\", \"mistral-nemo\"]\n",
    "\n",
    "for model in models:\n",
    "    start_time = time.time()\n",
    "    summary = source_summarizer(tr,model)\n",
    "    elapsed_time = time.time() - start_time\n",
    "    display(Markdown(f'#LLM: {model}'))\n",
    "    display(Markdown(summary['content']))\n",
    "    print(f'Time taken: {elapsed_time:.2f} seconds')\n",
    "    print('________________________________')"
   ]
  },
  {
   "cell_type": "code",
   "execution_count": 15,
   "metadata": {},
   "outputs": [],
   "source": [
    "from langchain_community.llms import Ollama\n",
    "from langchain_core.messages import SystemMessage, HumanMessage\n",
    "import re\n",
    "\n",
    "def source_summarizer_Ollama(context_documents, llm_model=\"deepseek-r1\"):\n",
    "    system_message = SUMMARIZER_SYSTEM_PROMPT\n",
    "\n",
    "    formatted_context = \"\\n\".join(\n",
    "        f\"Content: {doc['content']}\\nSource: {doc['metadata']['name']}\\nPath: {doc['metadata']['path']}\"\n",
    "        for doc in context_documents\n",
    "    )\n",
    "\n",
    "    prompt = f\"\"\"\n",
    "    Here are the documents to summarize:\n",
    "    \n",
    "    {formatted_context}\n",
    "    \n",
    "    Provide a concise summary with proper citations:\n",
    "    \"\"\"\n",
    "    \n",
    "    # Initialize ChatOllama with the specified model and temperature\n",
    "    llm = Ollama(model=llm_model, temperature=0.1, repeat_penalty=1.2) \n",
    "    # For RAG systems like your summarizer, consider:\n",
    "    #    Using lower temperatures (0.1-0.3) for factual accuracy\n",
    "    #   Combining with repeat_penalty=1.1-1.3 to avoid redundant content\n",
    "    #   Monitoring token usage with num_ctx for long documents\n",
    "    \n",
    "    # Format messages for LangChain\n",
    "    messages = [\n",
    "        SystemMessage(content=system_message),\n",
    "        HumanMessage(content=prompt)\n",
    "    ]\n",
    "    \n",
    "    # Get response from the model\n",
    "    response = llm.invoke(messages)\n",
    "    \n",
    "    # Extract content from response\n",
    "    response_content = response\n",
    "    \n",
    "    # Clean markdown formatting if present\n",
    "    try:\n",
    "        final_content = re.sub(r\"<think>.*?</think>\", \"\", response_content, flags=re.DOTALL).strip()\n",
    "    except:\n",
    "        final_content = response_content.strip()\n",
    "\n",
    "    # Extract metadata from all documents\n",
    "    document_names = [doc['metadata']['name'] for doc in context_documents]\n",
    "    document_paths = [doc['metadata']['path'] for doc in context_documents]\n",
    "\n",
    "    return {\n",
    "        \"content\": final_content,\n",
    "        \"metadata\": {\n",
    "            \"name\": document_names,\n",
    "            \"path\": document_paths\n",
    "        }\n",
    "    }\n"
   ]
  },
  {
   "cell_type": "code",
   "execution_count": 16,
   "metadata": {},
   "outputs": [
    {
     "name": "stderr",
     "output_type": "stream",
     "text": [
      "/tmp/ipykernel_1488755/2226840946.py:22: LangChainDeprecationWarning: The class `Ollama` was deprecated in LangChain 0.3.1 and will be removed in 1.0.0. An updated version of the class exists in the :class:`~langchain-ollama package and should be used instead. To use it run `pip install -U :class:`~langchain-ollama` and import as `from :class:`~langchain_ollama import OllamaLLM``.\n",
      "  llm = Ollama(model=llm_model, temperature=0.1, repeat_penalty=1.2)\n"
     ]
    },
    {
     "data": {
      "text/markdown": [
       "#LLM: deepseek-r1:1.5b"
      ],
      "text/plain": [
       "<IPython.core.display.Markdown object>"
      ]
     },
     "metadata": {},
     "output_type": "display_data"
    },
    {
     "data": {
      "text/markdown": [
       "**Summary of Document:**\n",
       "\n",
       "The document outlines regulations regarding residue transportation and monitoring in Germany under a statutory ordinance. The federal government is empowered by subsection 2 to issue an ordinance, establishing limits on storage or mixing residues before disposal (Subsections 1-7). Subsection 62 discusses releasing residues from monitoring obligations when necessary.\n",
       "\n",
       "**Citations:**\n",
       "\n",
       "- [Document Name](strlschg_en_bf.pdf) at path strlschg_en_bf.pdf  \n",
       "- [Document Name](strlschg_en_bf.pdf) at path strlschg_en_bf.pdf  \n",
       "\n",
       "The document emphasizes compliance with monitoring requirements, requiring procedural documentation and measurement procedures when residues are not monitored. It also addresses the release of residues from monitoring obligations under specific criteria related to public protection measures (Subsections 1-3)."
      ],
      "text/plain": [
       "<IPython.core.display.Markdown object>"
      ]
     },
     "metadata": {},
     "output_type": "display_data"
    },
    {
     "name": "stdout",
     "output_type": "stream",
     "text": [
      "Time taken: 3.38 seconds\n",
      "________________________________\n"
     ]
    },
    {
     "data": {
      "text/markdown": [
       "#LLM: deepseek-r1:latest"
      ],
      "text/plain": [
       "<IPython.core.display.Markdown object>"
      ]
     },
     "metadata": {},
     "output_type": "display_data"
    },
    {
     "data": {
      "text/markdown": [
       "The German statutory ordinance outlines procedures for residue recovery and disposal under monitoring limits (Section 61). Residues accumulated abroad must be brought into Germany, subject to similar monitoring requirements. Storage on premises is mandatory unless the authority requests otherwise.\n",
       "\n",
       "Cross-border transportation of residues into Germany is prohibited without meeting population protection standards or exceeding body dose limits set by occupational exposure regulations. Release from monitoring obligations can occur if these conditions are met and compliance with waste methods isn't an issue (Section 62). Such releases must be communicated in writing to avoid legal complications regarding future disposal.\n",
       "\n",
       "Citations:\n",
       "- Monitoring requirements for residues: [strlschg_en_bf.pdf:0:102](https://example.com)\n",
       "- Release criteria from monitoring obligation: [strlschg_en_bf.pdf:0:103](https://example.com)"
      ],
      "text/plain": [
       "<IPython.core.display.Markdown object>"
      ]
     },
     "metadata": {},
     "output_type": "display_data"
    },
    {
     "name": "stdout",
     "output_type": "stream",
     "text": [
      "Time taken: 6.84 seconds\n",
      "________________________________\n"
     ]
    },
    {
     "data": {
      "text/markdown": [
       "#LLM: llama3.1:8b-instruct-q4_0"
      ],
      "text/plain": [
       "<IPython.core.display.Markdown object>"
      ]
     },
     "metadata": {},
     "output_type": "display_data"
    },
    {
     "data": {
      "text/markdown": [
       "Residues requiring monitoring must be disposed or recovered in accordance with statutory ordinances, as per the second sentence of Section 61 [strlschg_en_bf.pdf](path:strlschg_en_bf.pdf:0:102). The federal government is empowered to issue a statutory ordinance establishing monitoring limits and methods for residues.\n",
       "\n",
       "Residues accumulated on-site must not be mixed or diluted prior to disposal or recovery, as per the first sentence of Section 61 [strlschg_en_bf.pdf](path:strlschg_en_bf.pdf:0:102). The party subject to an obligation in accordance with Section 61 subsection 1 must declare storage and notify cessation thereof without undue delay.\n",
       "\n",
       "For residues not requiring monitoring, compliance may be required by the competent authority through technical procedures, measurement procedures, or other requirements [strlschg_en_bf.pdf](path:strlschg_en_bf.pdf:0:103). The party subject to an obligation in accordance with Section 61 subsection 1 must secure residues against loss and unauthorized access prior to disposal or recovery.\n",
       "\n",
       "Cross-border transportation of residues into Germany for their disposal is prohibited, as per the first sentence of Section 71 [strlschg_en_bf.pdf](path:strlschg_en_bf.pdf:0:102). The party under an obligation in accordance with Section 61 subsection 1 must declare intended recovery or disposal to the competent authority without undue delay.\n",
       "\n",
       "Release from monitoring may be granted by the competent authority for residues requiring monitoring, provided certain conditions are met [strlschg_en_bf.pdf](path:strlschg_en_bf.pdf:0:103). The criteria for public protection include an effective dose of 1 mSv in a given calendar year."
      ],
      "text/plain": [
       "<IPython.core.display.Markdown object>"
      ]
     },
     "metadata": {},
     "output_type": "display_data"
    },
    {
     "name": "stdout",
     "output_type": "stream",
     "text": [
      "Time taken: 5.12 seconds\n",
      "________________________________\n"
     ]
    },
    {
     "data": {
      "text/markdown": [
       "#LLM: llama3.2"
      ],
      "text/plain": [
       "<IPython.core.display.Markdown object>"
      ]
     },
     "metadata": {},
     "output_type": "display_data"
    },
    {
     "data": {
      "text/markdown": [
       "The German Federal Ordinance on the Release from Monitoring Obligations for Residues (strlschg_en_bf.pdf) establishes guidelines for the recovery and disposal of residues. According to Section 61, subsection 1, first sentence [Document Name](document_path), a party subject to an obligation must declare their intention to recover or dispose of residues to the competent authority without undue delay.\n",
       "\n",
       "The declaration must include information on the nature, mass, and specific activity of the residues (Section 62, subsection 2) [Source: strlschg_en_bf.pdf:0:103]. The competent authority may release residues from monitoring for a particular recovery or disposal if certain conditions are met, including ensuring public protection against exposure, preventing occupational worker doses exceeding categorization levels, and complying with relevant waste laws (Section 62, subsections 1-3) [Source: strlschg_en_bf.pdf:0:103].\n",
       "\n",
       "The criteria for protecting the public include an effective dose of no more than 1 mSv in a given calendar year without additional measures (Section 62, subsection 2) [Source: strlschg_en_bf.pdf:0:104]. The party subject to an obligation must secure residues against loss and unauthorized access prior to disposal or recovery.\n",
       "\n",
       "Cross-border transportation of residues into Germany for disposal is prohibited under Section 71 [Source: strlschg_en_bf.pdf:0:102].\n",
       "\n",
       "In summary, the German Federal Ordinance on Release from Monitoring Obligations for Residues establishes guidelines for residue declaration, release from monitoring obligations, and ensures public protection against exposure."
      ],
      "text/plain": [
       "<IPython.core.display.Markdown object>"
      ]
     },
     "metadata": {},
     "output_type": "display_data"
    },
    {
     "name": "stdout",
     "output_type": "stream",
     "text": [
      "Time taken: 3.40 seconds\n",
      "________________________________\n"
     ]
    },
    {
     "data": {
      "text/markdown": [
       "#LLM: gemma3:4b"
      ],
      "text/plain": [
       "<IPython.core.display.Markdown object>"
      ]
     },
     "metadata": {},
     "output_type": "display_data"
    },
    {
     "data": {
      "text/markdown": [
       "Disposal or recovery of residues must comply with a statutory ordinance [strlschg_en_bf.pdf:0:102] established with the consent of the Bundesrat, which includes monitoring limits and methods [strlschg_en_bf.pdf:0:102]. A maximum of three residues may not be mixed or diluted [strlschg_en_bf.pdf:0:102] prior to disposal or recovery [strlschg_en_bf.pdf:0:102]. Residues accumulated abroad and brought into Germany for recovery [strlschg_en_bf.pdf:0:102] must also comply with these regulations [strlschg_en_bf.pdf:0:102]. Parties subject to an obligation [strlschg_en_bf.pdf:0:102] must declare the storage of residues to the competent authority [strlschg_en_bf.pdf:0:103], stating their nature, mass, and specific activity [strlschg_en_bf.pdf:0:103]. The competent authority may release residues from monitoring if measures ensure population protection [strlschg_en_bf.pdf:0:103], occupational worker doses do not exceed specified levels [strlschg_en_bf.pdf:0:103], and the recovery or disposal method complies with waste law [strlschg_en_bf.pdf:0:103]."
      ],
      "text/plain": [
       "<IPython.core.display.Markdown object>"
      ]
     },
     "metadata": {},
     "output_type": "display_data"
    },
    {
     "name": "stdout",
     "output_type": "stream",
     "text": [
      "Time taken: 5.72 seconds\n",
      "________________________________\n"
     ]
    },
    {
     "data": {
      "text/markdown": [
       "#LLM: phi4-mini"
      ],
      "text/plain": [
       "<IPython.core.display.Markdown object>"
      ]
     },
     "metadata": {},
     "output_type": "display_data"
    },
    {
     "data": {
      "text/markdown": [
       "The documents outline regulations for the monitoring and disposal or recovery methods mandated by statutory ordinances. The federal government is authorized to issue such an ordinance, requiring consent from the Bundesrat (Federal Council), which establishes limits on residues' mixing before their intended use [Document 1](strlschg_en_bf.pdf:0). Residues accumulated abroad must adhere strictly when brought into Germany for recovery purposes; they cannot be mixed or diluted prior to disposal/recovery. Parties with obligations under these regulations are required by the competent authority, which should also receive immediate notification if storage of residues ceases [Document 1](strlschg_en_bf.pdf:0). For non-monitoring-required substances (residues), authorities can mandate proof that monitoring limits and recovery/disposal methods comply through ordinances. Technical procedures for measuring compliance must be established by the competent authority, including representative measurement values specific to activities involved in residue handling [Document 1](strlschg_en_bf.pdf:0). Parties are obliged not only with securing residues against loss or unauthorized access but also ensuring they can solely pass them on as part of disposal/recovery processes. Cross-border transportation into Germany for the purpose is prohibited, and parties under obligation must declare their recovery/disposal plans to authorities promptly [Document 1](strlschg_en_bf.pdf:0). The competent authority may release residues from monitoring requirements if certain conditions are met regarding public protection during residue handling; this includes ensuring no effective dose exceeds a specified limit for the general population or occupational workers, and that disposal/recovery methods comply with waste law regulations [Document 1](strlschg_en_bf.pdf:0). Release is effected through written notice. Public exposure constraints must ensure an ineffective dosage below set thresholds during residue handling processes without additional measures required to protect public health from potential radiation doses exceeding these limits (e.g., a dose of less than or equal to one milliSievert per year) [Document 1](strlschg_en_bf.pdf:0)."
      ],
      "text/plain": [
       "<IPython.core.display.Markdown object>"
      ]
     },
     "metadata": {},
     "output_type": "display_data"
    },
    {
     "name": "stdout",
     "output_type": "stream",
     "text": [
      "Time taken: 5.08 seconds\n",
      "________________________________\n"
     ]
    },
    {
     "data": {
      "text/markdown": [
       "#LLM: mistral:instruct"
      ],
      "text/plain": [
       "<IPython.core.display.Markdown object>"
      ]
     },
     "metadata": {},
     "output_type": "display_data"
    },
    {
     "data": {
      "text/markdown": [
       "The statutory ordinance outlines methods for the recovery and disposal of residues, which must comply with these regulations [strlschg_en_bf.pdf:0:102]. The federal government is empowered to issue an ordinance establishing monitoring limits and methods for these residues [strlschg_en_bf.pdf:0:102]. Residues accumulated may not be mixed or diluted prior to disposal or recovery to meet the monitoring limits [strlschg_en_bf.pdf:0:102]. The first sentence applies to residues brought into Germany for recovery, and those stored on operating premises must be declared to the competent authority [strlschg_en_bf.pdf:0:102].\n",
       "\n",
       "   For residues not subject to a monitoring requirement, the competent authority may require compliance with these regulations through technical procedures and measurement methods [strlschg_en_bf.pdf:0:103]. The party under an obligation must secure residues against loss and unauthorized access before disposal or recovery, and they can only be passed on for this purpose [strlschg_en_bf.pdf:0:102]. Cross-border transportation of residues into Germany for their disposal is prohibited [strlschg_en_bf.pdf:0:102].\n",
       "\n",
       "   The party under an obligation must declare the intended recovery or disposal of the residues to the competent authority without undue delay, stating their nature, mass and specific activity once they have established that said residues require monitoring [strlschg_en_bf.pdf:0:103]. Release from the monitoring obligation can be granted for a particular recovery or disposal under certain conditions [strlschg_en_bf.pdf:0:103]. The criteria for public protection are that, without additional measures, an effective dose of 1 msv in a given calendar year should not exceed the constraint for exposure of members of the public caused by disposal or recovery [strlschg_en_bf.pdf:0:103]."
      ],
      "text/plain": [
       "<IPython.core.display.Markdown object>"
      ]
     },
     "metadata": {},
     "output_type": "display_data"
    },
    {
     "name": "stdout",
     "output_type": "stream",
     "text": [
      "Time taken: 6.50 seconds\n",
      "________________________________\n"
     ]
    },
    {
     "data": {
      "text/markdown": [
       "#LLM: mistrallite"
      ],
      "text/plain": [
       "<IPython.core.display.Markdown object>"
      ]
     },
     "metadata": {},
     "output_type": "display_data"
    },
    {
     "data": {
      "text/markdown": [
       "Summary of the documents provided:\n",
       "\n",
       "    - The first document outlines methods for recovery and disposal in accordance with a statutory ordinance, as well as monitoring limits and methods. It also states that residues accumulated abroad must comply with these requirements if brought into Germany for recovery.\n",
       "\n",
       "    - The second document provides information on the storage of residues requiring monitoring, including declaration requirements to the competent authority and measures to secure them against loss or access by unauthorised parties prior to disposal or recovery. It also prohibits cross-border transportation of residues for their disposal.\n",
       "\n",
       "    - Section 62 empowers the federal government to issue ordinances regarding release from monitoring, with specific requirements outlined in subsection 1 and general provisions in subsection 2. The first sentence requires parties under an obligation in accordance with section 61 to declare intended recovery or disposal of residues requiring monitoring without undue delay, while subsequent sections outline criteria for the protection of public health during release from monitoring.\n",
       "    \n",
       "    Summary:\n",
       "\n",
       "    By unauthorised parties prior to their disposal or recovery, they may only be passed on to other party for the purpose of the disposal or re-covery. The cross-border transportation of residues into Germany for their disposal is herewith prohibited. Section 62 empowers the federal government to issue ordinances regarding release from monitoring, with specific requirements outlined in subsection 1 and general provisions in subsection 2."
      ],
      "text/plain": [
       "<IPython.core.display.Markdown object>"
      ]
     },
     "metadata": {},
     "output_type": "display_data"
    },
    {
     "name": "stdout",
     "output_type": "stream",
     "text": [
      "Time taken: 5.09 seconds\n",
      "________________________________\n"
     ]
    },
    {
     "data": {
      "text/markdown": [
       "#LLM: deepseek-r1:70b"
      ],
      "text/plain": [
       "<IPython.core.display.Markdown object>"
      ]
     },
     "metadata": {},
     "output_type": "display_data"
    },
    {
     "data": {
      "text/markdown": [
       "The documents outline regulations for residue disposal and monitoring in Germany [strlschg_en_bf.pdf:0:102](strlschg_en_bf.pdf). Compliance with statutory methods is mandatory; mixing or diluting residues to meet limits isn't allowed, including those from abroad. Storage must be declared and cessation reported promptly.\n",
       "\n",
       "Section 62 details releasing residues from monitoring. The responsible party must declare disposal/recovery intentions once monitoring is required [strlschg_en_bf.pdf:0:103](strlschg_en_bf.pdf). Exemptions apply under specific conditions. Release requires public protection (effective dose ≤1 mSv/year), worker exposure within limits, and adherence to waste laws.\n",
       "\n",
       "Each point properly cites the source document sections for accuracy."
      ],
      "text/plain": [
       "<IPython.core.display.Markdown object>"
      ]
     },
     "metadata": {},
     "output_type": "display_data"
    },
    {
     "name": "stdout",
     "output_type": "stream",
     "text": [
      "Time taken: 45.17 seconds\n",
      "________________________________\n"
     ]
    },
    {
     "data": {
      "text/markdown": [
       "#LLM: qwq"
      ],
      "text/plain": [
       "<IPython.core.display.Markdown object>"
      ]
     },
     "metadata": {},
     "output_type": "display_data"
    },
    {
     "data": {
      "text/markdown": [
       "The regulations mandate that residues must undergo disposal or recovery according to statutory methods **without prior mixing/dilution**, enforced through ordinances requiring federal government approval with Bundesrat consent [strlschg_en_bf.pdf](path). Storage of such substances necessitates declarations when exceeding thresholds, and unauthorized access is prohibited. Cross-border transport into Germany for disposal purposes is restricted under these rules [strlschg_en_bf.pdf](path).  \n",
       "\n",
       "Under Section 62, residues may be exempted from monitoring if facilities declare their nature, quantities, and handling details to authorities **[strlschg_en_bf.pdf](path)**. Release conditions include ensuring public exposure remains below an effective dose limit of **1 mSv/year**, occupational worker exposures stay within legal thresholds, and compliance with waste management laws is maintained [strlschg_en_bf.pdf](path)."
      ],
      "text/plain": [
       "<IPython.core.display.Markdown object>"
      ]
     },
     "metadata": {},
     "output_type": "display_data"
    },
    {
     "name": "stdout",
     "output_type": "stream",
     "text": [
      "Time taken: 58.46 seconds\n",
      "________________________________\n"
     ]
    },
    {
     "data": {
      "text/markdown": [
       "#LLM: gemma3:27b"
      ],
      "text/plain": [
       "<IPython.core.display.Markdown object>"
      ]
     },
     "metadata": {},
     "output_type": "display_data"
    },
    {
     "data": {
      "text/markdown": [
       "Methods of recovery and disposal laid down by a statutory ordinance must be complied with when disposing of or recovering residues [strlschg_en_bf.pdf](strlschg_en_bf.pdf:0:102). The federal government is empowered to issue a statutory ordinance, with the consent of the Bundesrat, establishing monitoring limits and methods for residue recovery and disposal [strlschg_en_bf.pdf](strlschg_en_bf.pdf:0:102). Residues accumulated may not be mixed or diluted before disposal or recovery to meet monitoring limits [strlschg_en_bf.pdf](strlschg_en_bf.pdf:0:102). This applies to residues accumulated abroad and brought into Germany for recovery [strlschg_en_bf.pdf](strlschg_en_bf.pdf:0:102). If residues requiring monitoring are stored on the operating premises of the obligated party, this storage must be declared to the competent authority, and cessation of storage must be reported without undue delay [strlschg_en_bf.pdf](strlschg_en_bf.pdf:0:102). For residues not subject to monitoring requirements, the competent authority may require proof of compliance with monitoring limits and recovery/disposal methods [strlschg_en_bf.pdf](strlschg_en_bf.pdf:0:102). The obligated party must secure residues against loss and unauthorized access before disposal or recovery, and may only pass them on to other parties for these purposes [strlschg_en_bf.pdf](strlschg_en_bf.pdf:0:102). Cross-border transportation of residues into Germany for disposal is prohibited [strlschg_en_bf.pdf](strlschg_en_bf.pdf:0:102).\n",
       "\n",
       "The party obligated under section 61 subsection 1, first sentence, must declare the intended recovery or disposal of residues to the competent authority, stating their nature, mass, and specific activity, once it is determined that monitoring is required [strlschg_en_bf.pdf](strlschg_en_bf.pdf:0:103). A declaration may be waived if notification is made under section 63 subsection 1 due to the nature and specific activity of the residues [strlschg_en_bf.pdf](strlschg_en_bf.pdf:0:103). The competent authority may release residues requiring monitoring from that obligation for a specific recovery or disposal if population protection is ensured, occupational worker body doses do not exceed permissible levels, and there are no objections under waste law [strlschg_en_bf.pdf](strlschg_en_bf.pdf:0:103). Release is effected via written notice [strlschg_en_bf.pdf](strlschg_en_bf.pdf:0:103). The criteria for public protection is an effective dose of 1 mSv in a given calendar year [strlschg_en_bf.pdf](strlschg_en_bf.pdf:0:103)."
      ],
      "text/plain": [
       "<IPython.core.display.Markdown object>"
      ]
     },
     "metadata": {},
     "output_type": "display_data"
    },
    {
     "name": "stdout",
     "output_type": "stream",
     "text": [
      "Time taken: 25.27 seconds\n",
      "________________________________\n"
     ]
    },
    {
     "data": {
      "text/markdown": [
       "#LLM: llama3.3"
      ],
      "text/plain": [
       "<IPython.core.display.Markdown object>"
      ]
     },
     "metadata": {},
     "output_type": "display_data"
    },
    {
     "data": {
      "text/markdown": [
       "The methods of recovery and disposal are laid down by a statutory ordinance in accordance with the second sentence, which must be complied with [strlschg_en_bf.pdf](strlschg_en_bf.pdf:0:102). The federal government is empowered to issue a statutory ordinance establishing monitoring limits and methods of recovery and disposal for residues [strlschg_en_bf.pdf](strlschg_en_bf.pdf:0:102). Residues accumulated may not be mixed or diluted prior to their intended disposal or recovery in order to satisfy the monitoring limits [strlschg_en_bf.pdf](strlschg_en_bf.pdf:0:102). If residues requiring monitoring are stored on operating premises, the party subject to an obligation must declare said storage to the competent authority and inform them without undue delay if such storage ceases [strlschg_en_bf.pdf](strlschg_en_bf.pdf:0:102). The cross-border transportation of residues into Germany for disposal is prohibited [strlschg_en_bf.pdf](strlschg_en_bf.pdf:0:102). A party under an obligation must declare the intended recovery or disposal of residues to the competent authority without undue delay, stating their nature, mass, and specific activity [strlschg_en_bf.pdf](strlschg_en_bf.pdf:0:103). The competent authority may release residues requiring monitoring from that monitoring for a particular recovery or disposal if certain conditions are met, including ensuring requisite protection of the population against exposure [strlschg_en_bf.pdf](strlschg_en_bf.pdf:0:103). The criteria for protecting the public include an effective dose of 1 mSv in a given calendar year as the constraint for exposure caused by disposal or recovery [strlschg_en_bf.pdf](strlschg_en_bf.pdf:0:103)."
      ],
      "text/plain": [
       "<IPython.core.display.Markdown object>"
      ]
     },
     "metadata": {},
     "output_type": "display_data"
    },
    {
     "name": "stdout",
     "output_type": "stream",
     "text": [
      "Time taken: 43.79 seconds\n",
      "________________________________\n"
     ]
    },
    {
     "data": {
      "text/markdown": [
       "#LLM: mistral-small"
      ],
      "text/plain": [
       "<IPython.core.display.Markdown object>"
      ]
     },
     "metadata": {},
     "output_type": "display_data"
    },
    {
     "data": {
      "text/markdown": [
       "The statutory ordinance mandates that residues must be disposed or recovered according to specified methods and monitoring limits, which the federal government can establish with the consent of the Bundesrat. Residues cannot be mixed or diluted before disposal to meet these limits [strlschg_en_bf.pdf](strlschg_en_bf.pdf:0:102). If stored on-site by an obligated party, storage must be declared to the competent authority and any cessation of storage reported promptly. For non-monitored residues, authorities may require proof of compliance with monitoring limits [strlschg_en_bf.pdf](strlschg_en_bf.pdf:0:102). Residues must be secured against loss or unauthorized access until disposal; they can only be transferred for this purpose and cross-border transport into Germany is prohibited. The party obligated under section 61, subsection 1, first sentence, must declare the intended recovery or disposal of monitored residues to authorities without delay [strlschg_en_bf.pdf](strlschg_en_bf.pdf:0:103). Authorities may release such residues from monitoring if specific conditions are met. The criteria for public protection include ensuring an effective dose not exceeding 1 mSv per calendar year due to disposal or recovery activities, even without additional measures [strlschg_en_bf.pdf](strlschg_en_bf.pdf:0:103)."
      ],
      "text/plain": [
       "<IPython.core.display.Markdown object>"
      ]
     },
     "metadata": {},
     "output_type": "display_data"
    },
    {
     "name": "stdout",
     "output_type": "stream",
     "text": [
      "Time taken: 15.02 seconds\n",
      "________________________________\n"
     ]
    },
    {
     "data": {
      "text/markdown": [
       "#LLM: mistral-nemo"
      ],
      "text/plain": [
       "<IPython.core.display.Markdown object>"
      ]
     },
     "metadata": {},
     "output_type": "display_data"
    },
    {
     "data": {
      "text/markdown": [
       "**Summary:**\n",
       "\n",
       "- The German Atomic Energy Act (AtG) outlines methods for recovery and disposal of radioactive residues, which must comply with statutory ordinances [strlschg_en_bf.pdf](strlschg_en_bf.pdf:0:102).\n",
       "- Residues cannot be mixed or diluted before disposal/recovery to meet monitoring limits. This applies to residues brought into Germany from abroad.\n",
       "- Parties responsible for radioactive substances must declare storage and cessation of storage to the competent authority without delay [strlschg_en_bf.pdf](strlschg_en_bf.pdf:0:102).\n",
       "- For non-monitored residues, authorities may require proof of compliance with monitoring limits. They can set technical procedures and measurement methods.\n",
       "- Residues must be secured against loss and unauthorized access before disposal/recovery [strlschg_en_bf.pdf](strlschg_en_bf.pdf:0:102).\n",
       "- Cross-border transportation of residues into Germany for disposal is prohibited.\n",
       "- Before recovery/disposal, the responsible party must declare residue details to authorities. A declaration can be waived if notification occurs under section 63 subsection 1 [strlschg_en_bf.pdf](strlschg_en_bf.pdf:0:103).\n",
       "- Authorities may release residues from monitoring for specific recovery/disposal methods upon request, with certain conditions met regarding population protection and waste law compliance.\n",
       "- The public exposure constraint is an effective dose of 1 mSv in a given calendar year [strlschg_en_bf.pdf](strlschg_en_bf.pdf:0:103)."
      ],
      "text/plain": [
       "<IPython.core.display.Markdown object>"
      ]
     },
     "metadata": {},
     "output_type": "display_data"
    },
    {
     "name": "stdout",
     "output_type": "stream",
     "text": [
      "Time taken: 8.41 seconds\n",
      "________________________________\n"
     ]
    }
   ],
   "source": [
    "for model in models:\n",
    "    start_time = time.time()\n",
    "    summary = source_summarizer_Ollama(tr,model)\n",
    "    elapsed_time = time.time() - start_time\n",
    "    display(Markdown(f'#LLM: {model}'))\n",
    "    display(Markdown(summary['content']))\n",
    "    print(f'Time taken: {elapsed_time:.2f} seconds')\n",
    "    print('________________________________')"
   ]
  },
  {
   "cell_type": "code",
   "execution_count": 17,
   "metadata": {},
   "outputs": [
    {
     "name": "stderr",
     "output_type": "stream",
     "text": [
      "Some weights of BertModel were not initialized from the model checkpoint at jinaai/jina-embeddings-v2-base-de and are newly initialized: ['embeddings.position_embeddings.weight', 'encoder.layer.0.intermediate.dense.bias', 'encoder.layer.0.intermediate.dense.weight', 'encoder.layer.0.output.LayerNorm.bias', 'encoder.layer.0.output.LayerNorm.weight', 'encoder.layer.0.output.dense.bias', 'encoder.layer.0.output.dense.weight', 'encoder.layer.1.intermediate.dense.bias', 'encoder.layer.1.intermediate.dense.weight', 'encoder.layer.1.output.LayerNorm.bias', 'encoder.layer.1.output.LayerNorm.weight', 'encoder.layer.1.output.dense.bias', 'encoder.layer.1.output.dense.weight', 'encoder.layer.10.intermediate.dense.bias', 'encoder.layer.10.intermediate.dense.weight', 'encoder.layer.10.output.LayerNorm.bias', 'encoder.layer.10.output.LayerNorm.weight', 'encoder.layer.10.output.dense.bias', 'encoder.layer.10.output.dense.weight', 'encoder.layer.11.intermediate.dense.bias', 'encoder.layer.11.intermediate.dense.weight', 'encoder.layer.11.output.LayerNorm.bias', 'encoder.layer.11.output.LayerNorm.weight', 'encoder.layer.11.output.dense.bias', 'encoder.layer.11.output.dense.weight', 'encoder.layer.2.intermediate.dense.bias', 'encoder.layer.2.intermediate.dense.weight', 'encoder.layer.2.output.LayerNorm.bias', 'encoder.layer.2.output.LayerNorm.weight', 'encoder.layer.2.output.dense.bias', 'encoder.layer.2.output.dense.weight', 'encoder.layer.3.intermediate.dense.bias', 'encoder.layer.3.intermediate.dense.weight', 'encoder.layer.3.output.LayerNorm.bias', 'encoder.layer.3.output.LayerNorm.weight', 'encoder.layer.3.output.dense.bias', 'encoder.layer.3.output.dense.weight', 'encoder.layer.4.intermediate.dense.bias', 'encoder.layer.4.intermediate.dense.weight', 'encoder.layer.4.output.LayerNorm.bias', 'encoder.layer.4.output.LayerNorm.weight', 'encoder.layer.4.output.dense.bias', 'encoder.layer.4.output.dense.weight', 'encoder.layer.5.intermediate.dense.bias', 'encoder.layer.5.intermediate.dense.weight', 'encoder.layer.5.output.LayerNorm.bias', 'encoder.layer.5.output.LayerNorm.weight', 'encoder.layer.5.output.dense.bias', 'encoder.layer.5.output.dense.weight', 'encoder.layer.6.intermediate.dense.bias', 'encoder.layer.6.intermediate.dense.weight', 'encoder.layer.6.output.LayerNorm.bias', 'encoder.layer.6.output.LayerNorm.weight', 'encoder.layer.6.output.dense.bias', 'encoder.layer.6.output.dense.weight', 'encoder.layer.7.intermediate.dense.bias', 'encoder.layer.7.intermediate.dense.weight', 'encoder.layer.7.output.LayerNorm.bias', 'encoder.layer.7.output.LayerNorm.weight', 'encoder.layer.7.output.dense.bias', 'encoder.layer.7.output.dense.weight', 'encoder.layer.8.intermediate.dense.bias', 'encoder.layer.8.intermediate.dense.weight', 'encoder.layer.8.output.LayerNorm.bias', 'encoder.layer.8.output.LayerNorm.weight', 'encoder.layer.8.output.dense.bias', 'encoder.layer.8.output.dense.weight', 'encoder.layer.9.intermediate.dense.bias', 'encoder.layer.9.intermediate.dense.weight', 'encoder.layer.9.output.LayerNorm.bias', 'encoder.layer.9.output.LayerNorm.weight', 'encoder.layer.9.output.dense.bias', 'encoder.layer.9.output.dense.weight']\n",
      "You should probably TRAIN this model on a down-stream task to be able to use it for predictions and inference.\n"
     ]
    },
    {
     "name": "stdout",
     "output_type": "stream",
     "text": [
      "-------------------------\n",
      "Using embedding model: jinaai/jina-embeddings-v2-base-de\n",
      "client=SentenceTransformer(\n",
      "  (0): Transformer({'max_seq_length': 8192, 'do_lower_case': False}) with Transformer model: BertModel \n",
      "  (1): Pooling({'word_embedding_dimension': 768, 'pooling_mode_cls_token': False, 'pooling_mode_mean_tokens': True, 'pooling_mode_max_tokens': False, 'pooling_mode_mean_sqrt_len_tokens': False, 'pooling_mode_weightedmean_tokens': False, 'pooling_mode_lasttoken': False, 'include_prompt': True})\n",
      "  (2): Normalize()\n",
      ") model_name='jinaai/jina-embeddings-v2-base-de' cache_folder=None model_kwargs={'device': 'cpu'} encode_kwargs={} multi_process=False show_progress=False\n",
      "-------------------------\n"
     ]
    },
    {
     "data": {
      "text/plain": [
       "HuggingFaceEmbeddings(client=SentenceTransformer(\n",
       "  (0): Transformer({'max_seq_length': 8192, 'do_lower_case': False}) with Transformer model: BertModel \n",
       "  (1): Pooling({'word_embedding_dimension': 768, 'pooling_mode_cls_token': False, 'pooling_mode_mean_tokens': True, 'pooling_mode_max_tokens': False, 'pooling_mode_mean_sqrt_len_tokens': False, 'pooling_mode_weightedmean_tokens': False, 'pooling_mode_lasttoken': False, 'include_prompt': True})\n",
       "  (2): Normalize()\n",
       "), model_name='jinaai/jina-embeddings-v2-base-de', cache_folder=None, model_kwargs={'device': 'cpu'}, encode_kwargs={}, multi_process=False, show_progress=False)"
      ]
     },
     "execution_count": 17,
     "metadata": {},
     "output_type": "execute_result"
    }
   ],
   "source": [
    "get_embedding_model()"
   ]
  },
  {
   "cell_type": "code",
   "execution_count": 18,
   "metadata": {},
   "outputs": [
    {
     "ename": "ModuleNotFoundError",
     "evalue": "No module named 'langchain_ollama'",
     "output_type": "error",
     "traceback": [
      "\u001b[31m---------------------------------------------------------------------------\u001b[39m",
      "\u001b[31mModuleNotFoundError\u001b[39m                       Traceback (most recent call last)",
      "\u001b[36mCell\u001b[39m\u001b[36m \u001b[39m\u001b[32mIn[18]\u001b[39m\u001b[32m, line 1\u001b[39m\n\u001b[32m----> \u001b[39m\u001b[32m1\u001b[39m \u001b[38;5;28;01mfrom\u001b[39;00m\u001b[38;5;250m \u001b[39m\u001b[34;01mlangchain_ollama\u001b[39;00m\u001b[38;5;250m \u001b[39m\u001b[38;5;28;01mimport\u001b[39;00m ChatOllama\n\u001b[32m      2\u001b[39m \u001b[38;5;28;01mfrom\u001b[39;00m\u001b[38;5;250m \u001b[39m\u001b[34;01mlangchain_core\u001b[39;00m\u001b[34;01m.\u001b[39;00m\u001b[34;01mmessages\u001b[39;00m\u001b[38;5;250m \u001b[39m\u001b[38;5;28;01mimport\u001b[39;00m SystemMessage, HumanMessage\n\u001b[32m      3\u001b[39m \u001b[38;5;28;01mimport\u001b[39;00m\u001b[38;5;250m \u001b[39m\u001b[34;01mre\u001b[39;00m\n",
      "\u001b[31mModuleNotFoundError\u001b[39m: No module named 'langchain_ollama'"
     ]
    }
   ],
   "source": [
    "from langchain_ollama import ChatOllama\n",
    "from langchain_core.messages import SystemMessage, HumanMessage\n",
    "import re\n",
    "\n",
    "def source_summarizer_ChatOllama(context_documents, llm_model=\"deepseek-r1\"):\n",
    "    system_message = SUMMARIZER_SYSTEM_PROMPT\n",
    "\n",
    "    formatted_context = \"\\n\".join(\n",
    "        f\"Content: {doc['content']}\\nSource: {doc['metadata']['name']}\\nPath: {doc['metadata']['path']}\"\n",
    "        for doc in context_documents\n",
    "    )\n",
    "\n",
    "    prompt = f\"\"\"\n",
    "    Here are the documents to summarize:\n",
    "    \n",
    "    {formatted_context}\n",
    "    \n",
    "    Provide a concise summary with proper citations:\n",
    "    \"\"\"\n",
    "    \n",
    "    # Initialize ChatOllama with the specified model and temperature\n",
    "    llm = ChatOllama(model=llm_model, temperature=0.1)\n",
    "    \n",
    "    # Format messages for LangChain\n",
    "    messages = [\n",
    "        SystemMessage(content=system_message),\n",
    "        HumanMessage(content=prompt)\n",
    "    ]\n",
    "    \n",
    "    # Get response from the model\n",
    "    response = llm.invoke(messages)\n",
    "    \n",
    "    # Extract content from response\n",
    "    response_content = response.content\n",
    "    \n",
    "    # Clean markdown formatting if present\n",
    "    try:\n",
    "        final_content = re.sub(r\"<think>.*?</think>\", \"\", response_content, flags=re.DOTALL).strip()\n",
    "    except:\n",
    "        final_content = response_content.strip()\n",
    "\n",
    "    # Extract metadata from all documents\n",
    "    document_names = [doc['metadata']['name'] for doc in context_documents]\n",
    "    document_paths = [doc['metadata']['path'] for doc in context_documents]\n",
    "\n",
    "    return {\n",
    "        \"content\": final_content,\n",
    "        \"metadata\": {\n",
    "            \"name\": document_names,\n",
    "            \"path\": document_paths\n",
    "        }\n",
    "    }\n"
   ]
  },
  {
   "cell_type": "code",
   "execution_count": null,
   "metadata": {},
   "outputs": [],
   "source": [
    "for model in models:\n",
    "    start_time = time.time()\n",
    "    summary = source_summarizer_ChatOllama(tr,model)\n",
    "    elapsed_time = time.time() - start_time\n",
    "    display(Markdown(f'#LLM: {model}'))\n",
    "    display(Markdown(summary['content']))\n",
    "    print(f'Time taken: {elapsed_time:.2f} seconds')\n",
    "    print('________________________________')"
   ]
  }
 ],
 "metadata": {
  "kernelspec": {
   "display_name": "lrrd-venv",
   "language": "python",
   "name": "python3"
  },
  "language_info": {
   "codemirror_mode": {
    "name": "ipython",
    "version": 3
   },
   "file_extension": ".py",
   "mimetype": "text/x-python",
   "name": "python",
   "nbconvert_exporter": "python",
   "pygments_lexer": "ipython3",
   "version": "3.12.3"
  }
 },
 "nbformat": 4,
 "nbformat_minor": 2
}
