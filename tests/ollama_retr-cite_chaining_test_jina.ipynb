{
 "cells": [
  {
   "cell_type": "code",
   "execution_count": 1,
   "metadata": {},
   "outputs": [],
   "source": [
    "import sys, os\n",
    "sys.path.append(os.path.abspath(os.path.join(os.getcwd(), '..')))\n",
    "\n",
    "from src.assistant.rag_helpers import similarity_search_for_tenant\n",
    "from src.assistant.vector_db import get_embedding_model"
   ]
  },
  {
   "cell_type": "code",
   "execution_count": 2,
   "metadata": {},
   "outputs": [
    {
     "name": "stderr",
     "output_type": "stream",
     "text": [
      "/tmp/ipykernel_1427484/1191460939.py:10: LangChainDeprecationWarning: The class `HuggingFaceEmbeddings` was deprecated in LangChain 0.2.2 and will be removed in 1.0. An updated version of the class exists in the :class:`~langchain-huggingface package and should be used instead. To use it run `pip install -U :class:`~langchain-huggingface` and import as `from :class:`~langchain_huggingface import HuggingFaceEmbeddings``.\n",
      "  embed_llm=HuggingFaceEmbeddings(model_name='jinaai/jina-embeddings-v2-base-de', model_kwargs={'device': 'cpu'}),\n",
      "/home/he/ai/dev/langgraph/local-rag-researcher-deepseek-he/lrrd-venv/lib/python3.12/site-packages/tqdm/auto.py:21: TqdmWarning: IProgress not found. Please update jupyter and ipywidgets. See https://ipywidgets.readthedocs.io/en/stable/user_install.html\n",
      "  from .autonotebook import tqdm as notebook_tqdm\n",
      "Some weights of BertModel were not initialized from the model checkpoint at jinaai/jina-embeddings-v2-base-de and are newly initialized: ['embeddings.position_embeddings.weight', 'encoder.layer.0.intermediate.dense.bias', 'encoder.layer.0.intermediate.dense.weight', 'encoder.layer.0.output.LayerNorm.bias', 'encoder.layer.0.output.LayerNorm.weight', 'encoder.layer.0.output.dense.bias', 'encoder.layer.0.output.dense.weight', 'encoder.layer.1.intermediate.dense.bias', 'encoder.layer.1.intermediate.dense.weight', 'encoder.layer.1.output.LayerNorm.bias', 'encoder.layer.1.output.LayerNorm.weight', 'encoder.layer.1.output.dense.bias', 'encoder.layer.1.output.dense.weight', 'encoder.layer.10.intermediate.dense.bias', 'encoder.layer.10.intermediate.dense.weight', 'encoder.layer.10.output.LayerNorm.bias', 'encoder.layer.10.output.LayerNorm.weight', 'encoder.layer.10.output.dense.bias', 'encoder.layer.10.output.dense.weight', 'encoder.layer.11.intermediate.dense.bias', 'encoder.layer.11.intermediate.dense.weight', 'encoder.layer.11.output.LayerNorm.bias', 'encoder.layer.11.output.LayerNorm.weight', 'encoder.layer.11.output.dense.bias', 'encoder.layer.11.output.dense.weight', 'encoder.layer.2.intermediate.dense.bias', 'encoder.layer.2.intermediate.dense.weight', 'encoder.layer.2.output.LayerNorm.bias', 'encoder.layer.2.output.LayerNorm.weight', 'encoder.layer.2.output.dense.bias', 'encoder.layer.2.output.dense.weight', 'encoder.layer.3.intermediate.dense.bias', 'encoder.layer.3.intermediate.dense.weight', 'encoder.layer.3.output.LayerNorm.bias', 'encoder.layer.3.output.LayerNorm.weight', 'encoder.layer.3.output.dense.bias', 'encoder.layer.3.output.dense.weight', 'encoder.layer.4.intermediate.dense.bias', 'encoder.layer.4.intermediate.dense.weight', 'encoder.layer.4.output.LayerNorm.bias', 'encoder.layer.4.output.LayerNorm.weight', 'encoder.layer.4.output.dense.bias', 'encoder.layer.4.output.dense.weight', 'encoder.layer.5.intermediate.dense.bias', 'encoder.layer.5.intermediate.dense.weight', 'encoder.layer.5.output.LayerNorm.bias', 'encoder.layer.5.output.LayerNorm.weight', 'encoder.layer.5.output.dense.bias', 'encoder.layer.5.output.dense.weight', 'encoder.layer.6.intermediate.dense.bias', 'encoder.layer.6.intermediate.dense.weight', 'encoder.layer.6.output.LayerNorm.bias', 'encoder.layer.6.output.LayerNorm.weight', 'encoder.layer.6.output.dense.bias', 'encoder.layer.6.output.dense.weight', 'encoder.layer.7.intermediate.dense.bias', 'encoder.layer.7.intermediate.dense.weight', 'encoder.layer.7.output.LayerNorm.bias', 'encoder.layer.7.output.LayerNorm.weight', 'encoder.layer.7.output.dense.bias', 'encoder.layer.7.output.dense.weight', 'encoder.layer.8.intermediate.dense.bias', 'encoder.layer.8.intermediate.dense.weight', 'encoder.layer.8.output.LayerNorm.bias', 'encoder.layer.8.output.LayerNorm.weight', 'encoder.layer.8.output.dense.bias', 'encoder.layer.8.output.dense.weight', 'encoder.layer.9.intermediate.dense.bias', 'encoder.layer.9.intermediate.dense.weight', 'encoder.layer.9.output.LayerNorm.bias', 'encoder.layer.9.output.LayerNorm.weight', 'encoder.layer.9.output.dense.bias', 'encoder.layer.9.output.dense.weight']\n",
      "You should probably TRAIN this model on a down-stream task to be able to use it for predictions and inference.\n",
      "/home/he/ai/dev/langgraph/local-rag-researcher-deepseek-he/src/assistant/rag_helpers.py:91: LangChainDeprecationWarning: The class `Chroma` was deprecated in LangChain 0.2.9 and will be removed in 1.0. An updated version of the class exists in the :class:`~langchain-chroma package and should be used instead. To use it run `pip install -U :class:`~langchain-chroma` and import as `from :class:`~langchain_chroma import Chroma``.\n",
      "  vectorstore = Chroma(\n",
      "BertSdpaSelfAttention is used but `torch.nn.functional.scaled_dot_product_attention` does not support non-absolute `position_embedding_type` or `output_attentions=True` or `head_mask`. Falling back to the manual attention implementation, but specifying the manual implementation will be required from Transformers version v5.0.0 onwards. This warning can be removed using the argument `attn_implementation=\"eager\"` when loading the model.\n"
     ]
    },
    {
     "name": "stdout",
     "output_type": "stream",
     "text": [
      "CUDA memory cache cleared\n",
      "CUDA memory cache cleared\n"
     ]
    },
    {
     "data": {
      "text/plain": [
       "[Document(metadata={'id': 'strlschg_en_bf.pdf:0:17', 'page': 0, 'path': 'files/strlschg_en_bf.pdf', 'source': 'strlschg_en_bf.pdf'}, page_content='or the activation thereof, may stipulate in what cases the activity or specific activity of a substance may not be disregarded. 3 for the application of licensing provisions in accordance with this act or with the statutory ordinances issued on the basis of this act, substances in which the proportion of isotopes uranium 233, uranium 235, plutonium 239 and plutonium 241 does not exceed 15 grams in total, or the concentration of the isotopes stated does not exceed 15 grams per 100 kilograms, are classified as other radioactive substances. the first sentence shall not apply to solidified highactivity fission product solutions derived from the reprocessing of nuclear fuel. 4 subsections 13 above shall not apply to substances that occur in connection with existing exposure situations and emergency exposure situations. 19 section 4 practices, types of practice 1 practices means 1. handling in accordance with section 5 subsection 39, 2. the acquisition of artificiallyproduced radioactive substances and of naturallyoccurring radioactive substances that, as on the basis of their radioactivity, are used as a nuclear fuel or to generate nuclear fuel, the transfer of such substances to others, their carriage and their crossborder transportation, 3. the custody of nuclear fuels in accordance with section 5 of the atomic energy act and the holding of nuclear fuels in accordance with section 6 of the atomic energy act, 4. the construction, operation, otherwise possession, decommissioning and safe enclosure of an installation, as well as the dismantling of an installation or parts thereof in accord\\xad ance with section 7 of the atomic energy act, 5. the treatment, processing and other utilisation of nuclear fuels in accordance with sec\\xad tion 9 of the atomic energy act, 6. the construction, operation and decommissioning of installations of the federation for the safekeeping and disposal of radioactive waste in accordance with section 9b of the atomic energy act, 7. the construction'),\n",
       " Document(metadata={'id': 'strlschg_en_bf.pdf:0:273', 'page': 0, 'path': 'files/strlschg_en_bf.pdf', 'source': 'strlschg_en_bf.pdf'}, page_content='the time when they were procured. 2 other products which comply with the requirements of annex iii, part a, no. 5, 6 or 7 of the radiation protection ordinance in the version of 30 june 1989, and which were acquired before 1 august 2001, may continue to be used, stored or disposed of without au\\xad thorisation. 181 annex 1 re section 5 subsection 32 residues in accordance with section 5 subsection 32 residues within the meaning of this act shall include the following materials: 1. sludge and deposits from the extraction, processing and preparation of crude oil and natural gas from deep geothermics 2. gravel, sand, resin and granular activated carbon from groundwater treatment 3. untreated phosphogypsum, sludge from its treatment and dust and slag from the pro\\xad cessing of rock phosphate phosphorite 4. leftover rock, sludge, sand, slag and dust a from the extraction and treatment of bauxite, columbite, pyrochlore, microlite, euxe\\xad nite, copper shale, tin, rare earth and uranium ores, b from further processing or concentrates and residues that occur in the extraction and treatment of these ores and minerals 5. materials that equate to the ores referred to in no. 4 and that occur in the extraction and treatment of other raw materials 6. dust and sludge from flue gas purification for primary smelting in pig iron and non ferrous metallurgy. residues within the meaning of this act shall also include 1. materials in accordance with the first sentence if these materials have been produced deliberately 2. shaped parts from the materials referred to in the first sentence, as well as 3. excavated or removed ground and rubble from the demolition of buildings or other struc\\xad tural installations, if this ground and rubble contains residues in accordance with the first sentence and is removed in accordance with section 64 after the cessation of activities, or from land in accordance with section 141. materials in accordance with the first sentence shall not constitute residues within')]"
      ]
     },
     "execution_count": 2,
     "metadata": {},
     "output_type": "execute_result"
    }
   ],
   "source": [
    "from langchain_community.embeddings import HuggingFaceEmbeddings\n",
    "\n",
    "# Test query\n",
    "test_query = \"how to release residues from regulatory control\"\n",
    "\n",
    "# Get results\n",
    "results = similarity_search_for_tenant(\n",
    "    tenant_id=\"default\",\n",
    "    #embed_llm=get_embedding_model().\n",
    "    embed_llm=HuggingFaceEmbeddings(model_name='jinaai/jina-embeddings-v2-base-de', model_kwargs={'device': 'cpu'}),\n",
    "    #embed_llm=HuggingFaceEmbeddings(model_name='sentence-transformers/all-mpnet-base-v2', model_kwargs={'device': 'cpu'}),\n",
    "    persist_directory=\"/home/he/ai/dev/langgraph/local-rag-researcher-deepseek-he/database/jinaai--jina-embeddings-v2-base-de\",\n",
    "    similarity=\"cosine\",\n",
    "    normal=True,\n",
    "    query=test_query\n",
    ")\n",
    "\n",
    "# Print results\n",
    "results"
   ]
  },
  {
   "cell_type": "code",
   "execution_count": 3,
   "metadata": {},
   "outputs": [
    {
     "name": "stderr",
     "output_type": "stream",
     "text": [
      "Some weights of BertModel were not initialized from the model checkpoint at jinaai/jina-embeddings-v2-base-de and are newly initialized: ['embeddings.position_embeddings.weight', 'encoder.layer.0.intermediate.dense.bias', 'encoder.layer.0.intermediate.dense.weight', 'encoder.layer.0.output.LayerNorm.bias', 'encoder.layer.0.output.LayerNorm.weight', 'encoder.layer.0.output.dense.bias', 'encoder.layer.0.output.dense.weight', 'encoder.layer.1.intermediate.dense.bias', 'encoder.layer.1.intermediate.dense.weight', 'encoder.layer.1.output.LayerNorm.bias', 'encoder.layer.1.output.LayerNorm.weight', 'encoder.layer.1.output.dense.bias', 'encoder.layer.1.output.dense.weight', 'encoder.layer.10.intermediate.dense.bias', 'encoder.layer.10.intermediate.dense.weight', 'encoder.layer.10.output.LayerNorm.bias', 'encoder.layer.10.output.LayerNorm.weight', 'encoder.layer.10.output.dense.bias', 'encoder.layer.10.output.dense.weight', 'encoder.layer.11.intermediate.dense.bias', 'encoder.layer.11.intermediate.dense.weight', 'encoder.layer.11.output.LayerNorm.bias', 'encoder.layer.11.output.LayerNorm.weight', 'encoder.layer.11.output.dense.bias', 'encoder.layer.11.output.dense.weight', 'encoder.layer.2.intermediate.dense.bias', 'encoder.layer.2.intermediate.dense.weight', 'encoder.layer.2.output.LayerNorm.bias', 'encoder.layer.2.output.LayerNorm.weight', 'encoder.layer.2.output.dense.bias', 'encoder.layer.2.output.dense.weight', 'encoder.layer.3.intermediate.dense.bias', 'encoder.layer.3.intermediate.dense.weight', 'encoder.layer.3.output.LayerNorm.bias', 'encoder.layer.3.output.LayerNorm.weight', 'encoder.layer.3.output.dense.bias', 'encoder.layer.3.output.dense.weight', 'encoder.layer.4.intermediate.dense.bias', 'encoder.layer.4.intermediate.dense.weight', 'encoder.layer.4.output.LayerNorm.bias', 'encoder.layer.4.output.LayerNorm.weight', 'encoder.layer.4.output.dense.bias', 'encoder.layer.4.output.dense.weight', 'encoder.layer.5.intermediate.dense.bias', 'encoder.layer.5.intermediate.dense.weight', 'encoder.layer.5.output.LayerNorm.bias', 'encoder.layer.5.output.LayerNorm.weight', 'encoder.layer.5.output.dense.bias', 'encoder.layer.5.output.dense.weight', 'encoder.layer.6.intermediate.dense.bias', 'encoder.layer.6.intermediate.dense.weight', 'encoder.layer.6.output.LayerNorm.bias', 'encoder.layer.6.output.LayerNorm.weight', 'encoder.layer.6.output.dense.bias', 'encoder.layer.6.output.dense.weight', 'encoder.layer.7.intermediate.dense.bias', 'encoder.layer.7.intermediate.dense.weight', 'encoder.layer.7.output.LayerNorm.bias', 'encoder.layer.7.output.LayerNorm.weight', 'encoder.layer.7.output.dense.bias', 'encoder.layer.7.output.dense.weight', 'encoder.layer.8.intermediate.dense.bias', 'encoder.layer.8.intermediate.dense.weight', 'encoder.layer.8.output.LayerNorm.bias', 'encoder.layer.8.output.LayerNorm.weight', 'encoder.layer.8.output.dense.bias', 'encoder.layer.8.output.dense.weight', 'encoder.layer.9.intermediate.dense.bias', 'encoder.layer.9.intermediate.dense.weight', 'encoder.layer.9.output.LayerNorm.bias', 'encoder.layer.9.output.LayerNorm.weight', 'encoder.layer.9.output.dense.bias', 'encoder.layer.9.output.dense.weight']\n",
      "You should probably TRAIN this model on a down-stream task to be able to use it for predictions and inference.\n"
     ]
    },
    {
     "name": "stdout",
     "output_type": "stream",
     "text": [
      "-------------------------\n",
      "Using embedding model: jinaai/jina-embeddings-v2-base-de\n",
      "client=SentenceTransformer(\n",
      "  (0): Transformer({'max_seq_length': 8192, 'do_lower_case': False}) with Transformer model: BertModel \n",
      "  (1): Pooling({'word_embedding_dimension': 768, 'pooling_mode_cls_token': False, 'pooling_mode_mean_tokens': True, 'pooling_mode_max_tokens': False, 'pooling_mode_mean_sqrt_len_tokens': False, 'pooling_mode_weightedmean_tokens': False, 'pooling_mode_lasttoken': False, 'include_prompt': True})\n",
      "  (2): Normalize()\n",
      ") model_name='jinaai/jina-embeddings-v2-base-de' cache_folder=None model_kwargs={'device': 'cpu'} encode_kwargs={} multi_process=False show_progress=False\n",
      "-------------------------\n"
     ]
    },
    {
     "data": {
      "text/plain": [
       "HuggingFaceEmbeddings(client=SentenceTransformer(\n",
       "  (0): Transformer({'max_seq_length': 8192, 'do_lower_case': False}) with Transformer model: BertModel \n",
       "  (1): Pooling({'word_embedding_dimension': 768, 'pooling_mode_cls_token': False, 'pooling_mode_mean_tokens': True, 'pooling_mode_max_tokens': False, 'pooling_mode_mean_sqrt_len_tokens': False, 'pooling_mode_weightedmean_tokens': False, 'pooling_mode_lasttoken': False, 'include_prompt': True})\n",
       "  (2): Normalize()\n",
       "), model_name='jinaai/jina-embeddings-v2-base-de', cache_folder=None, model_kwargs={'device': 'cpu'}, encode_kwargs={}, multi_process=False, show_progress=False)"
      ]
     },
     "execution_count": 3,
     "metadata": {},
     "output_type": "execute_result"
    }
   ],
   "source": [
    "get_embedding_model()"
   ]
  },
  {
   "cell_type": "code",
   "execution_count": 4,
   "metadata": {},
   "outputs": [],
   "source": [
    "#from langchain_community.embeddings import HuggingFaceEmbeddings\n",
    "#HuggingFaceEmbeddings(model_name='jinaai/jina-embeddings-v2-base-de', model_kwargs={'device': 'cpu'})"
   ]
  },
  {
   "cell_type": "code",
   "execution_count": 5,
   "metadata": {},
   "outputs": [
    {
     "name": "stdout",
     "output_type": "stream",
     "text": [
      "models--jinaai--jina-embeddings-v2-base-de\t  version.txt\n",
      "models--sentence-transformers--all-mpnet-base-v2\n"
     ]
    },
    {
     "name": "stderr",
     "output_type": "stream",
     "text": [
      "huggingface/tokenizers: The current process just got forked, after parallelism has already been used. Disabling parallelism to avoid deadlocks...\n",
      "To disable this warning, you can either:\n",
      "\t- Avoid using `tokenizers` before the fork if possible\n",
      "\t- Explicitly set the environment variable TOKENIZERS_PARALLELISM=(true | false)\n"
     ]
    }
   ],
   "source": [
    "!ls /home/he/.cache/huggingface/hub/"
   ]
  },
  {
   "cell_type": "code",
   "execution_count": 6,
   "metadata": {},
   "outputs": [],
   "source": [
    "#from langchain_community.embeddings import HuggingFaceEmbeddings\n",
    "#HuggingFaceEmbeddings(model_name='jinaai/jina-embeddings-v2-base-de', model_kwargs={'device': 'cpu'})"
   ]
  },
  {
   "cell_type": "code",
   "execution_count": 7,
   "metadata": {},
   "outputs": [],
   "source": [
    "def transform_documents(documents):\n",
    "    \"\"\"\n",
    "    Transforms a list of Document objects into a specific dictionary format.\n",
    "    \n",
    "    Args:\n",
    "        documents (list): List of Document objects with metadata and page_content\n",
    "        \n",
    "    Returns:\n",
    "        list: List of dictionaries with content and metadata in the required format\n",
    "    \"\"\"\n",
    "    samples = []\n",
    "    \n",
    "    for doc in documents:\n",
    "        transformed_doc = {\n",
    "            \"content\": doc.page_content,\n",
    "            \"metadata\": {\n",
    "                \"name\": doc.metadata['id'],\n",
    "                \"path\": doc.metadata['source']\n",
    "            }\n",
    "        }\n",
    "        samples.append(transformed_doc)\n",
    "    \n",
    "    return samples"
   ]
  },
  {
   "cell_type": "code",
   "execution_count": 8,
   "metadata": {},
   "outputs": [
    {
     "data": {
      "text/plain": [
       "[{'content': 'or the activation thereof, may stipulate in what cases the activity or specific activity of a substance may not be disregarded. 3 for the application of licensing provisions in accordance with this act or with the statutory ordinances issued on the basis of this act, substances in which the proportion of isotopes uranium 233, uranium 235, plutonium 239 and plutonium 241 does not exceed 15 grams in total, or the concentration of the isotopes stated does not exceed 15 grams per 100 kilograms, are classified as other radioactive substances. the first sentence shall not apply to solidified highactivity fission product solutions derived from the reprocessing of nuclear fuel. 4 subsections 13 above shall not apply to substances that occur in connection with existing exposure situations and emergency exposure situations. 19 section 4 practices, types of practice 1 practices means 1. handling in accordance with section 5 subsection 39, 2. the acquisition of artificiallyproduced radioactive substances and of naturallyoccurring radioactive substances that, as on the basis of their radioactivity, are used as a nuclear fuel or to generate nuclear fuel, the transfer of such substances to others, their carriage and their crossborder transportation, 3. the custody of nuclear fuels in accordance with section 5 of the atomic energy act and the holding of nuclear fuels in accordance with section 6 of the atomic energy act, 4. the construction, operation, otherwise possession, decommissioning and safe enclosure of an installation, as well as the dismantling of an installation or parts thereof in accord\\xad ance with section 7 of the atomic energy act, 5. the treatment, processing and other utilisation of nuclear fuels in accordance with sec\\xad tion 9 of the atomic energy act, 6. the construction, operation and decommissioning of installations of the federation for the safekeeping and disposal of radioactive waste in accordance with section 9b of the atomic energy act, 7. the construction',\n",
       "  'metadata': {'name': 'strlschg_en_bf.pdf:0:17',\n",
       "   'path': 'strlschg_en_bf.pdf'}},\n",
       " {'content': 'the time when they were procured. 2 other products which comply with the requirements of annex iii, part a, no. 5, 6 or 7 of the radiation protection ordinance in the version of 30 june 1989, and which were acquired before 1 august 2001, may continue to be used, stored or disposed of without au\\xad thorisation. 181 annex 1 re section 5 subsection 32 residues in accordance with section 5 subsection 32 residues within the meaning of this act shall include the following materials: 1. sludge and deposits from the extraction, processing and preparation of crude oil and natural gas from deep geothermics 2. gravel, sand, resin and granular activated carbon from groundwater treatment 3. untreated phosphogypsum, sludge from its treatment and dust and slag from the pro\\xad cessing of rock phosphate phosphorite 4. leftover rock, sludge, sand, slag and dust a from the extraction and treatment of bauxite, columbite, pyrochlore, microlite, euxe\\xad nite, copper shale, tin, rare earth and uranium ores, b from further processing or concentrates and residues that occur in the extraction and treatment of these ores and minerals 5. materials that equate to the ores referred to in no. 4 and that occur in the extraction and treatment of other raw materials 6. dust and sludge from flue gas purification for primary smelting in pig iron and non ferrous metallurgy. residues within the meaning of this act shall also include 1. materials in accordance with the first sentence if these materials have been produced deliberately 2. shaped parts from the materials referred to in the first sentence, as well as 3. excavated or removed ground and rubble from the demolition of buildings or other struc\\xad tural installations, if this ground and rubble contains residues in accordance with the first sentence and is removed in accordance with section 64 after the cessation of activities, or from land in accordance with section 141. materials in accordance with the first sentence shall not constitute residues within',\n",
       "  'metadata': {'name': 'strlschg_en_bf.pdf:0:273',\n",
       "   'path': 'strlschg_en_bf.pdf'}}]"
      ]
     },
     "execution_count": 8,
     "metadata": {},
     "output_type": "execute_result"
    }
   ],
   "source": [
    "tr=transform_documents(results)\n",
    "tr"
   ]
  },
  {
   "cell_type": "code",
   "execution_count": 9,
   "metadata": {},
   "outputs": [],
   "source": [
    "SUMMARIZER_SYSTEM_PROMPT = \"\"\"\n",
    "    You are an expert summarizer working within a RAG system. Your task is to create a comprehensive, accurate summary of the provided information while properly attributing all facts to their sources.\n",
    "\n",
    "    Guidelines:\n",
    "    - Create a clear, coherent summary using neutral and professional language\n",
    "    - Focus on the most important facts and insights\n",
    "    - Maintain factual accuracy without adding new information\n",
    "    - Maintain exact figures, data points, sections and paragraphs\n",
    "    - Cite EVERY piece of information using the format [Document Name](document_path)\n",
    "    - Place citations immediately after the relevant information\n",
    "    - Ensure each citation is correctly matched to its source\n",
    "    - Return only the plain text summary without any reliminary remarks and without markdown formatting\n",
    "\n",
    "    Important: The citation information [Document Name](document_path) is stored in a dict and provided within the 'metadata'\n",
    "    {{\n",
    "    \"content\": doc.page_content,\n",
    "    \"metadata\": {\n",
    "        \"name\": doc.metadata['id'],\n",
    "        \"path\": doc.metadata['source']\n",
    "    }}\n",
    "    \"\"\""
   ]
  },
  {
   "cell_type": "code",
   "execution_count": 10,
   "metadata": {},
   "outputs": [],
   "source": [
    "import ollama\n",
    "import re\n",
    "from IPython.display import Markdown, display"
   ]
  },
  {
   "cell_type": "code",
   "execution_count": 11,
   "metadata": {},
   "outputs": [],
   "source": [
    "def source_summarizer(context_documents, llm_model=\"deepseek-r1\"):\n",
    "    system_message = SUMMARIZER_SYSTEM_PROMPT\n",
    "\n",
    "    formatted_context = \"\\n\".join(\n",
    "        f\"Content: {doc['content']}\\nSource: {doc['metadata']['name']}\\nPath: {doc['metadata']['path']}\"\n",
    "        for doc in context_documents\n",
    "    )\n",
    "\n",
    "    prompt = f\"\"\"\n",
    "    Here are the documents to summarize:\n",
    "    \n",
    "    {formatted_context}\n",
    "    \n",
    "    Provide a concise summary with proper citations:\n",
    "    \"\"\"\n",
    "    \n",
    "    response = ollama.chat(\n",
    "        model=llm_model,\n",
    "        messages=[\n",
    "            {\"role\": \"system\", \"content\": system_message},\n",
    "            {\"role\": \"user\", \"content\": prompt}\n",
    "        ]\n",
    "    )\n",
    "    \n",
    "    response_content = response[\"message\"][\"content\"]\n",
    "    \n",
    "    # Clean markdown formatting if present\n",
    "    try:\n",
    "        final_content = re.sub(r\"<think>.*?</think>\", \"\", response_content, flags=re.DOTALL).strip()\n",
    "    except:\n",
    "        final_content = response_content.strip()\n",
    "\n",
    "    # Extract metadata from all documents\n",
    "    document_names = [doc['metadata']['name'] for doc in context_documents]\n",
    "    document_paths = [doc['metadata']['path'] for doc in context_documents]\n",
    "\n",
    "    return {\n",
    "        \"content\": final_content,\n",
    "        \"metadata\": {\n",
    "            \"name\": document_names,\n",
    "            \"path\": document_paths\n",
    "        }\n",
    "    }"
   ]
  },
  {
   "cell_type": "code",
   "execution_count": 12,
   "metadata": {},
   "outputs": [
    {
     "data": {
      "text/plain": [
       "{'content': '**Summary of Radioactive Substances and Residues Classifications**\\n\\nThe first document outlines the classification of radioactive substances based on isotope limits (U-233, U-235, Pu-239, Pu-241) or isotopic concentrations. Substances with a total or per 100 kg limit not exceeding 15 grams are categorized as non-radioactive. This classification excludes solidified highactivity fission product solutions from nuclear fuel reprocessing and applies exceptions for existing and emergency exposure situations.\\n\\nThe second document details residues regulated under the Radiation Protection Ordinance, listing materials such as oil sludge, activated carbon, phosphogypsum, ore residuals, flue gas purification materials, and demolished structures with removable residues. These categories are outlined in sections 5 subsections 32 of the act.\\n\\n[Citation: strlschg_en_bf.pdf:0:17](strlschg_en_bf.pdf)  \\n[Citation: strlschg_en_bf.pdf:0:273](strlschg_en_bf.pdf)',\n",
       " 'metadata': {'name': ['strlschg_en_bf.pdf:0:17', 'strlschg_en_bf.pdf:0:273'],\n",
       "  'path': ['strlschg_en_bf.pdf', 'strlschg_en_bf.pdf']}}"
      ]
     },
     "execution_count": 12,
     "metadata": {},
     "output_type": "execute_result"
    }
   ],
   "source": [
    "smry = source_summarizer(tr)\n",
    "smry"
   ]
  },
  {
   "cell_type": "code",
   "execution_count": 13,
   "metadata": {},
   "outputs": [
    {
     "data": {
      "text/markdown": [
       "**Summary of Radioactive Substances and Residues Classifications**\n",
       "\n",
       "The first document outlines the classification of radioactive substances based on isotope limits (U-233, U-235, Pu-239, Pu-241) or isotopic concentrations. Substances with a total or per 100 kg limit not exceeding 15 grams are categorized as non-radioactive. This classification excludes solidified highactivity fission product solutions from nuclear fuel reprocessing and applies exceptions for existing and emergency exposure situations.\n",
       "\n",
       "The second document details residues regulated under the Radiation Protection Ordinance, listing materials such as oil sludge, activated carbon, phosphogypsum, ore residuals, flue gas purification materials, and demolished structures with removable residues. These categories are outlined in sections 5 subsections 32 of the act.\n",
       "\n",
       "[Citation: strlschg_en_bf.pdf:0:17](strlschg_en_bf.pdf)  \n",
       "[Citation: strlschg_en_bf.pdf:0:273](strlschg_en_bf.pdf)"
      ],
      "text/plain": [
       "<IPython.core.display.Markdown object>"
      ]
     },
     "metadata": {},
     "output_type": "display_data"
    }
   ],
   "source": [
    "display(Markdown(smry['content']))"
   ]
  },
  {
   "cell_type": "code",
   "execution_count": 14,
   "metadata": {},
   "outputs": [
    {
     "data": {
      "text/markdown": [
       "#LLM: deepseek-r1:1.5b"
      ],
      "text/plain": [
       "<IPython.core.display.Markdown object>"
      ]
     },
     "metadata": {},
     "output_type": "display_data"
    },
    {
     "data": {
      "text/markdown": [
       "According to \"strlschg_en_bf.pdf:0:17\", within the RAG system established in June 1989 under section 5 subsection 32, certain materials are classified as \"residues.\" These include:\n",
       "\n",
       "- **Materials Produced Deliberately:** Materials produced deliberately for specific purposes.\n",
       "- **Shaped Parts:** Shaped parts of the above materials.\n",
       "- **Ground and rubble Removed:** Ground or rubble removed for demolition activities, provided it contains residues and is removed following activity cessation.\n",
       "\n",
       "Additionally, \"residue criteria\" apply to:\n",
       "- Residues found in demolition activities unless they meet specific removal standards.\n",
       "- Materials from land removal under section 141 of the RAG system."
      ],
      "text/plain": [
       "<IPython.core.display.Markdown object>"
      ]
     },
     "metadata": {},
     "output_type": "display_data"
    },
    {
     "name": "stdout",
     "output_type": "stream",
     "text": [
      "Time taken: 3.36 seconds\n",
      "________________________________\n"
     ]
    },
    {
     "data": {
      "text/markdown": [
       "#LLM: deepseek-r1:latest"
      ],
      "text/plain": [
       "<IPython.core.display.Markdown object>"
      ]
     },
     "metadata": {},
     "output_type": "display_data"
    },
    {
     "data": {
      "text/markdown": [
       "The classification of certain substances as non-radioactive is based on the isotopic composition: substances with ≤15 g (or ≤15 g/kg) of U-233/U-235 and Pu-239/Pu-241 are categorized as non-radioactive, except for highactivity fission products from nuclear fuel reprocessing. Additionally, existing exposure or emergency situations exempt certain substances from strict regulation.\n",
       "\n",
       "Residues under the radiation protection ordinance include materials from oil and gas extraction (e.g., sludge), groundwater treatment (gravel, resin), rock phosphate processing, bauxite and columbite ores, demolition debris, and other extracted raw materials. These residues are defined based on their isotopic content or production methods, with some exceptions for shaped parts or demolition rubble under specific conditions.\n",
       "\n",
       "[Document Name](document_path)"
      ],
      "text/plain": [
       "<IPython.core.display.Markdown object>"
      ]
     },
     "metadata": {},
     "output_type": "display_data"
    },
    {
     "name": "stdout",
     "output_type": "stream",
     "text": [
      "Time taken: 2.68 seconds\n",
      "________________________________\n"
     ]
    },
    {
     "data": {
      "text/markdown": [
       "#LLM: llama3.1:8b-instruct-q4_0"
      ],
      "text/plain": [
       "<IPython.core.display.Markdown object>"
      ]
     },
     "metadata": {},
     "output_type": "display_data"
    },
    {
     "data": {
      "text/markdown": [
       "In the context of nuclear and radiological activities, substances are classified based on their activity or specific activity. According to [strlschg_en_bf.pdf](path:strlschg_en_bf.pdf), substances containing isotopes of uranium 233, uranium 235, plutonium 239, and plutonium 241 in a proportion not exceeding 15 grams in total, or a concentration not exceeding 15 grams per 100 kilograms, are classified as other radioactive substances.\n",
       "\n",
       "The definition of \"practices\" under section 4 includes various activities such as handling, acquisition, transfer, carriage, cross-border transportation, custody, and treatment of nuclear fuels. These practices are regulated by the Atomic Energy Act, which sets out specific provisions for each activity.\n",
       "\n",
       "Residues within the meaning of this act include materials from the extraction, processing, and preparation of crude oil and natural gas, as well as other raw materials such as bauxite, columbite, pyrochlore, microlite, euxenite, copper shale, tin, rare earth, and uranium ores. These residues are defined in annex 1 re section 5 subsection 32 of [strlschg_en_bf.pdf](path:strlschg_en_bf.pdf).\n",
       "\n",
       "Other products that comply with the requirements of annex III, part A, no. 5, 6, or 7 of the Radiation Protection Ordinance and were acquired before August 1, 2001, may continue to be used, stored, or disposed of without authorization.\n",
       "\n",
       "It is worth noting that subsection 13 above does not apply to substances that occur in connection with existing exposure situations and emergency exposure situations."
      ],
      "text/plain": [
       "<IPython.core.display.Markdown object>"
      ]
     },
     "metadata": {},
     "output_type": "display_data"
    },
    {
     "name": "stdout",
     "output_type": "stream",
     "text": [
      "Time taken: 6.26 seconds\n",
      "________________________________\n"
     ]
    },
    {
     "data": {
      "text/markdown": [
       "#LLM: llama3.2"
      ],
      "text/plain": [
       "<IPython.core.display.Markdown object>"
      ]
     },
     "metadata": {},
     "output_type": "display_data"
    },
    {
     "data": {
      "text/markdown": [
       "Substances containing uranium isotopes 233, 235, plutonium 239, and 241 with a total proportion of not exceeding 15 grams are classified as other radioactive substances. This classification does not apply to solidified high-activity fission product solutions derived from nuclear fuel reprocessing. [strlschg_en_bf.pdf:0:17]\n",
       "\n",
       "The application of licensing provisions is exempt for substances acquired before August 1, 2001, and complying with radiation protection ordinance Annex III, Part A, Nos. 5, 6, or 7. These substances may be used, stored, or disposed of without authorization. [strlschg_en_bf.pdf:0:273]\n",
       "\n",
       "Residues within the meaning of this act include materials from crude oil and natural gas extraction, processing, and treatment, as well as materials from other raw materials, such as bauxite and uranium ores. These residues also include deliberately produced materials, shaped parts, excavated ground, and rubble from demolition or land removal. [strlschg_en_bf.pdf:0:273]\n",
       "\n",
       "Note: The summary is based on the provided documents and their metadata. The citations are correctly matched to their source."
      ],
      "text/plain": [
       "<IPython.core.display.Markdown object>"
      ]
     },
     "metadata": {},
     "output_type": "display_data"
    },
    {
     "name": "stdout",
     "output_type": "stream",
     "text": [
      "Time taken: 3.27 seconds\n",
      "________________________________\n"
     ]
    },
    {
     "data": {
      "text/markdown": [
       "#LLM: gemma3:4b"
      ],
      "text/plain": [
       "<IPython.core.display.Markdown object>"
      ]
     },
     "metadata": {},
     "output_type": "display_data"
    },
    {
     "data": {
      "text/markdown": [
       "Substances with a total isotope proportion of uranium 233, uranium 235, plutonium 239, and plutonium 241 not exceeding 15 grams or a concentration of 15 grams per 100 kilograms are classified as other radioactive substances [strlschg_en_bf.pdf:0:17]. Certain products compliant with specific radiation protection requirements acquired before August 1, 2001, may continue to be used, stored, or disposed of without authorization [strlschg_en_bf.pdf:0:273]. Additionally, materials resulting from the extraction, processing, and treatment of various ores and minerals, including crude oil, natural gas, and phosphate materials, are considered residues within the meaning of this act [strlschg_en_bf.pdf:0:273]."
      ],
      "text/plain": [
       "<IPython.core.display.Markdown object>"
      ]
     },
     "metadata": {},
     "output_type": "display_data"
    },
    {
     "name": "stdout",
     "output_type": "stream",
     "text": [
      "Time taken: 4.24 seconds\n",
      "________________________________\n"
     ]
    },
    {
     "data": {
      "text/markdown": [
       "#LLM: phi4-mini"
      ],
      "text/plain": [
       "<IPython.core.display.Markdown object>"
      ]
     },
     "metadata": {},
     "output_type": "display_data"
    },
    {
     "data": {
      "text/markdown": [
       "The documents classify certain radioactive substances as 'other radioactive substances' if they contain uranium isotopes (U-233, U-235) and plutonium isotopes (Pu-239, Pu-241), provided their total or individual concentration does not exceed 15 grams per 100 kilograms [StrlSchG_EN_BF.pdf](strlschg_en_bf.pdf). This exemption also applies to solidified highactivity fission product solutions from nuclear fuel reprocessing and substances involved in existing exposure situations. Furthermore, radioactive waste management activities are exempted if they comply with specified conditions (e.g., Annex III requirements) related to radiation protection ordinances [StrlSchG_EN_BF.pdf](strlschg_en_bf.pdf). Certain products acquired before 1 August 2001 can still be used without authorization under specific annexes of the Radiation Protection Ordinance. Residues for this Act include various materials from industrial processes, including crude oil extraction by-products and residues resulting from waste treatment [StrlSchG_EN_BF.pdf](strlschg_en_bf.pdf). These exemptions are subject to strict conditions outlined in their respective regulations."
      ],
      "text/plain": [
       "<IPython.core.display.Markdown object>"
      ]
     },
     "metadata": {},
     "output_type": "display_data"
    },
    {
     "name": "stdout",
     "output_type": "stream",
     "text": [
      "Time taken: 3.28 seconds\n",
      "________________________________\n"
     ]
    },
    {
     "data": {
      "text/markdown": [
       "#LLM: mistral:instruct"
      ],
      "text/plain": [
       "<IPython.core.display.Markdown object>"
      ]
     },
     "metadata": {},
     "output_type": "display_data"
    },
    {
     "data": {
      "text/markdown": [
       "Radioactive substances that do not exceed 15 grams in total of uranium 233, uranium 235, plutonium 239 and plutonium 241 are classified as other radioactive substances. Exceptions include solidified high-activity fission product solutions derived from nuclear fuel reprocessing and substances connected to existing or emergency exposure situations [strlschg_en_bf.pdf:0:17].\n",
       "\n",
       "   Products compliant with certain requirements of the Radiation Protection Ordinance can continue to be used, stored or disposed without authorization if acquired before 1 August 2001 [strlschg_en_bf.pdf:0:273].\n",
       "\n",
       "   Residues within the meaning of this act include various materials from crude oil and natural gas extraction, groundwater treatment, phosphogypsum processing, bauxite and other mineral extraction, flue gas purification for primary smelting, and more. Materials must be produced deliberately to qualify as residues [strlschg_en_bf.pdf:0:273].\n",
       "\n",
       "   Excavated or removed ground and rubble from the demolition of buildings or structural installations containing residues will not constitute residues if removed after the cessation of activities, or from land following section 141 [strlschg_en_bf.pdf:0:273]."
      ],
      "text/plain": [
       "<IPython.core.display.Markdown object>"
      ]
     },
     "metadata": {},
     "output_type": "display_data"
    },
    {
     "name": "stdout",
     "output_type": "stream",
     "text": [
      "Time taken: 4.85 seconds\n",
      "________________________________\n"
     ]
    },
    {
     "data": {
      "text/markdown": [
       "#LLM: mistrallite"
      ],
      "text/plain": [
       "<IPython.core.display.Markdown object>"
      ]
     },
     "metadata": {},
     "output_type": "display_data"
    },
    {
     "data": {
      "text/markdown": [
       "1 - 3 for the application of licensing provisions in accordance with this act or with the statutory ordinances issued on the basis of this act, substances in which the proportion of isotopes uranium 233, uranium 235, plutonium 239 and plutonium 241 does not exceed 15 grams in total, or the concentration of the isotopes stated does not exceed 15 grams per 100 kilograms, are classified as other radioactive substances.\n",
       "    4 - subsections 13 above shall not apply to substances that occur in connection with existing exposure situations and emergency exposure situations.\n",
       "    19 - practices, types of practice 1 means 1. handling in accordance with section 5 subsection 39, 2. the acquisition of artificiallyproduced radioactive substances and of naturallyoccurring radioactive substances that, as on the basis of their radioactivity, are used as a nuclear fuel or to generate nuclear fuel, the transfer of such substances to others, their carriage and their crossborder transportation, 3. the custody of nuclear fuels in accordance with section 5 of the atomic energy act and the holding of nuclear fuels in accordance with section 6 of the atomic energy act, 4. the construction, operation and decommissioning of an installation, as well as the dismantling of an installation or parts thereof in accord­ ance with section 7 of the atomic energy act, 5. the treatment, processing and other utilisation of nuclear fuels in accordance with sec­ tion 9 of the atomic energy act, 6. the construction, operation and decommissioning of installations of the federation for the safekeeping and disposal of radioactive waste in accordance with section 9b of the atomic energy act, 7. the construction"
      ],
      "text/plain": [
       "<IPython.core.display.Markdown object>"
      ]
     },
     "metadata": {},
     "output_type": "display_data"
    },
    {
     "name": "stdout",
     "output_type": "stream",
     "text": [
      "Time taken: 6.44 seconds\n",
      "________________________________\n"
     ]
    },
    {
     "data": {
      "text/markdown": [
       "#LLM: deepseek-r1:70b"
      ],
      "text/plain": [
       "<IPython.core.display.Markdown object>"
      ]
     },
     "metadata": {},
     "output_type": "display_data"
    },
    {
     "data": {
      "text/markdown": [
       "Substances containing specific isotopes of uranium and plutonium are classified as other radioactive substances under certain conditions regarding their proportion or concentration [Document Name](strlschg_en_bf.pdf:0:17). This classification does not apply to solidified high-activity fission product solutions from nuclear fuel reprocessing, nor to substances related to existing exposure situations and emergency exposure situations. Practices involving the handling, acquisition, transfer, and other activities with radioactive substances are defined in detail [Document Name](strlschg_en_bf.pdf:0:17).\n",
       "\n",
       "Residues from various industrial processes, such as oil extraction, groundwater treatment, phosphate processing, metallurgy, and others, are specified in Annex 1. These residues include materials like sludge, deposits, gravel, sand, and dust generated during these activities [Document Name](strlschg_en_bf.pdf:0:273). The definition of residues also includes excavated or removed ground and rubble containing such materials if they are taken from land after the cessation of activities or from specific areas. However, shaped parts made from these materials are not considered residues under this classification [Document Name](strlschg_en_bf.pdf:0:273)."
      ],
      "text/plain": [
       "<IPython.core.display.Markdown object>"
      ]
     },
     "metadata": {},
     "output_type": "display_data"
    },
    {
     "name": "stdout",
     "output_type": "stream",
     "text": [
      "Time taken: 43.16 seconds\n",
      "________________________________\n"
     ]
    },
    {
     "data": {
      "text/markdown": [
       "#LLM: qwq"
      ],
      "text/plain": [
       "<IPython.core.display.Markdown object>"
      ]
     },
     "metadata": {},
     "output_type": "display_data"
    },
    {
     "data": {
      "text/markdown": [
       "Under the Atomic Energy Act, substances containing isotopes uranium 233, uranium 235, plutonium 239, or plutonium 241 not exceeding 15 grams total or 15 grams per 100 kilograms are classified as other radioactive substances, except for solidified high-activity fission product solutions from nuclear fuel reprocessing [strlschg_en_bf.pdf]. Practices regulated under the act include handling nuclear fuels, operating installations, and managing radioactive waste, among others [strlschg_en_bf.pdf]. Residues defined under the law encompass materials like sludge from oil/gas extraction, mining byproducts (e.g., bauxite, uranium ores), and residues from metallurgical processes. These residues also include deliberately produced materials, shaped parts made from such materials, and excavated ground containing these residues [strlschg_en_bf.pdf]. Exemptions apply to products compliant with Radiation Protection Ordinance Annex III (parts A5-7) acquired before August 2001, allowing their use/storage without authorization [strlschg_en_bf.pdf]."
      ],
      "text/plain": [
       "<IPython.core.display.Markdown object>"
      ]
     },
     "metadata": {},
     "output_type": "display_data"
    },
    {
     "name": "stdout",
     "output_type": "stream",
     "text": [
      "Time taken: 23.53 seconds\n",
      "________________________________\n"
     ]
    },
    {
     "data": {
      "text/markdown": [
       "#LLM: gemma3:27b"
      ],
      "text/plain": [
       "<IPython.core.display.Markdown object>"
      ]
     },
     "metadata": {},
     "output_type": "display_data"
    },
    {
     "data": {
      "text/markdown": [
       "For the application of licensing provisions, substances containing uranium 233, uranium 235, plutonium 239, and plutonium 241 not exceeding 15 grams in total, or 15 grams per 100 kilograms, are classified as other radioactive substances [strlschg_en_bf.pdf:0:17]. This classification does not apply to solidified high-activity fission product solutions from nuclear fuel reprocessing [strlschg_en_bf.pdf:0:17]. Substances occurring in existing or emergency exposure situations are also exempt [strlschg_en_bf.pdf:0:17]. Practices covered by this act include handling, acquiring, transferring, and transporting artificially-produced and naturally-occurring radioactive substances [strlschg_en_bf.pdf:0:17], as well as the custody, construction, operation, decommissioning, and dismantling of installations related to nuclear fuels and radioactive waste [strlschg_en_bf.pdf:0:17]. Products complying with the requirements of annex iii, part a, no. 5, 6 or 7 of the radiation protection ordinance and acquired before August 1, 2001, can continue to be used without authorization [strlschg_en_bf.pdf:0:273]. Residues, including sludge and deposits from oil and gas extraction, gravel from groundwater treatment, phosphogypsum, and materials from ore processing, are also defined within the act [strlschg_en_bf.pdf:0:273]. Deliberately produced materials, shaped parts from these materials, and excavated ground containing residues are also considered residues [strlschg_en_bf.pdf:0:273]."
      ],
      "text/plain": [
       "<IPython.core.display.Markdown object>"
      ]
     },
     "metadata": {},
     "output_type": "display_data"
    },
    {
     "name": "stdout",
     "output_type": "stream",
     "text": [
      "Time taken: 16.66 seconds\n",
      "________________________________\n"
     ]
    },
    {
     "data": {
      "text/markdown": [
       "#LLM: llama3.3"
      ],
      "text/plain": [
       "<IPython.core.display.Markdown object>"
      ]
     },
     "metadata": {},
     "output_type": "display_data"
    },
    {
     "data": {
      "text/markdown": [
       "The activation of certain substances may be subject to specific regulations, and in some cases, the activity or specific activity of a substance may not be disregarded [strlschg_en_bf.pdf](strlschg_en_bf.pdf:0:17). Substances with a proportion of isotopes uranium 233, uranium 235, plutonium 239, and plutonium 241 not exceeding 15 grams in total or 15 grams per 100 kilograms are classified as other radioactive substances [strlschg_en_bf.pdf](strlschg_en_bf.pdf:0:17). However, this classification does not apply to solidified high-activity fission product solutions derived from the reprocessing of nuclear fuel [strlschg_en_bf.pdf](strlschg_en_bf.pdf:0:17). Practices involving radioactive substances include handling, acquisition, transfer, and carriage of such substances, as well as the construction and operation of installations for the safekeeping and disposal of radioactive waste [strlschg_en_bf.pdf](strlschg_en_bf.pdf:0:17). Residues within the meaning of this act include materials such as sludge and deposits from the extraction and processing of crude oil and natural gas, as well as leftover rock, sludge, sand, slag, and dust from the extraction and treatment of various ores and minerals [strlschg_en_bf.pdf](strlschg_en_bf.pdf:0:273). These residues also include materials that have been produced deliberately, shaped parts from these materials, and excavated or removed ground and rubble containing such residues [strlschg_en_bf.pdf](strlschg_en_bf.pdf:0:273). Certain products that comply with the requirements of Annex III, Part A, No. 5, 6, or 7 of the Radiation Protection Ordinance may continue to be used, stored, or disposed of without authorization if they were acquired before August 1, 2001 [strlschg_en_bf.pdf](strlschg_en_bf.pdf:0:17)."
      ],
      "text/plain": [
       "<IPython.core.display.Markdown object>"
      ]
     },
     "metadata": {},
     "output_type": "display_data"
    },
    {
     "name": "stdout",
     "output_type": "stream",
     "text": [
      "Time taken: 44.48 seconds\n",
      "________________________________\n"
     ]
    },
    {
     "data": {
      "text/markdown": [
       "#LLM: mistral-small"
      ],
      "text/plain": [
       "<IPython.core.display.Markdown object>"
      ]
     },
     "metadata": {},
     "output_type": "display_data"
    },
    {
     "data": {
      "text/markdown": [
       "The document outlines specific regulations and practices related to radioactive substances and nuclear activities. Substances containing isotopes uranium 233, uranium 235, plutonium 239, and plutonium 241 are classified as other radioactive substances if their total proportion does not exceed 15 grams or if the concentration of these isotopes does not exceed 15 grams per 100 kilograms. This classification does not apply to solidified high-activity fission product solutions derived from nuclear fuel reprocessing [strlschg_en_bf.pdf](strlschg_en_bf.pdf:0:17).\n",
       "\n",
       "The document also defines practices involving radioactive substances, including handling, acquisition, custody, construction, operation, decommissioning, and disposal of nuclear fuels and related installations. These practices are regulated under specific sections of the atomic energy act [strlschg_en_bf.pdf](strlschg_en_bf.pdf:0:17).\n",
       "\n",
       "Additionally, the document specifies residues that include materials from various extraction and processing activities, such as crude oil, natural gas, groundwater treatment, phosphogypsum processing, and ore extraction. These residues are defined under section 5 subsection 32 of the act [strlschg_en_bf.pdf](strlschg_en_bf.pdf:0:273)."
      ],
      "text/plain": [
       "<IPython.core.display.Markdown object>"
      ]
     },
     "metadata": {},
     "output_type": "display_data"
    },
    {
     "name": "stdout",
     "output_type": "stream",
     "text": [
      "Time taken: 14.81 seconds\n",
      "________________________________\n"
     ]
    },
    {
     "data": {
      "text/markdown": [
       "#LLM: mistral-nemo"
      ],
      "text/plain": [
       "<IPython.core.display.Markdown object>"
      ]
     },
     "metadata": {},
     "output_type": "display_data"
    },
    {
     "data": {
      "text/markdown": [
       "The Swiss Radiation Protection Act governs radioactive substances and nuclear fuel handling, licensing provisions apply to substances exceeding 15 grams total of isotopes uranium 233, uranium 235, plutonium 239, or plutonium 241, or concentrations exceeding 15 grams per 100 kilograms. Solidified high-activity fission product solutions are exempted [strlschg_en_bf.pdf](strlschg_en_bf.pdf:0:17). Practices related to radioactive substances include acquisition, transfer, carriage, cross-border transportation, custody, construction, operation, decommissioning of installations involving nuclear fuels and radioactive waste management [strlschg_en_bf.pdf](strlschg_en_bf.pdf:0:17).\n",
       "\n",
       "Certain products acquired before August 2001 may continue to be used without authorization if they comply with specified regulations [strlschg_en_bf.pdf](strlschg_en_bf.pdf:0:273). Residues, as defined by the act, include various waste materials from extraction and treatment processes of specific ores and minerals, as well as intentionally produced materials containing these residues. Excavated ground containing such residues also qualifies as residue [strlschg_en_bf.pdf](strlschg_en_bf.pdf:0:273)."
      ],
      "text/plain": [
       "<IPython.core.display.Markdown object>"
      ]
     },
     "metadata": {},
     "output_type": "display_data"
    },
    {
     "name": "stdout",
     "output_type": "stream",
     "text": [
      "Time taken: 7.61 seconds\n",
      "________________________________\n"
     ]
    }
   ],
   "source": [
    "import time\n",
    "models = [\"deepseek-r1:1.5b\",\"deepseek-r1:latest\", \"llama3.1:8b-instruct-q4_0\", \"llama3.2\", \"gemma3:4b\", \"phi4-mini\", \"mistral:instruct\", \"mistrallite\"]\n",
    "models += [\"deepseek-r1:70b\", \"qwq\", \"gemma3:27b\", \"llama3.3\", \"mistral-small\", \"mistral-nemo\"]\n",
    "\n",
    "for model in models:\n",
    "    start_time = time.time()\n",
    "    summary = source_summarizer(tr,model)\n",
    "    elapsed_time = time.time() - start_time\n",
    "    display(Markdown(f'#LLM: {model}'))\n",
    "    display(Markdown(summary['content']))\n",
    "    print(f'Time taken: {elapsed_time:.2f} seconds')\n",
    "    print('________________________________')"
   ]
  },
  {
   "cell_type": "code",
   "execution_count": 15,
   "metadata": {},
   "outputs": [],
   "source": [
    "from langchain_community.llms import Ollama\n",
    "from langchain_core.messages import SystemMessage, HumanMessage\n",
    "import re\n",
    "\n",
    "def source_summarizer_Ollama(context_documents, llm_model=\"deepseek-r1\"):\n",
    "    system_message = SUMMARIZER_SYSTEM_PROMPT\n",
    "\n",
    "    formatted_context = \"\\n\".join(\n",
    "        f\"Content: {doc['content']}\\nSource: {doc['metadata']['name']}\\nPath: {doc['metadata']['path']}\"\n",
    "        for doc in context_documents\n",
    "    )\n",
    "\n",
    "    prompt = f\"\"\"\n",
    "    Here are the documents to summarize:\n",
    "    \n",
    "    {formatted_context}\n",
    "    \n",
    "    Provide a concise summary with proper citations:\n",
    "    \"\"\"\n",
    "    \n",
    "    # Initialize ChatOllama with the specified model and temperature\n",
    "    llm = Ollama(model=llm_model, temperature=0.1, repeat_penalty=1.2) \n",
    "    # For RAG systems like your summarizer, consider:\n",
    "    #    Using lower temperatures (0.1-0.3) for factual accuracy\n",
    "    #   Combining with repeat_penalty=1.1-1.3 to avoid redundant content\n",
    "    #   Monitoring token usage with num_ctx for long documents\n",
    "    \n",
    "    # Format messages for LangChain\n",
    "    messages = [\n",
    "        SystemMessage(content=system_message),\n",
    "        HumanMessage(content=prompt)\n",
    "    ]\n",
    "    \n",
    "    # Get response from the model\n",
    "    response = llm.invoke(messages)\n",
    "    \n",
    "    # Extract content from response\n",
    "    response_content = response\n",
    "    \n",
    "    # Clean markdown formatting if present\n",
    "    try:\n",
    "        final_content = re.sub(r\"<think>.*?</think>\", \"\", response_content, flags=re.DOTALL).strip()\n",
    "    except:\n",
    "        final_content = response_content.strip()\n",
    "\n",
    "    # Extract metadata from all documents\n",
    "    document_names = [doc['metadata']['name'] for doc in context_documents]\n",
    "    document_paths = [doc['metadata']['path'] for doc in context_documents]\n",
    "\n",
    "    return {\n",
    "        \"content\": final_content,\n",
    "        \"metadata\": {\n",
    "            \"name\": document_names,\n",
    "            \"path\": document_paths\n",
    "        }\n",
    "    }\n"
   ]
  },
  {
   "cell_type": "code",
   "execution_count": 16,
   "metadata": {},
   "outputs": [
    {
     "name": "stderr",
     "output_type": "stream",
     "text": [
      "/tmp/ipykernel_1427484/2226840946.py:22: LangChainDeprecationWarning: The class `Ollama` was deprecated in LangChain 0.3.1 and will be removed in 1.0.0. An updated version of the class exists in the :class:`~langchain-ollama package and should be used instead. To use it run `pip install -U :class:`~langchain-ollama` and import as `from :class:`~langchain_ollama import OllamaLLM``.\n",
      "  llm = Ollama(model=llm_model, temperature=0.1, repeat_penalty=1.2)\n"
     ]
    },
    {
     "data": {
      "text/markdown": [
       "#LLM: deepseek-r1:1.5b"
      ],
      "text/plain": [
       "<IPython.core.display.Markdown object>"
      ]
     },
     "metadata": {},
     "output_type": "display_data"
    },
    {
     "data": {
      "text/markdown": [
       "**Summary of Information:**\n",
       "\n",
       "The documents provided discuss several aspects related to radioactive substances classification under specific laws:\n",
       "\n",
       "1. **Activation Directives for Radioactive Substances (Strlschg_en_bf.pdf:0:17):**\n",
       "   - The documents outline the criteria for classifying isotopes such as U-233, U-235, Pu-239, and Pu-241 in radioactive substances. These materials must not exceed 15 grams total or 15 grams per 100 kilograms to be classified as other radioactive substances.\n",
       "\n",
       "2. **Subsections Not Applicable (Strlschg_en_bf.pdf:0:273):**\n",
       "   - Subsections 13 above are not applicable when dealing with materials connected with existing exposure situations, including those related to emergency or safe disposal scenarios.\n",
       "   \n",
       "3. **Time of Procurement for Certain Materials (Strlschg_en_bf.pdf:0:17 and Strlschg_en_bf.pdf:0:273):**\n",
       "   - Other products from annex III part A numbers 5, 6, or 7 in the radiation protection ordinance can be used freely before August 2001 if they meet specific criteria.\n",
       "\n",
       "4. **Specific Materials (Strlschg_en_bf.pdf:0:17 and Strlschg_en_bf.pdf:0:273):**\n",
       "   - The documents list materials such as sludge from deep geothermics, gravel, sand, etc., which are part of a detailed material inventory.\n",
       "\n",
       "5. **Residue Criteria (Strlschg_en_bf.pdf:0:17 and Strlschg_en_bf.pdf:0:273):**\n",
       "   - These materials should not be considered as residues if they were produced deliberately or shaped parts made from them, which are removed after specific activities end or land is demolished.\n",
       "\n",
       "Each citation references the respective documents to ensure accurate attribution of information."
      ],
      "text/plain": [
       "<IPython.core.display.Markdown object>"
      ]
     },
     "metadata": {},
     "output_type": "display_data"
    },
    {
     "name": "stdout",
     "output_type": "stream",
     "text": [
      "Time taken: 4.88 seconds\n",
      "________________________________\n"
     ]
    },
    {
     "data": {
      "text/markdown": [
       "#LLM: deepseek-r1:latest"
      ],
      "text/plain": [
       "<IPython.core.display.Markdown object>"
      ]
     },
     "metadata": {},
     "output_type": "display_data"
    },
    {
     "data": {
      "text/markdown": [
       "The first document outlines the classification of certain substances as non-radioactive based on specific isotopic limits (e.g., uranium-233, 235; plutonium-239, 241) not exceeding 15 grams in total or per 100 kilograms. Substances like highactivity fission product solutions derived from nuclear fuel reprocessing are exempted under the first sentence of Section 3.\n",
       "\n",
       "The second document specifies materials included as residues under radiation protection provisions: sludge and deposits from oil extraction, activated carbon from groundwater treatment, untreated phosphogypsum and rock phosphate processing byproducts, raw material ores' residuals, demolition debris with radioactive contamination removed after activity cessation or land disposal in accordance with section 64 of the Atomic Energy Act. These materials are listed under Annex I of the Radiation Protection Ordinance (version June 1989)."
      ],
      "text/plain": [
       "<IPython.core.display.Markdown object>"
      ]
     },
     "metadata": {},
     "output_type": "display_data"
    },
    {
     "name": "stdout",
     "output_type": "stream",
     "text": [
      "Time taken: 6.71 seconds\n",
      "________________________________\n"
     ]
    },
    {
     "data": {
      "text/markdown": [
       "#LLM: llama3.1:8b-instruct-q4_0"
      ],
      "text/plain": [
       "<IPython.core.display.Markdown object>"
      ]
     },
     "metadata": {},
     "output_type": "display_data"
    },
    {
     "data": {
      "text/markdown": [
       "According to [strlschg_en_bf.pdf](file:///path/to/strlschg_en_bf.pdf), substances in which the proportion of isotopes uranium 233, uranium 235, plutonium 239 and plutonium 241 does not exceed 15 grams in total are classified as other radioactive substances. This classification does not apply to solidified high-activity fission product solutions derived from nuclear fuel reprocessing.\n",
       "\n",
       "The term \"practices\" refers to various activities related to the handling of artificially produced or naturally occurring radioactive materials, including their acquisition, transfer, carriage, and cross-border transportation (Section 4). These practices are governed by specific regulations outlined in the Atomic Energy Act.\n",
       "\n",
       "Residues within the meaning of this act include sludge and deposits from oil and gas extraction, as well as other industrial processes. Materials that equate to ores or minerals extracted for further processing also fall under this category. Residues can be deliberately produced materials, shaped parts made from these materials, excavated ground and rubble containing residues, or land contaminated with such substances.\n",
       "\n",
       "Other products acquired before August 1, 2001, which comply with the requirements of Annex III, Part A, Nos. 5-7 of the Radiation Protection Ordinance (June 30, 1989), may continue to be used without authorization."
      ],
      "text/plain": [
       "<IPython.core.display.Markdown object>"
      ]
     },
     "metadata": {},
     "output_type": "display_data"
    },
    {
     "name": "stdout",
     "output_type": "stream",
     "text": [
      "Time taken: 4.17 seconds\n",
      "________________________________\n"
     ]
    },
    {
     "data": {
      "text/markdown": [
       "#LLM: llama3.2"
      ],
      "text/plain": [
       "<IPython.core.display.Markdown object>"
      ]
     },
     "metadata": {},
     "output_type": "display_data"
    },
    {
     "data": {
      "text/markdown": [
       "The document outlines specific provisions for handling and disposing of radioactive substances. According to section 4, subsections 13-19, certain activities involving nuclear fuels or other radioactive materials are exempt from licensing requirements (strlschg_en_bf.pdf:0:17).\n",
       "\n",
       "Substances with a total isotopic content not exceeding 15 grams in uranium 233, uranium 235, plutonium 239, and plutonium 241 are classified as \"other radioactive substances\" (strlschg_en_bf.pdf:0:273). This exemption does not apply to solidified high-activity fission product solutions derived from nuclear fuel reprocessing.\n",
       "\n",
       "The document also specifies that certain products acquired before August 2001 may continue to be used, stored, or disposed of without authorization if they comply with radiation protection ordinance requirements (strlschg_en_bf.pdf:0:17).\n",
       "\n",
       "Residues within the meaning of this act include materials such as sludge and deposits from oil and gas extraction, gravel and sand from groundwater treatment, untreated phosphogypsum, and dust and slag from rock phosphate processing (section 5 subsection 32). These residues also include excavated or removed ground and rubble from building demolition sites that contain radioactive material.\n",
       "\n",
       "The document emphasizes the importance of proper handling, storage, and disposal of these substances to ensure public safety."
      ],
      "text/plain": [
       "<IPython.core.display.Markdown object>"
      ]
     },
     "metadata": {},
     "output_type": "display_data"
    },
    {
     "name": "stdout",
     "output_type": "stream",
     "text": [
      "Time taken: 3.70 seconds\n",
      "________________________________\n"
     ]
    },
    {
     "data": {
      "text/markdown": [
       "#LLM: gemma3:4b"
      ],
      "text/plain": [
       "<IPython.core.display.Markdown object>"
      ]
     },
     "metadata": {},
     "output_type": "display_data"
    },
    {
     "data": {
      "text/markdown": [
       "Substances with a total proportion of isotopes uranium 233, uranium 235, plutonium 239, and plutonium 241 not exceeding 15 grams, or a concentration not exceeding 15 grams per 100 kilograms, are classified as other radioactive substances [strlschg_en_bf.pdf:0:17]. Other products complying with specific requirements and acquired before August 1, 2001, may continue to be used, stored, or disposed of without authorization [strlschg_en_bf.pdf:0:273]. Additionally, residues including materials from crude oil and natural gas extraction, groundwater treatment, phosphate processing, and ore extraction, as well as demolition debris containing residues, are considered residues within the meaning of this act [strlschg_en_bf.pdf:0:273]."
      ],
      "text/plain": [
       "<IPython.core.display.Markdown object>"
      ]
     },
     "metadata": {},
     "output_type": "display_data"
    },
    {
     "name": "stdout",
     "output_type": "stream",
     "text": [
      "Time taken: 5.51 seconds\n",
      "________________________________\n"
     ]
    },
    {
     "data": {
      "text/markdown": [
       "#LLM: phi4-mini"
      ],
      "text/plain": [
       "<IPython.core.display.Markdown object>"
      ]
     },
     "metadata": {},
     "output_type": "display_data"
    },
    {
     "data": {
      "text/markdown": [
       "The documents outline regulations for radioactive substances and waste management, specifying conditions under which certain activities involving isotopes like uranium 233 to plutonium can be conducted without licensing. Substances containing up to fifteen grams of these specific radioisotopes are classified as other hazardous materials [Strlschg_en_bf.pdf](strlschg_en_bf.pdf). Additionally outlined is the continuation allowance for products acquired before August 1, 2001 (Source: strlschg_en_bf.pdf)(0:17), and a comprehensive list of what constitutes residues in radioactive waste management according to German law [Strlschg_en_bf.pdf](strlschg_en_bf.pdf) (Path). Residues include materials from oil extraction processes like sludge, phosphogypsum treatment by-products such as sand or gravel used for groundwater purification. The definition also encompasses leftover substances after ore processing and excavated rubble containing residues post-demolition activities [Strlschg_en_bf.pdf](strlschg_en_bf_pdf) (Path)."
      ],
      "text/plain": [
       "<IPython.core.display.Markdown object>"
      ]
     },
     "metadata": {},
     "output_type": "display_data"
    },
    {
     "name": "stdout",
     "output_type": "stream",
     "text": [
      "Time taken: 9.47 seconds\n",
      "________________________________\n"
     ]
    },
    {
     "data": {
      "text/markdown": [
       "#LLM: mistral:instruct"
      ],
      "text/plain": [
       "<IPython.core.display.Markdown object>"
      ]
     },
     "metadata": {},
     "output_type": "display_data"
    },
    {
     "data": {
      "text/markdown": [
       "The provided document outlines regulations for radioactive substances and other materials in Germany [strlschg_en_bf.pdf]. Substances containing less than 15 grams of uranium isotopes collectively or individually, are classified as other radioactive substances (Section 4) except for solidified high-activity fission product solutions derived from nuclear fuel reprocessing (Section 4). Exemptions to these regulations include substances connected with existing exposure situations and emergency exposure situations (Subsection 13), certain products acquired before August 2001 that comply with the requirements of Annex III, Part a, No. 5, 6 or 7 of the Radiation Protection Ordinance (Section 181).\n",
       "\n",
       "   Residues within the meaning of this act include materials from deep geothermics extraction and processing, groundwater treatment, bauxite, columbite, pyrochlore, microlite, euxenite, copper shale, tin, rare earth and uranium ores processing, flue gas purification for primary smelting in pig iron and non-ferrous metallurgy (Annex 1). These residues also include materials produced deliberately from these sources, shaped parts from the materials referred to above, excavated or removed ground and rubble from demolished buildings or structural installations if they contain residues and are removed after cessation of activities or from land (Section 5 Subsection 32). Materials in accordance with the first sentence shall not constitute residues within [strlschg_en_bf.pdf]."
      ],
      "text/plain": [
       "<IPython.core.display.Markdown object>"
      ]
     },
     "metadata": {},
     "output_type": "display_data"
    },
    {
     "name": "stdout",
     "output_type": "stream",
     "text": [
      "Time taken: 6.24 seconds\n",
      "________________________________\n"
     ]
    },
    {
     "data": {
      "text/markdown": [
       "#LLM: mistrallite"
      ],
      "text/plain": [
       "<IPython.core.display.Markdown object>"
      ]
     },
     "metadata": {},
     "output_type": "display_data"
    },
    {
     "data": {
      "text/markdown": [
       "A comprehensive and accurate summary of the provided information is as follows:\n",
       "\n",
       "    According to [strlschg_en_bf.pdf](https://www.bmi.bund.de/SharedDocs/DE/Anlagen/Strahlenschutzgesetz/2018/Gesetzesentwurf-englisch/Strahlenschutzgesetz-englisch.html), substances in which the proportion of isotopes uranium 233, uranium 235, plutonium 239 and plutonium 241 does not exceed 15 grams in total or the concentration of the isotopes stated does not exceed 15 grams per 100 kilograms are classified as other radioactive substances. The first sentence shall not apply to solidified high-activity fission product solutions derived from the reprocessing of nuclear fuel. Subsections 13 above shall not apply to substances that occur in connection with existing exposure situations and emergency exposure situations.\n",
       "    \n",
       "    Practices, types of practice 1 practices means handling in accordance with section 5 subsection 39, acquisition of artificially-produced radioactive substances and of naturally-occurring radioactive substances used as a nuclear fuel or to generate nuclear fuel, transfer of such substances to others, their carriage and crossborder transportation, custody of nuclear fuels in accordance with section 5 of the atomic energy act and holding of nuclear fuels in accordance with section 6 of the atomic energy act, construction, operation and decommissioning of installations for the safekeeping and disposal of radioactive waste in accordance with section 9b of the atomic energy act, construction, operation and decommissioning of installations of the federation for the safekeeping and disposal of radioactive waste, treatment, processing and other utilisation of nuclear fuels in accordance with section 9 of the atomic energy act.\n",
       "    \n",
       "    Materials that comply with the requirements of annex iii, part a, no. 5, 6 or 7 of the radiation protection ordinance in the version of 30 june 1989 and were acquired before 1 august 2001 may continue to be used, stored or disposed of without authorisation.\n",
       "    \n",
       "    Residues within the meaning of this act shall include materials produced deliberately as well as shaped parts from the materials referred to in the first sentence, excavated or removed ground and rubble from the demolition of buildings or other structural installations if this ground and rubble contains residues in accordance with the first sentence and is removed in accordance with section 64 after the cessation of activities, or from land in accordance with section 141.\n",
       "    \n",
       "    Materials in accordance with the first sentence shall not constitute residues within the meaning of this act."
      ],
      "text/plain": [
       "<IPython.core.display.Markdown object>"
      ]
     },
     "metadata": {},
     "output_type": "display_data"
    },
    {
     "name": "stdout",
     "output_type": "stream",
     "text": [
      "Time taken: 6.72 seconds\n",
      "________________________________\n"
     ]
    },
    {
     "data": {
      "text/markdown": [
       "#LLM: deepseek-r1:70b"
      ],
      "text/plain": [
       "<IPython.core.display.Markdown object>"
      ]
     },
     "metadata": {},
     "output_type": "display_data"
    },
    {
     "data": {
      "text/markdown": [
       "The provided documents outline specific provisions related to radioactive substances and residues under relevant regulations [Document 1](strlschg_en_bf.pdf). \n",
       "\n",
       "Substances containing isotopes such as uranium-233, -235, plutonium-239, or -241 are classified as \"other radioactive substances\" if their total quantity does not exceed 15 grams or their concentration is no more than 15 grams per 100 kilograms. This classification excludes solidified high-activity fission product solutions derived from nuclear fuel reprocessing [Document 1](strlschg_en_bf.pdf). Additionally, Section 4 of the document does not apply to substances associated with existing exposure situations or emergency exposure situations.\n",
       "\n",
       "The documents also define residues as materials produced during various industrial processes. These include sludge and deposits from oil extraction, gravel and sand from groundwater treatment, untreated phosphogypsum, and byproducts from ore processing such as bauxite, columbite, uranium ores, and rare earth minerals [Document 2](strlschg_en_bf.pdf). Residues also encompass materials like dust from flue gas purification in metallurgy and excavated ground containing residues post-cessation of activities."
      ],
      "text/plain": [
       "<IPython.core.display.Markdown object>"
      ]
     },
     "metadata": {},
     "output_type": "display_data"
    },
    {
     "name": "stdout",
     "output_type": "stream",
     "text": [
      "Time taken: 58.05 seconds\n",
      "________________________________\n"
     ]
    },
    {
     "data": {
      "text/markdown": [
       "#LLM: qwq"
      ],
      "text/plain": [
       "<IPython.core.display.Markdown object>"
      ]
     },
     "metadata": {},
     "output_type": "display_data"
    },
    {
     "data": {
      "text/markdown": [
       "The Atomic Energy Act classifies substances with uranium-233, uranium-235, plutonium-239, or plutonium-241 concentrations not exceeding 15 grams total or 15g per 100kg as other radioactive substances. Solidified high-activity fission product solutions from nuclear fuel reprocessing are exempt [strlschg_en_bf.pdf:0:17](strlschg_en_bf.pdf). Licensing exemptions apply to exposure situations under section 4 subsections, excluding emergency scenarios [ibid]. Practices include handling per Section 5/39; acquiring/transferring specific radioactive substances; custody of nuclear fuels (Sections 5-6 AEA); construction/decommissioning installations (Section7 AEA); and utilization of fuel under Section9. Residues defined in section5/32 encompass materials from oil/gas extraction, groundwater treatment, phosphogypsum processing, mining of bauxite or uranium ores, metallurgical dust/sludge, plus shaped parts made therefrom [strlschg_en_bf.pdf:0:273](strlschg_en_bf.pdf). Excavated ground/rubble containing such residues qualifies if removed under Sections64/141. Products compliant with annexed standards (e.g., pre-August 2001 acquisitions) may be used without authorization [ibid]."
      ],
      "text/plain": [
       "<IPython.core.display.Markdown object>"
      ]
     },
     "metadata": {},
     "output_type": "display_data"
    },
    {
     "name": "stdout",
     "output_type": "stream",
     "text": [
      "Time taken: 36.92 seconds\n",
      "________________________________\n"
     ]
    },
    {
     "data": {
      "text/markdown": [
       "#LLM: gemma3:27b"
      ],
      "text/plain": [
       "<IPython.core.display.Markdown object>"
      ]
     },
     "metadata": {},
     "output_type": "display_data"
    },
    {
     "data": {
      "text/markdown": [
       "For the application of licensing provisions, substances with a total proportion of uranium 233, uranium 235, plutonium 239, and plutonium 241 not exceeding 15 grams, or a concentration not exceeding 15 grams per 100 kilograms, are classified as other radioactive substances [strlschg_en_bf.pdf:0:17]. This classification does not apply to solidified high-activity fission product solutions from nuclear fuel reprocessing [strlschg_en_bf.pdf:0:17]. The aforementioned stipulations do not apply to substances occurring in existing or emergency exposure situations [strlschg_en_bf.pdf:0:17]. Practices include handling, acquiring, transferring, and transporting artificially-produced and naturally-occurring radioactive substances, as well as the custody, construction, operation, decommissioning, and dismantling of installations related to nuclear fuels and radioactive waste [strlschg_en_bf.pdf:0:17]. Products complying with the requirements of annex iii, part a, no. 5, 6, or 7 of the radiation protection ordinance and acquired before August 1, 2001, may continue to be used without authorization [strlschg_en_bf.pdf:0:273]. Residues, as defined by this act, include sludge and deposits from oil and gas extraction, gravel from groundwater treatment, phosphogypsum, and materials from the extraction of ores like bauxite and uranium [strlschg_en_bf.pdf:0:273]. Deliberately produced materials, shaped parts from these materials, and excavated ground containing residues are also considered residues [strlschg_en_bf.pdf:0:273]."
      ],
      "text/plain": [
       "<IPython.core.display.Markdown object>"
      ]
     },
     "metadata": {},
     "output_type": "display_data"
    },
    {
     "name": "stdout",
     "output_type": "stream",
     "text": [
      "Time taken: 17.38 seconds\n",
      "________________________________\n"
     ]
    },
    {
     "data": {
      "text/markdown": [
       "#LLM: llama3.3"
      ],
      "text/plain": [
       "<IPython.core.display.Markdown object>"
      ]
     },
     "metadata": {},
     "output_type": "display_data"
    },
    {
     "data": {
      "text/markdown": [
       "For the activation thereof, may stipulate in what cases the activity or specific activity of a substance may not be disregarded [strlschg_en_bf.pdf](strlschg_en_bf.pdf). Substances with a proportion of isotopes uranium 233, uranium 235, plutonium 239 and plutonium 241 not exceeding 15 grams in total, or a concentration not exceeding 15 grams per 100 kilograms, are classified as other radioactive substances [strlschg_en_bf.pdf](strlschg_en_bf.pdf). This classification does not apply to solidified high-activity fission product solutions derived from the reprocessing of nuclear fuel [strlschg_en_bf.pdf](strlschg_en_bf.pdf). Practices, including handling, acquisition, and transfer of radioactive substances, are defined in section 4 [strlschg_en_bf.pdf](strlschg_en_bf.pdf). Residues within the meaning of this act include materials such as sludge, deposits, gravel, sand, and dust from various industrial processes [strlschg_en_bf.pdf](strlschg_en_bf.pdf). Other products that comply with certain requirements may continue to be used, stored or disposed of without authorization if acquired before 1 August 2001 [strlschg_en_bf.pdf](strlschg_en_bf.pdf)."
      ],
      "text/plain": [
       "<IPython.core.display.Markdown object>"
      ]
     },
     "metadata": {},
     "output_type": "display_data"
    },
    {
     "name": "stdout",
     "output_type": "stream",
     "text": [
      "Time taken: 40.22 seconds\n",
      "________________________________\n"
     ]
    },
    {
     "data": {
      "text/markdown": [
       "#LLM: mistral-small"
      ],
      "text/plain": [
       "<IPython.core.display.Markdown object>"
      ]
     },
     "metadata": {},
     "output_type": "display_data"
    },
    {
     "data": {
      "text/markdown": [
       "The document outlines specific regulations and definitions related to radioactive substances and practices. Substances containing isotopes uranium 233, uranium 235, plutonium 239, and plutonium 241 are classified as other radioactive substances if their total proportion does not exceed 15 grams or the concentration of these isotopes does not surpass 15 grams per 100 kilograms. This classification does not apply to solidified high-activity fission product solutions derived from nuclear fuel reprocessing [strlschg_en_bf.pdf](strlschg_en_bf.pdf:0:17).\n",
       "\n",
       "The document also defines practices involving radioactive substances, including handling, acquisition, custody, construction and operation of installations, treatment processing, disposal of radioactive waste. These activities are regulated under specific sections of the atomic energy act [strlschg_en_bf.pdf](strlschg_en_bf.pdf:0:17).\n",
       "\n",
       "Additionally, certain products that comply with specific requirements of the radiation protection ordinance can continue to be used without authorization if they were acquired before a specified date. Residues within the meaning of this act include materials from various extraction and processing activities such as crude oil, natural gas, groundwater treatment, phosphogypsum processing, bauxite extraction, and flue gas purification [strlschg_en_bf.pdf](strlschg_en_bf.pdf:0:273)."
      ],
      "text/plain": [
       "<IPython.core.display.Markdown object>"
      ]
     },
     "metadata": {},
     "output_type": "display_data"
    },
    {
     "name": "stdout",
     "output_type": "stream",
     "text": [
      "Time taken: 14.82 seconds\n",
      "________________________________\n"
     ]
    },
    {
     "data": {
      "text/markdown": [
       "#LLM: mistral-nemo"
      ],
      "text/plain": [
       "<IPython.core.display.Markdown object>"
      ]
     },
     "metadata": {},
     "output_type": "display_data"
    },
    {
     "data": {
      "text/markdown": [
       "The Atomic Energy Act (AEAct) and its associated ordinances classify radioactive substances based on their isotope proportions or concentrations. Substances containing up to 15 grams of uranium-233, uranium-235, plutonium-239, or plutonium-241 isotopes are considered 'other radioactive substances' [AEAct §3](strlschg_en_bf.pdf:0:17). However, solidified high-activity fission product solutions derived from nuclear fuel reprocessing and substances connected to existing/exposure situations are exempted from this classification [AEAct §4(2), (5)](strlschg_en_bf.pdf:0:17).\n",
       "\n",
       "The AEAct defines 'practices' involving radioactive substances, including handling, acquisition/transfer/carriage of nuclear fuels, custody/holding of nuclear fuels, construction/operation/decommissioning/safe enclosure/dismantling of installations, treatment/utilization of nuclear fuels, and management of radioactive waste [AEAct §4](strlschg_en_bf.pdf:0:17).\n",
       "\n",
       "Certain products acquired before August 2001 that comply with specific Radiation Protection Ordinance requirements may continue to be used/stored/disposed without authorization [Annex III Part A No.5,6,7 of the RPO (30 June 1989)](strlschg_en_bf.pdf:0:273).\n",
       "\n",
       "The AEAct defines 'residues' as various materials resulting from extraction/treatment/processing of specific ores/minerals and other raw materials. These include sludge, deposits, dust, slag, excavated ground/rubble containing residues removed post-activity cessation [AEAct §5(32), §64](strlschg_en_bf.pdf:0:273)."
      ],
      "text/plain": [
       "<IPython.core.display.Markdown object>"
      ]
     },
     "metadata": {},
     "output_type": "display_data"
    },
    {
     "name": "stdout",
     "output_type": "stream",
     "text": [
      "Time taken: 6.58 seconds\n",
      "________________________________\n"
     ]
    }
   ],
   "source": [
    "for model in models:\n",
    "    start_time = time.time()\n",
    "    summary = source_summarizer_Ollama(tr,model)\n",
    "    elapsed_time = time.time() - start_time\n",
    "    display(Markdown(f'#LLM: {model}'))\n",
    "    display(Markdown(summary['content']))\n",
    "    print(f'Time taken: {elapsed_time:.2f} seconds')\n",
    "    print('________________________________')"
   ]
  },
  {
   "cell_type": "code",
   "execution_count": 17,
   "metadata": {},
   "outputs": [
    {
     "name": "stderr",
     "output_type": "stream",
     "text": [
      "Some weights of BertModel were not initialized from the model checkpoint at jinaai/jina-embeddings-v2-base-de and are newly initialized: ['embeddings.position_embeddings.weight', 'encoder.layer.0.intermediate.dense.bias', 'encoder.layer.0.intermediate.dense.weight', 'encoder.layer.0.output.LayerNorm.bias', 'encoder.layer.0.output.LayerNorm.weight', 'encoder.layer.0.output.dense.bias', 'encoder.layer.0.output.dense.weight', 'encoder.layer.1.intermediate.dense.bias', 'encoder.layer.1.intermediate.dense.weight', 'encoder.layer.1.output.LayerNorm.bias', 'encoder.layer.1.output.LayerNorm.weight', 'encoder.layer.1.output.dense.bias', 'encoder.layer.1.output.dense.weight', 'encoder.layer.10.intermediate.dense.bias', 'encoder.layer.10.intermediate.dense.weight', 'encoder.layer.10.output.LayerNorm.bias', 'encoder.layer.10.output.LayerNorm.weight', 'encoder.layer.10.output.dense.bias', 'encoder.layer.10.output.dense.weight', 'encoder.layer.11.intermediate.dense.bias', 'encoder.layer.11.intermediate.dense.weight', 'encoder.layer.11.output.LayerNorm.bias', 'encoder.layer.11.output.LayerNorm.weight', 'encoder.layer.11.output.dense.bias', 'encoder.layer.11.output.dense.weight', 'encoder.layer.2.intermediate.dense.bias', 'encoder.layer.2.intermediate.dense.weight', 'encoder.layer.2.output.LayerNorm.bias', 'encoder.layer.2.output.LayerNorm.weight', 'encoder.layer.2.output.dense.bias', 'encoder.layer.2.output.dense.weight', 'encoder.layer.3.intermediate.dense.bias', 'encoder.layer.3.intermediate.dense.weight', 'encoder.layer.3.output.LayerNorm.bias', 'encoder.layer.3.output.LayerNorm.weight', 'encoder.layer.3.output.dense.bias', 'encoder.layer.3.output.dense.weight', 'encoder.layer.4.intermediate.dense.bias', 'encoder.layer.4.intermediate.dense.weight', 'encoder.layer.4.output.LayerNorm.bias', 'encoder.layer.4.output.LayerNorm.weight', 'encoder.layer.4.output.dense.bias', 'encoder.layer.4.output.dense.weight', 'encoder.layer.5.intermediate.dense.bias', 'encoder.layer.5.intermediate.dense.weight', 'encoder.layer.5.output.LayerNorm.bias', 'encoder.layer.5.output.LayerNorm.weight', 'encoder.layer.5.output.dense.bias', 'encoder.layer.5.output.dense.weight', 'encoder.layer.6.intermediate.dense.bias', 'encoder.layer.6.intermediate.dense.weight', 'encoder.layer.6.output.LayerNorm.bias', 'encoder.layer.6.output.LayerNorm.weight', 'encoder.layer.6.output.dense.bias', 'encoder.layer.6.output.dense.weight', 'encoder.layer.7.intermediate.dense.bias', 'encoder.layer.7.intermediate.dense.weight', 'encoder.layer.7.output.LayerNorm.bias', 'encoder.layer.7.output.LayerNorm.weight', 'encoder.layer.7.output.dense.bias', 'encoder.layer.7.output.dense.weight', 'encoder.layer.8.intermediate.dense.bias', 'encoder.layer.8.intermediate.dense.weight', 'encoder.layer.8.output.LayerNorm.bias', 'encoder.layer.8.output.LayerNorm.weight', 'encoder.layer.8.output.dense.bias', 'encoder.layer.8.output.dense.weight', 'encoder.layer.9.intermediate.dense.bias', 'encoder.layer.9.intermediate.dense.weight', 'encoder.layer.9.output.LayerNorm.bias', 'encoder.layer.9.output.LayerNorm.weight', 'encoder.layer.9.output.dense.bias', 'encoder.layer.9.output.dense.weight']\n",
      "You should probably TRAIN this model on a down-stream task to be able to use it for predictions and inference.\n"
     ]
    },
    {
     "name": "stdout",
     "output_type": "stream",
     "text": [
      "-------------------------\n",
      "Using embedding model: jinaai/jina-embeddings-v2-base-de\n",
      "client=SentenceTransformer(\n",
      "  (0): Transformer({'max_seq_length': 8192, 'do_lower_case': False}) with Transformer model: BertModel \n",
      "  (1): Pooling({'word_embedding_dimension': 768, 'pooling_mode_cls_token': False, 'pooling_mode_mean_tokens': True, 'pooling_mode_max_tokens': False, 'pooling_mode_mean_sqrt_len_tokens': False, 'pooling_mode_weightedmean_tokens': False, 'pooling_mode_lasttoken': False, 'include_prompt': True})\n",
      "  (2): Normalize()\n",
      ") model_name='jinaai/jina-embeddings-v2-base-de' cache_folder=None model_kwargs={'device': 'cpu'} encode_kwargs={} multi_process=False show_progress=False\n",
      "-------------------------\n"
     ]
    },
    {
     "data": {
      "text/plain": [
       "HuggingFaceEmbeddings(client=SentenceTransformer(\n",
       "  (0): Transformer({'max_seq_length': 8192, 'do_lower_case': False}) with Transformer model: BertModel \n",
       "  (1): Pooling({'word_embedding_dimension': 768, 'pooling_mode_cls_token': False, 'pooling_mode_mean_tokens': True, 'pooling_mode_max_tokens': False, 'pooling_mode_mean_sqrt_len_tokens': False, 'pooling_mode_weightedmean_tokens': False, 'pooling_mode_lasttoken': False, 'include_prompt': True})\n",
       "  (2): Normalize()\n",
       "), model_name='jinaai/jina-embeddings-v2-base-de', cache_folder=None, model_kwargs={'device': 'cpu'}, encode_kwargs={}, multi_process=False, show_progress=False)"
      ]
     },
     "execution_count": 17,
     "metadata": {},
     "output_type": "execute_result"
    }
   ],
   "source": [
    "get_embedding_model()"
   ]
  },
  {
   "cell_type": "code",
   "execution_count": 18,
   "metadata": {},
   "outputs": [
    {
     "ename": "ModuleNotFoundError",
     "evalue": "No module named 'langchain_ollama'",
     "output_type": "error",
     "traceback": [
      "\u001b[31m---------------------------------------------------------------------------\u001b[39m",
      "\u001b[31mModuleNotFoundError\u001b[39m                       Traceback (most recent call last)",
      "\u001b[36mCell\u001b[39m\u001b[36m \u001b[39m\u001b[32mIn[18]\u001b[39m\u001b[32m, line 1\u001b[39m\n\u001b[32m----> \u001b[39m\u001b[32m1\u001b[39m \u001b[38;5;28;01mfrom\u001b[39;00m\u001b[38;5;250m \u001b[39m\u001b[34;01mlangchain_ollama\u001b[39;00m\u001b[38;5;250m \u001b[39m\u001b[38;5;28;01mimport\u001b[39;00m ChatOllama\n\u001b[32m      2\u001b[39m \u001b[38;5;28;01mfrom\u001b[39;00m\u001b[38;5;250m \u001b[39m\u001b[34;01mlangchain_core\u001b[39;00m\u001b[34;01m.\u001b[39;00m\u001b[34;01mmessages\u001b[39;00m\u001b[38;5;250m \u001b[39m\u001b[38;5;28;01mimport\u001b[39;00m SystemMessage, HumanMessage\n\u001b[32m      3\u001b[39m \u001b[38;5;28;01mimport\u001b[39;00m\u001b[38;5;250m \u001b[39m\u001b[34;01mre\u001b[39;00m\n",
      "\u001b[31mModuleNotFoundError\u001b[39m: No module named 'langchain_ollama'"
     ]
    }
   ],
   "source": [
    "from langchain_ollama import ChatOllama\n",
    "from langchain_core.messages import SystemMessage, HumanMessage\n",
    "import re\n",
    "\n",
    "def source_summarizer_ChatOllama(context_documents, llm_model=\"deepseek-r1\"):\n",
    "    system_message = SUMMARIZER_SYSTEM_PROMPT\n",
    "\n",
    "    formatted_context = \"\\n\".join(\n",
    "        f\"Content: {doc['content']}\\nSource: {doc['metadata']['name']}\\nPath: {doc['metadata']['path']}\"\n",
    "        for doc in context_documents\n",
    "    )\n",
    "\n",
    "    prompt = f\"\"\"\n",
    "    Here are the documents to summarize:\n",
    "    \n",
    "    {formatted_context}\n",
    "    \n",
    "    Provide a concise summary with proper citations:\n",
    "    \"\"\"\n",
    "    \n",
    "    # Initialize ChatOllama with the specified model and temperature\n",
    "    llm = ChatOllama(model=llm_model, temperature=0.1)\n",
    "    \n",
    "    # Format messages for LangChain\n",
    "    messages = [\n",
    "        SystemMessage(content=system_message),\n",
    "        HumanMessage(content=prompt)\n",
    "    ]\n",
    "    \n",
    "    # Get response from the model\n",
    "    response = llm.invoke(messages)\n",
    "    \n",
    "    # Extract content from response\n",
    "    response_content = response.content\n",
    "    \n",
    "    # Clean markdown formatting if present\n",
    "    try:\n",
    "        final_content = re.sub(r\"<think>.*?</think>\", \"\", response_content, flags=re.DOTALL).strip()\n",
    "    except:\n",
    "        final_content = response_content.strip()\n",
    "\n",
    "    # Extract metadata from all documents\n",
    "    document_names = [doc['metadata']['name'] for doc in context_documents]\n",
    "    document_paths = [doc['metadata']['path'] for doc in context_documents]\n",
    "\n",
    "    return {\n",
    "        \"content\": final_content,\n",
    "        \"metadata\": {\n",
    "            \"name\": document_names,\n",
    "            \"path\": document_paths\n",
    "        }\n",
    "    }\n"
   ]
  },
  {
   "cell_type": "code",
   "execution_count": null,
   "metadata": {},
   "outputs": [],
   "source": [
    "for model in models:\n",
    "    start_time = time.time()\n",
    "    summary = source_summarizer_ChatOllama(tr,model)\n",
    "    elapsed_time = time.time() - start_time\n",
    "    display(Markdown(f'#LLM: {model}'))\n",
    "    display(Markdown(summary['content']))\n",
    "    print(f'Time taken: {elapsed_time:.2f} seconds')\n",
    "    print('________________________________')"
   ]
  }
 ],
 "metadata": {
  "kernelspec": {
   "display_name": "lrrd-venv",
   "language": "python",
   "name": "python3"
  },
  "language_info": {
   "codemirror_mode": {
    "name": "ipython",
    "version": 3
   },
   "file_extension": ".py",
   "mimetype": "text/x-python",
   "name": "python",
   "nbconvert_exporter": "python",
   "pygments_lexer": "ipython3",
   "version": "3.12.3"
  }
 },
 "nbformat": 4,
 "nbformat_minor": 2
}
